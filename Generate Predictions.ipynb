{
 "cells": [
  {
   "cell_type": "markdown",
   "metadata": {},
   "source": [
    "**<font size=\"6\"> Prédictions des modèles SARIMA retenus </font>**"
   ]
  },
  {
   "cell_type": "markdown",
   "metadata": {},
   "source": [
    "# Imports des modules et fonctions nécessaires"
   ]
  },
  {
   "cell_type": "code",
   "execution_count": 1,
   "metadata": {},
   "outputs": [],
   "source": [
    "import os\n",
    "import re\n",
    "import time\n",
    "import pandas as pd\n",
    "import numpy as np\n",
    "import matplotlib.pyplot as plt\n",
    "import statsmodels.api as sm\n",
    "from pylab import rcParams\n",
    "from datetime import datetime\n",
    "from tqdm import tqdm\n",
    "from sklearn.metrics import mean_squared_error\n",
    "import itertools\n",
    "import warnings\n",
    "from statsmodels.tools.sm_exceptions import ConvergenceWarning\n",
    "warnings.simplefilter('ignore', ConvergenceWarning) # Permet d'éviter l'affichage des Warnings"
   ]
  },
  {
   "cell_type": "markdown",
   "metadata": {},
   "source": [
    "# Chargement et nettoyage des données"
   ]
  },
  {
   "cell_type": "code",
   "execution_count": 2,
   "metadata": {},
   "outputs": [],
   "source": [
    "df = pd.read_pickle(\"data/df_train.pkl\")\n",
    "df_ACE = df[df['filename']=='champs-elysees.csv']\n",
    "df_Sts = df[df['filename']=='convention.csv']\n",
    "df_convention = df[df['filename']=='sts.csv']\n",
    "\n",
    "df_test = pd.read_pickle(\"data/df_test.pkl\")\n",
    "df_ACE_test = df_test[df_test['filename']=='champs-elysees.csv']\n",
    "df_Sts_test = df_test[df_test['filename']=='convention.csv']\n",
    "df_convention_test = df_test[df_test['filename']=='sts.csv']\n",
    "\n",
    "\n",
    "dfs = [df_ACE, df_Sts, df_convention]\n",
    "dfs_test = [df_ACE_test, df_Sts_test, df_convention_test]"
   ]
  },
  {
   "cell_type": "markdown",
   "metadata": {},
   "source": [
    "## Traitement des dates"
   ]
  },
  {
   "cell_type": "code",
   "execution_count": 3,
   "metadata": {},
   "outputs": [],
   "source": [
    "# Format d'une série temporelle\n",
    "for df in dfs:\n",
    "    df['Date et heure de comptage']= pd.to_datetime(df[\"Date et heure de comptage\"], format='%Y-%m-%d %H:%M:%S')\n",
    "    \n",
    "# for df in dfs_test:\n",
    "#     df['Date et heure de comptage']= pd.to_datetime(df[\"Date et heure de comptage\"], format='%Y-%m-%d %H:%M:%S')\n",
    "    \n",
    "# Lignes rangées par ordre chronologique\n",
    "for df in dfs:\n",
    "    df.sort_values(\"Date et heure de comptage\",inplace = True)\n",
    "    \n",
    "for df in dfs_test:\n",
    "    df.sort_values(\"Date et heure de comptage\",inplace = True)\n",
    "\n",
    "def index_and_freq(df):\n",
    "    df = df.set_index('Date et heure de comptage')\n",
    "    df = df.asfreq('H', method= 'ffill')\n",
    "    return df\n",
    "\n",
    "tagg = ['Champs-Élysées', 'Convention', 'Sts-Pères']\n",
    "    \n",
    "# Nous indiquons que la série temporelle est indexée selon la date\n",
    "df_ACE = index_and_freq(df_ACE)\n",
    "df_convention = index_and_freq(df_convention)\n",
    "df_Sts = index_and_freq(df_Sts)\n",
    "\n",
    "df_ACE_test = index_and_freq(df_ACE_test)\n",
    "df_Sts_test = index_and_freq(df_Sts_test)\n",
    "df_convention_test = index_and_freq(df_convention_test)\n"
   ]
  },
  {
   "cell_type": "code",
   "execution_count": 4,
   "metadata": {},
   "outputs": [
    {
     "data": {
      "text/plain": [
       "Date et heure de comptage\n",
       "2019-11-01 04:00:00     746.0\n",
       "2019-11-01 05:00:00     549.0\n",
       "2019-11-01 06:00:00     503.0\n",
       "2019-11-01 07:00:00     500.0\n",
       "2019-11-01 08:00:00     525.0\n",
       "                        ...  \n",
       "2020-12-10 20:00:00    1038.0\n",
       "2020-12-10 21:00:00     699.0\n",
       "2020-12-10 22:00:00     474.0\n",
       "2020-12-10 23:00:00     403.0\n",
       "2020-12-11 00:00:00     247.0\n",
       "Freq: H, Name: Débit horaire, Length: 9741, dtype: float64"
      ]
     },
     "execution_count": 4,
     "metadata": {},
     "output_type": "execute_result"
    }
   ],
   "source": [
    "df_ACE['Débit horaire']"
   ]
  },
  {
   "cell_type": "markdown",
   "metadata": {},
   "source": [
    "# Utils"
   ]
  },
  {
   "cell_type": "code",
   "execution_count": 5,
   "metadata": {},
   "outputs": [],
   "source": [
    "def create_df(original_df):\n",
    "    data = pd.DataFrame()\n",
    "    data['debit'] = original_df['Débit horaire']\n",
    "    data['taux'] = original_df[\"Taux d'occupation\"]\n",
    "    data['date'] = original_df.index\n",
    "    data.sort_values(\"date\",inplace = True)\n",
    "    data = data.set_index('date')\n",
    "    data = data.asfreq('H', method= 'ffill')\n",
    "    return data\n",
    "\n",
    "def string_to_model(model):\n",
    "    p = int(model[1])\n",
    "    q = int(model[4])\n",
    "    d = int(model[7])\n",
    "    seasonal = (int(model[10]), int(model[13]), int(model[16]), int(model[19:21]))\n",
    "    return p,q,d,seasonal\n",
    "\n"
   ]
  },
  {
   "cell_type": "markdown",
   "metadata": {},
   "source": [
    "# Modèles Retenus"
   ]
  },
  {
   "cell_type": "code",
   "execution_count": 6,
   "metadata": {},
   "outputs": [],
   "source": [
    "# 0: Champs Elysees\n",
    "# 1: Sts Peres\n",
    "# 2: Convention\n",
    "\n",
    "modeles_debit={0: '(4, 1, 5)(4, 1, 4, 24)', 2: '(4, 1, 5)(4, 1, 4, 24)', 1:'(4, 1, 5)(4, 1, 4, 24)'}\n",
    "modeles_taux={0: '(1, 0, 1)(2, 1, 1, 24)', 2: '(1, 0, 1)(2, 1, 1, 24)', 1:'(2, 0, 2)(1, 1, 1, 24)'}"
   ]
  },
  {
   "cell_type": "code",
   "execution_count": 7,
   "metadata": {},
   "outputs": [],
   "source": [
    "def plotting_predictions(X_train, pred, title):\n",
    "    plt.plot(X_train, label='Données')\n",
    "    plt.plot(pred, label='Prediction')\n",
    "    plt.xticks(rotation=45)\n",
    "    plt.title(title)\n",
    "    plt.legend()\n",
    "    plt.show()"
   ]
  },
  {
   "cell_type": "markdown",
   "metadata": {},
   "source": [
    "# Géneration des prédictions"
   ]
  },
  {
   "cell_type": "code",
   "execution_count": null,
   "metadata": {},
   "outputs": [
    {
     "name": "stderr",
     "output_type": "stream",
     "text": [
      "\r",
      "0it [00:00, ?it/s]"
     ]
    }
   ],
   "source": [
    "df_predictions = pd.DataFrame()\n",
    "\n",
    "for model_index,df in tqdm(enumerate([df_ACE, df_Sts, df_convention])):\n",
    "    \n",
    "    # Création des timeseries pour débit horaire et taux d'occupation\n",
    "    debit_train = create_df(df).loc['2020-08-01':'2020-12-11 00:00:00'].debit\n",
    "    debit_plot = create_df(df).loc['2020-11-10':'2020-12-11 00:00:00'].debit\n",
    "    taux_train = create_df(df).loc['2020-08-01':'2020-12-11 00:00:00'].taux\n",
    "    taux_plot = create_df(df).loc['2020-11-10':'2020-12-11 00:00:00'].taux\n",
    "    \n",
    "    # Dates de prédiction\n",
    "    start = datetime.strptime('2020-12-11 01:00:00', '%Y-%m-%d %H:%M:%S')\n",
    "    end = datetime.strptime('2020-12-16 23:00:00', '%Y-%m-%d %H:%M:%S')\n",
    "    \n",
    "    # Paramètres des modèles\n",
    "    p_debit,d_debit,q_debit,seasonal_debit = string_to_model(modeles_debit[model_index])\n",
    "    p_taux,d_taux,q_taux,seasonal_taux = string_to_model(modeles_taux[model_index])\n",
    "        \n",
    "    # Ajustement du modèle pour le débit horaire\n",
    "    mod_debit = sm.tsa.statespace.SARIMAX(debit_train,order=(p_debit,d_debit,q_debit),seasonal_order=seasonal_debit,enforce_stationarity=False,enforce_invertibility=False)\n",
    "    model_debit = mod_debit.fit()\n",
    "    debit_pred = model_debit.predict(start=start,end=end)\n",
    "    \n",
    "    # Ajustement du modèle pour le taux d'occupation\n",
    "    mod_taux = sm.tsa.statespace.SARIMAX(taux_train,order=(p_taux,d_taux,q_taux),seasonal_order=seasonal_taux,enforce_stationarity=False,enforce_invertibility=False)\n",
    "    model_taux = mod_taux.fit()\n",
    "    taux_pred = model_taux.predict(start=start,end=end)\n",
    "    \n",
    "    # Rajout des données au DataFrame\n",
    "    temp_df = pd.DataFrame()\n",
    "    temp_df['Datetime'] = taux_pred.index\n",
    "    temp_df['Arc'] = [tagg[model_index] for i in range(len(taux_pred))]\n",
    "    temp_df[\"Débit horaire\"] = debit_pred.values\n",
    "    temp_df[\"Taux d'occupation\"] = taux_pred.values\n",
    "    \n",
    "    # Rajout des données de minuit (une ligne)\n",
    "    first_hour = pd.DataFrame()\n",
    "    first_hour['Datetime'] = [taux_train.index[-1]]\n",
    "    first_hour['Arc'] = [tagg[model_index]]\n",
    "    first_hour[\"Taux d'occupation\"] = [taux_train.values[-1]]\n",
    "    first_hour[\"Débit horaire\"] = [debit_train.values[-1]]\n",
    "    \n",
    "    temp_df = temp_df.append(first_hour)\n",
    "    temp_df.sort_values(\"Datetime\",inplace = True)\n",
    "    \n",
    "    df_predictions = pd.concat([df_predictions, temp_df])\n",
    "        \n",
    "    rcParams['figure.figsize'] = 12, 4\n",
    "    plotting_predictions(debit_plot, debit_pred, \"Débit horaire \" + tagg[model_index])\n",
    "    plotting_predictions(taux_train, taux_pred, \"Taux d'occupation \" + tagg[model_index])\n",
    "    \n",
    "    \n",
    "    \n",
    "    "
   ]
  },
  {
   "cell_type": "code",
   "execution_count": null,
   "metadata": {},
   "outputs": [],
   "source": [
    "df_predictions.to_csv('output.csv', index=False)"
   ]
  }
 ],
 "metadata": {
  "kernelspec": {
   "display_name": "Python 3",
   "language": "python",
   "name": "python3"
  },
  "language_info": {
   "codemirror_mode": {
    "name": "ipython",
    "version": 3
   },
   "file_extension": ".py",
   "mimetype": "text/x-python",
   "name": "python",
   "nbconvert_exporter": "python",
   "pygments_lexer": "ipython3",
   "version": "3.7.9"
  },
  "toc": {
   "base_numbering": 1,
   "nav_menu": {},
   "number_sections": true,
   "sideBar": true,
   "skip_h1_title": false,
   "title_cell": "Table of Contents",
   "title_sidebar": "Contents",
   "toc_cell": false,
   "toc_position": {},
   "toc_section_display": true,
   "toc_window_display": false
  },
  "varInspector": {
   "cols": {
    "lenName": 16,
    "lenType": 16,
    "lenVar": 40
   },
   "kernels_config": {
    "python": {
     "delete_cmd_postfix": "",
     "delete_cmd_prefix": "del ",
     "library": "var_list.py",
     "varRefreshCmd": "print(var_dic_list())"
    },
    "r": {
     "delete_cmd_postfix": ") ",
     "delete_cmd_prefix": "rm(",
     "library": "var_list.r",
     "varRefreshCmd": "cat(var_dic_list()) "
    }
   },
   "types_to_exclude": [
    "module",
    "function",
    "builtin_function_or_method",
    "instance",
    "_Feature"
   ],
   "window_display": false
  }
 },
 "nbformat": 4,
 "nbformat_minor": 4
}

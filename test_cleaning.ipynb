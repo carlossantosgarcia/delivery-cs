{
 "cells": [
  {
   "cell_type": "code",
   "execution_count": 1,
   "metadata": {},
   "outputs": [],
   "source": [
    "from cleaning import *\n",
    "import pandas as pd"
   ]
  },
  {
   "cell_type": "markdown",
   "metadata": {},
   "source": [
    "# export_datasets"
   ]
  },
  {
   "cell_type": "code",
   "execution_count": null,
   "metadata": {},
   "outputs": [],
   "source": [
    "export_datasets(sep_date_str='2020/11/23');"
   ]
  },
  {
   "cell_type": "code",
   "execution_count": null,
   "metadata": {},
   "outputs": [],
   "source": [
    "df = pd.read_pickle('data/df_test.pkl')\n",
    "df.head()"
   ]
  },
  {
   "cell_type": "code",
   "execution_count": null,
   "metadata": {},
   "outputs": [],
   "source": [
    "df['filename'].unique()"
   ]
  },
  {
   "cell_type": "markdown",
   "metadata": {},
   "source": [
    "# export_concat_datasets"
   ]
  },
  {
   "cell_type": "code",
   "execution_count": 2,
   "metadata": {},
   "outputs": [
    {
     "name": "stdout",
     "output_type": "stream",
     "text": [
      "% train: 0.9746315789473684\n",
      "% test: 0.02536842105263158\n"
     ]
    }
   ],
   "source": [
    "export_concat_datasets(sep_date_str='2020/11/23');"
   ]
  },
  {
   "cell_type": "code",
   "execution_count": 3,
   "metadata": {},
   "outputs": [
    {
     "data": {
      "text/html": [
       "<div>\n",
       "<style scoped>\n",
       "    .dataframe tbody tr th:only-of-type {\n",
       "        vertical-align: middle;\n",
       "    }\n",
       "\n",
       "    .dataframe tbody tr th {\n",
       "        vertical-align: top;\n",
       "    }\n",
       "\n",
       "    .dataframe thead th {\n",
       "        text-align: right;\n",
       "    }\n",
       "</style>\n",
       "<table border=\"1\" class=\"dataframe\">\n",
       "  <thead>\n",
       "    <tr style=\"text-align: right;\">\n",
       "      <th></th>\n",
       "      <th>Date et heure de comptage</th>\n",
       "      <th>champs-elysees_Débit horaire</th>\n",
       "      <th>champs-elysees_Taux d'occupation</th>\n",
       "      <th>champs-elysees_Etat trafic</th>\n",
       "      <th>champs-elysees_Etat arc</th>\n",
       "      <th>convention_Débit horaire</th>\n",
       "      <th>convention_Taux d'occupation</th>\n",
       "      <th>convention_Etat trafic</th>\n",
       "      <th>convention_Etat arc</th>\n",
       "      <th>sts_Débit horaire</th>\n",
       "      <th>...</th>\n",
       "      <th>avgtempC</th>\n",
       "      <th>totalSnow_cm</th>\n",
       "      <th>sunHour</th>\n",
       "      <th>uvIndex</th>\n",
       "      <th>uvIndex</th>\n",
       "      <th>sunrise</th>\n",
       "      <th>sunset</th>\n",
       "      <th>moon_phase</th>\n",
       "      <th>moon_illumination</th>\n",
       "      <th>Journée</th>\n",
       "    </tr>\n",
       "  </thead>\n",
       "  <tbody>\n",
       "    <tr>\n",
       "      <th>9259</th>\n",
       "      <td>2020-11-23 00:00:00</td>\n",
       "      <td>91.0</td>\n",
       "      <td>1.38722</td>\n",
       "      <td>1</td>\n",
       "      <td>Invalide</td>\n",
       "      <td>121.0</td>\n",
       "      <td>0.76611</td>\n",
       "      <td>1</td>\n",
       "      <td>Invalide</td>\n",
       "      <td>56.0</td>\n",
       "      <td>...</td>\n",
       "      <td>9</td>\n",
       "      <td>0.0</td>\n",
       "      <td>3.3</td>\n",
       "      <td>1</td>\n",
       "      <td>2</td>\n",
       "      <td>2020-11-23 08:12:00</td>\n",
       "      <td>2020-11-23 17:02:00</td>\n",
       "      <td>First Quarter</td>\n",
       "      <td>54</td>\n",
       "      <td>False</td>\n",
       "    </tr>\n",
       "    <tr>\n",
       "      <th>9260</th>\n",
       "      <td>2020-11-23 01:00:00</td>\n",
       "      <td>63.0</td>\n",
       "      <td>0.91056</td>\n",
       "      <td>1</td>\n",
       "      <td>Invalide</td>\n",
       "      <td>66.0</td>\n",
       "      <td>0.63500</td>\n",
       "      <td>1</td>\n",
       "      <td>Invalide</td>\n",
       "      <td>39.0</td>\n",
       "      <td>...</td>\n",
       "      <td>9</td>\n",
       "      <td>0.0</td>\n",
       "      <td>3.3</td>\n",
       "      <td>1</td>\n",
       "      <td>2</td>\n",
       "      <td>2020-11-23 08:12:00</td>\n",
       "      <td>2020-11-23 17:02:00</td>\n",
       "      <td>First Quarter</td>\n",
       "      <td>54</td>\n",
       "      <td>False</td>\n",
       "    </tr>\n",
       "    <tr>\n",
       "      <th>9261</th>\n",
       "      <td>2020-11-23 02:00:00</td>\n",
       "      <td>47.0</td>\n",
       "      <td>0.74278</td>\n",
       "      <td>1</td>\n",
       "      <td>Invalide</td>\n",
       "      <td>80.0</td>\n",
       "      <td>0.39667</td>\n",
       "      <td>1</td>\n",
       "      <td>Invalide</td>\n",
       "      <td>34.0</td>\n",
       "      <td>...</td>\n",
       "      <td>9</td>\n",
       "      <td>0.0</td>\n",
       "      <td>3.3</td>\n",
       "      <td>1</td>\n",
       "      <td>2</td>\n",
       "      <td>2020-11-23 08:12:00</td>\n",
       "      <td>2020-11-23 17:02:00</td>\n",
       "      <td>First Quarter</td>\n",
       "      <td>54</td>\n",
       "      <td>False</td>\n",
       "    </tr>\n",
       "    <tr>\n",
       "      <th>9262</th>\n",
       "      <td>2020-11-23 03:00:00</td>\n",
       "      <td>51.0</td>\n",
       "      <td>0.61056</td>\n",
       "      <td>1</td>\n",
       "      <td>Invalide</td>\n",
       "      <td>55.0</td>\n",
       "      <td>0.38556</td>\n",
       "      <td>1</td>\n",
       "      <td>Invalide</td>\n",
       "      <td>24.0</td>\n",
       "      <td>...</td>\n",
       "      <td>9</td>\n",
       "      <td>0.0</td>\n",
       "      <td>3.3</td>\n",
       "      <td>1</td>\n",
       "      <td>2</td>\n",
       "      <td>2020-11-23 08:12:00</td>\n",
       "      <td>2020-11-23 17:02:00</td>\n",
       "      <td>First Quarter</td>\n",
       "      <td>54</td>\n",
       "      <td>False</td>\n",
       "    </tr>\n",
       "    <tr>\n",
       "      <th>9263</th>\n",
       "      <td>2020-11-23 04:00:00</td>\n",
       "      <td>32.0</td>\n",
       "      <td>0.35334</td>\n",
       "      <td>1</td>\n",
       "      <td>Invalide</td>\n",
       "      <td>37.0</td>\n",
       "      <td>0.17500</td>\n",
       "      <td>1</td>\n",
       "      <td>Invalide</td>\n",
       "      <td>17.0</td>\n",
       "      <td>...</td>\n",
       "      <td>9</td>\n",
       "      <td>0.0</td>\n",
       "      <td>3.3</td>\n",
       "      <td>1</td>\n",
       "      <td>2</td>\n",
       "      <td>2020-11-23 08:12:00</td>\n",
       "      <td>2020-11-23 17:02:00</td>\n",
       "      <td>First Quarter</td>\n",
       "      <td>54</td>\n",
       "      <td>False</td>\n",
       "    </tr>\n",
       "  </tbody>\n",
       "</table>\n",
       "<p>5 rows × 56 columns</p>\n",
       "</div>"
      ],
      "text/plain": [
       "     Date et heure de comptage  champs-elysees_Débit horaire  \\\n",
       "9259       2020-11-23 00:00:00                          91.0   \n",
       "9260       2020-11-23 01:00:00                          63.0   \n",
       "9261       2020-11-23 02:00:00                          47.0   \n",
       "9262       2020-11-23 03:00:00                          51.0   \n",
       "9263       2020-11-23 04:00:00                          32.0   \n",
       "\n",
       "      champs-elysees_Taux d'occupation  champs-elysees_Etat trafic  \\\n",
       "9259                           1.38722                           1   \n",
       "9260                           0.91056                           1   \n",
       "9261                           0.74278                           1   \n",
       "9262                           0.61056                           1   \n",
       "9263                           0.35334                           1   \n",
       "\n",
       "     champs-elysees_Etat arc  convention_Débit horaire  \\\n",
       "9259                Invalide                     121.0   \n",
       "9260                Invalide                      66.0   \n",
       "9261                Invalide                      80.0   \n",
       "9262                Invalide                      55.0   \n",
       "9263                Invalide                      37.0   \n",
       "\n",
       "      convention_Taux d'occupation  convention_Etat trafic  \\\n",
       "9259                       0.76611                       1   \n",
       "9260                       0.63500                       1   \n",
       "9261                       0.39667                       1   \n",
       "9262                       0.38556                       1   \n",
       "9263                       0.17500                       1   \n",
       "\n",
       "     convention_Etat arc  sts_Débit horaire  ...  avgtempC  totalSnow_cm  \\\n",
       "9259            Invalide               56.0  ...         9           0.0   \n",
       "9260            Invalide               39.0  ...         9           0.0   \n",
       "9261            Invalide               34.0  ...         9           0.0   \n",
       "9262            Invalide               24.0  ...         9           0.0   \n",
       "9263            Invalide               17.0  ...         9           0.0   \n",
       "\n",
       "     sunHour uvIndex uvIndex             sunrise              sunset  \\\n",
       "9259     3.3       1       2 2020-11-23 08:12:00 2020-11-23 17:02:00   \n",
       "9260     3.3       1       2 2020-11-23 08:12:00 2020-11-23 17:02:00   \n",
       "9261     3.3       1       2 2020-11-23 08:12:00 2020-11-23 17:02:00   \n",
       "9262     3.3       1       2 2020-11-23 08:12:00 2020-11-23 17:02:00   \n",
       "9263     3.3       1       2 2020-11-23 08:12:00 2020-11-23 17:02:00   \n",
       "\n",
       "         moon_phase  moon_illumination  Journée  \n",
       "9259  First Quarter                 54    False  \n",
       "9260  First Quarter                 54    False  \n",
       "9261  First Quarter                 54    False  \n",
       "9262  First Quarter                 54    False  \n",
       "9263  First Quarter                 54    False  \n",
       "\n",
       "[5 rows x 56 columns]"
      ]
     },
     "execution_count": 3,
     "metadata": {},
     "output_type": "execute_result"
    }
   ],
   "source": [
    "df_concat = pd.read_pickle('data/df_concat_test.pkl')\n",
    "df_concat.head()"
   ]
  },
  {
   "cell_type": "code",
   "execution_count": null,
   "metadata": {},
   "outputs": [],
   "source": []
  }
 ],
 "metadata": {
  "kernelspec": {
   "display_name": "Python 3",
   "language": "python",
   "name": "python3"
  },
  "language_info": {
   "codemirror_mode": {
    "name": "ipython",
    "version": 3
   },
   "file_extension": ".py",
   "mimetype": "text/x-python",
   "name": "python",
   "nbconvert_exporter": "python",
   "pygments_lexer": "ipython3",
   "version": "3.7.9"
  },
  "toc": {
   "base_numbering": 1,
   "nav_menu": {},
   "number_sections": true,
   "sideBar": true,
   "skip_h1_title": false,
   "title_cell": "Table of Contents",
   "title_sidebar": "Contents",
   "toc_cell": false,
   "toc_position": {},
   "toc_section_display": true,
   "toc_window_display": false
  },
  "varInspector": {
   "cols": {
    "lenName": 16,
    "lenType": 16,
    "lenVar": 40
   },
   "kernels_config": {
    "python": {
     "delete_cmd_postfix": "",
     "delete_cmd_prefix": "del ",
     "library": "var_list.py",
     "varRefreshCmd": "print(var_dic_list())"
    },
    "r": {
     "delete_cmd_postfix": ") ",
     "delete_cmd_prefix": "rm(",
     "library": "var_list.r",
     "varRefreshCmd": "cat(var_dic_list()) "
    }
   },
   "types_to_exclude": [
    "module",
    "function",
    "builtin_function_or_method",
    "instance",
    "_Feature"
   ],
   "window_display": false
  }
 },
 "nbformat": 4,
 "nbformat_minor": 4
}

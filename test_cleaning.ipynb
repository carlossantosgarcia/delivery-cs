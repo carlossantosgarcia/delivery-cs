{
 "cells": [
  {
   "cell_type": "code",
   "execution_count": 1,
   "metadata": {},
   "outputs": [],
   "source": [
    "from cleaning import *\n",
    "import pandas as pd"
   ]
  },
  {
   "cell_type": "code",
   "execution_count": 2,
   "metadata": {},
   "outputs": [
    {
     "name": "stdout",
     "output_type": "stream",
     "text": [
      "% train: 0.974636028766883\n",
      "% test: 0.025363971233116997\n"
     ]
    }
   ],
   "source": [
    "export_datasets(sep_date_str='2020/11/23')"
   ]
  },
  {
   "cell_type": "code",
   "execution_count": 3,
   "metadata": {},
   "outputs": [
    {
     "data": {
      "text/html": [
       "<div>\n",
       "<style scoped>\n",
       "    .dataframe tbody tr th:only-of-type {\n",
       "        vertical-align: middle;\n",
       "    }\n",
       "\n",
       "    .dataframe tbody tr th {\n",
       "        vertical-align: top;\n",
       "    }\n",
       "\n",
       "    .dataframe thead th {\n",
       "        text-align: right;\n",
       "    }\n",
       "</style>\n",
       "<table border=\"1\" class=\"dataframe\">\n",
       "  <thead>\n",
       "    <tr style=\"text-align: right;\">\n",
       "      <th></th>\n",
       "      <th>Libelle</th>\n",
       "      <th>Date et heure de comptage</th>\n",
       "      <th>Débit horaire</th>\n",
       "      <th>Taux d'occupation</th>\n",
       "      <th>Etat trafic</th>\n",
       "      <th>Etat arc</th>\n",
       "      <th>filename</th>\n",
       "      <th>Date</th>\n",
       "      <th>Jour de la semaine_0</th>\n",
       "      <th>Jour de la semaine_1</th>\n",
       "      <th>...</th>\n",
       "      <th>mintempC</th>\n",
       "      <th>avgtempC</th>\n",
       "      <th>totalSnow_cm</th>\n",
       "      <th>sunHour</th>\n",
       "      <th>uvIndex</th>\n",
       "      <th>sunrise</th>\n",
       "      <th>sunset</th>\n",
       "      <th>moon_phase</th>\n",
       "      <th>moon_illumination</th>\n",
       "      <th>Journée</th>\n",
       "    </tr>\n",
       "  </thead>\n",
       "  <tbody>\n",
       "    <tr>\n",
       "      <th>9259</th>\n",
       "      <td>AV_Champs_Elysees</td>\n",
       "      <td>2020-11-23 00:00:00</td>\n",
       "      <td>91.0</td>\n",
       "      <td>1.38722</td>\n",
       "      <td>1</td>\n",
       "      <td>Invalide</td>\n",
       "      <td>champs-elysees.csv</td>\n",
       "      <td>2020-11-23</td>\n",
       "      <td>1</td>\n",
       "      <td>0</td>\n",
       "      <td>...</td>\n",
       "      <td>8</td>\n",
       "      <td>9</td>\n",
       "      <td>0.0</td>\n",
       "      <td>3.3</td>\n",
       "      <td>2</td>\n",
       "      <td>2020-11-23 08:12:00</td>\n",
       "      <td>2020-11-23 17:02:00</td>\n",
       "      <td>First Quarter</td>\n",
       "      <td>54</td>\n",
       "      <td>False</td>\n",
       "    </tr>\n",
       "    <tr>\n",
       "      <th>9260</th>\n",
       "      <td>AV_Champs_Elysees</td>\n",
       "      <td>2020-11-23 01:00:00</td>\n",
       "      <td>63.0</td>\n",
       "      <td>0.91056</td>\n",
       "      <td>1</td>\n",
       "      <td>Invalide</td>\n",
       "      <td>champs-elysees.csv</td>\n",
       "      <td>2020-11-23</td>\n",
       "      <td>1</td>\n",
       "      <td>0</td>\n",
       "      <td>...</td>\n",
       "      <td>8</td>\n",
       "      <td>9</td>\n",
       "      <td>0.0</td>\n",
       "      <td>3.3</td>\n",
       "      <td>2</td>\n",
       "      <td>2020-11-23 08:12:00</td>\n",
       "      <td>2020-11-23 17:02:00</td>\n",
       "      <td>First Quarter</td>\n",
       "      <td>54</td>\n",
       "      <td>False</td>\n",
       "    </tr>\n",
       "    <tr>\n",
       "      <th>9261</th>\n",
       "      <td>AV_Champs_Elysees</td>\n",
       "      <td>2020-11-23 02:00:00</td>\n",
       "      <td>47.0</td>\n",
       "      <td>0.74278</td>\n",
       "      <td>1</td>\n",
       "      <td>Invalide</td>\n",
       "      <td>champs-elysees.csv</td>\n",
       "      <td>2020-11-23</td>\n",
       "      <td>1</td>\n",
       "      <td>0</td>\n",
       "      <td>...</td>\n",
       "      <td>8</td>\n",
       "      <td>9</td>\n",
       "      <td>0.0</td>\n",
       "      <td>3.3</td>\n",
       "      <td>2</td>\n",
       "      <td>2020-11-23 08:12:00</td>\n",
       "      <td>2020-11-23 17:02:00</td>\n",
       "      <td>First Quarter</td>\n",
       "      <td>54</td>\n",
       "      <td>False</td>\n",
       "    </tr>\n",
       "    <tr>\n",
       "      <th>9262</th>\n",
       "      <td>AV_Champs_Elysees</td>\n",
       "      <td>2020-11-23 03:00:00</td>\n",
       "      <td>51.0</td>\n",
       "      <td>0.61056</td>\n",
       "      <td>1</td>\n",
       "      <td>Invalide</td>\n",
       "      <td>champs-elysees.csv</td>\n",
       "      <td>2020-11-23</td>\n",
       "      <td>1</td>\n",
       "      <td>0</td>\n",
       "      <td>...</td>\n",
       "      <td>8</td>\n",
       "      <td>9</td>\n",
       "      <td>0.0</td>\n",
       "      <td>3.3</td>\n",
       "      <td>2</td>\n",
       "      <td>2020-11-23 08:12:00</td>\n",
       "      <td>2020-11-23 17:02:00</td>\n",
       "      <td>First Quarter</td>\n",
       "      <td>54</td>\n",
       "      <td>False</td>\n",
       "    </tr>\n",
       "    <tr>\n",
       "      <th>9263</th>\n",
       "      <td>AV_Champs_Elysees</td>\n",
       "      <td>2020-11-23 04:00:00</td>\n",
       "      <td>32.0</td>\n",
       "      <td>0.35334</td>\n",
       "      <td>1</td>\n",
       "      <td>Invalide</td>\n",
       "      <td>champs-elysees.csv</td>\n",
       "      <td>2020-11-23</td>\n",
       "      <td>1</td>\n",
       "      <td>0</td>\n",
       "      <td>...</td>\n",
       "      <td>8</td>\n",
       "      <td>9</td>\n",
       "      <td>0.0</td>\n",
       "      <td>3.3</td>\n",
       "      <td>2</td>\n",
       "      <td>2020-11-23 08:12:00</td>\n",
       "      <td>2020-11-23 17:02:00</td>\n",
       "      <td>First Quarter</td>\n",
       "      <td>54</td>\n",
       "      <td>False</td>\n",
       "    </tr>\n",
       "  </tbody>\n",
       "</table>\n",
       "<p>5 rows × 47 columns</p>\n",
       "</div>"
      ],
      "text/plain": [
       "                Libelle Date et heure de comptage  Débit horaire  \\\n",
       "9259  AV_Champs_Elysees       2020-11-23 00:00:00           91.0   \n",
       "9260  AV_Champs_Elysees       2020-11-23 01:00:00           63.0   \n",
       "9261  AV_Champs_Elysees       2020-11-23 02:00:00           47.0   \n",
       "9262  AV_Champs_Elysees       2020-11-23 03:00:00           51.0   \n",
       "9263  AV_Champs_Elysees       2020-11-23 04:00:00           32.0   \n",
       "\n",
       "      Taux d'occupation  Etat trafic  Etat arc            filename  \\\n",
       "9259            1.38722            1  Invalide  champs-elysees.csv   \n",
       "9260            0.91056            1  Invalide  champs-elysees.csv   \n",
       "9261            0.74278            1  Invalide  champs-elysees.csv   \n",
       "9262            0.61056            1  Invalide  champs-elysees.csv   \n",
       "9263            0.35334            1  Invalide  champs-elysees.csv   \n",
       "\n",
       "            Date  Jour de la semaine_0  Jour de la semaine_1  ...  mintempC  \\\n",
       "9259  2020-11-23                     1                     0  ...         8   \n",
       "9260  2020-11-23                     1                     0  ...         8   \n",
       "9261  2020-11-23                     1                     0  ...         8   \n",
       "9262  2020-11-23                     1                     0  ...         8   \n",
       "9263  2020-11-23                     1                     0  ...         8   \n",
       "\n",
       "      avgtempC  totalSnow_cm  sunHour  uvIndex             sunrise  \\\n",
       "9259         9           0.0      3.3        2 2020-11-23 08:12:00   \n",
       "9260         9           0.0      3.3        2 2020-11-23 08:12:00   \n",
       "9261         9           0.0      3.3        2 2020-11-23 08:12:00   \n",
       "9262         9           0.0      3.3        2 2020-11-23 08:12:00   \n",
       "9263         9           0.0      3.3        2 2020-11-23 08:12:00   \n",
       "\n",
       "                  sunset     moon_phase  moon_illumination Journée  \n",
       "9259 2020-11-23 17:02:00  First Quarter                 54   False  \n",
       "9260 2020-11-23 17:02:00  First Quarter                 54   False  \n",
       "9261 2020-11-23 17:02:00  First Quarter                 54   False  \n",
       "9262 2020-11-23 17:02:00  First Quarter                 54   False  \n",
       "9263 2020-11-23 17:02:00  First Quarter                 54   False  \n",
       "\n",
       "[5 rows x 47 columns]"
      ]
     },
     "execution_count": 3,
     "metadata": {},
     "output_type": "execute_result"
    }
   ],
   "source": [
    "df = pd.read_pickle('data/df_test.pkl')\n",
    "df.head()"
   ]
  },
  {
   "cell_type": "code",
   "execution_count": 4,
   "metadata": {},
   "outputs": [
    {
     "data": {
      "text/plain": [
       "array(['champs-elysees.csv', 'convention.csv', 'sts.csv'], dtype=object)"
      ]
     },
     "execution_count": 4,
     "metadata": {},
     "output_type": "execute_result"
    }
   ],
   "source": [
    "df['filename'].unique()"
   ]
  },
  {
   "cell_type": "code",
   "execution_count": null,
   "metadata": {},
   "outputs": [],
   "source": []
  }
 ],
 "metadata": {
  "kernelspec": {
   "display_name": "Python 3",
   "language": "python",
   "name": "python3"
  },
  "language_info": {
   "codemirror_mode": {
    "name": "ipython",
    "version": 3
   },
   "file_extension": ".py",
   "mimetype": "text/x-python",
   "name": "python",
   "nbconvert_exporter": "python",
   "pygments_lexer": "ipython3",
   "version": "3.7.9"
  },
  "toc": {
   "base_numbering": 1,
   "nav_menu": {},
   "number_sections": true,
   "sideBar": true,
   "skip_h1_title": false,
   "title_cell": "Table of Contents",
   "title_sidebar": "Contents",
   "toc_cell": false,
   "toc_position": {},
   "toc_section_display": true,
   "toc_window_display": false
  },
  "varInspector": {
   "cols": {
    "lenName": 16,
    "lenType": 16,
    "lenVar": 40
   },
   "kernels_config": {
    "python": {
     "delete_cmd_postfix": "",
     "delete_cmd_prefix": "del ",
     "library": "var_list.py",
     "varRefreshCmd": "print(var_dic_list())"
    },
    "r": {
     "delete_cmd_postfix": ") ",
     "delete_cmd_prefix": "rm(",
     "library": "var_list.r",
     "varRefreshCmd": "cat(var_dic_list()) "
    }
   },
   "types_to_exclude": [
    "module",
    "function",
    "builtin_function_or_method",
    "instance",
    "_Feature"
   ],
   "window_display": false
  }
 },
 "nbformat": 4,
 "nbformat_minor": 4
}

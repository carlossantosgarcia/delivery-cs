{
 "cells": [
  {
   "cell_type": "markdown",
   "metadata": {},
   "source": [
    "### Questions \n",
    "- nb de données != multiple de 24 ?\n",
    "- date / date & heure de comptage pas redondant ? \n",
    "- qu'est-ce que la variable *filename* ? Nom du fichier depuis lequel on a importé les données ? (il n'y a que champs élysées & convention) \n",
    "- idem *etat de l'arc*\n",
    "\n",
    "### Infos :\n",
    "- *filename* plus utile\n",
    "\n",
    "### TODO :\n",
    "- [x] List variables that need to be predicted\n",
    "- [x] Combine data of all 3 arcs\n",
    "- [ ] Sort by to predict or not\n",
    "- [ ] one hot encode string variables (ex: moon phases)\n",
    "- encode dates : ideas :\n",
    "    - Time since 1970 (continuous) ? **not sure**\n",
    "    - Day of year in [1, 365] (categorical)\n",
    "    - Month of year in [1, 12] (categorical)\n",
    "    - Day of week in [1, 7] (categorical)\n",
    "    - Is weekend (binary indicator)\n",
    "    - Is holiday (binary indicator)\n",
    "    - etc."
   ]
  },
  {
   "cell_type": "markdown",
   "metadata": {},
   "source": [
    "## imports"
   ]
  },
  {
   "cell_type": "code",
   "execution_count": 63,
   "metadata": {},
   "outputs": [],
   "source": [
    "from utils import load_df\n",
    "import pandas as pd\n",
    "import numpy as np\n",
    "import matplotlib.pyplot as plt\n",
    "from tensorflow.keras import datasets, layers, models, losses\n",
    "import ipywidgets as ipw"
   ]
  },
  {
   "cell_type": "markdown",
   "metadata": {},
   "source": [
    "## Load Data"
   ]
  },
  {
   "cell_type": "code",
   "execution_count": 129,
   "metadata": {
    "scrolled": true
   },
   "outputs": [
    {
     "name": "stdout",
     "output_type": "stream",
     "text": [
      "Index(['Date et heure de comptage', 'champs-elysees_Débit horaire',\n",
      "       'champs-elysees_Taux d'occupation', 'champs-elysees_Etat trafic',\n",
      "       'champs-elysees_Etat arc', 'convention_Débit horaire',\n",
      "       'convention_Taux d'occupation', 'convention_Etat trafic',\n",
      "       'convention_Etat arc', 'sts_Débit horaire', 'sts_Taux d'occupation',\n",
      "       'sts_Etat trafic', 'sts_Etat arc', 'filename', 'Date',\n",
      "       'Jour de la semaine_0', 'Jour de la semaine_1', 'Jour de la semaine_2',\n",
      "       'Jour de la semaine_3', 'Jour de la semaine_4', 'Jour de la semaine_5',\n",
      "       'Jour de la semaine_6', 'Etat du confinement', 'Couvre-feu',\n",
      "       'Jour férié', 'Vacances scolaires',\n",
      "       'Date des prochaines vacances scolaires',\n",
      "       'Temps avant les prochaines vacances scolaires', 'tempC',\n",
      "       'windspeedKmph', 'winddirDegree', 'weatherCode', 'precipMM', 'humidity',\n",
      "       'visibility', 'pressure', 'cloudcover', 'HeatIndexC', 'DewPointC',\n",
      "       'WindChillC', 'WindGustKmph', 'FeelsLikeC', 'uvIndex', 'uvIndex',\n",
      "       'maxtempC', 'mintempC', 'avgtempC', 'totalSnow_cm', 'sunHour',\n",
      "       'uvIndex', 'uvIndex', 'sunrise', 'sunset', 'moon_phase',\n",
      "       'moon_illumination', 'Journée'],\n",
      "      dtype='object')\n",
      "['champs-elysees.csv']\n"
     ]
    }
   ],
   "source": [
    "train_df = load_df(\"data\\\\df_concat_train.pkl\")\n",
    "print(train_df.columns)\n",
    "print(train_df['filename'].unique())"
   ]
  },
  {
   "cell_type": "markdown",
   "metadata": {},
   "source": [
    "## Clean the data"
   ]
  },
  {
   "cell_type": "code",
   "execution_count": 99,
   "metadata": {},
   "outputs": [
    {
     "name": "stdout",
     "output_type": "stream",
     "text": [
      "nb features :  45\n",
      "nb to predict :  31\n",
      "nb examples :  9259\n"
     ]
    }
   ],
   "source": [
    "def convert_types(df):\n",
    "#     corrected_df = df.astype({: \"float64\"})\n",
    "    return corrected_df\n",
    "\n",
    "\n",
    "# temporary drops all strings and datetime\n",
    "clean_train_df = train_df.drop(['filename', 'Date', 'Date et heure de comptage', 'moon_phase', 'champs-elysees_Etat arc', 'convention_Etat arc', 'sts_Etat arc', \"Date des prochaines vacances scolaires\", \"Temps avant les prochaines vacances scolaires\", \"sunrise\", \"sunset\"], axis=1)\n",
    "# cc_train_df = convert_types(clean_train_df)\n",
    "\n",
    "features_to_predict = ['tempC','windspeedKmph', 'winddirDegree', 'weatherCode', 'precipMM', 'humidity','visibility', 'pressure', 'cloudcover', 'HeatIndexC', 'DewPointC','WindChillC', 'WindGustKmph', 'FeelsLikeC', 'uvIndex', 'maxtempC','mintempC', 'avgtempC', 'totalSnow_cm', 'sunHour', 'uvIndex', 'moon_illumination', 'champs-elysees_Débit horaire', \"champs-elysees_Taux d'occupation\", 'champs-elysees_Etat trafic','convention_Débit horaire',\"convention_Taux d'occupation\", \"convention_Etat trafic\", 'sts_Débit horaire', \"sts_Taux d'occupation\", 'sts_Etat trafic']\n",
    "nb_features = clean_train_df.shape[1]\n",
    "nb_to_predict = len(features_to_predict)\n",
    "nb_examples = clean_train_df.shape[0]\n",
    "print(\"nb features : \", nb_features)\n",
    "print(\"nb to predict : \", nb_to_predict)\n",
    "print(\"nb examples : \", nb_examples)\n",
    "\n",
    "\n",
    "\n",
    "\n",
    "def generate_table(df):\n",
    "    print(\"| Nom       | Type | à prédire |\")\n",
    "    print(\"| :-- | :-- | :-: |\")\n",
    "    \n",
    "    type_corresp = {\"uint8\":\"entier\", \"int64\":\"entier\", \"bool\": \"booléen\", \"float64\": \"flottant\", \"datetime64[ns]\": \"datetime\", \"object\": \"chaîne de caractère\", \"timedelta64[ns]\": \"timedelta\"}\n",
    "    \n",
    "    for x, y in zip(df.columns, df.dtypes):\n",
    "        if str(x) in features_to_predict:\n",
    "            print(\"|\", x, \"|\", type_corresp[str(y)], \"|\",'<span style=\"color:green\">oui</span>', \"|\")\n",
    "        else:\n",
    "            print(\"|\", x, \"|\", type_corresp[str(y)], \"|\",'<span style=\"color:red\">non</span>', \"|\")\n",
    "# generate_table(clean_train_df)\n",
    "# print(clean_train_df.dtypes)"
   ]
  },
  {
   "cell_type": "markdown",
   "metadata": {},
   "source": [
    "### Variables info\n",
    "\n",
    "| Nom       | Type | à prédire |\n",
    "| :-- | :-- | :-: |\n",
    "| Date et heure de comptage | datetime | <span style=\"color:red\">non</span> |\n",
    "| champs-elysees_Débit horaire | flottant | <span style=\"color:green\">oui</span> |\n",
    "| champs-elysees_Taux d'occupation | flottant | <span style=\"color:green\">oui</span> |\n",
    "| champs-elysees_Etat trafic | entier | <span style=\"color:green\">oui</span> |\n",
    "| champs-elysees_Etat arc | chaîne de caractère | <span style=\"color:green\">oui</span> |\n",
    "| convention_Débit horaire | flottant | <span style=\"color:green\">oui</span> |\n",
    "| convention_Taux d'occupation | flottant | <span style=\"color:green\">oui</span> |\n",
    "| convention_Etat trafic | entier | <span style=\"color:green\">oui</span> |\n",
    "| convention_Etat arc | chaîne de caractère | <span style=\"color:green\">oui</span> |\n",
    "| sts_Débit horaire | flottant | <span style=\"color:green\">oui</span> |\n",
    "| sts_Taux d'occupation | flottant | <span style=\"color:green\">oui</span> |\n",
    "| sts_Etat trafic | entier | <span style=\"color:green\">oui</span> |\n",
    "| sts_Etat arc | chaîne de caractère | <span style=\"color:green\">oui</span> |\n",
    "| Jour de la semaine_0 | entier | <span style=\"color:red\">non</span> |\n",
    "| Jour de la semaine_1 | entier | <span style=\"color:red\">non</span> |\n",
    "| Jour de la semaine_2 | entier | <span style=\"color:red\">non</span> |\n",
    "| Jour de la semaine_3 | entier | <span style=\"color:red\">non</span> |\n",
    "| Jour de la semaine_4 | entier | <span style=\"color:red\">non</span> |\n",
    "| Jour de la semaine_5 | entier | <span style=\"color:red\">non</span> |\n",
    "| Jour de la semaine_6 | entier | <span style=\"color:red\">non</span> |\n",
    "| Etat du confinement | entier | <span style=\"color:red\">non</span> |\n",
    "| Couvre-feu | booléen | <span style=\"color:red\">non</span> |\n",
    "| Jour férié | booléen | <span style=\"color:red\">non</span> |\n",
    "| Vacances scolaires | booléen | <span style=\"color:red\">non</span> |\n",
    "| Date des prochaines vacances scolaires | datetime | <span style=\"color:red\">non</span> |\n",
    "| Temps avant les prochaines vacances scolaires | timedelta | <span style=\"color:red\">non</span> |\n",
    "| tempC | entier | <span style=\"color:green\">oui</span> |\n",
    "| windspeedKmph | entier | <span style=\"color:green\">oui</span> |\n",
    "| winddirDegree | entier | <span style=\"color:green\">oui</span> |\n",
    "| weatherCode | entier | <span style=\"color:green\">oui</span> |\n",
    "| precipMM | flottant | <span style=\"color:green\">oui</span> |\n",
    "| humidity | entier | <span style=\"color:green\">oui</span> |\n",
    "| visibility | entier | <span style=\"color:green\">oui</span> |\n",
    "| pressure | entier | <span style=\"color:green\">oui</span> |\n",
    "| cloudcover | entier | <span style=\"color:green\">oui</span> |\n",
    "| HeatIndexC | entier | <span style=\"color:green\">oui</span> |\n",
    "| DewPointC | entier | <span style=\"color:green\">oui</span> |\n",
    "| WindChillC | entier | <span style=\"color:green\">oui</span> |\n",
    "| WindGustKmph | entier | <span style=\"color:green\">oui</span> |\n",
    "| FeelsLikeC | entier | <span style=\"color:green\">oui</span> |\n",
    "| uvIndex | entier | <span style=\"color:green\">oui</span> |\n",
    "| uvIndex | entier | <span style=\"color:green\">oui</span> |\n",
    "| maxtempC | entier | <span style=\"color:green\">oui</span> |\n",
    "| mintempC | entier | <span style=\"color:green\">oui</span> |\n",
    "| avgtempC | entier | <span style=\"color:green\">oui</span> |\n",
    "| totalSnow_cm | flottant | <span style=\"color:green\">oui</span> |\n",
    "| sunHour | flottant | <span style=\"color:green\">oui</span> |\n",
    "| uvIndex | entier | <span style=\"color:green\">oui</span> |\n",
    "| uvIndex | entier | <span style=\"color:green\">oui</span> |\n",
    "| sunrise | datetime | <span style=\"color:green\">oui</span> |\n",
    "| sunset | datetime | <span style=\"color:green\">oui</span> |\n",
    "| moon_phase | chaîne de caractère | <span style=\"color:green\">oui</span> |\n",
    "| moon_illumination | entier | <span style=\"color:green\">oui</span> |\n",
    "| Journée | booléen | <span style=\"color:red\">non</span> |"
   ]
  },
  {
   "cell_type": "markdown",
   "metadata": {},
   "source": [
    "## Prepare data\n",
    "\n",
    "#### Input data :\n",
    "les points de données des instants `t-n` à `t`\n",
    "- débit horaire [int]\n",
    "- Taux d'occupation [float]\n",
    "- météo : température, couverture nuageuse, ...\n",
    "\n",
    "#### Output data :\n",
    "for each arc (x3) instant `t+1`:\n",
    "- débit horaire [int]\n",
    "- Taux d'occupation [float]\n",
    "\n",
    "<br/>\n",
    "And all data that needs to be predicted "
   ]
  },
  {
   "cell_type": "code",
   "execution_count": 124,
   "metadata": {},
   "outputs": [
    {
     "name": "stdout",
     "output_type": "stream",
     "text": [
      "nb train examples :  9235\n",
      "nb features :  45\n",
      "nb to predict :  31\n",
      "Index(['tempC', 'windspeedKmph', 'winddirDegree', 'weatherCode', 'precipMM',\n",
      "       'humidity', 'visibility', 'pressure', 'cloudcover', 'HeatIndexC',\n",
      "       'DewPointC', 'WindChillC', 'WindGustKmph', 'FeelsLikeC', 'uvIndex',\n",
      "       'uvIndex', 'uvIndex', 'uvIndex', 'maxtempC', 'mintempC', 'avgtempC',\n",
      "       'totalSnow_cm', 'sunHour', 'uvIndex', 'uvIndex', 'uvIndex', 'uvIndex',\n",
      "       'moon_illumination', 'champs-elysees_Débit horaire',\n",
      "       'champs-elysees_Taux d'occupation', 'champs-elysees_Etat trafic',\n",
      "       'convention_Débit horaire', 'convention_Taux d'occupation',\n",
      "       'convention_Etat trafic', 'sts_Débit horaire', 'sts_Taux d'occupation',\n",
      "       'sts_Etat trafic'],\n",
      "      dtype='object')\n",
      "['tempC', 'windspeedKmph', 'winddirDegree', 'weatherCode', 'precipMM', 'humidity', 'visibility', 'pressure', 'cloudcover', 'HeatIndexC', 'DewPointC', 'WindChillC', 'WindGustKmph', 'FeelsLikeC', 'uvIndex', 'maxtempC', 'mintempC', 'avgtempC', 'totalSnow_cm', 'sunHour', 'uvIndex', 'moon_illumination', 'champs-elysees_Débit horaire', \"champs-elysees_Taux d'occupation\", 'champs-elysees_Etat trafic', 'convention_Débit horaire', \"convention_Taux d'occupation\", 'convention_Etat trafic', 'sts_Débit horaire', \"sts_Taux d'occupation\", 'sts_Etat trafic']\n",
      "\n",
      "y_k :  (37,)\n",
      "y npy :  (31,)\n"
     ]
    },
    {
     "ename": "ValueError",
     "evalue": "could not broadcast input array from shape (37) into shape (31)",
     "output_type": "error",
     "traceback": [
      "\u001b[1;31m---------------------------------------------------------------------------\u001b[0m",
      "\u001b[1;31mValueError\u001b[0m                                Traceback (most recent call last)",
      "\u001b[1;32m<ipython-input-124-8acf3781c611>\u001b[0m in \u001b[0;36m<module>\u001b[1;34m\u001b[0m\n\u001b[0;32m     24\u001b[0m \u001b[1;33m\u001b[0m\u001b[0m\n\u001b[0;32m     25\u001b[0m \u001b[1;33m\u001b[0m\u001b[0m\n\u001b[1;32m---> 26\u001b[1;33m \u001b[0mget_X_y\u001b[0m\u001b[1;33m(\u001b[0m\u001b[0mclean_train_df\u001b[0m\u001b[1;33m)\u001b[0m\u001b[1;33m\u001b[0m\u001b[1;33m\u001b[0m\u001b[0m\n\u001b[0m\u001b[0;32m     27\u001b[0m \u001b[1;33m\u001b[0m\u001b[0m\n\u001b[0;32m     28\u001b[0m \u001b[1;32mdef\u001b[0m \u001b[0mdisplay_predicted\u001b[0m\u001b[1;33m(\u001b[0m\u001b[0mX\u001b[0m\u001b[1;33m,\u001b[0m \u001b[0my_pred\u001b[0m\u001b[1;33m)\u001b[0m\u001b[1;33m:\u001b[0m\u001b[1;33m\u001b[0m\u001b[1;33m\u001b[0m\u001b[0m\n",
      "\u001b[1;32m<ipython-input-124-8acf3781c611>\u001b[0m in \u001b[0;36mget_X_y\u001b[1;34m(df, nb_steps)\u001b[0m\n\u001b[0;32m     20\u001b[0m         \u001b[0mprint\u001b[0m\u001b[1;33m(\u001b[0m\u001b[1;34m\"y npy : \"\u001b[0m\u001b[1;33m,\u001b[0m \u001b[0my\u001b[0m\u001b[1;33m[\u001b[0m\u001b[0mexample_id\u001b[0m\u001b[1;33m,\u001b[0m \u001b[1;33m:\u001b[0m\u001b[1;33m]\u001b[0m\u001b[1;33m.\u001b[0m\u001b[0mshape\u001b[0m\u001b[1;33m)\u001b[0m\u001b[1;33m\u001b[0m\u001b[1;33m\u001b[0m\u001b[0m\n\u001b[0;32m     21\u001b[0m         \u001b[0mX\u001b[0m\u001b[1;33m[\u001b[0m\u001b[0mexample_id\u001b[0m\u001b[1;33m,\u001b[0m \u001b[1;33m:\u001b[0m\u001b[1;33m,\u001b[0m \u001b[1;33m:\u001b[0m\u001b[1;33m]\u001b[0m \u001b[1;33m=\u001b[0m \u001b[0mX_k\u001b[0m\u001b[1;33m\u001b[0m\u001b[1;33m\u001b[0m\u001b[0m\n\u001b[1;32m---> 22\u001b[1;33m         \u001b[0my\u001b[0m\u001b[1;33m[\u001b[0m\u001b[0mexample_id\u001b[0m\u001b[1;33m,\u001b[0m \u001b[1;33m:\u001b[0m\u001b[1;33m]\u001b[0m \u001b[1;33m=\u001b[0m \u001b[0my_k\u001b[0m\u001b[1;33m\u001b[0m\u001b[1;33m\u001b[0m\u001b[0m\n\u001b[0m\u001b[0;32m     23\u001b[0m     \u001b[1;32mreturn\u001b[0m \u001b[0mX\u001b[0m\u001b[1;33m,\u001b[0m \u001b[0my\u001b[0m\u001b[1;33m\u001b[0m\u001b[1;33m\u001b[0m\u001b[0m\n\u001b[0;32m     24\u001b[0m \u001b[1;33m\u001b[0m\u001b[0m\n",
      "\u001b[1;31mValueError\u001b[0m: could not broadcast input array from shape (37) into shape (31)"
     ]
    }
   ],
   "source": [
    "def get_X_y(df, nb_steps=24):\n",
    "    \"\"\" returns the X and y vectors from dataframe \n",
    "        steps : nb of datapoints in each Xi\n",
    "    \"\"\" \n",
    "    nb_train_ex = nb_examples - (nb_steps + 1) + 1 # 1 in () : the y \n",
    "    print(\"nb train examples : \",nb_train_ex)\n",
    "    print(\"nb features : \", nb_features)\n",
    "    print(\"nb to predict : \", nb_to_predict)\n",
    "    \n",
    "    X = np.empty((nb_train_ex, nb_features, nb_steps))\n",
    "    y = np.empty((nb_train_ex, nb_to_predict))\n",
    "    for k_start in range(nb_examples):  \n",
    "        X_k = clean_train_df.loc[k_start:k_start + nb_steps-1].to_numpy().reshape(nb_features, nb_steps)\n",
    "        y_k = df[features_to_predict].iloc[k_start + nb_steps]\n",
    "        print(df[features_to_predict].columns)\n",
    "        print(features_to_predict)\n",
    "        example_id = k_start\n",
    "        print()\n",
    "        print(\"y_k : \", y_k.shape)\n",
    "        print(\"y npy : \", y[example_id, :].shape)\n",
    "        X[example_id, :, :] = X_k\n",
    "        y[example_id, :] = y_k\n",
    "    return X, y\n",
    "\n",
    "\n",
    "get_X_y(clean_train_df)\n",
    "    \n",
    "def display_predicted(X, y_pred):\n",
    "    \"\"\" hey \"\"\"\n",
    "    pass\n",
    "\n",
    "# print(clean_train_df[[\"Journée\", \"moon_illumination\"]].iloc[24])\n",
    "# fonction qui affiche à partir de Xi et yi (ou y_predi) les débits horaires et taux d'occupation"
   ]
  },
  {
   "cell_type": "markdown",
   "metadata": {},
   "source": [
    "## First model"
   ]
  },
  {
   "cell_type": "code",
   "execution_count": null,
   "metadata": {},
   "outputs": [],
   "source": [
    "def model_1(input_shape, output_size=6, show_summary=False):\n",
    "    model = models.Sequential()\n",
    "\n",
    "    model.add(layers.Conv2D(128, kernel_size=(3, 3),\n",
    "                        input_shape=input_shape, activation=\"relu\"))\n",
    "    model.add(layers.MaxPooling2D(3))\n",
    "    model.add(layers.Dropout(0.2))\n",
    "\n",
    "    model.add(layers.Conv2D(64, kernel_size=(3, 3), activation=\"relu\"))\n",
    "    model.add(layers.MaxPooling2D(3))\n",
    "    model.add(layers.Dropout(0.2))\n",
    "\n",
    "    model.add(layers.Flatten())\n",
    "    model.add(layers.Dense(128, activation=\"relu\"))\n",
    "    model.add(layers.Dense(64, activation=\"relu\"))\n",
    "    model.add(layers.Dense(output_size, activation=\"linear\"))\n",
    "    \n",
    "    if show_summary:\n",
    "        model.summary()\n",
    "        \n",
    "    model.compile(loss='mse', optimizer='adam', metrics=['mae'])\n",
    "    \n",
    "    return model"
   ]
  }
 ],
 "metadata": {
  "kernelspec": {
   "display_name": "Python 3",
   "language": "python",
   "name": "python3"
  },
  "language_info": {
   "codemirror_mode": {
    "name": "ipython",
    "version": 3
   },
   "file_extension": ".py",
   "mimetype": "text/x-python",
   "name": "python",
   "nbconvert_exporter": "python",
   "pygments_lexer": "ipython3",
   "version": "3.7.5"
  }
 },
 "nbformat": 4,
 "nbformat_minor": 4
}

{
 "cells": [
  {
   "cell_type": "markdown",
   "metadata": {},
   "source": [
    "### Questions \n",
    "- nb de données != multiple de 24 ?\n",
    "- date / date & heure de comptage pas redondant ? \n",
    "- qu'est-ce que la variable *filename* ? Nom du fichier depuis lequel on a importé les données ? (il n'y a que champs élysées & convention) \n",
    "- idem *etat de l'arc*\n",
    "\n",
    "### Infos :\n",
    "- *filename* plus utile\n",
    "\n",
    "### TODO :\n",
    "- [ ] faire son propre minmax scaler\n",
    "- [x] List variables that need to be predicted\n",
    "- [x] Combine data of all 3 arcs\n",
    "- [ ] Make fction that displays one example\n",
    "- [ ] Make fction that predicts for one week\n",
    "- [ ] Sort by to predict or not\n",
    "- [ ] one hot encode string variables (ex: moon phases)\n",
    "- encode dates : ideas :\n",
    "    - Time since 1970 (continuous) ? **not sure**\n",
    "    - Day of year in [1, 365] (categorical)\n",
    "    - Month of year in [1, 12] (categorical)\n",
    "    - Day of week in [1, 7] (categorical)\n",
    "    - Is weekend (binary indicator)\n",
    "    - Is holiday (binary indicator)\n",
    "    - etc."
   ]
  },
  {
   "cell_type": "markdown",
   "metadata": {},
   "source": [
    "## imports"
   ]
  },
  {
   "cell_type": "code",
   "execution_count": 1,
   "metadata": {},
   "outputs": [],
   "source": [
    "from utils import load_df\n",
    "import pandas as pd\n",
    "import numpy as np\n",
    "import matplotlib.pyplot as plt\n",
    "from tensorflow.keras import datasets, layers, models, losses\n",
    "import ipywidgets as ipw\n",
    "import tensorflow as tf"
   ]
  },
  {
   "cell_type": "markdown",
   "metadata": {},
   "source": [
    "## Load Data"
   ]
  },
  {
   "cell_type": "code",
   "execution_count": 2,
   "metadata": {
    "scrolled": true
   },
   "outputs": [
    {
     "name": "stdout",
     "output_type": "stream",
     "text": [
      "Index(['Date et heure de comptage', 'champs-elysees_Débit horaire',\n",
      "       'champs-elysees_Taux d'occupation', 'champs-elysees_Etat trafic',\n",
      "       'champs-elysees_Etat arc', 'convention_Débit horaire',\n",
      "       'convention_Taux d'occupation', 'convention_Etat trafic',\n",
      "       'convention_Etat arc', 'sts_Débit horaire', 'sts_Taux d'occupation',\n",
      "       'sts_Etat trafic', 'sts_Etat arc', 'filename', 'Date',\n",
      "       'Jour de la semaine_0', 'Jour de la semaine_1', 'Jour de la semaine_2',\n",
      "       'Jour de la semaine_3', 'Jour de la semaine_4', 'Jour de la semaine_5',\n",
      "       'Jour de la semaine_6', 'Etat du confinement', 'Couvre-feu',\n",
      "       'Jour férié', 'Vacances scolaires',\n",
      "       'Date des prochaines vacances scolaires',\n",
      "       'Temps avant les prochaines vacances scolaires', 'tempC',\n",
      "       'windspeedKmph', 'winddirDegree', 'weatherCode', 'precipMM', 'humidity',\n",
      "       'visibility', 'pressure', 'cloudcover', 'HeatIndexC', 'DewPointC',\n",
      "       'WindChillC', 'WindGustKmph', 'FeelsLikeC', 'hourly_uvIndex',\n",
      "       'maxtempC', 'mintempC', 'avgtempC', 'totalSnow_cm', 'sunHour',\n",
      "       'daily_uvIndex', 'sunrise', 'sunset', 'moon_phase', 'moon_illumination',\n",
      "       'Journée'],\n",
      "      dtype='object')\n"
     ]
    },
    {
     "data": {
      "text/plain": [
       "<matplotlib.axes._subplots.AxesSubplot at 0x19790276748>"
      ]
     },
     "execution_count": 2,
     "metadata": {},
     "output_type": "execute_result"
    },
    {
     "data": {
      "image/png": "[encoded data removed]",
      "text/plain": [
       "<Figure size 432x288 with 1 Axes>"
      ]
     },
     "metadata": {
      "needs_background": "light"
     },
     "output_type": "display_data"
    }
   ],
   "source": [
    "train_df = load_df(\"data\\\\df_concat_train.pkl\")\n",
    "print(train_df.columns)\n",
    "train_df[\"champs-elysees_Taux d'occupation\"][9000:].plot()"
   ]
  },
  {
   "cell_type": "markdown",
   "metadata": {},
   "source": [
    "## Clean the data"
   ]
  },
  {
   "cell_type": "code",
   "execution_count": 22,
   "metadata": {},
   "outputs": [
    {
     "name": "stdout",
     "output_type": "stream",
     "text": [
      "nb features :  43\n",
      "nb to predict :  31\n",
      "nb examples :  9259\n"
     ]
    }
   ],
   "source": [
    "def convert_types(df):\n",
    "#     corrected_df = df.astype({: \"float64\"})\n",
    "    return corrected_df\n",
    "\n",
    "\n",
    "sorted_train_df = train_df\n",
    "\n",
    "# drop unnecessary variables\n",
    "features_to_drop = ['filename', 'Date', 'Date et heure de comptage']\n",
    "# temporary drop all strings and datetime features\n",
    "features_to_drop += ['moon_phase', 'champs-elysees_Etat arc', 'convention_Etat arc', 'sts_Etat arc', \"Date des prochaines vacances scolaires\", \"Temps avant les prochaines vacances scolaires\", \"sunrise\", \"sunset\"]\n",
    "clean_train_df = train_df.drop(features_to_drop, axis=1)\n",
    "# cc_train_df = convert_types(clean_train_df)\n",
    "\n",
    "features_to_predict = ['champs-elysees_Débit horaire', \"champs-elysees_Taux d'occupation\", 'champs-elysees_Etat trafic','convention_Débit horaire',\"convention_Taux d'occupation\", \"convention_Etat trafic\", 'sts_Débit horaire', \"sts_Taux d'occupation\", 'sts_Etat trafic','tempC','windspeedKmph', 'winddirDegree', 'weatherCode', 'precipMM', 'humidity','visibility', 'pressure', 'cloudcover', 'HeatIndexC', 'DewPointC','WindChillC', 'WindGustKmph', 'FeelsLikeC', 'daily_uvIndex', 'maxtempC','mintempC', 'avgtempC', 'totalSnow_cm', 'sunHour', 'hourly_uvIndex', 'moon_illumination']\n",
    "features_not_to_predict = [f for f in clean_train_df.columns if f not in features_to_predict]\n",
    "\n",
    "nb_features = clean_train_df.shape[1]\n",
    "nb_to_predict = len(features_to_predict)\n",
    "nb_examples = clean_train_df.shape[0]\n",
    "print(\"nb features : \", nb_features)\n",
    "print(\"nb to predict : \", nb_to_predict)\n",
    "print(\"nb examples : \", nb_examples)\n",
    "\n",
    "\n",
    "# reorder columns to have those to predict first, the the others\n",
    "new_index = features_to_predict + features_not_to_predict\n",
    "reordered_train_df = clean_train_df.reindex(new_index, axis=1)\n",
    "# print(reordered_train_df.columns)\n",
    "\n",
    "\n",
    "def generate_table(df):\n",
    "    print(\"| indice | Nom       | Type | à prédire |\")\n",
    "    print(\"| :-: | :-- | :-- | :-: |\")\n",
    "    \n",
    "    type_corresp = {\"uint8\":\"entier\", \"int64\":\"entier\", \"bool\": \"booléen\", \"float64\": \"flottant\", \"datetime64[ns]\": \"datetime\", \"object\": \"chaîne de caractère\", \"timedelta64[ns]\": \"timedelta\"}\n",
    "    \n",
    "    for indice, infos in enumerate(zip(df.columns, df.dtypes)):\n",
    "        x, y = infos\n",
    "        if str(x) in features_to_predict:\n",
    "            print(\"|\", indice,\"|\", x, \"|\", type_corresp[str(y)], \"|\",'<span style=\"color:green\">oui</span>', \"|\")\n",
    "        else:\n",
    "            print(\"|\", indice, \"|\", x, \"|\", type_corresp[str(y)], \"|\",'<span style=\"color:red\">non</span>', \"|\")\n",
    "# generate_table(reordered_train_df)\n"
   ]
  },
  {
   "cell_type": "code",
   "execution_count": 26,
   "metadata": {},
   "outputs": [
    {
     "data": {
      "text/plain": [
       "(9259, 43)"
      ]
     },
     "execution_count": 26,
     "metadata": {},
     "output_type": "execute_result"
    }
   ],
   "source": [
    "reordered_train_df.to_numpy().shape"
   ]
  },
  {
   "cell_type": "markdown",
   "metadata": {},
   "source": [
    "### Variables info\n",
    "\n",
    "| indice | Nom       | Type | à prédire |\n",
    "| :-: | :-- | :-- | :-: |\n",
    "| 0 | champs-elysees_Débit horaire | flottant | <span style=\"color:green\">oui</span> |\n",
    "| 1 | champs-elysees_Taux d'occupation | flottant | <span style=\"color:green\">oui</span> |\n",
    "| 2 | champs-elysees_Etat trafic | entier | <span style=\"color:green\">oui</span> |\n",
    "| 3 | convention_Débit horaire | flottant | <span style=\"color:green\">oui</span> |\n",
    "| 4 | convention_Taux d'occupation | flottant | <span style=\"color:green\">oui</span> |\n",
    "| 5 | convention_Etat trafic | entier | <span style=\"color:green\">oui</span> |\n",
    "| 6 | sts_Débit horaire | flottant | <span style=\"color:green\">oui</span> |\n",
    "| 7 | sts_Taux d'occupation | flottant | <span style=\"color:green\">oui</span> |\n",
    "| 8 | sts_Etat trafic | entier | <span style=\"color:green\">oui</span> |\n",
    "| 9 | tempC | entier | <span style=\"color:green\">oui</span> |\n",
    "| 10 | windspeedKmph | entier | <span style=\"color:green\">oui</span> |\n",
    "| 11 | winddirDegree | entier | <span style=\"color:green\">oui</span> |\n",
    "| 12 | weatherCode | entier | <span style=\"color:green\">oui</span> |\n",
    "| 13 | precipMM | flottant | <span style=\"color:green\">oui</span> |\n",
    "| 14 | humidity | entier | <span style=\"color:green\">oui</span> |\n",
    "| 15 | visibility | entier | <span style=\"color:green\">oui</span> |\n",
    "| 16 | pressure | entier | <span style=\"color:green\">oui</span> |\n",
    "| 17 | cloudcover | entier | <span style=\"color:green\">oui</span> |\n",
    "| 18 | HeatIndexC | entier | <span style=\"color:green\">oui</span> |\n",
    "| 19 | DewPointC | entier | <span style=\"color:green\">oui</span> |\n",
    "| 20 | WindChillC | entier | <span style=\"color:green\">oui</span> |\n",
    "| 21 | WindGustKmph | entier | <span style=\"color:green\">oui</span> |\n",
    "| 22 | FeelsLikeC | entier | <span style=\"color:green\">oui</span> |\n",
    "| 23 | daily_uvIndex | entier | <span style=\"color:green\">oui</span> |\n",
    "| 24 | maxtempC | entier | <span style=\"color:green\">oui</span> |\n",
    "| 25 | mintempC | entier | <span style=\"color:green\">oui</span> |\n",
    "| 26 | avgtempC | entier | <span style=\"color:green\">oui</span> |\n",
    "| 27 | totalSnow_cm | flottant | <span style=\"color:green\">oui</span> |\n",
    "| 28 | sunHour | flottant | <span style=\"color:green\">oui</span> |\n",
    "| 29 | hourly_uvIndex | entier | <span style=\"color:green\">oui</span> |\n",
    "| 30 | moon_illumination | entier | <span style=\"color:green\">oui</span> |\n",
    "| 31 | Jour de la semaine_0 | entier | <span style=\"color:red\">non</span> |\n",
    "| 32 | Jour de la semaine_1 | entier | <span style=\"color:red\">non</span> |\n",
    "| 33 | Jour de la semaine_2 | entier | <span style=\"color:red\">non</span> |\n",
    "| 34 | Jour de la semaine_3 | entier | <span style=\"color:red\">non</span> |\n",
    "| 35 | Jour de la semaine_4 | entier | <span style=\"color:red\">non</span> |\n",
    "| 36 | Jour de la semaine_5 | entier | <span style=\"color:red\">non</span> |\n",
    "| 37 | Jour de la semaine_6 | entier | <span style=\"color:red\">non</span> |\n",
    "| 38 | Etat du confinement | entier | <span style=\"color:red\">non</span> |\n",
    "| 39 | Couvre-feu | booléen | <span style=\"color:red\">non</span> |\n",
    "| 40 | Jour férié | booléen | <span style=\"color:red\">non</span> |\n",
    "| 41 | Vacances scolaires | booléen | <span style=\"color:red\">non</span> |\n",
    "| 42 | Journée | booléen | <span style=\"color:red\">non</span> |"
   ]
  },
  {
   "cell_type": "markdown",
   "metadata": {},
   "source": [
    "## Prepare data\n",
    "\n",
    "#### Input data :\n",
    "les points de données des instants `t-n` à `t`\n",
    "- débit horaire [int]\n",
    "- Taux d'occupation [float]\n",
    "- météo : température, couverture nuageuse, ...\n",
    "\n",
    "#### Output data :\n",
    "for each arc (x3) instant `t+1`:\n",
    "- débit horaire [int]\n",
    "- Taux d'occupation [float]\n",
    "\n",
    "<br/>\n",
    "And all data that needs to be predicted "
   ]
  },
  {
   "cell_type": "code",
   "execution_count": 127,
   "metadata": {},
   "outputs": [
    {
     "name": "stdout",
     "output_type": "stream",
     "text": [
      "nb train examples :  9235\n",
      "nb features :  43\n",
      "nb to predict :  31\n"
     ]
    }
   ],
   "source": [
    "## Vérifier les  dimensions... \n",
    "\n",
    "def get_X_y(df, nb_steps=24):\n",
    "    \"\"\" returns the X and y vectors from dataframe \n",
    "        steps : nb of datapoints in each Xi\n",
    "    \"\"\" \n",
    "    nb_train_ex = nb_examples - (nb_steps + 1) + 1 # 1 in () : the y \n",
    "    print(\"nb train examples : \",nb_train_ex)\n",
    "    print(\"nb features : \", nb_features)\n",
    "    print(\"nb to predict : \", nb_to_predict)\n",
    "    \n",
    "    X = np.empty((nb_train_ex, nb_steps, nb_features))\n",
    "    y = np.empty((nb_train_ex, nb_to_predict))\n",
    "    for k_start in range(nb_train_ex):  \n",
    "        X_k = clean_train_df.loc[k_start:k_start + nb_steps-1].to_numpy().reshape(nb_steps, nb_features)\n",
    "        y_k = df[features_to_predict].iloc[k_start + nb_steps]\n",
    "\n",
    "        example_id = k_start\n",
    "\n",
    "        X[example_id, :, :] = X_k\n",
    "        y[example_id, :] = y_k\n",
    "#     X_tensor = tf.convert_to_tensor(X)\n",
    "#     y_tensor = tf.convert_to_tensor(y)\n",
    "    return X, y\n",
    "\n",
    "\n",
    "X, y = get_X_y(reordered_train_df)\n",
    "\n",
    "# from sklearn.preprocessing import MinMaxScaler\n",
    "# # define data\n",
    "# print(X)\n",
    "# # define min max scaler\n",
    "# scaler = MinMaxScaler()\n",
    "# # transform data\n",
    "# scaled = scaler.fit_transform(X)\n",
    "# print(scaled)\n",
    "# print(X.shape)\n",
    "\n",
    "    \n",
    "def display_predicted(X, y_pred):\n",
    "    \"\"\" hey \"\"\"\n",
    "    pass\n",
    "\n",
    "# print(clean_train_df[[\"Journée\", \"moon_illumination\"]].iloc[24])\n",
    "# fonction qui affiche à partir de Xi et yi (ou y_predi) les débits horaires et taux d'occupation"
   ]
  },
  {
   "cell_type": "markdown",
   "metadata": {},
   "source": [
    "### Scale the data"
   ]
  },
  {
   "cell_type": "code",
   "execution_count": 128,
   "metadata": {},
   "outputs": [
    {
     "data": {
      "text/plain": [
       "<matplotlib.legend.Legend at 0x1980b381148>"
      ]
     },
     "execution_count": 128,
     "metadata": {},
     "output_type": "execute_result"
    },
    {
     "data": {
      "image/png": "[encoded data removed]",
      "text/plain": [
       "<Figure size 432x288 with 1 Axes>"
      ]
     },
     "metadata": {
      "needs_background": "light"
     },
     "output_type": "display_data"
    }
   ],
   "source": [
    "from sklearn.preprocessing import MinMaxScaler\n",
    "\n",
    "def scale(X):\n",
    "    scalers = {}\n",
    "    s_X = np.zeros_like(X)\n",
    "    for i in range(X.shape[2]):\n",
    "        scalers[i] = MinMaxScaler()\n",
    "        s_X[:, :, i] = scalers[i].fit_transform(X[:, :, i]) \n",
    "    return s_X, scalers\n",
    "\n",
    "s_X, scalers = scale(X)\n",
    "plt.plot(np.abs(X[0,0]), label=\"before\")\n",
    "plt.plot(np.abs(s_X[0,0])*100, label=\"after scale\")\n",
    "plt.legend()"
   ]
  },
  {
   "cell_type": "markdown",
   "metadata": {},
   "source": [
    "## First model"
   ]
  },
  {
   "cell_type": "code",
   "execution_count": 129,
   "metadata": {},
   "outputs": [
    {
     "name": "stdout",
     "output_type": "stream",
     "text": [
      "input shape :  (24, 43)\n",
      "Model: \"sequential_3\"\n",
      "_________________________________________________________________\n",
      "Layer (type)                 Output Shape              Param #   \n",
      "=================================================================\n",
      "conv1d_3 (Conv1D)            (None, 22, 256)           33280     \n",
      "_________________________________________________________________\n",
      "max_pooling1d_3 (MaxPooling1 (None, 7, 256)            0         \n",
      "_________________________________________________________________\n",
      "dropout_3 (Dropout)          (None, 7, 256)            0         \n",
      "_________________________________________________________________\n",
      "flatten_3 (Flatten)          (None, 1792)              0         \n",
      "_________________________________________________________________\n",
      "dense_9 (Dense)              (None, 256)               459008    \n",
      "_________________________________________________________________\n",
      "dense_10 (Dense)             (None, 128)               32896     \n",
      "_________________________________________________________________\n",
      "dense_11 (Dense)             (None, 31)                3999      \n",
      "=================================================================\n",
      "Total params: 529,183\n",
      "Trainable params: 529,183\n",
      "Non-trainable params: 0\n",
      "_________________________________________________________________\n"
     ]
    }
   ],
   "source": [
    "### \n",
    "def model_1(nb_steps=24, show_summary=False):\n",
    "    input_shape = (nb_steps, nb_features)\n",
    "    print(\"input shape : \", input_shape)\n",
    "    \n",
    "    model = models.Sequential()\n",
    "\n",
    "    model.add(layers.Conv1D(256, kernel_size=(3,),\n",
    "                        input_shape=input_shape, activation=\"relu\"))\n",
    "    model.add(layers.MaxPooling1D(3))\n",
    "    model.add(layers.Dropout(0.2))\n",
    "\n",
    "#     model.add(layers.Conv1D(128, kernel_size=(3,), activation=\"relu\"))\n",
    "#     model.add(layers.MaxPooling1D(3))\n",
    "#     model.add(layers.Dropout(0.2))\n",
    "\n",
    "    model.add(layers.Flatten())\n",
    "    model.add(layers.Dense(256, activation=\"relu\"))\n",
    "    model.add(layers.Dense(128, activation=\"relu\"))\n",
    "    model.add(layers.Dense(nb_to_predict, activation=\"linear\"))\n",
    "    \n",
    "    if show_summary:\n",
    "        model.summary()\n",
    "        \n",
    "    model.compile(loss='mse', optimizer='adam', metrics=['mae'])\n",
    "    \n",
    "    return model\n",
    "\n",
    "# test\n",
    "cnn_model_1 = model_1(show_summary=True) "
   ]
  },
  {
   "cell_type": "code",
   "execution_count": 130,
   "metadata": {
    "scrolled": true
   },
   "outputs": [
    {
     "name": "stdout",
     "output_type": "stream",
     "text": [
      "Epoch 1/100\n",
      "289/289 [==============================] - 2s 4ms/step - loss: 26541.1282 - mae: 60.8235\n",
      "Epoch 2/100\n",
      "289/289 [==============================] - 1s 4ms/step - loss: 4140.2806 - mae: 25.4220\n",
      "Epoch 3/100\n",
      "289/289 [==============================] - 1s 4ms/step - loss: 3036.7638 - mae: 21.8604\n",
      "Epoch 4/100\n",
      "289/289 [==============================] - 1s 4ms/step - loss: 2538.7480 - mae: 20.0333\n",
      "Epoch 5/100\n",
      "289/289 [==============================] - 1s 4ms/step - loss: 2140.2278 - mae: 18.3073\n",
      "Epoch 6/100\n",
      "289/289 [==============================] - 1s 4ms/step - loss: 1886.8036 - mae: 16.9676\n",
      "Epoch 7/100\n",
      "289/289 [==============================] - 1s 4ms/step - loss: 1843.5416 - mae: 16.6858\n",
      "Epoch 8/100\n",
      "289/289 [==============================] - 1s 4ms/step - loss: 1678.3415 - mae: 16.1035\n",
      "Epoch 9/100\n",
      "289/289 [==============================] - 1s 5ms/step - loss: 1590.7010 - mae: 15.5392\n",
      "Epoch 10/100\n",
      "289/289 [==============================] - 1s 4ms/step - loss: 1538.5929 - mae: 15.1165\n",
      "Epoch 11/100\n",
      "289/289 [==============================] - 1s 4ms/step - loss: 1449.5606 - mae: 14.6969\n",
      "Epoch 12/100\n",
      "289/289 [==============================] - 1s 5ms/step - loss: 1350.7086 - mae: 14.2958\n",
      "Epoch 13/100\n",
      "289/289 [==============================] - 1s 5ms/step - loss: 1343.0826 - mae: 14.1471\n",
      "Epoch 14/100\n",
      "289/289 [==============================] - 1s 5ms/step - loss: 1309.8986 - mae: 13.8485\n",
      "Epoch 15/100\n",
      "289/289 [==============================] - 1s 5ms/step - loss: 1246.4244 - mae: 13.4766\n",
      "Epoch 16/100\n",
      "289/289 [==============================] - 1s 5ms/step - loss: 1200.7742 - mae: 13.0030\n",
      "Epoch 17/100\n",
      "289/289 [==============================] - 1s 5ms/step - loss: 1165.8837 - mae: 12.7686\n",
      "Epoch 18/100\n",
      "289/289 [==============================] - 1s 5ms/step - loss: 1129.0174 - mae: 12.4120\n",
      "Epoch 19/100\n",
      "289/289 [==============================] - 1s 5ms/step - loss: 1088.5067 - mae: 12.2841\n",
      "Epoch 20/100\n",
      "289/289 [==============================] - 1s 5ms/step - loss: 1041.4409 - mae: 11.9680\n",
      "Epoch 21/100\n",
      "289/289 [==============================] - 1s 5ms/step - loss: 1045.2044 - mae: 11.8542\n",
      "Epoch 22/100\n",
      "289/289 [==============================] - 1s 5ms/step - loss: 1010.9576 - mae: 11.8249\n",
      "Epoch 23/100\n",
      "289/289 [==============================] - 1s 5ms/step - loss: 1019.7825 - mae: 11.7175\n",
      "Epoch 24/100\n",
      "289/289 [==============================] - 1s 5ms/step - loss: 980.6833 - mae: 11.5226\n",
      "Epoch 25/100\n",
      "289/289 [==============================] - 1s 5ms/step - loss: 985.7188 - mae: 11.5295\n",
      "Epoch 26/100\n",
      "289/289 [==============================] - ETA: 0s - loss: 930.0776 - mae: 11.20 - 1s 5ms/step - loss: 930.6929 - mae: 11.2104\n",
      "Epoch 27/100\n",
      "289/289 [==============================] - 1s 5ms/step - loss: 936.6398 - mae: 11.2027\n",
      "Epoch 28/100\n",
      "289/289 [==============================] - 1s 5ms/step - loss: 927.9844 - mae: 11.2155\n",
      "Epoch 29/100\n",
      "289/289 [==============================] - 1s 5ms/step - loss: 916.7818 - mae: 11.0867\n",
      "Epoch 30/100\n",
      "289/289 [==============================] - 1s 5ms/step - loss: 900.8707 - mae: 11.0798\n",
      "Epoch 31/100\n",
      "289/289 [==============================] - 1s 5ms/step - loss: 894.7690 - mae: 10.9743\n",
      "Epoch 32/100\n",
      "289/289 [==============================] - 1s 5ms/step - loss: 864.3525 - mae: 10.8173\n",
      "Epoch 33/100\n",
      "289/289 [==============================] - 1s 5ms/step - loss: 861.1504 - mae: 10.7618\n",
      "Epoch 34/100\n",
      "289/289 [==============================] - 1s 5ms/step - loss: 867.5917 - mae: 10.9257\n",
      "Epoch 35/100\n",
      "289/289 [==============================] - 1s 5ms/step - loss: 857.8703 - mae: 10.7344\n",
      "Epoch 36/100\n",
      "289/289 [==============================] - 1s 5ms/step - loss: 823.8812 - mae: 10.5135\n",
      "Epoch 37/100\n",
      "289/289 [==============================] - 1s 5ms/step - loss: 824.1980 - mae: 10.6723\n",
      "Epoch 38/100\n",
      "289/289 [==============================] - 1s 5ms/step - loss: 827.5376 - mae: 10.5363\n",
      "Epoch 39/100\n",
      "289/289 [==============================] - 1s 5ms/step - loss: 794.4654 - mae: 10.3263\n",
      "Epoch 40/100\n",
      "289/289 [==============================] - 1s 5ms/step - loss: 797.5424 - mae: 10.4418\n",
      "Epoch 41/100\n",
      "289/289 [==============================] - 1s 5ms/step - loss: 779.2416 - mae: 10.2173\n",
      "Epoch 42/100\n",
      "289/289 [==============================] - 1s 5ms/step - loss: 782.2956 - mae: 10.3675\n",
      "Epoch 43/100\n",
      "289/289 [==============================] - 1s 5ms/step - loss: 779.9448 - mae: 10.1959\n",
      "Epoch 44/100\n",
      "289/289 [==============================] - 1s 5ms/step - loss: 752.2546 - mae: 10.1186\n",
      "Epoch 45/100\n",
      "289/289 [==============================] - 1s 5ms/step - loss: 746.2865 - mae: 10.1301\n",
      "Epoch 46/100\n",
      "289/289 [==============================] - 1s 5ms/step - loss: 730.0965 - mae: 9.9604\n",
      "Epoch 47/100\n",
      "289/289 [==============================] - 1s 5ms/step - loss: 750.4864 - mae: 10.1589\n",
      "Epoch 48/100\n",
      "289/289 [==============================] - 1s 5ms/step - loss: 705.5599 - mae: 9.8196\n",
      "Epoch 49/100\n",
      "289/289 [==============================] - 1s 5ms/step - loss: 738.9825 - mae: 9.9117\n",
      "Epoch 50/100\n",
      "289/289 [==============================] - 1s 5ms/step - loss: 708.8841 - mae: 9.7360\n",
      "Epoch 51/100\n",
      "289/289 [==============================] - 1s 5ms/step - loss: 682.3738 - mae: 9.7752\n",
      "Epoch 52/100\n",
      "289/289 [==============================] - 1s 5ms/step - loss: 721.9361 - mae: 9.9106\n",
      "Epoch 53/100\n",
      "289/289 [==============================] - 1s 5ms/step - loss: 710.2934 - mae: 9.9161\n",
      "Epoch 54/100\n",
      "289/289 [==============================] - 1s 5ms/step - loss: 703.2761 - mae: 9.7043\n",
      "Epoch 55/100\n",
      "289/289 [==============================] - 1s 5ms/step - loss: 691.0675 - mae: 9.6490\n",
      "Epoch 56/100\n",
      "289/289 [==============================] - 1s 5ms/step - loss: 670.9964 - mae: 9.5488\n",
      "Epoch 57/100\n",
      "289/289 [==============================] - 2s 5ms/step - loss: 649.7288 - mae: 9.4045\n",
      "Epoch 58/100\n",
      "289/289 [==============================] - 1s 5ms/step - loss: 660.2158 - mae: 9.4223\n",
      "Epoch 59/100\n",
      "289/289 [==============================] - 1s 5ms/step - loss: 642.3492 - mae: 9.3362\n",
      "Epoch 60/100\n",
      "289/289 [==============================] - 1s 5ms/step - loss: 667.6254 - mae: 9.5905\n",
      "Epoch 61/100\n",
      "289/289 [==============================] - 1s 4ms/step - loss: 664.2207 - mae: 9.6659\n",
      "Epoch 62/100\n",
      "289/289 [==============================] - 1s 4ms/step - loss: 643.0131 - mae: 9.3494\n",
      "Epoch 63/100\n",
      "289/289 [==============================] - 1s 5ms/step - loss: 651.3543 - mae: 9.3775\n",
      "Epoch 64/100\n",
      "289/289 [==============================] - 1s 5ms/step - loss: 634.3762 - mae: 9.2661\n",
      "Epoch 65/100\n",
      "289/289 [==============================] - 1s 5ms/step - loss: 623.5472 - mae: 9.2966\n",
      "Epoch 66/100\n",
      "289/289 [==============================] - 1s 5ms/step - loss: 654.9203 - mae: 9.4938\n",
      "Epoch 67/100\n",
      "289/289 [==============================] - 2s 6ms/step - loss: 642.7168 - mae: 9.3601\n",
      "Epoch 68/100\n",
      "289/289 [==============================] - 1s 5ms/step - loss: 630.9135 - mae: 9.2779\n",
      "Epoch 69/100\n",
      "289/289 [==============================] - 1s 5ms/step - loss: 620.5367 - mae: 9.2555\n",
      "Epoch 70/100\n",
      "289/289 [==============================] - 1s 5ms/step - loss: 619.0954 - mae: 9.1958\n",
      "Epoch 71/100\n",
      "289/289 [==============================] - 1s 5ms/step - loss: 593.4419 - mae: 9.0351\n",
      "Epoch 72/100\n",
      "289/289 [==============================] - 1s 5ms/step - loss: 605.3226 - mae: 9.0556\n",
      "Epoch 73/100\n",
      "289/289 [==============================] - 1s 5ms/step - loss: 609.8492 - mae: 9.2451\n",
      "Epoch 74/100\n",
      "289/289 [==============================] - 1s 5ms/step - loss: 578.5274 - mae: 8.8859\n",
      "Epoch 75/100\n",
      "289/289 [==============================] - 1s 5ms/step - loss: 583.8877 - mae: 8.9336\n",
      "Epoch 76/100\n",
      "289/289 [==============================] - 1s 5ms/step - loss: 586.9755 - mae: 8.9874\n",
      "Epoch 77/100\n",
      "289/289 [==============================] - 1s 5ms/step - loss: 558.0641 - mae: 8.8574\n",
      "Epoch 78/100\n",
      "289/289 [==============================] - 1s 5ms/step - loss: 599.6030 - mae: 9.1181\n",
      "Epoch 79/100\n",
      "289/289 [==============================] - 1s 5ms/step - loss: 574.8281 - mae: 9.0818\n",
      "Epoch 80/100\n",
      "289/289 [==============================] - 1s 5ms/step - loss: 571.2735 - mae: 8.8474\n",
      "Epoch 81/100\n",
      "289/289 [==============================] - 1s 5ms/step - loss: 547.1069 - mae: 8.7732\n",
      "Epoch 82/100\n"
     ]
    },
    {
     "name": "stdout",
     "output_type": "stream",
     "text": [
      "289/289 [==============================] - 1s 5ms/step - loss: 576.2880 - mae: 9.0851\n",
      "Epoch 83/100\n",
      "289/289 [==============================] - 1s 5ms/step - loss: 520.8358 - mae: 8.5836\n",
      "Epoch 84/100\n",
      "289/289 [==============================] - 1s 5ms/step - loss: 563.4121 - mae: 8.8474\n",
      "Epoch 85/100\n",
      "289/289 [==============================] - 1s 5ms/step - loss: 545.7017 - mae: 8.6884\n",
      "Epoch 86/100\n",
      "289/289 [==============================] - 1s 5ms/step - loss: 542.9682 - mae: 8.6482\n",
      "Epoch 87/100\n",
      "289/289 [==============================] - 1s 5ms/step - loss: 552.3339 - mae: 8.7339\n",
      "Epoch 88/100\n",
      "289/289 [==============================] - 1s 5ms/step - loss: 539.1914 - mae: 8.7032\n",
      "Epoch 89/100\n",
      "289/289 [==============================] - 1s 5ms/step - loss: 536.3239 - mae: 8.7334\n",
      "Epoch 90/100\n",
      "289/289 [==============================] - 1s 5ms/step - loss: 532.3608 - mae: 8.6300\n",
      "Epoch 91/100\n",
      "289/289 [==============================] - 1s 5ms/step - loss: 526.5852 - mae: 8.6019\n",
      "Epoch 92/100\n",
      "289/289 [==============================] - 1s 5ms/step - loss: 514.9369 - mae: 8.5433\n",
      "Epoch 93/100\n",
      "289/289 [==============================] - 1s 5ms/step - loss: 523.9096 - mae: 8.4964\n",
      "Epoch 94/100\n",
      "289/289 [==============================] - 1s 5ms/step - loss: 528.4767 - mae: 8.4834\n",
      "Epoch 95/100\n",
      "289/289 [==============================] - 1s 5ms/step - loss: 520.2563 - mae: 8.5616\n",
      "Epoch 96/100\n",
      "289/289 [==============================] - 1s 5ms/step - loss: 506.3769 - mae: 8.4121\n",
      "Epoch 97/100\n",
      "289/289 [==============================] - 1s 5ms/step - loss: 512.8456 - mae: 8.5233\n",
      "Epoch 98/100\n",
      "289/289 [==============================] - 1s 5ms/step - loss: 505.9303 - mae: 8.4993\n",
      "Epoch 99/100\n",
      "289/289 [==============================] - 1s 5ms/step - loss: 504.2363 - mae: 8.4281\n",
      "Epoch 100/100\n",
      "289/289 [==============================] - 1s 5ms/step - loss: 502.0598 - mae: 8.3971\n"
     ]
    },
    {
     "data": {
      "text/plain": [
       "<tensorflow.python.keras.callbacks.History at 0x198216e7408>"
      ]
     },
     "execution_count": 130,
     "metadata": {},
     "output_type": "execute_result"
    }
   ],
   "source": [
    "# attention : avec un modèle erronné, on arrivait à mae = 10, \n",
    "cnn_model_1.fit(s_X, y, batch_size=32, epochs=100, verbose=1)\n",
    "\n",
    "# resultats (100 epochs):\n",
    "# 1 couche conv, 24 time steps : 9.4\n",
    "# 2 couche conv, 48 t.s. : 10+\n",
    "# 1 couche conv, 24 ts, conv 256, fully conn 256 : 8.9\n",
    "\n",
    "# now best : 7.1 (100 epochs) (and 6.1 after 200 epochs)"
   ]
  },
  {
   "cell_type": "markdown",
   "metadata": {},
   "source": [
    "## Evaluate model\n",
    "\n",
    "### First : predict one point (=1h)"
   ]
  },
  {
   "cell_type": "code",
   "execution_count": 131,
   "metadata": {},
   "outputs": [
    {
     "name": "stdout",
     "output_type": "stream",
     "text": [
      "681655.7\n"
     ]
    },
    {
     "data": {
      "image/png": "[encoded data removed]",
      "text/plain": [
       "<Figure size 432x288 with 1 Axes>"
      ]
     },
     "metadata": {
      "needs_background": "light"
     },
     "output_type": "display_data"
    }
   ],
   "source": [
    "# plt.plot(y[0:24,0])\n",
    "\n",
    "def show_one_pred(model, s_X, y, i):\n",
    "    \"\"\" computes rmse & shows the predicted point \"\"\"\n",
    "    y_pred = model.predict(s_X[i].reshape(1, 24, nb_features))\n",
    "    print(y_pred[0][0])\n",
    "    abscissa = list(range(24))\n",
    "    plt.scatter(abscissa, y[i:i+24,0], label=\"x\")\n",
    "    plt.scatter([i+24], [y_pred[0][0]], label=\"predicted\")\n",
    "    plt.scatter([i+24], y[i+24,0], label=\"ground truth\")\n",
    "    plt.legend()\n",
    "    \n",
    "show_one_pred(cnn_model_1, X, y, 0)"
   ]
  },
  {
   "cell_type": "markdown",
   "metadata": {},
   "source": [
    "### Then : predict one week"
   ]
  },
  {
   "cell_type": "code",
   "execution_count": 126,
   "metadata": {},
   "outputs": [
    {
     "ename": "ValueError",
     "evalue": "Input contains infinity or a value too large for dtype('float64').",
     "output_type": "error",
     "traceback": [
      "\u001b[1;31m---------------------------------------------------------------------------\u001b[0m",
      "\u001b[1;31mValueError\u001b[0m                                Traceback (most recent call last)",
      "\u001b[1;32m<ipython-input-126-f97ec002f088>\u001b[0m in \u001b[0;36m<module>\u001b[1;34m\u001b[0m\n\u001b[0;32m     45\u001b[0m \u001b[1;33m\u001b[0m\u001b[0m\n\u001b[0;32m     46\u001b[0m \u001b[1;31m# test\u001b[0m\u001b[1;33m\u001b[0m\u001b[1;33m\u001b[0m\u001b[1;33m\u001b[0m\u001b[0m\n\u001b[1;32m---> 47\u001b[1;33m \u001b[0mpred_y\u001b[0m \u001b[1;33m=\u001b[0m \u001b[0mpredict_one_week\u001b[0m\u001b[1;33m(\u001b[0m\u001b[0mcnn_model_1\u001b[0m\u001b[1;33m,\u001b[0m \u001b[0mreordered_train_df\u001b[0m\u001b[1;33m)\u001b[0m\u001b[1;33m\u001b[0m\u001b[1;33m\u001b[0m\u001b[0m\n\u001b[0m\u001b[0;32m     48\u001b[0m \u001b[0mground_truth_y\u001b[0m \u001b[1;33m=\u001b[0m \u001b[0mreordered_train_df\u001b[0m\u001b[1;33m[\u001b[0m\u001b[1;34m'champs-elysees_Débit horaire'\u001b[0m\u001b[1;33m]\u001b[0m\u001b[1;33m[\u001b[0m\u001b[1;36m24\u001b[0m\u001b[1;33m:\u001b[0m\u001b[1;36m24\u001b[0m \u001b[1;33m+\u001b[0m \u001b[1;36m24\u001b[0m \u001b[1;33m*\u001b[0m \u001b[1;36m7\u001b[0m\u001b[1;33m]\u001b[0m\u001b[1;33m\u001b[0m\u001b[1;33m\u001b[0m\u001b[0m\n\u001b[0;32m     49\u001b[0m \u001b[1;31m# print(pred_y)\u001b[0m\u001b[1;33m\u001b[0m\u001b[1;33m\u001b[0m\u001b[1;33m\u001b[0m\u001b[0m\n",
      "\u001b[1;32m<ipython-input-126-f97ec002f088>\u001b[0m in \u001b[0;36mpredict_one_week\u001b[1;34m(model, df)\u001b[0m\n\u001b[0;32m     28\u001b[0m         \u001b[1;31m# scale the inputs\u001b[0m\u001b[1;33m\u001b[0m\u001b[1;33m\u001b[0m\u001b[1;33m\u001b[0m\u001b[0m\n\u001b[0;32m     29\u001b[0m         \u001b[1;32mfor\u001b[0m \u001b[0mk\u001b[0m \u001b[1;32min\u001b[0m \u001b[0mrange\u001b[0m\u001b[1;33m(\u001b[0m\u001b[0mnb_features\u001b[0m\u001b[1;33m)\u001b[0m\u001b[1;33m:\u001b[0m\u001b[1;33m\u001b[0m\u001b[1;33m\u001b[0m\u001b[0m\n\u001b[1;32m---> 30\u001b[1;33m             \u001b[0mnext_24_X\u001b[0m\u001b[1;33m[\u001b[0m\u001b[1;33m:\u001b[0m\u001b[1;33m,\u001b[0m \u001b[1;33m:\u001b[0m\u001b[1;33m,\u001b[0m \u001b[0mk\u001b[0m\u001b[1;33m]\u001b[0m \u001b[1;33m=\u001b[0m \u001b[0mscalers\u001b[0m\u001b[1;33m[\u001b[0m\u001b[0mk\u001b[0m\u001b[1;33m]\u001b[0m\u001b[1;33m.\u001b[0m\u001b[0mtransform\u001b[0m\u001b[1;33m(\u001b[0m\u001b[0mnext_24_X\u001b[0m\u001b[1;33m[\u001b[0m\u001b[1;33m:\u001b[0m\u001b[1;33m,\u001b[0m \u001b[1;33m:\u001b[0m\u001b[1;33m,\u001b[0m \u001b[0mk\u001b[0m\u001b[1;33m]\u001b[0m\u001b[1;33m)\u001b[0m\u001b[1;33m\u001b[0m\u001b[1;33m\u001b[0m\u001b[0m\n\u001b[0m\u001b[0;32m     31\u001b[0m         \u001b[1;31m# predict the 24+i th value\u001b[0m\u001b[1;33m\u001b[0m\u001b[1;33m\u001b[0m\u001b[1;33m\u001b[0m\u001b[0m\n\u001b[0;32m     32\u001b[0m         \u001b[0mf_y_pred\u001b[0m \u001b[1;33m=\u001b[0m \u001b[0mmodel\u001b[0m\u001b[1;33m.\u001b[0m\u001b[0mpredict\u001b[0m\u001b[1;33m(\u001b[0m\u001b[0mnext_24_X\u001b[0m\u001b[1;33m)\u001b[0m\u001b[1;33m\u001b[0m\u001b[1;33m\u001b[0m\u001b[0m\n",
      "\u001b[1;32m~\\AppData\\Roaming\\Python\\Python37\\site-packages\\sklearn\\preprocessing\\data.py\u001b[0m in \u001b[0;36mtransform\u001b[1;34m(self, X)\u001b[0m\n\u001b[0;32m    385\u001b[0m \u001b[1;33m\u001b[0m\u001b[0m\n\u001b[0;32m    386\u001b[0m         X = check_array(X, copy=self.copy, dtype=FLOAT_DTYPES,\n\u001b[1;32m--> 387\u001b[1;33m                         force_all_finite=\"allow-nan\")\n\u001b[0m\u001b[0;32m    388\u001b[0m \u001b[1;33m\u001b[0m\u001b[0m\n\u001b[0;32m    389\u001b[0m         \u001b[0mX\u001b[0m \u001b[1;33m*=\u001b[0m \u001b[0mself\u001b[0m\u001b[1;33m.\u001b[0m\u001b[0mscale_\u001b[0m\u001b[1;33m\u001b[0m\u001b[1;33m\u001b[0m\u001b[0m\n",
      "\u001b[1;32m~\\AppData\\Roaming\\Python\\Python37\\site-packages\\sklearn\\utils\\validation.py\u001b[0m in \u001b[0;36mcheck_array\u001b[1;34m(array, accept_sparse, accept_large_sparse, dtype, order, copy, force_all_finite, ensure_2d, allow_nd, ensure_min_samples, ensure_min_features, warn_on_dtype, estimator)\u001b[0m\n\u001b[0;32m    540\u001b[0m         \u001b[1;32mif\u001b[0m \u001b[0mforce_all_finite\u001b[0m\u001b[1;33m:\u001b[0m\u001b[1;33m\u001b[0m\u001b[1;33m\u001b[0m\u001b[0m\n\u001b[0;32m    541\u001b[0m             _assert_all_finite(array,\n\u001b[1;32m--> 542\u001b[1;33m                                allow_nan=force_all_finite == 'allow-nan')\n\u001b[0m\u001b[0;32m    543\u001b[0m \u001b[1;33m\u001b[0m\u001b[0m\n\u001b[0;32m    544\u001b[0m     \u001b[1;32mif\u001b[0m \u001b[0mensure_min_samples\u001b[0m \u001b[1;33m>\u001b[0m \u001b[1;36m0\u001b[0m\u001b[1;33m:\u001b[0m\u001b[1;33m\u001b[0m\u001b[1;33m\u001b[0m\u001b[0m\n",
      "\u001b[1;32m~\\AppData\\Roaming\\Python\\Python37\\site-packages\\sklearn\\utils\\validation.py\u001b[0m in \u001b[0;36m_assert_all_finite\u001b[1;34m(X, allow_nan)\u001b[0m\n\u001b[0;32m     54\u001b[0m                 not allow_nan and not np.isfinite(X).all()):\n\u001b[0;32m     55\u001b[0m             \u001b[0mtype_err\u001b[0m \u001b[1;33m=\u001b[0m \u001b[1;34m'infinity'\u001b[0m \u001b[1;32mif\u001b[0m \u001b[0mallow_nan\u001b[0m \u001b[1;32melse\u001b[0m \u001b[1;34m'NaN, infinity'\u001b[0m\u001b[1;33m\u001b[0m\u001b[1;33m\u001b[0m\u001b[0m\n\u001b[1;32m---> 56\u001b[1;33m             \u001b[1;32mraise\u001b[0m \u001b[0mValueError\u001b[0m\u001b[1;33m(\u001b[0m\u001b[0mmsg_err\u001b[0m\u001b[1;33m.\u001b[0m\u001b[0mformat\u001b[0m\u001b[1;33m(\u001b[0m\u001b[0mtype_err\u001b[0m\u001b[1;33m,\u001b[0m \u001b[0mX\u001b[0m\u001b[1;33m.\u001b[0m\u001b[0mdtype\u001b[0m\u001b[1;33m)\u001b[0m\u001b[1;33m)\u001b[0m\u001b[1;33m\u001b[0m\u001b[1;33m\u001b[0m\u001b[0m\n\u001b[0m\u001b[0;32m     57\u001b[0m     \u001b[1;31m# for object dtype data, we only check for NaNs (GH-13254)\u001b[0m\u001b[1;33m\u001b[0m\u001b[1;33m\u001b[0m\u001b[1;33m\u001b[0m\u001b[0m\n\u001b[0;32m     58\u001b[0m     \u001b[1;32melif\u001b[0m \u001b[0mX\u001b[0m\u001b[1;33m.\u001b[0m\u001b[0mdtype\u001b[0m \u001b[1;33m==\u001b[0m \u001b[0mnp\u001b[0m\u001b[1;33m.\u001b[0m\u001b[0mdtype\u001b[0m\u001b[1;33m(\u001b[0m\u001b[1;34m'object'\u001b[0m\u001b[1;33m)\u001b[0m \u001b[1;32mand\u001b[0m \u001b[1;32mnot\u001b[0m \u001b[0mallow_nan\u001b[0m\u001b[1;33m:\u001b[0m\u001b[1;33m\u001b[0m\u001b[1;33m\u001b[0m\u001b[0m\n",
      "\u001b[1;31mValueError\u001b[0m: Input contains infinity or a value too large for dtype('float64')."
     ]
    }
   ],
   "source": [
    "def predict_one_week(model, df):\n",
    "    \"\"\" predicts y for 24*7 = 168 hours \n",
    "        first, we will only return the predicted y for <champs-elysees_Débit horaire>\n",
    "        \n",
    "        steps : \n",
    "            - get the 24 first values of each feature, put it in a np array\n",
    "            - predict the 25th for features_to_predict\n",
    "            - store <champs-elysees_Débit horaire> in a list\n",
    "            - create one complete line with predicted and not predicted\n",
    "            - add this line to the examples\n",
    "            - take the 24 last values \n",
    "    \"\"\"\n",
    "    nb_predict = 24 * 7 # change to parameters\n",
    "    pred_feat_index = features_to_predict.index('champs-elysees_Débit horaire') # index_of_feature_to_predict\n",
    "    \n",
    "    # array qui contiendra les prédictions des y\n",
    "    predicted_y = np.empty(nb_predict)\n",
    "    # array qui contiendra les X\n",
    "    X_24 = np.empty((24 + nb_predict, nb_features))\n",
    "    # on le remplit avec les premieres valeurs\n",
    "    first_24_X = df.loc[0:23].to_numpy().reshape(24, nb_features)\n",
    "    X_24[0:24, :] = first_24_X\n",
    "    \n",
    "    for i in range(nb_predict):\n",
    "        \n",
    "        # get the inputs\n",
    "        next_24_X = X_24[i:24 + i, :].reshape(1, 24, nb_features)\n",
    "        # scale the inputs\n",
    "        for k in range(nb_features):\n",
    "            next_24_X[:, :, k] = scalers[k].transform(next_24_X[:, :, k])\n",
    "        # predict the 24+i th value\n",
    "        f_y_pred = model.predict(next_24_X)\n",
    "        # store <champs-elysees_Débit horaire> in a list\n",
    "        predicted_y[i] = f_y_pred[0][pred_feat_index]\n",
    "        # create one complete line with predicted and not predicted\n",
    "        # take 25th line\n",
    "        next_line = df.loc[24 + i].to_numpy() #.reshape(24, nb_features)\n",
    "        # replace predicted values \n",
    "        next_line[0:nb_to_predict] = f_y_pred\n",
    "        # add to the X_24 array\n",
    "        X_24[24 + i,:] = next_line\n",
    "    \n",
    "    return predicted_y\n",
    "\n",
    "\n",
    "# test \n",
    "pred_y = predict_one_week(cnn_model_1, reordered_train_df)\n",
    "ground_truth_y = reordered_train_df['champs-elysees_Débit horaire'][24:24 + 24 * 7]\n",
    "# print(pred_y)"
   ]
  },
  {
   "cell_type": "code",
   "execution_count": null,
   "metadata": {},
   "outputs": [],
   "source": [
    "def display_comparison(true_y, pred_y, nb_steps):\n",
    "    abscissa = list(range(nb_steps))\n",
    "    plt.plot(abscissa, pred_y[:nb_steps], label=\"predicted\")\n",
    "    plt.plot(abscissa, ground_truth_y[:nb_steps], label=\"ground truth\")\n",
    "    plt.legend()\n",
    "display_comparison(ground_truth_y, pred_y, 30)"
   ]
  },
  {
   "cell_type": "code",
   "execution_count": null,
   "metadata": {},
   "outputs": [],
   "source": []
  }
 ],
 "metadata": {
  "kernelspec": {
   "display_name": "Python 3",
   "language": "python",
   "name": "python3"
  },
  "language_info": {
   "codemirror_mode": {
    "name": "ipython",
    "version": 3
   },
   "file_extension": ".py",
   "mimetype": "text/x-python",
   "name": "python",
   "nbconvert_exporter": "python",
   "pygments_lexer": "ipython3",
   "version": "3.7.5"
  }
 },
 "nbformat": 4,
 "nbformat_minor": 4
}

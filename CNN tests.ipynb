{
 "cells": [
  {
   "cell_type": "markdown",
   "metadata": {},
   "source": [
    "### Questions \n",
    "- nb de données != multiple de 24 ?\n",
    "- date / date & heure de comptage pas redondant ? \n",
    "\n",
    "### TODO :\n",
    "- List variables that need \n",
    "- one hot encode arc\n",
    "- encode dates : ideas :\n",
    "    - Time since 1970 (continuous) ? **not sure**\n",
    "    - Day of year in [1, 365] (categorical)\n",
    "    - Month of year in [1, 12] (categorical)\n",
    "    - Day of week in [1, 7] (categorical)\n",
    "    - Is weekend (binary indicator)\n",
    "    - Is holiday (binary indicator)\n",
    "    - etc."
   ]
  },
  {
   "cell_type": "markdown",
   "metadata": {},
   "source": [
    "## imports"
   ]
  },
  {
   "cell_type": "code",
   "execution_count": 1,
   "metadata": {},
   "outputs": [],
   "source": [
    "from utils import load_df\n",
    "import pandas as pd\n",
    "from tensorflow.keras import datasets, layers, models, losses"
   ]
  },
  {
   "cell_type": "markdown",
   "metadata": {},
   "source": [
    "## Load Data"
   ]
  },
  {
   "cell_type": "code",
   "execution_count": 46,
   "metadata": {
    "scrolled": true
   },
   "outputs": [
    {
     "name": "stdout",
     "output_type": "stream",
     "text": [
      "(18521, 47)\n"
     ]
    }
   ],
   "source": [
    "train_df = load_df(\"data\\\\df_train.pkl\")\n",
    "print(train_df.shape) \n",
    "\n",
    "def generate_table():\n",
    "    type_corresp = {\"uint8\":\"entier\", \"int64\":\"entier\", \"bool\": \"booléen\", \"float64\": \"flottant\", \"datetime64[ns]\": \"datetime\", \"object\": \"chaîne de caractère\", \"timedelta64[ns]\": \"timedelta\"}\n",
    "\n",
    "    for x, y in zip(train_df.columns, train_df.dtypes):\n",
    "        try:\n",
    "            print(\"|\", x, \"|\", type_corresp[str(y)], \"|\",\"oui\", \"|\")\n",
    "        except:\n",
    "            print(x, y)\n",
    "# generate_table()\n",
    "# print(train_df[\"cloudcover\"])"
   ]
  },
  {
   "cell_type": "markdown",
   "metadata": {},
   "source": [
    "### Variables info\n",
    "\n",
    "| Nom       | Type | à prédire |\n",
    "| :-: | :-: | :-: |\n",
    "| Libelle | chaîne de caractère | non |\n",
    "| Date et heure de comptage | datetime | non |\n",
    "| Débit horaire | flottant | **oui** |\n",
    "| Taux d'occupation | flottant | **oui** |\n",
    "| Etat trafic | entier | **oui** |\n",
    "| Etat arc | chaîne de caractère | **oui** |\n",
    "| filename | chaîne de caractère | **oui** |\n",
    "| Date | chaîne de caractère | non |\n",
    "| Jour de la semaine_0 | entier | non |\n",
    "| Jour de la semaine_1 | entier | non |\n",
    "| Jour de la semaine_2 | entier | non |\n",
    "| Jour de la semaine_3 | entier | non |\n",
    "| Jour de la semaine_4 | entier | non |\n",
    "| Jour de la semaine_5 | entier | non |\n",
    "| Jour de la semaine_6 | entier | non |\n",
    "| Etat du confinement | entier | non |\n",
    "| Couvre-feu | booléen | non |\n",
    "| Jour férié | booléen | non |\n",
    "| Vacances scolaires | booléen | non |\n",
    "| Date des prochaines vacances scolaires | datetime | non |\n",
    "| Temps avant les prochaines vacances scolaires | timedelta | non |\n",
    "| tempC | entier | **oui** |\n",
    "| windspeedKmph | entier | **oui** |\n",
    "| winddirDegree | entier | **oui** |\n",
    "| weatherCode | entier | **oui** |\n",
    "| precipMM | flottant | **oui** |\n",
    "| humidity | entier | **oui** |\n",
    "| visibility | entier | **oui** |\n",
    "| pressure | entier | **oui** |\n",
    "| cloudcover | entier | **oui** |\n",
    "| HeatIndexC | entier | **oui** |\n",
    "| DewPointC | entier | **oui** |\n",
    "| WindChillC | entier | **oui** |\n",
    "| WindGustKmph | entier | **oui** |\n",
    "| FeelsLikeC | entier | **oui** |\n",
    "| uvIndex | entier | **oui** |\n",
    "| maxtempC | entier | **oui** |\n",
    "| mintempC | entier | **oui** |\n",
    "| avgtempC | entier | **oui** |\n",
    "| totalSnow_cm | flottant | **oui** |\n",
    "| sunHour | flottant | **oui** |\n",
    "| uvIndex | entier | **oui** |\n",
    "| sunrise | datetime | **oui** |\n",
    "| sunset | datetime | **oui** |\n",
    "| moon_phase | chaîne de caractère | **oui** |\n",
    "| moon_illumination | entier | **oui** |\n",
    "| Journée | booléen | non |"
   ]
  },
  {
   "cell_type": "markdown",
   "metadata": {},
   "source": [
    "## Prepare data\n",
    "\n",
    "#### Input data :\n",
    "les points de données des instants `t-n` à `t`\n",
    "- débit horaire [int]\n",
    "- Taux d'occupation [float]\n",
    "- météo : température, couverture nuageuse, ...\n",
    "\n",
    "#### Output data :\n",
    "for each arc (x3) instant `t+1`:\n",
    "- débit horaire [int]\n",
    "- Taux d'occupation [float]\n",
    "\n",
    "<br/>\n",
    "And all data that needs to be predicted "
   ]
  },
  {
   "cell_type": "code",
   "execution_count": 47,
   "metadata": {},
   "outputs": [],
   "source": [
    "# fontion qui renvoie vecteurs X et y\n",
    "def get_X_y(df, steps=24):\n",
    "    \"\"\" returns the X and y vectors from dataframe \n",
    "        steps : nb of datapoints in each Xi\n",
    "    \"\"\" \n",
    "    X = 0\n",
    "    \n",
    "    \n",
    "    \n",
    "\n",
    "# fonction qui affiche à partir de Xi et yi (ou y_predi) les débits horaires et taux d'occupation"
   ]
  },
  {
   "cell_type": "markdown",
   "metadata": {},
   "source": [
    "## First model"
   ]
  },
  {
   "cell_type": "code",
   "execution_count": null,
   "metadata": {},
   "outputs": [],
   "source": [
    "def model_1(input_shape, output_size=6, show_summary=False):\n",
    "    model = models.Sequential()\n",
    "\n",
    "    model.add(layers.Conv2D(128, kernel_size=(3, 3),\n",
    "                        input_shape=input_shape, activation=\"relu\"))\n",
    "    model.add(layers.MaxPooling2D(3))\n",
    "    model.add(layers.Dropout(0.2))\n",
    "\n",
    "    model.add(layers.Conv2D(64, kernel_size=(3, 3), activation=\"relu\"))\n",
    "    model.add(layers.MaxPooling2D(3))\n",
    "    model.add(layers.Dropout(0.2))\n",
    "\n",
    "    model.add(layers.Flatten())\n",
    "    model.add(layers.Dense(128, activation=\"relu\"))\n",
    "    model.add(layers.Dense(64, activation=\"relu\"))\n",
    "    model.add(layers.Dense(output_size, activation=\"linear\"))\n",
    "    \n",
    "    if show_summary:\n",
    "        model.summary()\n",
    "        \n",
    "    model.compile(loss='mse', optimizer='adam', metrics=['mae'])\n",
    "    \n",
    "    return model"
   ]
  }
 ],
 "metadata": {
  "kernelspec": {
   "display_name": "Python 3",
   "language": "python",
   "name": "python3"
  },
  "language_info": {
   "codemirror_mode": {
    "name": "ipython",
    "version": 3
   },
   "file_extension": ".py",
   "mimetype": "text/x-python",
   "name": "python",
   "nbconvert_exporter": "python",
   "pygments_lexer": "ipython3",
   "version": "3.7.5"
  }
 },
 "nbformat": 4,
 "nbformat_minor": 4
}

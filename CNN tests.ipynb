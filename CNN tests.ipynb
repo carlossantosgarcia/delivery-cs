{
 "cells": [
  {
   "cell_type": "markdown",
   "metadata": {},
   "source": [
    "## imports"
   ]
  },
  {
   "cell_type": "code",
   "execution_count": 12,
   "metadata": {},
   "outputs": [],
   "source": [
    "from utils import load_df\n",
    "import pandas as pd\n",
    "from tensorflow.keras import datasets, layers, models, losses"
   ]
  },
  {
   "cell_type": "markdown",
   "metadata": {},
   "source": [
    "## Load Data"
   ]
  },
  {
   "cell_type": "code",
   "execution_count": 10,
   "metadata": {
    "scrolled": true
   },
   "outputs": [
    {
     "name": "stdout",
     "output_type": "stream",
     "text": [
      "(104520, 26)\n"
     ]
    }
   ],
   "source": [
    "df = load_df(\"combined_weather_data_from_2009_to_present.pkl\")\n",
    "print(df.shape)"
   ]
  },
  {
   "cell_type": "markdown",
   "metadata": {},
   "source": [
    "## Prepare data\n",
    "\n",
    "#### Input data :\n",
    "les points de données des instants `t-n` à `t`\n",
    "- débit horaire [int]\n",
    "- Taux d'occupation [float]\n",
    "- météo : température, couverture nuageuse, ...\n",
    "\n",
    "#### Output data :\n",
    "for each arc (x3) instant `t+1`:\n",
    "- débit horaire [int]\n",
    "- Taux d'occupation [float]"
   ]
  },
  {
   "cell_type": "code",
   "execution_count": null,
   "metadata": {},
   "outputs": [],
   "source": []
  },
  {
   "cell_type": "markdown",
   "metadata": {},
   "source": [
    "## First model"
   ]
  },
  {
   "cell_type": "code",
   "execution_count": null,
   "metadata": {},
   "outputs": [],
   "source": [
    "def model_1(input_shape, output_size=6, show_summary=False):\n",
    "    model = models.Sequential()\n",
    "\n",
    "    model.add(layers.Conv2D(128, kernel_size=(3, 3),\n",
    "                        input_shape=input_shape, activation=\"relu\"))\n",
    "    model.add(layers.MaxPooling2D(3))\n",
    "    model.add(layers.Dropout(0.2))\n",
    "\n",
    "    model.add(layers.Conv2D(64, kernel_size=(3, 3), activation=\"relu\"))\n",
    "    model.add(layers.MaxPooling2D(3))\n",
    "    model.add(layers.Dropout(0.2))\n",
    "\n",
    "    model.add(layers.Flatten())\n",
    "    model.add(layers.Dense(128, activation=\"relu\"))\n",
    "    model.add(layers.Dense(64, activation=\"relu\"))\n",
    "    model.add(layers.Dense(output_size, activation=\"linear\"))\n",
    "    \n",
    "    if show_summary:\n",
    "        model.summary()\n",
    "        \n",
    "    model.compile(loss='mse', optimizer='adam', metrics=['mae'])\n",
    "    \n",
    "    return model"
   ]
  }
 ],
 "metadata": {
  "kernelspec": {
   "display_name": "Python 3",
   "language": "python",
   "name": "python3"
  },
  "language_info": {
   "codemirror_mode": {
    "name": "ipython",
    "version": 3
   },
   "file_extension": ".py",
   "mimetype": "text/x-python",
   "name": "python",
   "nbconvert_exporter": "python",
   "pygments_lexer": "ipython3",
   "version": "3.7.5"
  }
 },
 "nbformat": 4,
 "nbformat_minor": 4
}

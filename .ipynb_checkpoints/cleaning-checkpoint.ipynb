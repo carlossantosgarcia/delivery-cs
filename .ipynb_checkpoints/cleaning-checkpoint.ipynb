{
 "cells": [
  {
   "cell_type": "markdown",
   "metadata": {},
   "source": [
    "<center> <font size='6' font-weight='bold'> Nettoyage des données </font> </center>"
   ]
  },
  {
   "cell_type": "markdown",
   "metadata": {},
   "source": [
    "**Description :** Notebook servant au nettoyage des données."
   ]
  },
  {
   "cell_type": "markdown",
   "metadata": {
    "toc": true
   },
   "source": [
    "<h1>Table of Contents<span class=\"tocSkip\"></span></h1>\n",
    "<div class=\"toc\"><ul class=\"toc-item\"><li><span><a href=\"#Import-des-données\" data-toc-modified-id=\"Import-des-données-1\"><span class=\"toc-item-num\">1&nbsp;&nbsp;</span>Import des données</a></span><ul class=\"toc-item\"><li><span><a href=\"#Informations-générales\" data-toc-modified-id=\"Informations-générales-1.1\"><span class=\"toc-item-num\">1.1&nbsp;&nbsp;</span>Informations générales</a></span></li><li><span><a href=\"#Lecture-des-CSV\" data-toc-modified-id=\"Lecture-des-CSV-1.2\"><span class=\"toc-item-num\">1.2&nbsp;&nbsp;</span>Lecture des CSV</a></span></li><li><span><a href=\"#Filtrage-par-noeud\" data-toc-modified-id=\"Filtrage-par-noeud-1.3\"><span class=\"toc-item-num\">1.3&nbsp;&nbsp;</span>Filtrage par noeud</a></span></li></ul></li><li><span><a href=\"#Nettoyage-des-données\" data-toc-modified-id=\"Nettoyage-des-données-2\"><span class=\"toc-item-num\">2&nbsp;&nbsp;</span>Nettoyage des données</a></span><ul class=\"toc-item\"><li><span><a href=\"#NaN\" data-toc-modified-id=\"NaN-2.1\"><span class=\"toc-item-num\">2.1&nbsp;&nbsp;</span>NaN</a></span></li><li><span><a href=\"#Conversion-en-datetime64\" data-toc-modified-id=\"Conversion-en-datetime64-2.2\"><span class=\"toc-item-num\">2.2&nbsp;&nbsp;</span>Conversion en datetime64</a></span></li></ul></li><li><span><a href=\"#Analyse-et-visualisation-(partie-1)\" data-toc-modified-id=\"Analyse-et-visualisation-(partie-1)-3\"><span class=\"toc-item-num\">3&nbsp;&nbsp;</span>Analyse et visualisation (partie 1)</a></span></li><li><span><a href=\"#Feature-engineering\" data-toc-modified-id=\"Feature-engineering-4\"><span class=\"toc-item-num\">4&nbsp;&nbsp;</span>Feature engineering</a></span><ul class=\"toc-item\"><li><span><a href=\"#Categorical-variables\" data-toc-modified-id=\"Categorical-variables-4.1\"><span class=\"toc-item-num\">4.1&nbsp;&nbsp;</span>Categorical variables</a></span><ul class=\"toc-item\"><li><span><a href=\"#Méthode-1-:-Avec-du-one-hot-encoding\" data-toc-modified-id=\"Méthode-1-:-Avec-du-one-hot-encoding-4.1.1\"><span class=\"toc-item-num\">4.1.1&nbsp;&nbsp;</span>Méthode 1 : Avec du one-hot encoding</a></span></li><li><span><a href=\"#Méthode-2-:-Avec-du-ordinal-encoding\" data-toc-modified-id=\"Méthode-2-:-Avec-du-ordinal-encoding-4.1.2\"><span class=\"toc-item-num\">4.1.2&nbsp;&nbsp;</span>Méthode 2 : Avec du ordinal encoding</a></span></li></ul></li><li><span><a href=\"#Prise-en-compte-des-périodes-de-vacances\" data-toc-modified-id=\"Prise-en-compte-des-périodes-de-vacances-4.2\"><span class=\"toc-item-num\">4.2&nbsp;&nbsp;</span>Prise en compte des périodes de vacances</a></span></li><li><span><a href=\"#Plus-de-features-liées-aux-timestamp\" data-toc-modified-id=\"Plus-de-features-liées-aux-timestamp-4.3\"><span class=\"toc-item-num\">4.3&nbsp;&nbsp;</span>Plus de features liées aux timestamp</a></span></li><li><span><a href=\"#Prise-en-compte-du-confinement\" data-toc-modified-id=\"Prise-en-compte-du-confinement-4.4\"><span class=\"toc-item-num\">4.4&nbsp;&nbsp;</span>Prise en compte du confinement</a></span></li><li><span><a href=\"#Analyse-et-visualisation-(partie-2)\" data-toc-modified-id=\"Analyse-et-visualisation-(partie-2)-4.5\"><span class=\"toc-item-num\">4.5&nbsp;&nbsp;</span>Analyse et visualisation (partie 2)</a></span></li></ul></li><li><span><a href=\"#Export-train-/-dev-/-test\" data-toc-modified-id=\"Export-train-/-dev-/-test-5\"><span class=\"toc-item-num\">5&nbsp;&nbsp;</span>Export train / dev / test</a></span></li></ul></div>"
   ]
  },
  {
   "cell_type": "code",
   "execution_count": 1,
   "metadata": {},
   "outputs": [],
   "source": [
    "import os\n",
    "import datetime\n",
    "\n",
    "from functools import reduce\n",
    "\n",
    "import numpy as np\n",
    "import pandas as pd\n",
    "\n",
    "import seaborn as sns"
   ]
  },
  {
   "cell_type": "markdown",
   "metadata": {},
   "source": [
    "Les données sont enregistrées dans 3 fichiers CSV différents. Elles portent le nom suivant :"
   ]
  },
  {
   "cell_type": "code",
   "execution_count": 2,
   "metadata": {},
   "outputs": [],
   "source": [
    "data_path = './data'"
   ]
  },
  {
   "cell_type": "code",
   "execution_count": 3,
   "metadata": {
    "scrolled": true
   },
   "outputs": [
    {
     "data": {
      "text/plain": [
       "['convention.csv',\n",
       " '.DS_Store',\n",
       " 'champs-elysees.csv',\n",
       " 'previsions-meteo-france-metropole.csv',\n",
       " 'Sts.csv']"
      ]
     },
     "execution_count": 3,
     "metadata": {},
     "output_type": "execute_result"
    }
   ],
   "source": [
    "os.listdir(path=data_path)"
   ]
  },
  {
   "cell_type": "code",
   "execution_count": 4,
   "metadata": {},
   "outputs": [],
   "source": [
    "list_filenames = ['champs-elysees.csv', 'convention.csv', 'Sts.csv']"
   ]
  },
  {
   "cell_type": "markdown",
   "metadata": {},
   "source": [
    "# Import des données"
   ]
  },
  {
   "cell_type": "markdown",
   "metadata": {},
   "source": [
    "## Informations générales"
   ]
  },
  {
   "cell_type": "markdown",
   "metadata": {},
   "source": [
    "**Les données  ont été téléchargées depuis :**  \n",
    "- https://opendata.paris.fr/explore/dataset/comptages-routiers-permanents/information/?disjunctive.libelle&disjunctive.etat_trafic&disjunctive.libelle_nd_amont&disjunctive.libelle_nd_aval&sort=t_1h  \n",
    "  \n",
    "**Lien de la notice d'obtention des features :**  \n",
    "- https://opendata.paris.fr/api/datasets/1.0/comptages-routiers-permanents/attachments/notice_donnes_trafic_capteurs_permanents_version_20190607_pdf/  \n",
    "  \n",
    "**Quelques infos issues du site sur le dataset:**  \n",
    ">**Données de trafic routier issues des capteurs permanents sur 13 mois glissants en J-1**  \n",
    "Sur le réseau parisien, la mesure du trafic s’effectue majoritairement par le biais de boucles électromagnétiques implantés dans la chaussée.  \n",
    "La donnée est produite par la Direction de la Voirie et des déplacements - Service des Déplacements - Poste Central d'Exploitation Lutèce.  \n",
    "La donnée et les visualisations associées (Tableau, Carte et Dataviz) sont brutes sans aucune interprétation ou analyse. Elles donnent à voir la donnée telle qu'elle est publiée quotidiennement. \n",
    "Elles donnent un aperçu du taux d'occupation et du débit sur plus de 3000 tronçons de voies. A elles seules, elles ne permettent pas de caractériser la complexité de la circulation à Paris.  \n",
    ">  \n",
    "**Deux types de données sont ainsi élaborés :**\n",
    "le taux d’occupation, qui correspond au temps de présence de véhicules sur la boucle en pourcentage d’un intervalle de temps fixe (une heure pour les données fournies). Ainsi, 25% de taux d’occupation sur une heure signifie que des véhicules ont été présents sur la boucle pendant 15 minutes. Le taux fournit une information sur la congestion routière. L’implantation des boucles est pensée de manière à pouvoir déduire, d’une mesure ponctuelle, l’état du trafic sur un arc.\n",
    "le débit est le nombre de véhicules ayant passé le point de comptage pendant un intervalle de temps fixe (une heure pour les données fournies).  \n",
    "L'horodate horaire est effectué en fin de période d'élaboration. \n",
    "Par exemple, l’horodate « 2019-01-01 01:00:00 » désigne la période du 1er janvier 2019 à 00h00 au 1er janvier 2019 à 01h00.  \n",
    "Ainsi, l’observation couplée en un point du taux d’occupation et du débit permet de caractériser le trafic. Cela constitue l’un des fondements de l’ingénierie du trafic, et l’on nomme d’ailleurs cela le « diagramme fondamental ».\n",
    "Un débit peut correspondre à deux situations de trafic : fluide ou saturée, d’où la nécessité du taux d’occupation. A titre d’exemple : sur une heure, un débit de 100 véhicules par heure sur un axe habituellement très chargé peut se rencontrer de nuit (trafic fluide) ou bien en heure de pointe (trafic saturé).  \n",
    ">  \n",
    "**L’équipement du réseau parisien :**  \n",
    "Les principaux axes de la Ville de Paris sont équipés de stations de comptage des véhicules et de mesure du taux d’occupation, à des fins à la fois de régulation du trafic et des transports en commun, d’information aux usagers (diffusion sur le site Sytadin), et d’étude.\n",
    "Il existe deux types de stations sur le réseau : les stations de mesure du taux d’occupation seul, et des stations à la fois de mesure du taux et de comptage des véhicules.\n",
    "Les stations de mesure du taux sont implantées très régulièrement : elles permettent une connaissance fine des conditions de circulation.\n",
    "Les stations de débit sont moins nombreuses, et généralement implantées entre les principales intersections. En effet, le débit se conserve généralement sur une section entre deux grands carrefours."
   ]
  },
  {
   "cell_type": "markdown",
   "metadata": {},
   "source": [
    "## Lecture des CSV"
   ]
  },
  {
   "cell_type": "markdown",
   "metadata": {},
   "source": [
    "On regroupera directement toutes les lignes des 3 CSV dans un même DataFrame. Une colonne filename y a été ajoutée pour facilement avoir l'origine de la ligne à portée de main."
   ]
  },
  {
   "cell_type": "code",
   "execution_count": 5,
   "metadata": {},
   "outputs": [
    {
     "data": {
      "text/html": [
       "<div>\n",
       "<style scoped>\n",
       "    .dataframe tbody tr th:only-of-type {\n",
       "        vertical-align: middle;\n",
       "    }\n",
       "\n",
       "    .dataframe tbody tr th {\n",
       "        vertical-align: top;\n",
       "    }\n",
       "\n",
       "    .dataframe thead th {\n",
       "        text-align: right;\n",
       "    }\n",
       "</style>\n",
       "<table border=\"1\" class=\"dataframe\">\n",
       "  <thead>\n",
       "    <tr style=\"text-align: right;\">\n",
       "      <th></th>\n",
       "      <th>Libelle</th>\n",
       "      <th>Date et heure de comptage</th>\n",
       "      <th>Débit horaire</th>\n",
       "      <th>Taux d'occupation</th>\n",
       "      <th>Etat trafic</th>\n",
       "      <th>Identifiant noeud amont</th>\n",
       "      <th>Libelle noeud amont</th>\n",
       "      <th>Identifiant noeud aval</th>\n",
       "      <th>Libelle noeud aval</th>\n",
       "      <th>Etat arc</th>\n",
       "      <th>Date debut dispo data</th>\n",
       "      <th>Date fin dispo data</th>\n",
       "      <th>geo_point_2d</th>\n",
       "      <th>geo_shape</th>\n",
       "      <th>filename</th>\n",
       "    </tr>\n",
       "  </thead>\n",
       "  <tbody>\n",
       "    <tr>\n",
       "      <th>18826</th>\n",
       "      <td>Sts_Peres</td>\n",
       "      <td>2020-03-06T02:00:00+01:00</td>\n",
       "      <td>353.0</td>\n",
       "      <td>2.90556</td>\n",
       "      <td>Fluide</td>\n",
       "      <td>119</td>\n",
       "      <td>Sts_Peres-Universite</td>\n",
       "      <td>120</td>\n",
       "      <td>Bd_St_Germain-Sts_Peres</td>\n",
       "      <td>Invalide</td>\n",
       "      <td>2005-01-01</td>\n",
       "      <td>2019-06-01</td>\n",
       "      <td>48.8553754186,2.33103664165</td>\n",
       "      <td>{\"type\": \"LineString\", \"coordinates\": [[2.3316...</td>\n",
       "      <td>convention.csv</td>\n",
       "    </tr>\n",
       "    <tr>\n",
       "      <th>77794</th>\n",
       "      <td>Convention</td>\n",
       "      <td>2020-10-02T22:00:00+02:00</td>\n",
       "      <td>NaN</td>\n",
       "      <td>4.22611</td>\n",
       "      <td>Fluide</td>\n",
       "      <td>2937</td>\n",
       "      <td>Lecourbe-Convention</td>\n",
       "      <td>2969</td>\n",
       "      <td>Convention-Croix_Nivert</td>\n",
       "      <td>Invalide</td>\n",
       "      <td>2005-01-01</td>\n",
       "      <td>2019-06-01</td>\n",
       "      <td>48.8396566551,2.29116411501</td>\n",
       "      <td>{\"type\": \"LineString\", \"coordinates\": [[2.2919...</td>\n",
       "      <td>Sts.csv</td>\n",
       "    </tr>\n",
       "    <tr>\n",
       "      <th>180117</th>\n",
       "      <td>Convention</td>\n",
       "      <td>2020-08-13T17:00:00+02:00</td>\n",
       "      <td>185.0</td>\n",
       "      <td>3.77944</td>\n",
       "      <td>Fluide</td>\n",
       "      <td>2973</td>\n",
       "      <td>Convention-Blomet</td>\n",
       "      <td>2937</td>\n",
       "      <td>Lecourbe-Convention</td>\n",
       "      <td>Invalide</td>\n",
       "      <td>2005-01-01</td>\n",
       "      <td>2019-06-01</td>\n",
       "      <td>48.8386647698,2.29328592426</td>\n",
       "      <td>{\"type\": \"LineString\", \"coordinates\": [[2.2945...</td>\n",
       "      <td>Sts.csv</td>\n",
       "    </tr>\n",
       "    <tr>\n",
       "      <th>139084</th>\n",
       "      <td>Convention</td>\n",
       "      <td>2020-01-17T08:00:00+01:00</td>\n",
       "      <td>843.0</td>\n",
       "      <td>8.36056</td>\n",
       "      <td>Fluide</td>\n",
       "      <td>2969</td>\n",
       "      <td>Convention-Croix_Nivert</td>\n",
       "      <td>2937</td>\n",
       "      <td>Lecourbe-Convention</td>\n",
       "      <td>Invalide</td>\n",
       "      <td>2005-01-01</td>\n",
       "      <td>2019-06-01</td>\n",
       "      <td>48.8396188347,2.29108559823</td>\n",
       "      <td>{\"type\": \"LineString\", \"coordinates\": [[2.2902...</td>\n",
       "      <td>Sts.csv</td>\n",
       "    </tr>\n",
       "    <tr>\n",
       "      <th>146127</th>\n",
       "      <td>Convention</td>\n",
       "      <td>2020-05-12T08:00:00+02:00</td>\n",
       "      <td>293.0</td>\n",
       "      <td>8.70889</td>\n",
       "      <td>Fluide</td>\n",
       "      <td>2965</td>\n",
       "      <td>Convention-Gutemberg</td>\n",
       "      <td>2387</td>\n",
       "      <td>Rond_Point_Mirabeau</td>\n",
       "      <td>Invalide</td>\n",
       "      <td>2005-01-01</td>\n",
       "      <td>2019-06-01</td>\n",
       "      <td>48.8450383443,2.27928837976</td>\n",
       "      <td>{\"type\": \"LineString\", \"coordinates\": [[2.2812...</td>\n",
       "      <td>Sts.csv</td>\n",
       "    </tr>\n",
       "  </tbody>\n",
       "</table>\n",
       "</div>"
      ],
      "text/plain": [
       "           Libelle  Date et heure de comptage  Débit horaire  \\\n",
       "18826    Sts_Peres  2020-03-06T02:00:00+01:00          353.0   \n",
       "77794   Convention  2020-10-02T22:00:00+02:00            NaN   \n",
       "180117  Convention  2020-08-13T17:00:00+02:00          185.0   \n",
       "139084  Convention  2020-01-17T08:00:00+01:00          843.0   \n",
       "146127  Convention  2020-05-12T08:00:00+02:00          293.0   \n",
       "\n",
       "        Taux d'occupation Etat trafic  Identifiant noeud amont  \\\n",
       "18826             2.90556      Fluide                      119   \n",
       "77794             4.22611      Fluide                     2937   \n",
       "180117            3.77944      Fluide                     2973   \n",
       "139084            8.36056      Fluide                     2969   \n",
       "146127            8.70889      Fluide                     2965   \n",
       "\n",
       "            Libelle noeud amont  Identifiant noeud aval  \\\n",
       "18826      Sts_Peres-Universite                     120   \n",
       "77794       Lecourbe-Convention                    2969   \n",
       "180117        Convention-Blomet                    2937   \n",
       "139084  Convention-Croix_Nivert                    2937   \n",
       "146127     Convention-Gutemberg                    2387   \n",
       "\n",
       "             Libelle noeud aval  Etat arc Date debut dispo data  \\\n",
       "18826   Bd_St_Germain-Sts_Peres  Invalide            2005-01-01   \n",
       "77794   Convention-Croix_Nivert  Invalide            2005-01-01   \n",
       "180117      Lecourbe-Convention  Invalide            2005-01-01   \n",
       "139084      Lecourbe-Convention  Invalide            2005-01-01   \n",
       "146127      Rond_Point_Mirabeau  Invalide            2005-01-01   \n",
       "\n",
       "       Date fin dispo data                 geo_point_2d  \\\n",
       "18826           2019-06-01  48.8553754186,2.33103664165   \n",
       "77794           2019-06-01  48.8396566551,2.29116411501   \n",
       "180117          2019-06-01  48.8386647698,2.29328592426   \n",
       "139084          2019-06-01  48.8396188347,2.29108559823   \n",
       "146127          2019-06-01  48.8450383443,2.27928837976   \n",
       "\n",
       "                                                geo_shape        filename  \n",
       "18826   {\"type\": \"LineString\", \"coordinates\": [[2.3316...  convention.csv  \n",
       "77794   {\"type\": \"LineString\", \"coordinates\": [[2.2919...         Sts.csv  \n",
       "180117  {\"type\": \"LineString\", \"coordinates\": [[2.2945...         Sts.csv  \n",
       "139084  {\"type\": \"LineString\", \"coordinates\": [[2.2902...         Sts.csv  \n",
       "146127  {\"type\": \"LineString\", \"coordinates\": [[2.2812...         Sts.csv  "
      ]
     },
     "execution_count": 5,
     "metadata": {},
     "output_type": "execute_result"
    }
   ],
   "source": [
    "df = pd.concat(\n",
    "    [pd.read_csv(os.path.join(data_path, filename), sep=';', index_col=0).assign(filename=filename) for filename in list_filenames],\n",
    "               ignore_index=True\n",
    "\n",
    ")\n",
    "\n",
    "df.sample(5)"
   ]
  },
  {
   "cell_type": "markdown",
   "metadata": {},
   "source": [
    "## Filtrage par noeud"
   ]
  },
  {
   "cell_type": "markdown",
   "metadata": {},
   "source": [
    "On peut déjà drop les identifiants des noeuds et les données liées à la géométrie car ils ne nous serviront pas pour la suite.  \n",
    "On supprimera aussi "
   ]
  },
  {
   "cell_type": "code",
   "execution_count": 6,
   "metadata": {},
   "outputs": [],
   "source": [
    "df = df.drop(columns=[\n",
    "    'Identifiant noeud amont', 'Identifiant noeud aval', 'geo_point_2d',\n",
    "    'geo_shape', 'Date debut dispo data', 'Date fin dispo data'\n",
    "])"
   ]
  },
  {
   "cell_type": "code",
   "execution_count": 7,
   "metadata": {},
   "outputs": [],
   "source": [
    "# Contient pour chaque fichier CSV un 2-tuple de la forme (noeud_amont, noeud_aval)\n",
    "dic_noeuds = {\n",
    "    'champs-elysees.csv': ('Av_Champs_Elysees-Washington', 'Av_Champs_Elysees-Berri'),\n",
    "    'convention.csv': ('Lecourbe-Convention', 'Convention-Blomet'),\n",
    "    'Sts.csv': ('Sts_Peres-Voltaire', 'Sts_Peres-Universite')\n",
    "}"
   ]
  },
  {
   "cell_type": "code",
   "execution_count": 8,
   "metadata": {
    "scrolled": true
   },
   "outputs": [
    {
     "name": "stdout",
     "output_type": "stream",
     "text": [
      "Taille du df avant filtrage: 235768\n",
      "Taille du df après filtrage: 9428\n"
     ]
    }
   ],
   "source": [
    "list_criteria = []\n",
    "for key, val in dic_noeuds.items():\n",
    "    criterion = (df['filename']==key) & (df['Libelle noeud amont']==val[0]) & (df['Libelle noeud aval']==val[1])\n",
    "    list_criteria.append(criterion)\n",
    "\n",
    "criterion_noeuds = reduce(lambda x, y: x | y, list_criteria)\n",
    "\n",
    "print(f'Taille du df avant filtrage: {len(df)}')\n",
    "df = df[criterion_noeuds]\n",
    "print(f'Taille du df après filtrage: {len(df)}')"
   ]
  },
  {
   "cell_type": "markdown",
   "metadata": {},
   "source": [
    "On peut désormais drop les libellés."
   ]
  },
  {
   "cell_type": "code",
   "execution_count": 9,
   "metadata": {},
   "outputs": [
    {
     "data": {
      "text/html": [
       "<div>\n",
       "<style scoped>\n",
       "    .dataframe tbody tr th:only-of-type {\n",
       "        vertical-align: middle;\n",
       "    }\n",
       "\n",
       "    .dataframe tbody tr th {\n",
       "        vertical-align: top;\n",
       "    }\n",
       "\n",
       "    .dataframe thead th {\n",
       "        text-align: right;\n",
       "    }\n",
       "</style>\n",
       "<table border=\"1\" class=\"dataframe\">\n",
       "  <thead>\n",
       "    <tr style=\"text-align: right;\">\n",
       "      <th></th>\n",
       "      <th>Libelle</th>\n",
       "      <th>Date et heure de comptage</th>\n",
       "      <th>Débit horaire</th>\n",
       "      <th>Taux d'occupation</th>\n",
       "      <th>Etat trafic</th>\n",
       "      <th>Etat arc</th>\n",
       "      <th>filename</th>\n",
       "    </tr>\n",
       "  </thead>\n",
       "  <tbody>\n",
       "    <tr>\n",
       "      <th>0</th>\n",
       "      <td>AV_Champs_Elysees</td>\n",
       "      <td>2020-11-02T05:00:00+01:00</td>\n",
       "      <td>144.0</td>\n",
       "      <td>2.25611</td>\n",
       "      <td>Fluide</td>\n",
       "      <td>Invalide</td>\n",
       "      <td>champs-elysees.csv</td>\n",
       "    </tr>\n",
       "    <tr>\n",
       "      <th>1</th>\n",
       "      <td>AV_Champs_Elysees</td>\n",
       "      <td>2020-11-01T23:00:00+01:00</td>\n",
       "      <td>245.0</td>\n",
       "      <td>8.11222</td>\n",
       "      <td>Fluide</td>\n",
       "      <td>Invalide</td>\n",
       "      <td>champs-elysees.csv</td>\n",
       "    </tr>\n",
       "    <tr>\n",
       "      <th>2</th>\n",
       "      <td>AV_Champs_Elysees</td>\n",
       "      <td>2020-07-01T16:00:00+02:00</td>\n",
       "      <td>1138.0</td>\n",
       "      <td>17.86611</td>\n",
       "      <td>Pré-saturé</td>\n",
       "      <td>Invalide</td>\n",
       "      <td>champs-elysees.csv</td>\n",
       "    </tr>\n",
       "    <tr>\n",
       "      <th>3</th>\n",
       "      <td>AV_Champs_Elysees</td>\n",
       "      <td>2020-07-01T22:00:00+02:00</td>\n",
       "      <td>880.0</td>\n",
       "      <td>16.03611</td>\n",
       "      <td>Pré-saturé</td>\n",
       "      <td>Invalide</td>\n",
       "      <td>champs-elysees.csv</td>\n",
       "    </tr>\n",
       "    <tr>\n",
       "      <th>4</th>\n",
       "      <td>AV_Champs_Elysees</td>\n",
       "      <td>2020-08-05T03:00:00+02:00</td>\n",
       "      <td>487.0</td>\n",
       "      <td>6.35389</td>\n",
       "      <td>Fluide</td>\n",
       "      <td>Invalide</td>\n",
       "      <td>champs-elysees.csv</td>\n",
       "    </tr>\n",
       "  </tbody>\n",
       "</table>\n",
       "</div>"
      ],
      "text/plain": [
       "             Libelle  Date et heure de comptage  Débit horaire  \\\n",
       "0  AV_Champs_Elysees  2020-11-02T05:00:00+01:00          144.0   \n",
       "1  AV_Champs_Elysees  2020-11-01T23:00:00+01:00          245.0   \n",
       "2  AV_Champs_Elysees  2020-07-01T16:00:00+02:00         1138.0   \n",
       "3  AV_Champs_Elysees  2020-07-01T22:00:00+02:00          880.0   \n",
       "4  AV_Champs_Elysees  2020-08-05T03:00:00+02:00          487.0   \n",
       "\n",
       "   Taux d'occupation Etat trafic  Etat arc            filename  \n",
       "0            2.25611      Fluide  Invalide  champs-elysees.csv  \n",
       "1            8.11222      Fluide  Invalide  champs-elysees.csv  \n",
       "2           17.86611  Pré-saturé  Invalide  champs-elysees.csv  \n",
       "3           16.03611  Pré-saturé  Invalide  champs-elysees.csv  \n",
       "4            6.35389      Fluide  Invalide  champs-elysees.csv  "
      ]
     },
     "execution_count": 9,
     "metadata": {},
     "output_type": "execute_result"
    }
   ],
   "source": [
    "df = df.drop(columns=['Libelle noeud amont', 'Libelle noeud aval'])\n",
    "df.head()"
   ]
  },
  {
   "cell_type": "markdown",
   "metadata": {},
   "source": [
    "# Nettoyage des données"
   ]
  },
  {
   "cell_type": "code",
   "execution_count": 10,
   "metadata": {},
   "outputs": [
    {
     "data": {
      "text/plain": [
       "Libelle                       object\n",
       "Date et heure de comptage     object\n",
       "Débit horaire                float64\n",
       "Taux d'occupation            float64\n",
       "Etat trafic                   object\n",
       "Etat arc                      object\n",
       "filename                      object\n",
       "dtype: object"
      ]
     },
     "execution_count": 10,
     "metadata": {},
     "output_type": "execute_result"
    }
   ],
   "source": [
    "df.dtypes"
   ]
  },
  {
   "cell_type": "markdown",
   "metadata": {},
   "source": [
    "## NaN"
   ]
  },
  {
   "cell_type": "code",
   "execution_count": 11,
   "metadata": {},
   "outputs": [
    {
     "data": {
      "text/plain": [
       "Libelle                       0\n",
       "Date et heure de comptage     0\n",
       "Débit horaire                77\n",
       "Taux d'occupation            85\n",
       "Etat trafic                   0\n",
       "Etat arc                      0\n",
       "filename                      0\n",
       "dtype: int64"
      ]
     },
     "execution_count": 11,
     "metadata": {},
     "output_type": "execute_result"
    }
   ],
   "source": [
    "df.isna().sum()"
   ]
  },
  {
   "cell_type": "code",
   "execution_count": 12,
   "metadata": {},
   "outputs": [
    {
     "data": {
      "text/plain": [
       "Libelle                      0.000000\n",
       "Date et heure de comptage    0.000000\n",
       "Débit horaire                0.008167\n",
       "Taux d'occupation            0.009016\n",
       "Etat trafic                  0.000000\n",
       "Etat arc                     0.000000\n",
       "filename                     0.000000\n",
       "dtype: float64"
      ]
     },
     "execution_count": 12,
     "metadata": {},
     "output_type": "execute_result"
    }
   ],
   "source": [
    "df.isna().mean()"
   ]
  },
  {
   "cell_type": "markdown",
   "metadata": {},
   "source": [
    "Moins de 1% des lignes ont des NaN. On peut donc drop ces lignes de manière sereine."
   ]
  },
  {
   "cell_type": "code",
   "execution_count": 13,
   "metadata": {},
   "outputs": [
    {
     "data": {
      "text/plain": [
       "Libelle                      0\n",
       "Date et heure de comptage    0\n",
       "Débit horaire                0\n",
       "Taux d'occupation            0\n",
       "Etat trafic                  0\n",
       "Etat arc                     0\n",
       "filename                     0\n",
       "dtype: int64"
      ]
     },
     "execution_count": 13,
     "metadata": {},
     "output_type": "execute_result"
    }
   ],
   "source": [
    "df = df.dropna()\n",
    "df.isna().sum()"
   ]
  },
  {
   "cell_type": "markdown",
   "metadata": {},
   "source": [
    "## Conversion en datetime64"
   ]
  },
  {
   "cell_type": "code",
   "execution_count": 14,
   "metadata": {},
   "outputs": [
    {
     "data": {
      "text/plain": [
       "0       2020-11-02T05:00:00+01:00\n",
       "1       2020-11-01T23:00:00+01:00\n",
       "2       2020-07-01T16:00:00+02:00\n",
       "3       2020-07-01T22:00:00+02:00\n",
       "4       2020-08-05T03:00:00+02:00\n",
       "                  ...            \n",
       "9423    2020-05-31T20:00:00+02:00\n",
       "9424    2020-06-01T02:00:00+02:00\n",
       "9425    2020-06-01T04:00:00+02:00\n",
       "9426    2020-06-01T01:00:00+02:00\n",
       "9427    2020-06-01T03:00:00+02:00\n",
       "Name: Date et heure de comptage, Length: 9343, dtype: object"
      ]
     },
     "execution_count": 14,
     "metadata": {},
     "output_type": "execute_result"
    }
   ],
   "source": [
    "df['Date et heure de comptage']"
   ]
  },
  {
   "cell_type": "code",
   "execution_count": 15,
   "metadata": {},
   "outputs": [],
   "source": [
    "def remove_timezone(row):\n",
    "    return row.tz_localize(None)"
   ]
  },
  {
   "cell_type": "code",
   "execution_count": 16,
   "metadata": {
    "scrolled": true
   },
   "outputs": [
    {
     "data": {
      "text/plain": [
       "0      2020-11-02 04:00:00\n",
       "1      2020-11-01 22:00:00\n",
       "2      2020-07-01 14:00:00\n",
       "3      2020-07-01 20:00:00\n",
       "4      2020-08-05 01:00:00\n",
       "               ...        \n",
       "9423   2020-05-31 18:00:00\n",
       "9424   2020-06-01 00:00:00\n",
       "9425   2020-06-01 02:00:00\n",
       "9426   2020-05-31 23:00:00\n",
       "9427   2020-06-01 01:00:00\n",
       "Name: Date et heure de comptage, Length: 9343, dtype: datetime64[ns]"
      ]
     },
     "execution_count": 16,
     "metadata": {},
     "output_type": "execute_result"
    }
   ],
   "source": [
    "df['Date et heure de comptage'] = pd.to_datetime(df['Date et heure de comptage'], utc=True)\n",
    "df['Date et heure de comptage'] = df['Date et heure de comptage'].apply(remove_timezone)\n",
    "df['Date et heure de comptage']"
   ]
  },
  {
   "cell_type": "code",
   "execution_count": 17,
   "metadata": {},
   "outputs": [
    {
     "data": {
      "text/plain": [
       "Libelle                              object\n",
       "Date et heure de comptage    datetime64[ns]\n",
       "Débit horaire                       float64\n",
       "Taux d'occupation                   float64\n",
       "Etat trafic                          object\n",
       "Etat arc                             object\n",
       "filename                             object\n",
       "dtype: object"
      ]
     },
     "execution_count": 17,
     "metadata": {},
     "output_type": "execute_result"
    }
   ],
   "source": [
    "df.dtypes"
   ]
  },
  {
   "cell_type": "code",
   "execution_count": 18,
   "metadata": {},
   "outputs": [
    {
     "name": "stdout",
     "output_type": "stream",
     "text": [
      "Première mesure de comptage prise : 01/11/2019\n",
      "Dernière mesure de comptage prise : 29/11/2020\n"
     ]
    }
   ],
   "source": [
    "date_begin = df['Date et heure de comptage'].min().strftime('%d/%m/%Y')\n",
    "date_end = df['Date et heure de comptage'].max().strftime('%d/%m/%Y')\n",
    "print(f'Première mesure de comptage prise : {date_begin}')\n",
    "print(f'Dernière mesure de comptage prise : {date_end}')"
   ]
  },
  {
   "cell_type": "markdown",
   "metadata": {},
   "source": [
    "# Analyse et visualisation (partie 1)"
   ]
  },
  {
   "cell_type": "code",
   "execution_count": 19,
   "metadata": {},
   "outputs": [
    {
     "data": {
      "text/html": [
       "<div>\n",
       "<style scoped>\n",
       "    .dataframe tbody tr th:only-of-type {\n",
       "        vertical-align: middle;\n",
       "    }\n",
       "\n",
       "    .dataframe tbody tr th {\n",
       "        vertical-align: top;\n",
       "    }\n",
       "\n",
       "    .dataframe thead th {\n",
       "        text-align: right;\n",
       "    }\n",
       "</style>\n",
       "<table border=\"1\" class=\"dataframe\">\n",
       "  <thead>\n",
       "    <tr style=\"text-align: right;\">\n",
       "      <th></th>\n",
       "      <th>Débit horaire</th>\n",
       "      <th>Taux d'occupation</th>\n",
       "    </tr>\n",
       "  </thead>\n",
       "  <tbody>\n",
       "    <tr>\n",
       "      <th>count</th>\n",
       "      <td>9343.000000</td>\n",
       "      <td>9343.000000</td>\n",
       "    </tr>\n",
       "    <tr>\n",
       "      <th>mean</th>\n",
       "      <td>708.792893</td>\n",
       "      <td>13.150319</td>\n",
       "    </tr>\n",
       "    <tr>\n",
       "      <th>std</th>\n",
       "      <td>413.836128</td>\n",
       "      <td>11.412242</td>\n",
       "    </tr>\n",
       "    <tr>\n",
       "      <th>min</th>\n",
       "      <td>0.000000</td>\n",
       "      <td>0.000000</td>\n",
       "    </tr>\n",
       "    <tr>\n",
       "      <th>25%</th>\n",
       "      <td>300.000000</td>\n",
       "      <td>3.589445</td>\n",
       "    </tr>\n",
       "    <tr>\n",
       "      <th>50%</th>\n",
       "      <td>774.000000</td>\n",
       "      <td>10.692220</td>\n",
       "    </tr>\n",
       "    <tr>\n",
       "      <th>75%</th>\n",
       "      <td>1072.000000</td>\n",
       "      <td>19.311390</td>\n",
       "    </tr>\n",
       "    <tr>\n",
       "      <th>max</th>\n",
       "      <td>1610.000000</td>\n",
       "      <td>84.668890</td>\n",
       "    </tr>\n",
       "  </tbody>\n",
       "</table>\n",
       "</div>"
      ],
      "text/plain": [
       "       Débit horaire  Taux d'occupation\n",
       "count    9343.000000        9343.000000\n",
       "mean      708.792893          13.150319\n",
       "std       413.836128          11.412242\n",
       "min         0.000000           0.000000\n",
       "25%       300.000000           3.589445\n",
       "50%       774.000000          10.692220\n",
       "75%      1072.000000          19.311390\n",
       "max      1610.000000          84.668890"
      ]
     },
     "execution_count": 19,
     "metadata": {},
     "output_type": "execute_result"
    }
   ],
   "source": [
    "df[['Débit horaire', \"Taux d'occupation\"]].describe()"
   ]
  },
  {
   "cell_type": "code",
   "execution_count": 20,
   "metadata": {},
   "outputs": [
    {
     "data": {
      "text/plain": [
       "<AxesSubplot:>"
      ]
     },
     "execution_count": 20,
     "metadata": {},
     "output_type": "execute_result"
    },
    {
     "data": {
      "image/png": "[encoded data removed]",
      "text/plain": [
       "<Figure size 432x288 with 1 Axes>"
      ]
     },
     "metadata": {
      "needs_background": "light"
     },
     "output_type": "display_data"
    }
   ],
   "source": [
    "df[['Débit horaire', \"Taux d'occupation\"]].plot()"
   ]
  },
  {
   "cell_type": "code",
   "execution_count": 21,
   "metadata": {},
   "outputs": [
    {
     "data": {
      "text/plain": [
       "<AxesSubplot:ylabel='Débit horaire'>"
      ]
     },
     "execution_count": 21,
     "metadata": {},
     "output_type": "execute_result"
    },
    {
     "data": {
      "image/png": "[encoded data removed]",
      "text/plain": [
       "<Figure size 432x288 with 1 Axes>"
      ]
     },
     "metadata": {
      "needs_background": "light"
     },
     "output_type": "display_data"
    }
   ],
   "source": [
    "sns.violinplot(y='Débit horaire', data=df)"
   ]
  },
  {
   "cell_type": "code",
   "execution_count": 22,
   "metadata": {},
   "outputs": [
    {
     "data": {
      "text/plain": [
       "<AxesSubplot:ylabel=\"Taux d'occupation\">"
      ]
     },
     "execution_count": 22,
     "metadata": {},
     "output_type": "execute_result"
    },
    {
     "data": {
      "image/png": "[encoded data removed]",
      "text/plain": [
       "<Figure size 432x288 with 1 Axes>"
      ]
     },
     "metadata": {
      "needs_background": "light"
     },
     "output_type": "display_data"
    }
   ],
   "source": [
    "sns.violinplot(y=\"Taux d'occupation\", data=df)"
   ]
  },
  {
   "cell_type": "code",
   "execution_count": 23,
   "metadata": {
    "scrolled": true
   },
   "outputs": [
    {
     "data": {
      "text/plain": [
       "<seaborn.axisgrid.FacetGrid at 0x7fd96819ccd0>"
      ]
     },
     "execution_count": 23,
     "metadata": {},
     "output_type": "execute_result"
    },
    {
     "data": {
      "image/png": "[encoded data removed]",
      "text/plain": [
       "<Figure size 360x360 with 1 Axes>"
      ]
     },
     "metadata": {
      "needs_background": "light"
     },
     "output_type": "display_data"
    }
   ],
   "source": [
    "sns.displot(df, x=\"Taux d'occupation\")"
   ]
  },
  {
   "cell_type": "markdown",
   "metadata": {},
   "source": [
    "# Feature engineering"
   ]
  },
  {
   "cell_type": "markdown",
   "metadata": {},
   "source": [
    "## Categorical variables"
   ]
  },
  {
   "cell_type": "markdown",
   "metadata": {},
   "source": [
    "Ajoutons un *one-hot encoding* pour les variables catégoriques. On n'oubliera cependant pas de passer à un *dummy encoding* avant d'entraîner le modèle pour éviter un problème de dimension. ‼️"
   ]
  },
  {
   "cell_type": "code",
   "execution_count": 24,
   "metadata": {},
   "outputs": [
    {
     "data": {
      "text/plain": [
       "Libelle                              object\n",
       "Date et heure de comptage    datetime64[ns]\n",
       "Débit horaire                       float64\n",
       "Taux d'occupation                   float64\n",
       "Etat trafic                          object\n",
       "Etat arc                             object\n",
       "filename                             object\n",
       "dtype: object"
      ]
     },
     "execution_count": 24,
     "metadata": {},
     "output_type": "execute_result"
    }
   ],
   "source": [
    "df.dtypes"
   ]
  },
  {
   "cell_type": "code",
   "execution_count": 25,
   "metadata": {},
   "outputs": [
    {
     "data": {
      "text/html": [
       "<div>\n",
       "<style scoped>\n",
       "    .dataframe tbody tr th:only-of-type {\n",
       "        vertical-align: middle;\n",
       "    }\n",
       "\n",
       "    .dataframe tbody tr th {\n",
       "        vertical-align: top;\n",
       "    }\n",
       "\n",
       "    .dataframe thead th {\n",
       "        text-align: right;\n",
       "    }\n",
       "</style>\n",
       "<table border=\"1\" class=\"dataframe\">\n",
       "  <thead>\n",
       "    <tr style=\"text-align: right;\">\n",
       "      <th></th>\n",
       "      <th>Etat trafic</th>\n",
       "      <th>Etat arc</th>\n",
       "    </tr>\n",
       "  </thead>\n",
       "  <tbody>\n",
       "    <tr>\n",
       "      <th>0</th>\n",
       "      <td>Fluide</td>\n",
       "      <td>Invalide</td>\n",
       "    </tr>\n",
       "    <tr>\n",
       "      <th>1</th>\n",
       "      <td>Fluide</td>\n",
       "      <td>Invalide</td>\n",
       "    </tr>\n",
       "    <tr>\n",
       "      <th>2</th>\n",
       "      <td>Pré-saturé</td>\n",
       "      <td>Invalide</td>\n",
       "    </tr>\n",
       "    <tr>\n",
       "      <th>3</th>\n",
       "      <td>Pré-saturé</td>\n",
       "      <td>Invalide</td>\n",
       "    </tr>\n",
       "    <tr>\n",
       "      <th>4</th>\n",
       "      <td>Fluide</td>\n",
       "      <td>Invalide</td>\n",
       "    </tr>\n",
       "  </tbody>\n",
       "</table>\n",
       "</div>"
      ],
      "text/plain": [
       "  Etat trafic  Etat arc\n",
       "0      Fluide  Invalide\n",
       "1      Fluide  Invalide\n",
       "2  Pré-saturé  Invalide\n",
       "3  Pré-saturé  Invalide\n",
       "4      Fluide  Invalide"
      ]
     },
     "execution_count": 25,
     "metadata": {},
     "output_type": "execute_result"
    }
   ],
   "source": [
    "df_categorical = df.select_dtypes(include=['object']).drop(\n",
    "    ['Libelle', 'filename'], axis=1)\n",
    "df_categorical.head()"
   ]
  },
  {
   "cell_type": "markdown",
   "metadata": {},
   "source": [
    "### Méthode 1 : Avec du one-hot encoding"
   ]
  },
  {
   "cell_type": "code",
   "execution_count": 26,
   "metadata": {
    "scrolled": true
   },
   "outputs": [
    {
     "data": {
      "text/html": [
       "<div>\n",
       "<style scoped>\n",
       "    .dataframe tbody tr th:only-of-type {\n",
       "        vertical-align: middle;\n",
       "    }\n",
       "\n",
       "    .dataframe tbody tr th {\n",
       "        vertical-align: top;\n",
       "    }\n",
       "\n",
       "    .dataframe thead th {\n",
       "        text-align: right;\n",
       "    }\n",
       "</style>\n",
       "<table border=\"1\" class=\"dataframe\">\n",
       "  <thead>\n",
       "    <tr style=\"text-align: right;\">\n",
       "      <th></th>\n",
       "      <th>Etat trafic_Bloqué</th>\n",
       "      <th>Etat trafic_Fluide</th>\n",
       "      <th>Etat trafic_Pré-saturé</th>\n",
       "      <th>Etat trafic_Saturé</th>\n",
       "      <th>Etat arc_Barré</th>\n",
       "      <th>Etat arc_Invalide</th>\n",
       "    </tr>\n",
       "  </thead>\n",
       "  <tbody>\n",
       "    <tr>\n",
       "      <th>0</th>\n",
       "      <td>0</td>\n",
       "      <td>1</td>\n",
       "      <td>0</td>\n",
       "      <td>0</td>\n",
       "      <td>0</td>\n",
       "      <td>1</td>\n",
       "    </tr>\n",
       "    <tr>\n",
       "      <th>1</th>\n",
       "      <td>0</td>\n",
       "      <td>1</td>\n",
       "      <td>0</td>\n",
       "      <td>0</td>\n",
       "      <td>0</td>\n",
       "      <td>1</td>\n",
       "    </tr>\n",
       "    <tr>\n",
       "      <th>2</th>\n",
       "      <td>0</td>\n",
       "      <td>0</td>\n",
       "      <td>1</td>\n",
       "      <td>0</td>\n",
       "      <td>0</td>\n",
       "      <td>1</td>\n",
       "    </tr>\n",
       "    <tr>\n",
       "      <th>3</th>\n",
       "      <td>0</td>\n",
       "      <td>0</td>\n",
       "      <td>1</td>\n",
       "      <td>0</td>\n",
       "      <td>0</td>\n",
       "      <td>1</td>\n",
       "    </tr>\n",
       "    <tr>\n",
       "      <th>4</th>\n",
       "      <td>0</td>\n",
       "      <td>1</td>\n",
       "      <td>0</td>\n",
       "      <td>0</td>\n",
       "      <td>0</td>\n",
       "      <td>1</td>\n",
       "    </tr>\n",
       "    <tr>\n",
       "      <th>...</th>\n",
       "      <td>...</td>\n",
       "      <td>...</td>\n",
       "      <td>...</td>\n",
       "      <td>...</td>\n",
       "      <td>...</td>\n",
       "      <td>...</td>\n",
       "    </tr>\n",
       "    <tr>\n",
       "      <th>9423</th>\n",
       "      <td>0</td>\n",
       "      <td>0</td>\n",
       "      <td>1</td>\n",
       "      <td>0</td>\n",
       "      <td>0</td>\n",
       "      <td>1</td>\n",
       "    </tr>\n",
       "    <tr>\n",
       "      <th>9424</th>\n",
       "      <td>0</td>\n",
       "      <td>1</td>\n",
       "      <td>0</td>\n",
       "      <td>0</td>\n",
       "      <td>0</td>\n",
       "      <td>1</td>\n",
       "    </tr>\n",
       "    <tr>\n",
       "      <th>9425</th>\n",
       "      <td>0</td>\n",
       "      <td>1</td>\n",
       "      <td>0</td>\n",
       "      <td>0</td>\n",
       "      <td>0</td>\n",
       "      <td>1</td>\n",
       "    </tr>\n",
       "    <tr>\n",
       "      <th>9426</th>\n",
       "      <td>0</td>\n",
       "      <td>1</td>\n",
       "      <td>0</td>\n",
       "      <td>0</td>\n",
       "      <td>0</td>\n",
       "      <td>1</td>\n",
       "    </tr>\n",
       "    <tr>\n",
       "      <th>9427</th>\n",
       "      <td>0</td>\n",
       "      <td>1</td>\n",
       "      <td>0</td>\n",
       "      <td>0</td>\n",
       "      <td>0</td>\n",
       "      <td>1</td>\n",
       "    </tr>\n",
       "  </tbody>\n",
       "</table>\n",
       "<p>9343 rows × 6 columns</p>\n",
       "</div>"
      ],
      "text/plain": [
       "      Etat trafic_Bloqué  Etat trafic_Fluide  Etat trafic_Pré-saturé  \\\n",
       "0                      0                   1                       0   \n",
       "1                      0                   1                       0   \n",
       "2                      0                   0                       1   \n",
       "3                      0                   0                       1   \n",
       "4                      0                   1                       0   \n",
       "...                  ...                 ...                     ...   \n",
       "9423                   0                   0                       1   \n",
       "9424                   0                   1                       0   \n",
       "9425                   0                   1                       0   \n",
       "9426                   0                   1                       0   \n",
       "9427                   0                   1                       0   \n",
       "\n",
       "      Etat trafic_Saturé  Etat arc_Barré  Etat arc_Invalide  \n",
       "0                      0               0                  1  \n",
       "1                      0               0                  1  \n",
       "2                      0               0                  1  \n",
       "3                      0               0                  1  \n",
       "4                      0               0                  1  \n",
       "...                  ...             ...                ...  \n",
       "9423                   0               0                  1  \n",
       "9424                   0               0                  1  \n",
       "9425                   0               0                  1  \n",
       "9426                   0               0                  1  \n",
       "9427                   0               0                  1  \n",
       "\n",
       "[9343 rows x 6 columns]"
      ]
     },
     "execution_count": 26,
     "metadata": {},
     "output_type": "execute_result"
    }
   ],
   "source": [
    "one_hot_encoding = pd.get_dummies(df_categorical, drop_first=False)\n",
    "one_hot_encoding"
   ]
  },
  {
   "cell_type": "code",
   "execution_count": 27,
   "metadata": {
    "scrolled": true
   },
   "outputs": [
    {
     "data": {
      "text/html": [
       "<div>\n",
       "<style scoped>\n",
       "    .dataframe tbody tr th:only-of-type {\n",
       "        vertical-align: middle;\n",
       "    }\n",
       "\n",
       "    .dataframe tbody tr th {\n",
       "        vertical-align: top;\n",
       "    }\n",
       "\n",
       "    .dataframe thead th {\n",
       "        text-align: right;\n",
       "    }\n",
       "</style>\n",
       "<table border=\"1\" class=\"dataframe\">\n",
       "  <thead>\n",
       "    <tr style=\"text-align: right;\">\n",
       "      <th></th>\n",
       "      <th>Libelle</th>\n",
       "      <th>Date et heure de comptage</th>\n",
       "      <th>Débit horaire</th>\n",
       "      <th>Taux d'occupation</th>\n",
       "      <th>filename</th>\n",
       "      <th>Etat trafic_Bloqué</th>\n",
       "      <th>Etat trafic_Fluide</th>\n",
       "      <th>Etat trafic_Pré-saturé</th>\n",
       "      <th>Etat trafic_Saturé</th>\n",
       "      <th>Etat arc_Barré</th>\n",
       "      <th>Etat arc_Invalide</th>\n",
       "    </tr>\n",
       "  </thead>\n",
       "  <tbody>\n",
       "    <tr>\n",
       "      <th>6956</th>\n",
       "      <td>AV_Champs_Elysees</td>\n",
       "      <td>2020-07-18 14:00:00</td>\n",
       "      <td>1077.0</td>\n",
       "      <td>18.68167</td>\n",
       "      <td>champs-elysees.csv</td>\n",
       "      <td>0</td>\n",
       "      <td>0</td>\n",
       "      <td>1</td>\n",
       "      <td>0</td>\n",
       "      <td>0</td>\n",
       "      <td>1</td>\n",
       "    </tr>\n",
       "    <tr>\n",
       "      <th>3849</th>\n",
       "      <td>AV_Champs_Elysees</td>\n",
       "      <td>2020-04-02 10:00:00</td>\n",
       "      <td>213.0</td>\n",
       "      <td>2.21056</td>\n",
       "      <td>champs-elysees.csv</td>\n",
       "      <td>0</td>\n",
       "      <td>1</td>\n",
       "      <td>0</td>\n",
       "      <td>0</td>\n",
       "      <td>0</td>\n",
       "      <td>1</td>\n",
       "    </tr>\n",
       "    <tr>\n",
       "      <th>4824</th>\n",
       "      <td>AV_Champs_Elysees</td>\n",
       "      <td>2020-08-24 06:00:00</td>\n",
       "      <td>795.0</td>\n",
       "      <td>8.75722</td>\n",
       "      <td>champs-elysees.csv</td>\n",
       "      <td>0</td>\n",
       "      <td>1</td>\n",
       "      <td>0</td>\n",
       "      <td>0</td>\n",
       "      <td>0</td>\n",
       "      <td>1</td>\n",
       "    </tr>\n",
       "    <tr>\n",
       "      <th>4999</th>\n",
       "      <td>AV_Champs_Elysees</td>\n",
       "      <td>2020-11-24 21:00:00</td>\n",
       "      <td>341.0</td>\n",
       "      <td>3.51722</td>\n",
       "      <td>champs-elysees.csv</td>\n",
       "      <td>0</td>\n",
       "      <td>1</td>\n",
       "      <td>0</td>\n",
       "      <td>0</td>\n",
       "      <td>0</td>\n",
       "      <td>1</td>\n",
       "    </tr>\n",
       "    <tr>\n",
       "      <th>5736</th>\n",
       "      <td>AV_Champs_Elysees</td>\n",
       "      <td>2020-08-13 13:00:00</td>\n",
       "      <td>790.0</td>\n",
       "      <td>11.07056</td>\n",
       "      <td>champs-elysees.csv</td>\n",
       "      <td>0</td>\n",
       "      <td>1</td>\n",
       "      <td>0</td>\n",
       "      <td>0</td>\n",
       "      <td>0</td>\n",
       "      <td>1</td>\n",
       "    </tr>\n",
       "  </tbody>\n",
       "</table>\n",
       "</div>"
      ],
      "text/plain": [
       "                Libelle Date et heure de comptage  Débit horaire  \\\n",
       "6956  AV_Champs_Elysees       2020-07-18 14:00:00         1077.0   \n",
       "3849  AV_Champs_Elysees       2020-04-02 10:00:00          213.0   \n",
       "4824  AV_Champs_Elysees       2020-08-24 06:00:00          795.0   \n",
       "4999  AV_Champs_Elysees       2020-11-24 21:00:00          341.0   \n",
       "5736  AV_Champs_Elysees       2020-08-13 13:00:00          790.0   \n",
       "\n",
       "      Taux d'occupation            filename  Etat trafic_Bloqué  \\\n",
       "6956           18.68167  champs-elysees.csv                   0   \n",
       "3849            2.21056  champs-elysees.csv                   0   \n",
       "4824            8.75722  champs-elysees.csv                   0   \n",
       "4999            3.51722  champs-elysees.csv                   0   \n",
       "5736           11.07056  champs-elysees.csv                   0   \n",
       "\n",
       "      Etat trafic_Fluide  Etat trafic_Pré-saturé  Etat trafic_Saturé  \\\n",
       "6956                   0                       1                   0   \n",
       "3849                   1                       0                   0   \n",
       "4824                   1                       0                   0   \n",
       "4999                   1                       0                   0   \n",
       "5736                   1                       0                   0   \n",
       "\n",
       "      Etat arc_Barré  Etat arc_Invalide  \n",
       "6956               0                  1  \n",
       "3849               0                  1  \n",
       "4824               0                  1  \n",
       "4999               0                  1  \n",
       "5736               0                  1  "
      ]
     },
     "execution_count": 27,
     "metadata": {},
     "output_type": "execute_result"
    }
   ],
   "source": [
    "df_onehot = pd.concat([df.drop(df_categorical.columns, axis=1), one_hot_encoding], axis=1)\n",
    "df_onehot.sample(5)"
   ]
  },
  {
   "cell_type": "code",
   "execution_count": 28,
   "metadata": {},
   "outputs": [
    {
     "data": {
      "image/png": "[encoded data removed]",
      "text/plain": [
       "<Figure size 432x288 with 2 Axes>"
      ]
     },
     "metadata": {},
     "output_type": "display_data"
    }
   ],
   "source": [
    "corr = df_onehot.corr()\n",
    "mask = np.zeros_like(corr)\n",
    "mask[np.triu_indices_from(mask)] = True\n",
    "with sns.axes_style(\"white\"):\n",
    "    ax = sns.heatmap(corr, mask=mask, vmax=.3, square=True)"
   ]
  },
  {
   "cell_type": "markdown",
   "metadata": {},
   "source": [
    "### Méthode 2 : Avec du ordinal encoding"
   ]
  },
  {
   "cell_type": "markdown",
   "metadata": {},
   "source": [
    "Il semble en réalité plus pertinent d'utiliser un *ordinal encoding* pour donner une relation d'ordre à la feature. On se servira pour cela des informations contenues dans la notice.\n",
    "<img src=\"ressources/ordinal_encoding.png\" />"
   ]
  },
  {
   "cell_type": "code",
   "execution_count": 29,
   "metadata": {},
   "outputs": [
    {
     "data": {
      "text/plain": [
       "0           Fluide\n",
       "1           Fluide\n",
       "2       Pré-saturé\n",
       "3       Pré-saturé\n",
       "4           Fluide\n",
       "           ...    \n",
       "9423    Pré-saturé\n",
       "9424        Fluide\n",
       "9425        Fluide\n",
       "9426        Fluide\n",
       "9427        Fluide\n",
       "Name: Etat trafic, Length: 9343, dtype: object"
      ]
     },
     "execution_count": 29,
     "metadata": {},
     "output_type": "execute_result"
    }
   ],
   "source": [
    " df['Etat trafic']"
   ]
  },
  {
   "cell_type": "code",
   "execution_count": 30,
   "metadata": {
    "scrolled": false
   },
   "outputs": [
    {
     "data": {
      "text/html": [
       "<div>\n",
       "<style scoped>\n",
       "    .dataframe tbody tr th:only-of-type {\n",
       "        vertical-align: middle;\n",
       "    }\n",
       "\n",
       "    .dataframe tbody tr th {\n",
       "        vertical-align: top;\n",
       "    }\n",
       "\n",
       "    .dataframe thead th {\n",
       "        text-align: right;\n",
       "    }\n",
       "</style>\n",
       "<table border=\"1\" class=\"dataframe\">\n",
       "  <thead>\n",
       "    <tr style=\"text-align: right;\">\n",
       "      <th></th>\n",
       "      <th>Libelle</th>\n",
       "      <th>Date et heure de comptage</th>\n",
       "      <th>Débit horaire</th>\n",
       "      <th>Taux d'occupation</th>\n",
       "      <th>Etat trafic</th>\n",
       "      <th>Etat arc</th>\n",
       "      <th>filename</th>\n",
       "    </tr>\n",
       "  </thead>\n",
       "  <tbody>\n",
       "    <tr>\n",
       "      <th>7643</th>\n",
       "      <td>AV_Champs_Elysees</td>\n",
       "      <td>2020-02-25 16:00:00</td>\n",
       "      <td>1107.0</td>\n",
       "      <td>25.34111</td>\n",
       "      <td>2</td>\n",
       "      <td>Invalide</td>\n",
       "      <td>champs-elysees.csv</td>\n",
       "    </tr>\n",
       "    <tr>\n",
       "      <th>5498</th>\n",
       "      <td>AV_Champs_Elysees</td>\n",
       "      <td>2020-09-27 08:00:00</td>\n",
       "      <td>638.0</td>\n",
       "      <td>6.94833</td>\n",
       "      <td>1</td>\n",
       "      <td>Invalide</td>\n",
       "      <td>champs-elysees.csv</td>\n",
       "    </tr>\n",
       "    <tr>\n",
       "      <th>8239</th>\n",
       "      <td>AV_Champs_Elysees</td>\n",
       "      <td>2020-01-27 04:00:00</td>\n",
       "      <td>215.0</td>\n",
       "      <td>1.99612</td>\n",
       "      <td>1</td>\n",
       "      <td>Invalide</td>\n",
       "      <td>champs-elysees.csv</td>\n",
       "    </tr>\n",
       "    <tr>\n",
       "      <th>6707</th>\n",
       "      <td>AV_Champs_Elysees</td>\n",
       "      <td>2020-11-15 00:00:00</td>\n",
       "      <td>226.0</td>\n",
       "      <td>2.02000</td>\n",
       "      <td>1</td>\n",
       "      <td>Invalide</td>\n",
       "      <td>champs-elysees.csv</td>\n",
       "    </tr>\n",
       "    <tr>\n",
       "      <th>7345</th>\n",
       "      <td>AV_Champs_Elysees</td>\n",
       "      <td>2020-10-27 14:00:00</td>\n",
       "      <td>1152.0</td>\n",
       "      <td>27.08167</td>\n",
       "      <td>2</td>\n",
       "      <td>Invalide</td>\n",
       "      <td>champs-elysees.csv</td>\n",
       "    </tr>\n",
       "  </tbody>\n",
       "</table>\n",
       "</div>"
      ],
      "text/plain": [
       "                Libelle Date et heure de comptage  Débit horaire  \\\n",
       "7643  AV_Champs_Elysees       2020-02-25 16:00:00         1107.0   \n",
       "5498  AV_Champs_Elysees       2020-09-27 08:00:00          638.0   \n",
       "8239  AV_Champs_Elysees       2020-01-27 04:00:00          215.0   \n",
       "6707  AV_Champs_Elysees       2020-11-15 00:00:00          226.0   \n",
       "7345  AV_Champs_Elysees       2020-10-27 14:00:00         1152.0   \n",
       "\n",
       "      Taux d'occupation  Etat trafic  Etat arc            filename  \n",
       "7643           25.34111            2  Invalide  champs-elysees.csv  \n",
       "5498            6.94833            1  Invalide  champs-elysees.csv  \n",
       "8239            1.99612            1  Invalide  champs-elysees.csv  \n",
       "6707            2.02000            1  Invalide  champs-elysees.csv  \n",
       "7345           27.08167            2  Invalide  champs-elysees.csv  "
      ]
     },
     "execution_count": 30,
     "metadata": {},
     "output_type": "execute_result"
    }
   ],
   "source": [
    "df_ordinal = df.copy(deep=True)\n",
    "mapper = {'Inconnu': 0, 'Fluide': 1, 'Pré-saturé': 2, 'Saturé': 3, 'Bloqué': 4}\n",
    "df_ordinal['Etat trafic'] = df['Etat trafic'].map(mapper)\n",
    "df_ordinal.sample(5)"
   ]
  },
  {
   "cell_type": "code",
   "execution_count": 31,
   "metadata": {},
   "outputs": [
    {
     "data": {
      "image/png": "[encoded data removed]",
      "text/plain": [
       "<Figure size 432x288 with 2 Axes>"
      ]
     },
     "metadata": {},
     "output_type": "display_data"
    }
   ],
   "source": [
    "corr = df_ordinal.corr()\n",
    "mask = np.zeros_like(corr)\n",
    "mask[np.triu_indices_from(mask)] = True\n",
    "with sns.axes_style(\"white\"):\n",
    "    ax = sns.heatmap(corr, mask=mask, vmax=.3, square=True)"
   ]
  },
  {
   "cell_type": "markdown",
   "metadata": {},
   "source": [
    "## Prise en compte des périodes de vacances"
   ]
  },
  {
   "cell_type": "code",
   "execution_count": 32,
   "metadata": {},
   "outputs": [
    {
     "data": {
      "text/plain": [
       "Timestamp('2020-12-19 00:00:00')"
      ]
     },
     "execution_count": 32,
     "metadata": {},
     "output_type": "execute_result"
    }
   ],
   "source": [
    "first_day_holiday = pd.Timestamp('2020-12-19')\n",
    "first_day_holiday"
   ]
  },
  {
   "cell_type": "code",
   "execution_count": 33,
   "metadata": {},
   "outputs": [
    {
     "data": {
      "text/plain": [
       "0       46 days 20:00:00\n",
       "1       47 days 02:00:00\n",
       "2      170 days 10:00:00\n",
       "3      170 days 04:00:00\n",
       "4      135 days 23:00:00\n",
       "              ...       \n",
       "9423   201 days 06:00:00\n",
       "9424   201 days 00:00:00\n",
       "9425   200 days 22:00:00\n",
       "9426   201 days 01:00:00\n",
       "9427   200 days 23:00:00\n",
       "Name: Date et heure de comptage, Length: 9343, dtype: timedelta64[ns]"
      ]
     },
     "execution_count": 33,
     "metadata": {},
     "output_type": "execute_result"
    }
   ],
   "source": [
    "first_day_holiday - df[\"Date et heure de comptage\"]"
   ]
  },
  {
   "cell_type": "markdown",
   "metadata": {},
   "source": [
    "## Plus de features liées aux timestamp"
   ]
  },
  {
   "cell_type": "markdown",
   "metadata": {},
   "source": [
    "Ajout du jour (sans l'heure) :"
   ]
  },
  {
   "cell_type": "code",
   "execution_count": 34,
   "metadata": {},
   "outputs": [
    {
     "data": {
      "text/html": [
       "<div>\n",
       "<style scoped>\n",
       "    .dataframe tbody tr th:only-of-type {\n",
       "        vertical-align: middle;\n",
       "    }\n",
       "\n",
       "    .dataframe tbody tr th {\n",
       "        vertical-align: top;\n",
       "    }\n",
       "\n",
       "    .dataframe thead th {\n",
       "        text-align: right;\n",
       "    }\n",
       "</style>\n",
       "<table border=\"1\" class=\"dataframe\">\n",
       "  <thead>\n",
       "    <tr style=\"text-align: right;\">\n",
       "      <th></th>\n",
       "      <th>Libelle</th>\n",
       "      <th>Date et heure de comptage</th>\n",
       "      <th>Débit horaire</th>\n",
       "      <th>Taux d'occupation</th>\n",
       "      <th>Etat trafic</th>\n",
       "      <th>Etat arc</th>\n",
       "      <th>filename</th>\n",
       "      <th>Date</th>\n",
       "    </tr>\n",
       "  </thead>\n",
       "  <tbody>\n",
       "    <tr>\n",
       "      <th>1312</th>\n",
       "      <td>AV_Champs_Elysees</td>\n",
       "      <td>2020-09-15 20:00:00</td>\n",
       "      <td>749.0</td>\n",
       "      <td>12.85500</td>\n",
       "      <td>Fluide</td>\n",
       "      <td>Invalide</td>\n",
       "      <td>champs-elysees.csv</td>\n",
       "      <td>2020-09-15</td>\n",
       "    </tr>\n",
       "    <tr>\n",
       "      <th>4620</th>\n",
       "      <td>AV_Champs_Elysees</td>\n",
       "      <td>2020-01-08 18:00:00</td>\n",
       "      <td>1030.0</td>\n",
       "      <td>26.11389</td>\n",
       "      <td>Pré-saturé</td>\n",
       "      <td>Invalide</td>\n",
       "      <td>champs-elysees.csv</td>\n",
       "      <td>2020-01-08</td>\n",
       "    </tr>\n",
       "    <tr>\n",
       "      <th>2215</th>\n",
       "      <td>AV_Champs_Elysees</td>\n",
       "      <td>2020-05-16 10:00:00</td>\n",
       "      <td>878.0</td>\n",
       "      <td>11.62111</td>\n",
       "      <td>Fluide</td>\n",
       "      <td>Invalide</td>\n",
       "      <td>champs-elysees.csv</td>\n",
       "      <td>2020-05-16</td>\n",
       "    </tr>\n",
       "    <tr>\n",
       "      <th>2864</th>\n",
       "      <td>AV_Champs_Elysees</td>\n",
       "      <td>2020-03-01 14:00:00</td>\n",
       "      <td>58.0</td>\n",
       "      <td>1.36834</td>\n",
       "      <td>Fluide</td>\n",
       "      <td>Barré</td>\n",
       "      <td>champs-elysees.csv</td>\n",
       "      <td>2020-03-01</td>\n",
       "    </tr>\n",
       "    <tr>\n",
       "      <th>2174</th>\n",
       "      <td>AV_Champs_Elysees</td>\n",
       "      <td>2020-06-05 00:00:00</td>\n",
       "      <td>478.0</td>\n",
       "      <td>5.65056</td>\n",
       "      <td>Fluide</td>\n",
       "      <td>Invalide</td>\n",
       "      <td>champs-elysees.csv</td>\n",
       "      <td>2020-06-05</td>\n",
       "    </tr>\n",
       "  </tbody>\n",
       "</table>\n",
       "</div>"
      ],
      "text/plain": [
       "                Libelle Date et heure de comptage  Débit horaire  \\\n",
       "1312  AV_Champs_Elysees       2020-09-15 20:00:00          749.0   \n",
       "4620  AV_Champs_Elysees       2020-01-08 18:00:00         1030.0   \n",
       "2215  AV_Champs_Elysees       2020-05-16 10:00:00          878.0   \n",
       "2864  AV_Champs_Elysees       2020-03-01 14:00:00           58.0   \n",
       "2174  AV_Champs_Elysees       2020-06-05 00:00:00          478.0   \n",
       "\n",
       "      Taux d'occupation Etat trafic  Etat arc            filename        Date  \n",
       "1312           12.85500      Fluide  Invalide  champs-elysees.csv  2020-09-15  \n",
       "4620           26.11389  Pré-saturé  Invalide  champs-elysees.csv  2020-01-08  \n",
       "2215           11.62111      Fluide  Invalide  champs-elysees.csv  2020-05-16  \n",
       "2864            1.36834      Fluide     Barré  champs-elysees.csv  2020-03-01  \n",
       "2174            5.65056      Fluide  Invalide  champs-elysees.csv  2020-06-05  "
      ]
     },
     "execution_count": 34,
     "metadata": {},
     "output_type": "execute_result"
    }
   ],
   "source": [
    "df['Date'] = pd.to_datetime(df[\"Date et heure de comptage\"]).dt.date\n",
    "df.sample(5)"
   ]
  },
  {
   "cell_type": "markdown",
   "metadata": {},
   "source": [
    "Ajout du jour de la semaine:"
   ]
  },
  {
   "cell_type": "code",
   "execution_count": 35,
   "metadata": {},
   "outputs": [
    {
     "data": {
      "text/html": [
       "<div>\n",
       "<style scoped>\n",
       "    .dataframe tbody tr th:only-of-type {\n",
       "        vertical-align: middle;\n",
       "    }\n",
       "\n",
       "    .dataframe tbody tr th {\n",
       "        vertical-align: top;\n",
       "    }\n",
       "\n",
       "    .dataframe thead th {\n",
       "        text-align: right;\n",
       "    }\n",
       "</style>\n",
       "<table border=\"1\" class=\"dataframe\">\n",
       "  <thead>\n",
       "    <tr style=\"text-align: right;\">\n",
       "      <th></th>\n",
       "      <th>Libelle</th>\n",
       "      <th>Date et heure de comptage</th>\n",
       "      <th>Débit horaire</th>\n",
       "      <th>Taux d'occupation</th>\n",
       "      <th>Etat trafic</th>\n",
       "      <th>Etat arc</th>\n",
       "      <th>filename</th>\n",
       "      <th>Date</th>\n",
       "      <th>Jour de la semaine</th>\n",
       "    </tr>\n",
       "  </thead>\n",
       "  <tbody>\n",
       "    <tr>\n",
       "      <th>4706</th>\n",
       "      <td>AV_Champs_Elysees</td>\n",
       "      <td>2020-11-25 16:00:00</td>\n",
       "      <td>892.0</td>\n",
       "      <td>10.34556</td>\n",
       "      <td>Fluide</td>\n",
       "      <td>Invalide</td>\n",
       "      <td>champs-elysees.csv</td>\n",
       "      <td>2020-11-25</td>\n",
       "      <td>2</td>\n",
       "    </tr>\n",
       "    <tr>\n",
       "      <th>4117</th>\n",
       "      <td>AV_Champs_Elysees</td>\n",
       "      <td>2020-08-20 15:00:00</td>\n",
       "      <td>787.0</td>\n",
       "      <td>13.01889</td>\n",
       "      <td>Fluide</td>\n",
       "      <td>Invalide</td>\n",
       "      <td>champs-elysees.csv</td>\n",
       "      <td>2020-08-20</td>\n",
       "      <td>3</td>\n",
       "    </tr>\n",
       "    <tr>\n",
       "      <th>5801</th>\n",
       "      <td>AV_Champs_Elysees</td>\n",
       "      <td>2020-10-22 17:00:00</td>\n",
       "      <td>1246.0</td>\n",
       "      <td>20.10222</td>\n",
       "      <td>Pré-saturé</td>\n",
       "      <td>Invalide</td>\n",
       "      <td>champs-elysees.csv</td>\n",
       "      <td>2020-10-22</td>\n",
       "      <td>3</td>\n",
       "    </tr>\n",
       "    <tr>\n",
       "      <th>927</th>\n",
       "      <td>AV_Champs_Elysees</td>\n",
       "      <td>2019-12-13 16:00:00</td>\n",
       "      <td>1027.0</td>\n",
       "      <td>28.81222</td>\n",
       "      <td>Pré-saturé</td>\n",
       "      <td>Invalide</td>\n",
       "      <td>champs-elysees.csv</td>\n",
       "      <td>2019-12-13</td>\n",
       "      <td>4</td>\n",
       "    </tr>\n",
       "    <tr>\n",
       "      <th>3905</th>\n",
       "      <td>AV_Champs_Elysees</td>\n",
       "      <td>2020-04-06 17:00:00</td>\n",
       "      <td>170.0</td>\n",
       "      <td>1.75556</td>\n",
       "      <td>Fluide</td>\n",
       "      <td>Invalide</td>\n",
       "      <td>champs-elysees.csv</td>\n",
       "      <td>2020-04-06</td>\n",
       "      <td>0</td>\n",
       "    </tr>\n",
       "  </tbody>\n",
       "</table>\n",
       "</div>"
      ],
      "text/plain": [
       "                Libelle Date et heure de comptage  Débit horaire  \\\n",
       "4706  AV_Champs_Elysees       2020-11-25 16:00:00          892.0   \n",
       "4117  AV_Champs_Elysees       2020-08-20 15:00:00          787.0   \n",
       "5801  AV_Champs_Elysees       2020-10-22 17:00:00         1246.0   \n",
       "927   AV_Champs_Elysees       2019-12-13 16:00:00         1027.0   \n",
       "3905  AV_Champs_Elysees       2020-04-06 17:00:00          170.0   \n",
       "\n",
       "      Taux d'occupation Etat trafic  Etat arc            filename        Date  \\\n",
       "4706           10.34556      Fluide  Invalide  champs-elysees.csv  2020-11-25   \n",
       "4117           13.01889      Fluide  Invalide  champs-elysees.csv  2020-08-20   \n",
       "5801           20.10222  Pré-saturé  Invalide  champs-elysees.csv  2020-10-22   \n",
       "927            28.81222  Pré-saturé  Invalide  champs-elysees.csv  2019-12-13   \n",
       "3905            1.75556      Fluide  Invalide  champs-elysees.csv  2020-04-06   \n",
       "\n",
       "      Jour de la semaine  \n",
       "4706                   2  \n",
       "4117                   3  \n",
       "5801                   3  \n",
       "927                    4  \n",
       "3905                   0  "
      ]
     },
     "execution_count": 35,
     "metadata": {},
     "output_type": "execute_result"
    }
   ],
   "source": [
    "df['Jour de la semaine'] = pd.to_datetime(df[\"Date et heure de comptage\"]).dt.dayofweek\n",
    "df.sample(5)"
   ]
  },
  {
   "cell_type": "markdown",
   "metadata": {},
   "source": [
    "## Prise en compte du confinement"
   ]
  },
  {
   "cell_type": "markdown",
   "metadata": {},
   "source": [
    "D'après Wikipedia:\n",
    ">L'interdiction de déplacement en France, vulgarisée dans les médias par l'expression « confinement de la population » ou « confinement national », est une mesure sanitaire mise en place pour la première fois du 17 mars à 12 h au 11 mai 2020 (55 jours, soit 1 mois et 25 jours), et une deuxième fois à partir du 30 octobre 2020 au 15 décembre 2020 (soit 1 mois et 18 jours), s'insère dans un ensemble de politiques de restrictions de contacts humains et de déplacements en réponse à la pandémie de Covid-19 en France."
   ]
  },
  {
   "cell_type": "code",
   "execution_count": 36,
   "metadata": {},
   "outputs": [],
   "source": [
    "confinement_1 = pd.date_range(start='3/17/2020', end='5/11/2020')\n",
    "confinement_2 = pd.date_range(start='10/30/2020', end='12/15/2020')"
   ]
  },
  {
   "cell_type": "code",
   "execution_count": 60,
   "metadata": {
    "scrolled": true
   },
   "outputs": [
    {
     "data": {
      "text/html": [
       "<div>\n",
       "<style scoped>\n",
       "    .dataframe tbody tr th:only-of-type {\n",
       "        vertical-align: middle;\n",
       "    }\n",
       "\n",
       "    .dataframe tbody tr th {\n",
       "        vertical-align: top;\n",
       "    }\n",
       "\n",
       "    .dataframe thead th {\n",
       "        text-align: right;\n",
       "    }\n",
       "</style>\n",
       "<table border=\"1\" class=\"dataframe\">\n",
       "  <thead>\n",
       "    <tr style=\"text-align: right;\">\n",
       "      <th></th>\n",
       "      <th>Libelle</th>\n",
       "      <th>Date et heure de comptage</th>\n",
       "      <th>Débit horaire</th>\n",
       "      <th>Taux d'occupation</th>\n",
       "      <th>Etat trafic</th>\n",
       "      <th>Etat arc</th>\n",
       "      <th>filename</th>\n",
       "      <th>Date</th>\n",
       "      <th>Jour de la semaine</th>\n",
       "      <th>Etat du Confinement</th>\n",
       "      <th>Etat du confinement</th>\n",
       "    </tr>\n",
       "  </thead>\n",
       "  <tbody>\n",
       "    <tr>\n",
       "      <th>41</th>\n",
       "      <td>AV_Champs_Elysees</td>\n",
       "      <td>2020-10-01 04:00:00</td>\n",
       "      <td>315.0</td>\n",
       "      <td>2.52056</td>\n",
       "      <td>Fluide</td>\n",
       "      <td>Invalide</td>\n",
       "      <td>champs-elysees.csv</td>\n",
       "      <td>2020-10-01</td>\n",
       "      <td>3</td>\n",
       "      <td>2</td>\n",
       "      <td>2</td>\n",
       "    </tr>\n",
       "    <tr>\n",
       "      <th>5786</th>\n",
       "      <td>AV_Champs_Elysees</td>\n",
       "      <td>2020-08-14 01:00:00</td>\n",
       "      <td>310.0</td>\n",
       "      <td>3.68111</td>\n",
       "      <td>Fluide</td>\n",
       "      <td>Invalide</td>\n",
       "      <td>champs-elysees.csv</td>\n",
       "      <td>2020-08-14</td>\n",
       "      <td>4</td>\n",
       "      <td>2</td>\n",
       "      <td>2</td>\n",
       "    </tr>\n",
       "    <tr>\n",
       "      <th>8346</th>\n",
       "      <td>AV_Champs_Elysees</td>\n",
       "      <td>2019-12-24 00:00:00</td>\n",
       "      <td>671.0</td>\n",
       "      <td>11.04000</td>\n",
       "      <td>Fluide</td>\n",
       "      <td>Invalide</td>\n",
       "      <td>champs-elysees.csv</td>\n",
       "      <td>2019-12-24</td>\n",
       "      <td>1</td>\n",
       "      <td>0</td>\n",
       "      <td>0</td>\n",
       "    </tr>\n",
       "    <tr>\n",
       "      <th>7437</th>\n",
       "      <td>AV_Champs_Elysees</td>\n",
       "      <td>2020-08-31 17:00:00</td>\n",
       "      <td>1247.0</td>\n",
       "      <td>20.50889</td>\n",
       "      <td>Pré-saturé</td>\n",
       "      <td>Invalide</td>\n",
       "      <td>champs-elysees.csv</td>\n",
       "      <td>2020-08-31</td>\n",
       "      <td>0</td>\n",
       "      <td>2</td>\n",
       "      <td>2</td>\n",
       "    </tr>\n",
       "    <tr>\n",
       "      <th>4205</th>\n",
       "      <td>AV_Champs_Elysees</td>\n",
       "      <td>2020-09-04 17:00:00</td>\n",
       "      <td>1199.0</td>\n",
       "      <td>18.57778</td>\n",
       "      <td>Pré-saturé</td>\n",
       "      <td>Invalide</td>\n",
       "      <td>champs-elysees.csv</td>\n",
       "      <td>2020-09-04</td>\n",
       "      <td>4</td>\n",
       "      <td>2</td>\n",
       "      <td>2</td>\n",
       "    </tr>\n",
       "  </tbody>\n",
       "</table>\n",
       "</div>"
      ],
      "text/plain": [
       "                Libelle Date et heure de comptage  Débit horaire  \\\n",
       "41    AV_Champs_Elysees       2020-10-01 04:00:00          315.0   \n",
       "5786  AV_Champs_Elysees       2020-08-14 01:00:00          310.0   \n",
       "8346  AV_Champs_Elysees       2019-12-24 00:00:00          671.0   \n",
       "7437  AV_Champs_Elysees       2020-08-31 17:00:00         1247.0   \n",
       "4205  AV_Champs_Elysees       2020-09-04 17:00:00         1199.0   \n",
       "\n",
       "      Taux d'occupation Etat trafic  Etat arc            filename        Date  \\\n",
       "41              2.52056      Fluide  Invalide  champs-elysees.csv  2020-10-01   \n",
       "5786            3.68111      Fluide  Invalide  champs-elysees.csv  2020-08-14   \n",
       "8346           11.04000      Fluide  Invalide  champs-elysees.csv  2019-12-24   \n",
       "7437           20.50889  Pré-saturé  Invalide  champs-elysees.csv  2020-08-31   \n",
       "4205           18.57778  Pré-saturé  Invalide  champs-elysees.csv  2020-09-04   \n",
       "\n",
       "      Jour de la semaine  Etat du Confinement  Etat du confinement  \n",
       "41                     3                    2                    2  \n",
       "5786                   4                    2                    2  \n",
       "8346                   1                    0                    0  \n",
       "7437                   0                    2                    2  \n",
       "4205                   4                    2                    2  "
      ]
     },
     "execution_count": 60,
     "metadata": {},
     "output_type": "execute_result"
    }
   ],
   "source": [
    "# create a list of our conditions\n",
    "conditions = [\n",
    "    (df[\"Date et heure de comptage\"] < confinement_1[0]),\n",
    "    (confinement_1[0] <= df[\"Date et heure de comptage\"]) & (df[\"Date et heure de comptage\"] < confinement_1[-1]),\n",
    "    (confinement_1[-1] <= df[\"Date et heure de comptage\"]) & (df[\"Date et heure de comptage\"] < confinement_2[0]),\n",
    "    (confinement_2[0] <= df[\"Date et heure de comptage\"]) & (df[\"Date et heure de comptage\"] < confinement_2[-1]),\n",
    "    (confinement_2[-1] <= df[\"Date et heure de comptage\"])\n",
    "    ]\n",
    "\n",
    "# create a list of the values we want to assign for each condition\n",
    "values = [0, 1, 2, 3, 4]\n",
    "\n",
    "# create a new column and use np.select to assign values to it using our lists as arguments\n",
    "df['Etat du confinement'] = np.select(conditions, values)\n",
    "df.sample(5)"
   ]
  },
  {
   "cell_type": "code",
   "execution_count": 63,
   "metadata": {
    "scrolled": true
   },
   "outputs": [
    {
     "data": {
      "text/plain": [
       "2    4070\n",
       "0    3217\n",
       "1    1313\n",
       "3     743\n",
       "Name: Etat du confinement, dtype: int64"
      ]
     },
     "execution_count": 63,
     "metadata": {},
     "output_type": "execute_result"
    }
   ],
   "source": [
    "df['Etat du confinement'].value_counts()"
   ]
  },
  {
   "cell_type": "markdown",
   "metadata": {},
   "source": []
  },
  {
   "cell_type": "markdown",
   "metadata": {},
   "source": [
    "## Analyse et visualisation (partie 2)"
   ]
  },
  {
   "cell_type": "code",
   "execution_count": null,
   "metadata": {},
   "outputs": [],
   "source": []
  },
  {
   "cell_type": "markdown",
   "metadata": {},
   "source": [
    "# Export train / dev / test"
   ]
  },
  {
   "cell_type": "code",
   "execution_count": 39,
   "metadata": {},
   "outputs": [],
   "source": [
    "def get_datasets(df, percentage_train, percentage_dev, percentage_test, seed=None):\n",
    "    assert(percentage_train + percentage_dev + percentage_test == 1.), 'Please correct the input values.'\n",
    "    df_train, df_dev, df_test = np.split(\n",
    "        df.sample(frac=1, random_state=seed),\n",
    "        [int(percentage_train*len(df)), int((percentage_train+percentage_dev)*len(df))]\n",
    "    )\n",
    "    return df_train, df_dev, df_test"
   ]
  },
  {
   "cell_type": "code",
   "execution_count": 40,
   "metadata": {},
   "outputs": [
    {
     "name": "stdout",
     "output_type": "stream",
     "text": [
      "% train: 0.7999571871989725\n",
      "% dev: 0.09996789039922938\n",
      "% test: 0.10007492240179813\n"
     ]
    }
   ],
   "source": [
    "percentage_train = 0.8\n",
    "percentage_dev = 0.1\n",
    "percentage_test = 0.1\n",
    "\n",
    "df_train, df_dev, df_test = get_datasets(df, percentage_train, percentage_dev, percentage_test, seed=0)\n",
    "\n",
    "print(f'% train: {len(df_train) / len(df)}')\n",
    "print(f'% dev: {len(df_dev) / len(df)}')\n",
    "print(f'% test: {len(df_test) / len(df)}')"
   ]
  },
  {
   "cell_type": "code",
   "execution_count": 41,
   "metadata": {
    "scrolled": true
   },
   "outputs": [
    {
     "data": {
      "text/html": [
       "<div>\n",
       "<style scoped>\n",
       "    .dataframe tbody tr th:only-of-type {\n",
       "        vertical-align: middle;\n",
       "    }\n",
       "\n",
       "    .dataframe tbody tr th {\n",
       "        vertical-align: top;\n",
       "    }\n",
       "\n",
       "    .dataframe thead th {\n",
       "        text-align: right;\n",
       "    }\n",
       "</style>\n",
       "<table border=\"1\" class=\"dataframe\">\n",
       "  <thead>\n",
       "    <tr style=\"text-align: right;\">\n",
       "      <th></th>\n",
       "      <th>forecast</th>\n",
       "      <th>position</th>\n",
       "      <th>timestamp</th>\n",
       "      <th>2_metre_temperature</th>\n",
       "      <th>minimum_temperature_at_2_metres</th>\n",
       "      <th>maximum_temperature_at_2_metres</th>\n",
       "      <th>relative_humidity</th>\n",
       "      <th>total_water_precipitation</th>\n",
       "      <th>wind_speed</th>\n",
       "      <th>downward_short_wave_radiation_flux</th>\n",
       "      <th>surface_latent_heat_flux</th>\n",
       "      <th>surface_sensible_heat_flux</th>\n",
       "      <th>surface_net_solar_radiation</th>\n",
       "      <th>surface_net_thermal_radiation</th>\n",
       "    </tr>\n",
       "  </thead>\n",
       "  <tbody>\n",
       "    <tr>\n",
       "      <th>10395</th>\n",
       "      <td>2020-12-03T15:00:00+01:00</td>\n",
       "      <td>50.475,3.175</td>\n",
       "      <td>2020-12-02T04:00:00+01:00</td>\n",
       "      <td>5.450616</td>\n",
       "      <td>5.433038</td>\n",
       "      <td>5.459833</td>\n",
       "      <td>88.558044</td>\n",
       "      <td>4.031250</td>\n",
       "      <td>8.630960</td>\n",
       "      <td>3648331.00</td>\n",
       "      <td>-2057936.0</td>\n",
       "      <td>186192.0</td>\n",
       "      <td>3086574.00</td>\n",
       "      <td>-1608080.0</td>\n",
       "    </tr>\n",
       "    <tr>\n",
       "      <th>10396</th>\n",
       "      <td>2020-12-02T21:00:00+01:00</td>\n",
       "      <td>50.475,3.2</td>\n",
       "      <td>2020-12-02T04:00:00+01:00</td>\n",
       "      <td>4.823755</td>\n",
       "      <td>4.813989</td>\n",
       "      <td>5.043970</td>\n",
       "      <td>95.309006</td>\n",
       "      <td>0.142578</td>\n",
       "      <td>2.808706</td>\n",
       "      <td>2411859.25</td>\n",
       "      <td>-720368.0</td>\n",
       "      <td>-342288.0</td>\n",
       "      <td>2031112.25</td>\n",
       "      <td>-1070383.0</td>\n",
       "    </tr>\n",
       "    <tr>\n",
       "      <th>10397</th>\n",
       "      <td>2020-12-03T03:00:00+01:00</td>\n",
       "      <td>50.475,3.2</td>\n",
       "      <td>2020-12-02T04:00:00+01:00</td>\n",
       "      <td>5.084894</td>\n",
       "      <td>4.875909</td>\n",
       "      <td>5.085413</td>\n",
       "      <td>93.203278</td>\n",
       "      <td>1.765625</td>\n",
       "      <td>5.833693</td>\n",
       "      <td>2411859.25</td>\n",
       "      <td>-1124576.0</td>\n",
       "      <td>39520.0</td>\n",
       "      <td>2031112.25</td>\n",
       "      <td>-1246658.0</td>\n",
       "    </tr>\n",
       "    <tr>\n",
       "      <th>10398</th>\n",
       "      <td>2020-12-03T04:00:00+01:00</td>\n",
       "      <td>50.475,3.2</td>\n",
       "      <td>2020-12-02T04:00:00+01:00</td>\n",
       "      <td>5.058649</td>\n",
       "      <td>5.055444</td>\n",
       "      <td>5.076440</td>\n",
       "      <td>94.659805</td>\n",
       "      <td>1.767578</td>\n",
       "      <td>4.841098</td>\n",
       "      <td>2411859.25</td>\n",
       "      <td>-1173680.0</td>\n",
       "      <td>85904.0</td>\n",
       "      <td>2031112.25</td>\n",
       "      <td>-1255693.0</td>\n",
       "    </tr>\n",
       "    <tr>\n",
       "      <th>10399</th>\n",
       "      <td>2020-12-03T14:00:00+01:00</td>\n",
       "      <td>50.475,3.2</td>\n",
       "      <td>2020-12-02T04:00:00+01:00</td>\n",
       "      <td>5.466272</td>\n",
       "      <td>5.440240</td>\n",
       "      <td>5.530725</td>\n",
       "      <td>89.478706</td>\n",
       "      <td>3.701172</td>\n",
       "      <td>7.906998</td>\n",
       "      <td>3396048.50</td>\n",
       "      <td>-1982048.0</td>\n",
       "      <td>247136.0</td>\n",
       "      <td>2869322.50</td>\n",
       "      <td>-1579968.0</td>\n",
       "    </tr>\n",
       "  </tbody>\n",
       "</table>\n",
       "</div>"
      ],
      "text/plain": [
       "                        forecast      position                  timestamp  \\\n",
       "10395  2020-12-03T15:00:00+01:00  50.475,3.175  2020-12-02T04:00:00+01:00   \n",
       "10396  2020-12-02T21:00:00+01:00    50.475,3.2  2020-12-02T04:00:00+01:00   \n",
       "10397  2020-12-03T03:00:00+01:00    50.475,3.2  2020-12-02T04:00:00+01:00   \n",
       "10398  2020-12-03T04:00:00+01:00    50.475,3.2  2020-12-02T04:00:00+01:00   \n",
       "10399  2020-12-03T14:00:00+01:00    50.475,3.2  2020-12-02T04:00:00+01:00   \n",
       "\n",
       "       2_metre_temperature  minimum_temperature_at_2_metres  \\\n",
       "10395             5.450616                         5.433038   \n",
       "10396             4.823755                         4.813989   \n",
       "10397             5.084894                         4.875909   \n",
       "10398             5.058649                         5.055444   \n",
       "10399             5.466272                         5.440240   \n",
       "\n",
       "       maximum_temperature_at_2_metres  relative_humidity  \\\n",
       "10395                         5.459833          88.558044   \n",
       "10396                         5.043970          95.309006   \n",
       "10397                         5.085413          93.203278   \n",
       "10398                         5.076440          94.659805   \n",
       "10399                         5.530725          89.478706   \n",
       "\n",
       "       total_water_precipitation  wind_speed  \\\n",
       "10395                   4.031250    8.630960   \n",
       "10396                   0.142578    2.808706   \n",
       "10397                   1.765625    5.833693   \n",
       "10398                   1.767578    4.841098   \n",
       "10399                   3.701172    7.906998   \n",
       "\n",
       "       downward_short_wave_radiation_flux  surface_latent_heat_flux  \\\n",
       "10395                          3648331.00                -2057936.0   \n",
       "10396                          2411859.25                 -720368.0   \n",
       "10397                          2411859.25                -1124576.0   \n",
       "10398                          2411859.25                -1173680.0   \n",
       "10399                          3396048.50                -1982048.0   \n",
       "\n",
       "       surface_sensible_heat_flux  surface_net_solar_radiation  \\\n",
       "10395                    186192.0                   3086574.00   \n",
       "10396                   -342288.0                   2031112.25   \n",
       "10397                     39520.0                   2031112.25   \n",
       "10398                     85904.0                   2031112.25   \n",
       "10399                    247136.0                   2869322.50   \n",
       "\n",
       "       surface_net_thermal_radiation  \n",
       "10395                     -1608080.0  \n",
       "10396                     -1070383.0  \n",
       "10397                     -1246658.0  \n",
       "10398                     -1255693.0  \n",
       "10399                     -1579968.0  "
      ]
     },
     "execution_count": 41,
     "metadata": {},
     "output_type": "execute_result"
    }
   ],
   "source": [
    "test = pd.read_csv('data/previsions-meteo-france-metropole.csv', sep=';')\n",
    "test.tail()"
   ]
  },
  {
   "cell_type": "code",
   "execution_count": null,
   "metadata": {},
   "outputs": [],
   "source": []
  }
 ],
 "metadata": {
  "kernelspec": {
   "display_name": "Python 3",
   "language": "python",
   "name": "python3"
  },
  "language_info": {
   "codemirror_mode": {
    "name": "ipython",
    "version": 3
   },
   "file_extension": ".py",
   "mimetype": "text/x-python",
   "name": "python",
   "nbconvert_exporter": "python",
   "pygments_lexer": "ipython3",
   "version": "3.7.9"
  },
  "toc": {
   "base_numbering": 1,
   "nav_menu": {},
   "number_sections": true,
   "sideBar": true,
   "skip_h1_title": false,
   "title_cell": "Table of Contents",
   "title_sidebar": "Contents",
   "toc_cell": true,
   "toc_position": {
    "height": "calc(100% - 180px)",
    "left": "10px",
    "top": "150px",
    "width": "250px"
   },
   "toc_section_display": true,
   "toc_window_display": true
  },
  "varInspector": {
   "cols": {
    "lenName": 16,
    "lenType": 16,
    "lenVar": 40
   },
   "kernels_config": {
    "python": {
     "delete_cmd_postfix": "",
     "delete_cmd_prefix": "del ",
     "library": "var_list.py",
     "varRefreshCmd": "print(var_dic_list())"
    },
    "r": {
     "delete_cmd_postfix": ") ",
     "delete_cmd_prefix": "rm(",
     "library": "var_list.r",
     "varRefreshCmd": "cat(var_dic_list()) "
    }
   },
   "types_to_exclude": [
    "module",
    "function",
    "builtin_function_or_method",
    "instance",
    "_Feature"
   ],
   "window_display": false
  }
 },
 "nbformat": 4,
 "nbformat_minor": 4
}

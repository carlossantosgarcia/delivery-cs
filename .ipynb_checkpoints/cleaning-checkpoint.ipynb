{
 "cells": [
  {
   "cell_type": "markdown",
   "metadata": {},
   "source": [
    "<center> <font size='6' font-weight='bold'> Nettoyage des données </font> </center>"
   ]
  },
  {
   "cell_type": "markdown",
   "metadata": {},
   "source": [
    "**Description :** Notebook servant au nettoyage des données."
   ]
  },
  {
   "cell_type": "markdown",
   "metadata": {
    "toc": true
   },
   "source": [
    "<h1>Table of Contents<span class=\"tocSkip\"></span></h1>\n",
    "<div class=\"toc\"><ul class=\"toc-item\"><li><span><a href=\"#Import-des-données\" data-toc-modified-id=\"Import-des-données-1\"><span class=\"toc-item-num\">1&nbsp;&nbsp;</span>Import des données</a></span><ul class=\"toc-item\"><li><span><a href=\"#Informations-générales\" data-toc-modified-id=\"Informations-générales-1.1\"><span class=\"toc-item-num\">1.1&nbsp;&nbsp;</span>Informations générales</a></span></li><li><span><a href=\"#Lecture-des-CSV\" data-toc-modified-id=\"Lecture-des-CSV-1.2\"><span class=\"toc-item-num\">1.2&nbsp;&nbsp;</span>Lecture des CSV</a></span></li><li><span><a href=\"#Filtrage-par-noeud\" data-toc-modified-id=\"Filtrage-par-noeud-1.3\"><span class=\"toc-item-num\">1.3&nbsp;&nbsp;</span>Filtrage par noeud</a></span></li></ul></li><li><span><a href=\"#Nettoyage-des-données\" data-toc-modified-id=\"Nettoyage-des-données-2\"><span class=\"toc-item-num\">2&nbsp;&nbsp;</span>Nettoyage des données</a></span><ul class=\"toc-item\"><li><span><a href=\"#NaN\" data-toc-modified-id=\"NaN-2.1\"><span class=\"toc-item-num\">2.1&nbsp;&nbsp;</span>NaN</a></span></li><li><span><a href=\"#Conversion-en-datetime64\" data-toc-modified-id=\"Conversion-en-datetime64-2.2\"><span class=\"toc-item-num\">2.2&nbsp;&nbsp;</span>Conversion en datetime64</a></span></li></ul></li><li><span><a href=\"#Analyse-et-visualisation-(partie-1)\" data-toc-modified-id=\"Analyse-et-visualisation-(partie-1)-3\"><span class=\"toc-item-num\">3&nbsp;&nbsp;</span>Analyse et visualisation (partie 1)</a></span></li><li><span><a href=\"#Feature-engineering\" data-toc-modified-id=\"Feature-engineering-4\"><span class=\"toc-item-num\">4&nbsp;&nbsp;</span>Feature engineering</a></span><ul class=\"toc-item\"><li><span><a href=\"#Categorical-variables\" data-toc-modified-id=\"Categorical-variables-4.1\"><span class=\"toc-item-num\">4.1&nbsp;&nbsp;</span>Categorical variables</a></span></li><li><span><a href=\"#Features-liées-aux-timestamp\" data-toc-modified-id=\"Features-liées-aux-timestamp-4.2\"><span class=\"toc-item-num\">4.2&nbsp;&nbsp;</span>Features liées aux timestamp</a></span></li><li><span><a href=\"#Périodes-de-vacances\" data-toc-modified-id=\"Périodes-de-vacances-4.3\"><span class=\"toc-item-num\">4.3&nbsp;&nbsp;</span>Périodes de vacances</a></span></li><li><span><a href=\"#Confinement\" data-toc-modified-id=\"Confinement-4.4\"><span class=\"toc-item-num\">4.4&nbsp;&nbsp;</span>Confinement</a></span></li><li><span><a href=\"#Couvre-feu\" data-toc-modified-id=\"Couvre-feu-4.5\"><span class=\"toc-item-num\">4.5&nbsp;&nbsp;</span>Couvre-feu</a></span></li><li><span><a href=\"#Jours-fériés\" data-toc-modified-id=\"Jours-fériés-4.6\"><span class=\"toc-item-num\">4.6&nbsp;&nbsp;</span>Jours fériés</a></span></li><li><span><a href=\"#Vacances-scolaires\" data-toc-modified-id=\"Vacances-scolaires-4.7\"><span class=\"toc-item-num\">4.7&nbsp;&nbsp;</span>Vacances scolaires</a></span></li><li><span><a href=\"#Temps-avant-les-prochaines-grandes-vacances-scolaires\" data-toc-modified-id=\"Temps-avant-les-prochaines-grandes-vacances-scolaires-4.8\"><span class=\"toc-item-num\">4.8&nbsp;&nbsp;</span>Temps avant les prochaines grandes vacances scolaires</a></span></li><li><span><a href=\"#Données-météorologiques\" data-toc-modified-id=\"Données-météorologiques-4.9\"><span class=\"toc-item-num\">4.9&nbsp;&nbsp;</span>Données météorologiques</a></span></li></ul></li><li><span><a href=\"#Analyse-et-visualisation-(partie-2)\" data-toc-modified-id=\"Analyse-et-visualisation-(partie-2)-5\"><span class=\"toc-item-num\">5&nbsp;&nbsp;</span>Analyse et visualisation (partie 2)</a></span></li><li><span><a href=\"#Export-train-/-dev-/-test\" data-toc-modified-id=\"Export-train-/-dev-/-test-6\"><span class=\"toc-item-num\">6&nbsp;&nbsp;</span>Export train / dev / test</a></span></li></ul></div>"
   ]
  },
  {
   "cell_type": "code",
   "execution_count": 40,
   "metadata": {},
   "outputs": [],
   "source": [
    "import os\n",
    "import datetime\n",
    "\n",
    "from functools import reduce\n",
    "\n",
    "import numpy as np\n",
    "import pandas as pd\n",
    "\n",
    "import seaborn as sns"
   ]
  },
  {
   "cell_type": "markdown",
   "metadata": {},
   "source": [
    "Les données sont enregistrées dans 3 fichiers CSV différents. Elles portent le nom suivant :"
   ]
  },
  {
   "cell_type": "code",
   "execution_count": 41,
   "metadata": {},
   "outputs": [],
   "source": [
    "data_path = './data'"
   ]
  },
  {
   "cell_type": "code",
   "execution_count": 42,
   "metadata": {
    "scrolled": true
   },
   "outputs": [
    {
     "data": {
      "text/plain": [
       "['convention.csv',\n",
       " '.DS_Store',\n",
       " 'daily_weather_data_from_2009_to_present.pkl',\n",
       " 'champs-elysees.csv',\n",
       " 'jours_feries_metropole.csv',\n",
       " 'fr-en-calendrier-scolaire.csv',\n",
       " 'champs-elysees-cleaned.pkl',\n",
       " 'combined_weather_data_from_2009_to_present.pkl',\n",
       " 'sts.csv']"
      ]
     },
     "execution_count": 42,
     "metadata": {},
     "output_type": "execute_result"
    }
   ],
   "source": [
    "os.listdir(path=data_path)"
   ]
  },
  {
   "cell_type": "code",
   "execution_count": 43,
   "metadata": {},
   "outputs": [],
   "source": [
    "list_filenames = ['champs-elysees.csv', 'convention.csv', 'sts.csv']"
   ]
  },
  {
   "cell_type": "markdown",
   "metadata": {},
   "source": [
    "# Import des données"
   ]
  },
  {
   "cell_type": "markdown",
   "metadata": {},
   "source": [
    "## Informations générales"
   ]
  },
  {
   "cell_type": "markdown",
   "metadata": {},
   "source": [
    "**Les données  ont été téléchargées depuis :**  \n",
    "- https://opendata.paris.fr/explore/dataset/comptages-routiers-permanents/information/?disjunctive.libelle&disjunctive.etat_trafic&disjunctive.libelle_nd_amont&disjunctive.libelle_nd_aval&sort=t_1h  \n",
    "  \n",
    "**Lien de la notice d'obtention des features :**  \n",
    "- https://opendata.paris.fr/api/datasets/1.0/comptages-routiers-permanents/attachments/notice_donnes_trafic_capteurs_permanents_version_20190607_pdf/  \n",
    "  \n",
    "**Quelques infos issues du site sur le dataset:**  \n",
    ">**Données de trafic routier issues des capteurs permanents sur 13 mois glissants en J-1**  \n",
    "Sur le réseau parisien, la mesure du trafic s’effectue majoritairement par le biais de boucles électromagnétiques implantés dans la chaussée.  \n",
    "La donnée est produite par la Direction de la Voirie et des déplacements - Service des Déplacements - Poste Central d'Exploitation Lutèce.  \n",
    "La donnée et les visualisations associées (Tableau, Carte et Dataviz) sont brutes sans aucune interprétation ou analyse. Elles donnent à voir la donnée telle qu'elle est publiée quotidiennement. \n",
    "Elles donnent un aperçu du taux d'occupation et du débit sur plus de 3000 tronçons de voies. A elles seules, elles ne permettent pas de caractériser la complexité de la circulation à Paris.  \n",
    ">  \n",
    "**Deux types de données sont ainsi élaborés :**\n",
    "le taux d’occupation, qui correspond au temps de présence de véhicules sur la boucle en pourcentage d’un intervalle de temps fixe (une heure pour les données fournies). Ainsi, 25% de taux d’occupation sur une heure signifie que des véhicules ont été présents sur la boucle pendant 15 minutes. Le taux fournit une information sur la congestion routière. L’implantation des boucles est pensée de manière à pouvoir déduire, d’une mesure ponctuelle, l’état du trafic sur un arc.\n",
    "le débit est le nombre de véhicules ayant passé le point de comptage pendant un intervalle de temps fixe (une heure pour les données fournies).  \n",
    "L'horodate horaire est effectué en fin de période d'élaboration. \n",
    "Par exemple, l’horodate « 2019-01-01 01:00:00 » désigne la période du 1er janvier 2019 à 00h00 au 1er janvier 2019 à 01h00.  \n",
    "Ainsi, l’observation couplée en un point du taux d’occupation et du débit permet de caractériser le trafic. Cela constitue l’un des fondements de l’ingénierie du trafic, et l’on nomme d’ailleurs cela le « diagramme fondamental ».\n",
    "Un débit peut correspondre à deux situations de trafic : fluide ou saturée, d’où la nécessité du taux d’occupation. A titre d’exemple : sur une heure, un débit de 100 véhicules par heure sur un axe habituellement très chargé peut se rencontrer de nuit (trafic fluide) ou bien en heure de pointe (trafic saturé).  \n",
    ">  \n",
    "**L’équipement du réseau parisien :**  \n",
    "Les principaux axes de la Ville de Paris sont équipés de stations de comptage des véhicules et de mesure du taux d’occupation, à des fins à la fois de régulation du trafic et des transports en commun, d’information aux usagers (diffusion sur le site Sytadin), et d’étude.\n",
    "Il existe deux types de stations sur le réseau : les stations de mesure du taux d’occupation seul, et des stations à la fois de mesure du taux et de comptage des véhicules.\n",
    "Les stations de mesure du taux sont implantées très régulièrement : elles permettent une connaissance fine des conditions de circulation.\n",
    "Les stations de débit sont moins nombreuses, et généralement implantées entre les principales intersections. En effet, le débit se conserve généralement sur une section entre deux grands carrefours."
   ]
  },
  {
   "cell_type": "markdown",
   "metadata": {},
   "source": [
    "## Lecture des CSV"
   ]
  },
  {
   "cell_type": "markdown",
   "metadata": {},
   "source": [
    "On regroupera toutes les lignes des 3 CSV dans un même DataFrame. Une colonne filename y a été ajoutée pour facilement avoir l'origine de la ligne à portée de main.  \n",
    "  \n",
    "Avant tout, nous allons imputer les NaN avec la méthode du *rolling mean*."
   ]
  },
  {
   "cell_type": "code",
   "execution_count": 44,
   "metadata": {},
   "outputs": [],
   "source": [
    "window = 14 # modifier si besoin la taille de la fenêtre\n",
    "\n",
    "l_df = [pd.read_csv(os.path.join(data_path, filename), sep=';', index_col=0).assign(filename=filename) for filename in list_filenames]\n",
    "\n",
    "for df in l_df:\n",
    "    df = df.sort_values(\"Date et heure de comptage\")\n",
    "    df = df.assign(RollingMean=df['Débit horaire'].fillna(df['Débit horaire'].rolling(window=window).mean()))\n",
    "    df = df.assign(RollingMean=df[\"Taux d'occupation\"].fillna(df[\"Taux d'occupation\"].rolling(window=window).mean()))"
   ]
  },
  {
   "cell_type": "code",
   "execution_count": 45,
   "metadata": {},
   "outputs": [
    {
     "data": {
      "text/html": [
       "<div>\n",
       "<style scoped>\n",
       "    .dataframe tbody tr th:only-of-type {\n",
       "        vertical-align: middle;\n",
       "    }\n",
       "\n",
       "    .dataframe tbody tr th {\n",
       "        vertical-align: top;\n",
       "    }\n",
       "\n",
       "    .dataframe thead th {\n",
       "        text-align: right;\n",
       "    }\n",
       "</style>\n",
       "<table border=\"1\" class=\"dataframe\">\n",
       "  <thead>\n",
       "    <tr style=\"text-align: right;\">\n",
       "      <th></th>\n",
       "      <th>Libelle</th>\n",
       "      <th>Date et heure de comptage</th>\n",
       "      <th>Débit horaire</th>\n",
       "      <th>Taux d'occupation</th>\n",
       "      <th>Etat trafic</th>\n",
       "      <th>Identifiant noeud amont</th>\n",
       "      <th>Libelle noeud amont</th>\n",
       "      <th>Identifiant noeud aval</th>\n",
       "      <th>Libelle noeud aval</th>\n",
       "      <th>Etat arc</th>\n",
       "      <th>Date debut dispo data</th>\n",
       "      <th>Date fin dispo data</th>\n",
       "      <th>geo_point_2d</th>\n",
       "      <th>geo_shape</th>\n",
       "      <th>filename</th>\n",
       "    </tr>\n",
       "  </thead>\n",
       "  <tbody>\n",
       "    <tr>\n",
       "      <th>233980</th>\n",
       "      <td>Sts_Peres</td>\n",
       "      <td>2019-11-28T06:00:00+01:00</td>\n",
       "      <td>63.0</td>\n",
       "      <td>1.00611</td>\n",
       "      <td>Fluide</td>\n",
       "      <td>117</td>\n",
       "      <td>Sts_Peres-Grenelle</td>\n",
       "      <td>118</td>\n",
       "      <td>Sevres-Sts_Peres</td>\n",
       "      <td>Invalide</td>\n",
       "      <td>2005-01-01</td>\n",
       "      <td>2019-06-01</td>\n",
       "      <td>48.8523283513,2.32895140461</td>\n",
       "      <td>{\"type\": \"LineString\", \"coordinates\": [[2.3293...</td>\n",
       "      <td>sts.csv</td>\n",
       "    </tr>\n",
       "    <tr>\n",
       "      <th>120764</th>\n",
       "      <td>Convention</td>\n",
       "      <td>2020-08-22T22:00:00+02:00</td>\n",
       "      <td>NaN</td>\n",
       "      <td>1.91333</td>\n",
       "      <td>Fluide</td>\n",
       "      <td>2937</td>\n",
       "      <td>Lecourbe-Convention</td>\n",
       "      <td>2969</td>\n",
       "      <td>Convention-Croix_Nivert</td>\n",
       "      <td>Invalide</td>\n",
       "      <td>2005-01-01</td>\n",
       "      <td>2019-06-01</td>\n",
       "      <td>48.8396566551,2.29116411501</td>\n",
       "      <td>{\"type\": \"LineString\", \"coordinates\": [[2.2919...</td>\n",
       "      <td>convention.csv</td>\n",
       "    </tr>\n",
       "    <tr>\n",
       "      <th>157308</th>\n",
       "      <td>Convention</td>\n",
       "      <td>2020-07-26T15:00:00+02:00</td>\n",
       "      <td>NaN</td>\n",
       "      <td>NaN</td>\n",
       "      <td>Inconnu</td>\n",
       "      <td>2965</td>\n",
       "      <td>Convention-Gutemberg</td>\n",
       "      <td>2387</td>\n",
       "      <td>Rond_Point_Mirabeau</td>\n",
       "      <td>Invalide</td>\n",
       "      <td>2005-01-01</td>\n",
       "      <td>2019-06-01</td>\n",
       "      <td>48.8450383443,2.27928837976</td>\n",
       "      <td>{\"type\": \"LineString\", \"coordinates\": [[2.2812...</td>\n",
       "      <td>convention.csv</td>\n",
       "    </tr>\n",
       "    <tr>\n",
       "      <th>220548</th>\n",
       "      <td>Sts_Peres</td>\n",
       "      <td>2020-01-23T21:00:00+01:00</td>\n",
       "      <td>321.0</td>\n",
       "      <td>5.57056</td>\n",
       "      <td>Fluide</td>\n",
       "      <td>117</td>\n",
       "      <td>Sts_Peres-Grenelle</td>\n",
       "      <td>118</td>\n",
       "      <td>Sevres-Sts_Peres</td>\n",
       "      <td>Invalide</td>\n",
       "      <td>2005-01-01</td>\n",
       "      <td>2019-06-01</td>\n",
       "      <td>48.8523283513,2.32895140461</td>\n",
       "      <td>{\"type\": \"LineString\", \"coordinates\": [[2.3293...</td>\n",
       "      <td>sts.csv</td>\n",
       "    </tr>\n",
       "    <tr>\n",
       "      <th>71555</th>\n",
       "      <td>Convention</td>\n",
       "      <td>2020-07-13T18:00:00+02:00</td>\n",
       "      <td>540.0</td>\n",
       "      <td>3.34778</td>\n",
       "      <td>Fluide</td>\n",
       "      <td>2937</td>\n",
       "      <td>Lecourbe-Convention</td>\n",
       "      <td>2969</td>\n",
       "      <td>Convention-Croix_Nivert</td>\n",
       "      <td>Invalide</td>\n",
       "      <td>2005-01-01</td>\n",
       "      <td>2019-06-01</td>\n",
       "      <td>48.8396566551,2.29116411501</td>\n",
       "      <td>{\"type\": \"LineString\", \"coordinates\": [[2.2919...</td>\n",
       "      <td>convention.csv</td>\n",
       "    </tr>\n",
       "  </tbody>\n",
       "</table>\n",
       "</div>"
      ],
      "text/plain": [
       "           Libelle  Date et heure de comptage  Débit horaire  \\\n",
       "233980   Sts_Peres  2019-11-28T06:00:00+01:00           63.0   \n",
       "120764  Convention  2020-08-22T22:00:00+02:00            NaN   \n",
       "157308  Convention  2020-07-26T15:00:00+02:00            NaN   \n",
       "220548   Sts_Peres  2020-01-23T21:00:00+01:00          321.0   \n",
       "71555   Convention  2020-07-13T18:00:00+02:00          540.0   \n",
       "\n",
       "        Taux d'occupation Etat trafic  Identifiant noeud amont  \\\n",
       "233980            1.00611      Fluide                      117   \n",
       "120764            1.91333      Fluide                     2937   \n",
       "157308                NaN     Inconnu                     2965   \n",
       "220548            5.57056      Fluide                      117   \n",
       "71555             3.34778      Fluide                     2937   \n",
       "\n",
       "         Libelle noeud amont  Identifiant noeud aval       Libelle noeud aval  \\\n",
       "233980    Sts_Peres-Grenelle                     118         Sevres-Sts_Peres   \n",
       "120764   Lecourbe-Convention                    2969  Convention-Croix_Nivert   \n",
       "157308  Convention-Gutemberg                    2387      Rond_Point_Mirabeau   \n",
       "220548    Sts_Peres-Grenelle                     118         Sevres-Sts_Peres   \n",
       "71555    Lecourbe-Convention                    2969  Convention-Croix_Nivert   \n",
       "\n",
       "        Etat arc Date debut dispo data Date fin dispo data  \\\n",
       "233980  Invalide            2005-01-01          2019-06-01   \n",
       "120764  Invalide            2005-01-01          2019-06-01   \n",
       "157308  Invalide            2005-01-01          2019-06-01   \n",
       "220548  Invalide            2005-01-01          2019-06-01   \n",
       "71555   Invalide            2005-01-01          2019-06-01   \n",
       "\n",
       "                       geo_point_2d  \\\n",
       "233980  48.8523283513,2.32895140461   \n",
       "120764  48.8396566551,2.29116411501   \n",
       "157308  48.8450383443,2.27928837976   \n",
       "220548  48.8523283513,2.32895140461   \n",
       "71555   48.8396566551,2.29116411501   \n",
       "\n",
       "                                                geo_shape        filename  \n",
       "233980  {\"type\": \"LineString\", \"coordinates\": [[2.3293...         sts.csv  \n",
       "120764  {\"type\": \"LineString\", \"coordinates\": [[2.2919...  convention.csv  \n",
       "157308  {\"type\": \"LineString\", \"coordinates\": [[2.2812...  convention.csv  \n",
       "220548  {\"type\": \"LineString\", \"coordinates\": [[2.3293...         sts.csv  \n",
       "71555   {\"type\": \"LineString\", \"coordinates\": [[2.2919...  convention.csv  "
      ]
     },
     "execution_count": 45,
     "metadata": {},
     "output_type": "execute_result"
    }
   ],
   "source": [
    "df = pd.concat(l_df, ignore_index=True)\n",
    "\n",
    "df.sample(5)"
   ]
  },
  {
   "cell_type": "markdown",
   "metadata": {},
   "source": [
    "## Filtrage par noeud"
   ]
  },
  {
   "cell_type": "markdown",
   "metadata": {},
   "source": [
    "On peut déjà drop les identifiants des noeuds et les données liées à la géométrie car ils ne nous serviront pas pour la suite.  \n",
    "On supprimera aussi "
   ]
  },
  {
   "cell_type": "code",
   "execution_count": 46,
   "metadata": {},
   "outputs": [],
   "source": [
    "df = df.drop(columns=[\n",
    "    'Identifiant noeud amont', 'Identifiant noeud aval', 'geo_point_2d',\n",
    "    'geo_shape', 'Date debut dispo data', 'Date fin dispo data'\n",
    "])"
   ]
  },
  {
   "cell_type": "code",
   "execution_count": 47,
   "metadata": {},
   "outputs": [],
   "source": [
    "# Contient pour chaque fichier CSV un 2-tuple de la forme (noeud_amont, noeud_aval)\n",
    "dic_noeuds = {\n",
    "    'champs-elysees.csv': ('Av_Champs_Elysees-Washington', 'Av_Champs_Elysees-Berri'),\n",
    "    'convention.csv': ('Lecourbe-Convention', 'Convention-Blomet'),\n",
    "    'Sts.csv': ('Sts_Peres-Voltaire', 'Sts_Peres-Universite')\n",
    "}"
   ]
  },
  {
   "cell_type": "code",
   "execution_count": 48,
   "metadata": {
    "scrolled": true
   },
   "outputs": [
    {
     "name": "stdout",
     "output_type": "stream",
     "text": [
      "Taille du df avant filtrage: 237568\n",
      "Taille du df après filtrage: 19003\n"
     ]
    }
   ],
   "source": [
    "list_criteria = []\n",
    "for key, val in dic_noeuds.items():\n",
    "    criterion = (df['filename']==key) & (df['Libelle noeud amont']==val[0]) & (df['Libelle noeud aval']==val[1])\n",
    "    list_criteria.append(criterion)\n",
    "\n",
    "criterion_noeuds = reduce(lambda x, y: x | y, list_criteria)\n",
    "\n",
    "print(f'Taille du df avant filtrage: {len(df)}')\n",
    "df = df[criterion_noeuds]\n",
    "print(f'Taille du df après filtrage: {len(df)}')"
   ]
  },
  {
   "cell_type": "markdown",
   "metadata": {},
   "source": [
    "On peut désormais drop les libellés."
   ]
  },
  {
   "cell_type": "code",
   "execution_count": 49,
   "metadata": {},
   "outputs": [
    {
     "data": {
      "text/html": [
       "<div>\n",
       "<style scoped>\n",
       "    .dataframe tbody tr th:only-of-type {\n",
       "        vertical-align: middle;\n",
       "    }\n",
       "\n",
       "    .dataframe tbody tr th {\n",
       "        vertical-align: top;\n",
       "    }\n",
       "\n",
       "    .dataframe thead th {\n",
       "        text-align: right;\n",
       "    }\n",
       "</style>\n",
       "<table border=\"1\" class=\"dataframe\">\n",
       "  <thead>\n",
       "    <tr style=\"text-align: right;\">\n",
       "      <th></th>\n",
       "      <th>Libelle</th>\n",
       "      <th>Date et heure de comptage</th>\n",
       "      <th>Débit horaire</th>\n",
       "      <th>Taux d'occupation</th>\n",
       "      <th>Etat trafic</th>\n",
       "      <th>Etat arc</th>\n",
       "      <th>filename</th>\n",
       "    </tr>\n",
       "  </thead>\n",
       "  <tbody>\n",
       "    <tr>\n",
       "      <th>0</th>\n",
       "      <td>AV_Champs_Elysees</td>\n",
       "      <td>2020-12-01T04:00:00+01:00</td>\n",
       "      <td>108.0</td>\n",
       "      <td>0.41722</td>\n",
       "      <td>Fluide</td>\n",
       "      <td>Invalide</td>\n",
       "      <td>champs-elysees.csv</td>\n",
       "    </tr>\n",
       "    <tr>\n",
       "      <th>1</th>\n",
       "      <td>AV_Champs_Elysees</td>\n",
       "      <td>2020-12-01T09:00:00+01:00</td>\n",
       "      <td>1279.0</td>\n",
       "      <td>13.58000</td>\n",
       "      <td>Fluide</td>\n",
       "      <td>Invalide</td>\n",
       "      <td>champs-elysees.csv</td>\n",
       "    </tr>\n",
       "    <tr>\n",
       "      <th>2</th>\n",
       "      <td>AV_Champs_Elysees</td>\n",
       "      <td>2020-11-02T05:00:00+01:00</td>\n",
       "      <td>144.0</td>\n",
       "      <td>2.25611</td>\n",
       "      <td>Fluide</td>\n",
       "      <td>Invalide</td>\n",
       "      <td>champs-elysees.csv</td>\n",
       "    </tr>\n",
       "    <tr>\n",
       "      <th>3</th>\n",
       "      <td>AV_Champs_Elysees</td>\n",
       "      <td>2020-11-01T23:00:00+01:00</td>\n",
       "      <td>245.0</td>\n",
       "      <td>8.11222</td>\n",
       "      <td>Fluide</td>\n",
       "      <td>Invalide</td>\n",
       "      <td>champs-elysees.csv</td>\n",
       "    </tr>\n",
       "    <tr>\n",
       "      <th>4</th>\n",
       "      <td>AV_Champs_Elysees</td>\n",
       "      <td>2020-12-01T23:00:00+01:00</td>\n",
       "      <td>236.0</td>\n",
       "      <td>2.56222</td>\n",
       "      <td>Fluide</td>\n",
       "      <td>Invalide</td>\n",
       "      <td>champs-elysees.csv</td>\n",
       "    </tr>\n",
       "  </tbody>\n",
       "</table>\n",
       "</div>"
      ],
      "text/plain": [
       "             Libelle  Date et heure de comptage  Débit horaire  \\\n",
       "0  AV_Champs_Elysees  2020-12-01T04:00:00+01:00          108.0   \n",
       "1  AV_Champs_Elysees  2020-12-01T09:00:00+01:00         1279.0   \n",
       "2  AV_Champs_Elysees  2020-11-02T05:00:00+01:00          144.0   \n",
       "3  AV_Champs_Elysees  2020-11-01T23:00:00+01:00          245.0   \n",
       "4  AV_Champs_Elysees  2020-12-01T23:00:00+01:00          236.0   \n",
       "\n",
       "   Taux d'occupation Etat trafic  Etat arc            filename  \n",
       "0            0.41722      Fluide  Invalide  champs-elysees.csv  \n",
       "1           13.58000      Fluide  Invalide  champs-elysees.csv  \n",
       "2            2.25611      Fluide  Invalide  champs-elysees.csv  \n",
       "3            8.11222      Fluide  Invalide  champs-elysees.csv  \n",
       "4            2.56222      Fluide  Invalide  champs-elysees.csv  "
      ]
     },
     "execution_count": 49,
     "metadata": {},
     "output_type": "execute_result"
    }
   ],
   "source": [
    "df = df.drop(columns=['Libelle noeud amont', 'Libelle noeud aval'])\n",
    "df.head()"
   ]
  },
  {
   "cell_type": "markdown",
   "metadata": {},
   "source": [
    "# Nettoyage des données"
   ]
  },
  {
   "cell_type": "code",
   "execution_count": 50,
   "metadata": {},
   "outputs": [
    {
     "data": {
      "text/plain": [
       "Libelle                       object\n",
       "Date et heure de comptage     object\n",
       "Débit horaire                float64\n",
       "Taux d'occupation            float64\n",
       "Etat trafic                   object\n",
       "Etat arc                      object\n",
       "filename                      object\n",
       "dtype: object"
      ]
     },
     "execution_count": 50,
     "metadata": {},
     "output_type": "execute_result"
    }
   ],
   "source": [
    "df.dtypes"
   ]
  },
  {
   "cell_type": "markdown",
   "metadata": {},
   "source": [
    "## NaN"
   ]
  },
  {
   "cell_type": "markdown",
   "metadata": {},
   "source": [
    "#FIXME: imputer les NaN -> cf notebook de Julien"
   ]
  },
  {
   "cell_type": "code",
   "execution_count": 51,
   "metadata": {},
   "outputs": [
    {
     "data": {
      "text/plain": [
       "Libelle                        0\n",
       "Date et heure de comptage      0\n",
       "Débit horaire                144\n",
       "Taux d'occupation            152\n",
       "Etat trafic                    0\n",
       "Etat arc                       0\n",
       "filename                       0\n",
       "dtype: int64"
      ]
     },
     "execution_count": 51,
     "metadata": {},
     "output_type": "execute_result"
    }
   ],
   "source": [
    "df.isna().sum()"
   ]
  },
  {
   "cell_type": "code",
   "execution_count": 52,
   "metadata": {},
   "outputs": [
    {
     "data": {
      "text/plain": [
       "Libelle                      0.000000\n",
       "Date et heure de comptage    0.000000\n",
       "Débit horaire                0.007578\n",
       "Taux d'occupation            0.007999\n",
       "Etat trafic                  0.000000\n",
       "Etat arc                     0.000000\n",
       "filename                     0.000000\n",
       "dtype: float64"
      ]
     },
     "execution_count": 52,
     "metadata": {},
     "output_type": "execute_result"
    }
   ],
   "source": [
    "df.isna().mean()"
   ]
  },
  {
   "cell_type": "markdown",
   "metadata": {},
   "source": [
    "Moins de 1% des lignes ont des NaN. On peut donc drop ces lignes de manière sereine."
   ]
  },
  {
   "cell_type": "code",
   "execution_count": 53,
   "metadata": {},
   "outputs": [
    {
     "data": {
      "text/plain": [
       "Libelle                      0\n",
       "Date et heure de comptage    0\n",
       "Débit horaire                0\n",
       "Taux d'occupation            0\n",
       "Etat trafic                  0\n",
       "Etat arc                     0\n",
       "filename                     0\n",
       "dtype: int64"
      ]
     },
     "execution_count": 53,
     "metadata": {},
     "output_type": "execute_result"
    }
   ],
   "source": [
    "df = df.dropna()\n",
    "df.isna().sum()"
   ]
  },
  {
   "cell_type": "markdown",
   "metadata": {},
   "source": [
    "## Conversion en datetime64"
   ]
  },
  {
   "cell_type": "code",
   "execution_count": 54,
   "metadata": {},
   "outputs": [
    {
     "data": {
      "text/plain": [
       "0         2020-12-01T04:00:00+01:00\n",
       "1         2020-12-01T09:00:00+01:00\n",
       "2         2020-11-02T05:00:00+01:00\n",
       "3         2020-11-01T23:00:00+01:00\n",
       "4         2020-12-01T23:00:00+01:00\n",
       "                    ...            \n",
       "199445    2020-05-30T23:00:00+02:00\n",
       "199525    2020-06-01T02:00:00+02:00\n",
       "199526    2020-06-01T01:00:00+02:00\n",
       "199544    2020-06-01T03:00:00+02:00\n",
       "199545    2020-06-01T04:00:00+02:00\n",
       "Name: Date et heure de comptage, Length: 18851, dtype: object"
      ]
     },
     "execution_count": 54,
     "metadata": {},
     "output_type": "execute_result"
    }
   ],
   "source": [
    "df['Date et heure de comptage']"
   ]
  },
  {
   "cell_type": "markdown",
   "metadata": {},
   "source": [
    "‼️ Il semble y avoir un soucis de timezone pour les capteurs... ‼️  \n",
    "  \n",
    "**Hypothèse:** On ca supposer que l'heure UTC est la bonne pour la suite."
   ]
  },
  {
   "cell_type": "code",
   "execution_count": 55,
   "metadata": {},
   "outputs": [],
   "source": [
    "def remove_timezone(row):\n",
    "    return row.tz_localize(None)"
   ]
  },
  {
   "cell_type": "code",
   "execution_count": 56,
   "metadata": {
    "scrolled": true
   },
   "outputs": [
    {
     "data": {
      "text/plain": [
       "0        2020-12-01 03:00:00\n",
       "1        2020-12-01 08:00:00\n",
       "2        2020-11-02 04:00:00\n",
       "3        2020-11-01 22:00:00\n",
       "4        2020-12-01 22:00:00\n",
       "                 ...        \n",
       "199445   2020-05-30 21:00:00\n",
       "199525   2020-06-01 00:00:00\n",
       "199526   2020-05-31 23:00:00\n",
       "199544   2020-06-01 01:00:00\n",
       "199545   2020-06-01 02:00:00\n",
       "Name: Date et heure de comptage, Length: 18851, dtype: datetime64[ns]"
      ]
     },
     "execution_count": 56,
     "metadata": {},
     "output_type": "execute_result"
    }
   ],
   "source": [
    "df['Date et heure de comptage'] = pd.to_datetime(df['Date et heure de comptage'], utc=True)\n",
    "df['Date et heure de comptage'] = df['Date et heure de comptage'].apply(remove_timezone)\n",
    "df['Date et heure de comptage']"
   ]
  },
  {
   "cell_type": "markdown",
   "metadata": {},
   "source": [
    "On a pour l'instant l'heure UTC. Nous allons nous replacer à l'heure de Paris pour la suite, pour des questions pratiques."
   ]
  },
  {
   "cell_type": "code",
   "execution_count": 57,
   "metadata": {},
   "outputs": [
    {
     "data": {
      "text/plain": [
       "Libelle                              object\n",
       "Date et heure de comptage    datetime64[ns]\n",
       "Débit horaire                       float64\n",
       "Taux d'occupation                   float64\n",
       "Etat trafic                          object\n",
       "Etat arc                             object\n",
       "filename                             object\n",
       "dtype: object"
      ]
     },
     "execution_count": 57,
     "metadata": {},
     "output_type": "execute_result"
    }
   ],
   "source": [
    "df.dtypes"
   ]
  },
  {
   "cell_type": "markdown",
   "metadata": {},
   "source": [
    "On rajoute 1 heure pour revenir à l'heure de Paris."
   ]
  },
  {
   "cell_type": "code",
   "execution_count": 58,
   "metadata": {},
   "outputs": [
    {
     "data": {
      "text/plain": [
       "0        2020-12-01 04:00:00\n",
       "1        2020-12-01 09:00:00\n",
       "2        2020-11-02 05:00:00\n",
       "3        2020-11-01 23:00:00\n",
       "4        2020-12-01 23:00:00\n",
       "                 ...        \n",
       "199445   2020-05-30 22:00:00\n",
       "199525   2020-06-01 01:00:00\n",
       "199526   2020-06-01 00:00:00\n",
       "199544   2020-06-01 02:00:00\n",
       "199545   2020-06-01 03:00:00\n",
       "Name: Date et heure de comptage, Length: 18851, dtype: datetime64[ns]"
      ]
     },
     "execution_count": 58,
     "metadata": {},
     "output_type": "execute_result"
    }
   ],
   "source": [
    "df['Date et heure de comptage'] = df['Date et heure de comptage'] + pd.DateOffset(hours=1)\n",
    "df['Date et heure de comptage']"
   ]
  },
  {
   "cell_type": "code",
   "execution_count": 59,
   "metadata": {},
   "outputs": [
    {
     "name": "stdout",
     "output_type": "stream",
     "text": [
      "Première mesure de comptage prise : 01/11/2019\n",
      "Dernière mesure de comptage prise : 03/12/2020\n"
     ]
    }
   ],
   "source": [
    "date_begin = df['Date et heure de comptage'].min().strftime('%d/%m/%Y')\n",
    "date_end = df['Date et heure de comptage'].max().strftime('%d/%m/%Y')\n",
    "print(f'Première mesure de comptage prise : {date_begin}')\n",
    "print(f'Dernière mesure de comptage prise : {date_end}')"
   ]
  },
  {
   "cell_type": "markdown",
   "metadata": {},
   "source": [
    "# Analyse et visualisation (partie 1)"
   ]
  },
  {
   "cell_type": "code",
   "execution_count": 60,
   "metadata": {},
   "outputs": [
    {
     "data": {
      "text/html": [
       "<div>\n",
       "<style scoped>\n",
       "    .dataframe tbody tr th:only-of-type {\n",
       "        vertical-align: middle;\n",
       "    }\n",
       "\n",
       "    .dataframe tbody tr th {\n",
       "        vertical-align: top;\n",
       "    }\n",
       "\n",
       "    .dataframe thead th {\n",
       "        text-align: right;\n",
       "    }\n",
       "</style>\n",
       "<table border=\"1\" class=\"dataframe\">\n",
       "  <thead>\n",
       "    <tr style=\"text-align: right;\">\n",
       "      <th></th>\n",
       "      <th>Débit horaire</th>\n",
       "      <th>Taux d'occupation</th>\n",
       "    </tr>\n",
       "  </thead>\n",
       "  <tbody>\n",
       "    <tr>\n",
       "      <th>count</th>\n",
       "      <td>18851.000000</td>\n",
       "      <td>18851.000000</td>\n",
       "    </tr>\n",
       "    <tr>\n",
       "      <th>mean</th>\n",
       "      <td>619.564851</td>\n",
       "      <td>9.684420</td>\n",
       "    </tr>\n",
       "    <tr>\n",
       "      <th>std</th>\n",
       "      <td>384.261302</td>\n",
       "      <td>10.806913</td>\n",
       "    </tr>\n",
       "    <tr>\n",
       "      <th>min</th>\n",
       "      <td>0.000000</td>\n",
       "      <td>0.000000</td>\n",
       "    </tr>\n",
       "    <tr>\n",
       "      <th>25%</th>\n",
       "      <td>255.000000</td>\n",
       "      <td>1.947780</td>\n",
       "    </tr>\n",
       "    <tr>\n",
       "      <th>50%</th>\n",
       "      <td>634.000000</td>\n",
       "      <td>5.292220</td>\n",
       "    </tr>\n",
       "    <tr>\n",
       "      <th>75%</th>\n",
       "      <td>944.500000</td>\n",
       "      <td>14.556670</td>\n",
       "    </tr>\n",
       "    <tr>\n",
       "      <th>max</th>\n",
       "      <td>1610.000000</td>\n",
       "      <td>84.668890</td>\n",
       "    </tr>\n",
       "  </tbody>\n",
       "</table>\n",
       "</div>"
      ],
      "text/plain": [
       "       Débit horaire  Taux d'occupation\n",
       "count   18851.000000       18851.000000\n",
       "mean      619.564851           9.684420\n",
       "std       384.261302          10.806913\n",
       "min         0.000000           0.000000\n",
       "25%       255.000000           1.947780\n",
       "50%       634.000000           5.292220\n",
       "75%       944.500000          14.556670\n",
       "max      1610.000000          84.668890"
      ]
     },
     "execution_count": 60,
     "metadata": {},
     "output_type": "execute_result"
    }
   ],
   "source": [
    "df[['Débit horaire', \"Taux d'occupation\"]].describe()"
   ]
  },
  {
   "cell_type": "code",
   "execution_count": 61,
   "metadata": {},
   "outputs": [
    {
     "data": {
      "text/plain": [
       "<AxesSubplot:>"
      ]
     },
     "execution_count": 61,
     "metadata": {},
     "output_type": "execute_result"
    },
    {
     "data": {
      "image/png": "[encoded data removed]",
      "text/plain": [
       "<Figure size 432x288 with 1 Axes>"
      ]
     },
     "metadata": {
      "needs_background": "light"
     },
     "output_type": "display_data"
    }
   ],
   "source": [
    "df[['Débit horaire', \"Taux d'occupation\"]].plot()"
   ]
  },
  {
   "cell_type": "code",
   "execution_count": 62,
   "metadata": {},
   "outputs": [
    {
     "data": {
      "text/plain": [
       "<AxesSubplot:ylabel='Débit horaire'>"
      ]
     },
     "execution_count": 62,
     "metadata": {},
     "output_type": "execute_result"
    },
    {
     "data": {
      "image/png": "[encoded data removed]",
      "text/plain": [
       "<Figure size 432x288 with 1 Axes>"
      ]
     },
     "metadata": {
      "needs_background": "light"
     },
     "output_type": "display_data"
    }
   ],
   "source": [
    "sns.violinplot(y='Débit horaire', data=df)"
   ]
  },
  {
   "cell_type": "code",
   "execution_count": 63,
   "metadata": {},
   "outputs": [
    {
     "data": {
      "text/plain": [
       "<AxesSubplot:ylabel=\"Taux d'occupation\">"
      ]
     },
     "execution_count": 63,
     "metadata": {},
     "output_type": "execute_result"
    },
    {
     "data": {
      "image/png": "[encoded data removed]",
      "text/plain": [
       "<Figure size 432x288 with 1 Axes>"
      ]
     },
     "metadata": {
      "needs_background": "light"
     },
     "output_type": "display_data"
    }
   ],
   "source": [
    "sns.violinplot(y=\"Taux d'occupation\", data=df)"
   ]
  },
  {
   "cell_type": "code",
   "execution_count": 64,
   "metadata": {
    "scrolled": true
   },
   "outputs": [
    {
     "data": {
      "text/plain": [
       "<seaborn.axisgrid.FacetGrid at 0x7f8d78594290>"
      ]
     },
     "execution_count": 64,
     "metadata": {},
     "output_type": "execute_result"
    },
    {
     "data": {
      "image/png": "[encoded data removed]",
      "text/plain": [
       "<Figure size 360x360 with 1 Axes>"
      ]
     },
     "metadata": {
      "needs_background": "light"
     },
     "output_type": "display_data"
    }
   ],
   "source": [
    "sns.displot(df, x=\"Taux d'occupation\")"
   ]
  },
  {
   "cell_type": "markdown",
   "metadata": {},
   "source": [
    "# Feature engineering"
   ]
  },
  {
   "cell_type": "markdown",
   "metadata": {},
   "source": [
    "## Categorical variables"
   ]
  },
  {
   "cell_type": "markdown",
   "metadata": {},
   "source": [
    "Ajoutons un *one-hot encoding* pour les variables catégoriques. On n'oubliera cependant pas de passer à un *dummy encoding* avant d'entraîner le modèle pour éviter un problème de dimension. ‼️"
   ]
  },
  {
   "cell_type": "code",
   "execution_count": 65,
   "metadata": {
    "scrolled": true
   },
   "outputs": [
    {
     "data": {
      "text/plain": [
       "Libelle                              object\n",
       "Date et heure de comptage    datetime64[ns]\n",
       "Débit horaire                       float64\n",
       "Taux d'occupation                   float64\n",
       "Etat trafic                          object\n",
       "Etat arc                             object\n",
       "filename                             object\n",
       "dtype: object"
      ]
     },
     "execution_count": 65,
     "metadata": {},
     "output_type": "execute_result"
    }
   ],
   "source": [
    "df.dtypes"
   ]
  },
  {
   "cell_type": "markdown",
   "metadata": {},
   "source": [
    "**Ordinal encoding :**"
   ]
  },
  {
   "cell_type": "markdown",
   "metadata": {},
   "source": [
    "Il semble en réalité plus pertinent d'utiliser un *ordinal encoding* pour donner une relation d'ordre à la feature. On se servira pour cela des informations contenues dans la notice.\n",
    "<img src=\"ressources/ordinal_encoding.png\" />"
   ]
  },
  {
   "cell_type": "code",
   "execution_count": 66,
   "metadata": {},
   "outputs": [
    {
     "data": {
      "text/plain": [
       "0         Fluide\n",
       "1         Fluide\n",
       "2         Fluide\n",
       "3         Fluide\n",
       "4         Fluide\n",
       "           ...  \n",
       "199445    Fluide\n",
       "199525    Fluide\n",
       "199526    Fluide\n",
       "199544    Fluide\n",
       "199545    Fluide\n",
       "Name: Etat trafic, Length: 18851, dtype: object"
      ]
     },
     "execution_count": 66,
     "metadata": {},
     "output_type": "execute_result"
    }
   ],
   "source": [
    " df['Etat trafic']"
   ]
  },
  {
   "cell_type": "code",
   "execution_count": 67,
   "metadata": {
    "scrolled": false
   },
   "outputs": [
    {
     "data": {
      "text/html": [
       "<div>\n",
       "<style scoped>\n",
       "    .dataframe tbody tr th:only-of-type {\n",
       "        vertical-align: middle;\n",
       "    }\n",
       "\n",
       "    .dataframe tbody tr th {\n",
       "        vertical-align: top;\n",
       "    }\n",
       "\n",
       "    .dataframe thead th {\n",
       "        text-align: right;\n",
       "    }\n",
       "</style>\n",
       "<table border=\"1\" class=\"dataframe\">\n",
       "  <thead>\n",
       "    <tr style=\"text-align: right;\">\n",
       "      <th></th>\n",
       "      <th>Libelle</th>\n",
       "      <th>Date et heure de comptage</th>\n",
       "      <th>Débit horaire</th>\n",
       "      <th>Taux d'occupation</th>\n",
       "      <th>Etat trafic</th>\n",
       "      <th>Etat arc</th>\n",
       "      <th>filename</th>\n",
       "    </tr>\n",
       "  </thead>\n",
       "  <tbody>\n",
       "    <tr>\n",
       "      <th>3379</th>\n",
       "      <td>AV_Champs_Elysees</td>\n",
       "      <td>2019-12-06 14:00:00</td>\n",
       "      <td>951.0</td>\n",
       "      <td>41.97056</td>\n",
       "      <td>3</td>\n",
       "      <td>Invalide</td>\n",
       "      <td>champs-elysees.csv</td>\n",
       "    </tr>\n",
       "    <tr>\n",
       "      <th>5783</th>\n",
       "      <td>AV_Champs_Elysees</td>\n",
       "      <td>2020-08-13 16:00:00</td>\n",
       "      <td>843.0</td>\n",
       "      <td>14.77278</td>\n",
       "      <td>1</td>\n",
       "      <td>Invalide</td>\n",
       "      <td>champs-elysees.csv</td>\n",
       "    </tr>\n",
       "    <tr>\n",
       "      <th>8396</th>\n",
       "      <td>AV_Champs_Elysees</td>\n",
       "      <td>2020-10-01 00:00:00</td>\n",
       "      <td>496.0</td>\n",
       "      <td>5.76556</td>\n",
       "      <td>1</td>\n",
       "      <td>Invalide</td>\n",
       "      <td>champs-elysees.csv</td>\n",
       "    </tr>\n",
       "    <tr>\n",
       "      <th>1735</th>\n",
       "      <td>AV_Champs_Elysees</td>\n",
       "      <td>2020-11-06 00:00:00</td>\n",
       "      <td>138.0</td>\n",
       "      <td>1.39556</td>\n",
       "      <td>1</td>\n",
       "      <td>Invalide</td>\n",
       "      <td>champs-elysees.csv</td>\n",
       "    </tr>\n",
       "    <tr>\n",
       "      <th>8914</th>\n",
       "      <td>AV_Champs_Elysees</td>\n",
       "      <td>2019-11-28 01:00:00</td>\n",
       "      <td>766.0</td>\n",
       "      <td>11.33222</td>\n",
       "      <td>1</td>\n",
       "      <td>Invalide</td>\n",
       "      <td>champs-elysees.csv</td>\n",
       "    </tr>\n",
       "  </tbody>\n",
       "</table>\n",
       "</div>"
      ],
      "text/plain": [
       "                Libelle Date et heure de comptage  Débit horaire  \\\n",
       "3379  AV_Champs_Elysees       2019-12-06 14:00:00          951.0   \n",
       "5783  AV_Champs_Elysees       2020-08-13 16:00:00          843.0   \n",
       "8396  AV_Champs_Elysees       2020-10-01 00:00:00          496.0   \n",
       "1735  AV_Champs_Elysees       2020-11-06 00:00:00          138.0   \n",
       "8914  AV_Champs_Elysees       2019-11-28 01:00:00          766.0   \n",
       "\n",
       "      Taux d'occupation  Etat trafic  Etat arc            filename  \n",
       "3379           41.97056            3  Invalide  champs-elysees.csv  \n",
       "5783           14.77278            1  Invalide  champs-elysees.csv  \n",
       "8396            5.76556            1  Invalide  champs-elysees.csv  \n",
       "1735            1.39556            1  Invalide  champs-elysees.csv  \n",
       "8914           11.33222            1  Invalide  champs-elysees.csv  "
      ]
     },
     "execution_count": 67,
     "metadata": {},
     "output_type": "execute_result"
    }
   ],
   "source": [
    "mapper = {'Inconnu': 0, 'Fluide': 1, 'Pré-saturé': 2, 'Saturé': 3, 'Bloqué': 4}\n",
    "df['Etat trafic'] = df['Etat trafic'].map(mapper)\n",
    "df.sample(5)"
   ]
  },
  {
   "cell_type": "markdown",
   "metadata": {},
   "source": [
    "## Features liées aux timestamp"
   ]
  },
  {
   "cell_type": "markdown",
   "metadata": {},
   "source": [
    "Ajout du jour (sans l'heure) :"
   ]
  },
  {
   "cell_type": "code",
   "execution_count": 68,
   "metadata": {},
   "outputs": [
    {
     "data": {
      "text/html": [
       "<div>\n",
       "<style scoped>\n",
       "    .dataframe tbody tr th:only-of-type {\n",
       "        vertical-align: middle;\n",
       "    }\n",
       "\n",
       "    .dataframe tbody tr th {\n",
       "        vertical-align: top;\n",
       "    }\n",
       "\n",
       "    .dataframe thead th {\n",
       "        text-align: right;\n",
       "    }\n",
       "</style>\n",
       "<table border=\"1\" class=\"dataframe\">\n",
       "  <thead>\n",
       "    <tr style=\"text-align: right;\">\n",
       "      <th></th>\n",
       "      <th>Libelle</th>\n",
       "      <th>Date et heure de comptage</th>\n",
       "      <th>Débit horaire</th>\n",
       "      <th>Taux d'occupation</th>\n",
       "      <th>Etat trafic</th>\n",
       "      <th>Etat arc</th>\n",
       "      <th>filename</th>\n",
       "      <th>Date</th>\n",
       "    </tr>\n",
       "  </thead>\n",
       "  <tbody>\n",
       "    <tr>\n",
       "      <th>26951</th>\n",
       "      <td>Convention</td>\n",
       "      <td>2020-09-07 21:00:00</td>\n",
       "      <td>541.0</td>\n",
       "      <td>2.64167</td>\n",
       "      <td>1</td>\n",
       "      <td>Invalide</td>\n",
       "      <td>convention.csv</td>\n",
       "      <td>2020-09-07</td>\n",
       "    </tr>\n",
       "    <tr>\n",
       "      <th>79080</th>\n",
       "      <td>Convention</td>\n",
       "      <td>2020-08-25 03:00:00</td>\n",
       "      <td>72.0</td>\n",
       "      <td>0.24445</td>\n",
       "      <td>1</td>\n",
       "      <td>Invalide</td>\n",
       "      <td>convention.csv</td>\n",
       "      <td>2020-08-25</td>\n",
       "    </tr>\n",
       "    <tr>\n",
       "      <th>5033</th>\n",
       "      <td>AV_Champs_Elysees</td>\n",
       "      <td>2020-08-22 19:00:00</td>\n",
       "      <td>1065.0</td>\n",
       "      <td>24.03167</td>\n",
       "      <td>2</td>\n",
       "      <td>Invalide</td>\n",
       "      <td>champs-elysees.csv</td>\n",
       "      <td>2020-08-22</td>\n",
       "    </tr>\n",
       "    <tr>\n",
       "      <th>8167</th>\n",
       "      <td>AV_Champs_Elysees</td>\n",
       "      <td>2020-03-30 01:00:00</td>\n",
       "      <td>34.0</td>\n",
       "      <td>0.53555</td>\n",
       "      <td>1</td>\n",
       "      <td>Invalide</td>\n",
       "      <td>champs-elysees.csv</td>\n",
       "      <td>2020-03-30</td>\n",
       "    </tr>\n",
       "    <tr>\n",
       "      <th>5764</th>\n",
       "      <td>AV_Champs_Elysees</td>\n",
       "      <td>2020-08-19 11:00:00</td>\n",
       "      <td>736.0</td>\n",
       "      <td>8.96167</td>\n",
       "      <td>1</td>\n",
       "      <td>Invalide</td>\n",
       "      <td>champs-elysees.csv</td>\n",
       "      <td>2020-08-19</td>\n",
       "    </tr>\n",
       "  </tbody>\n",
       "</table>\n",
       "</div>"
      ],
      "text/plain": [
       "                 Libelle Date et heure de comptage  Débit horaire  \\\n",
       "26951         Convention       2020-09-07 21:00:00          541.0   \n",
       "79080         Convention       2020-08-25 03:00:00           72.0   \n",
       "5033   AV_Champs_Elysees       2020-08-22 19:00:00         1065.0   \n",
       "8167   AV_Champs_Elysees       2020-03-30 01:00:00           34.0   \n",
       "5764   AV_Champs_Elysees       2020-08-19 11:00:00          736.0   \n",
       "\n",
       "       Taux d'occupation  Etat trafic  Etat arc            filename  \\\n",
       "26951            2.64167            1  Invalide      convention.csv   \n",
       "79080            0.24445            1  Invalide      convention.csv   \n",
       "5033            24.03167            2  Invalide  champs-elysees.csv   \n",
       "8167             0.53555            1  Invalide  champs-elysees.csv   \n",
       "5764             8.96167            1  Invalide  champs-elysees.csv   \n",
       "\n",
       "             Date  \n",
       "26951  2020-09-07  \n",
       "79080  2020-08-25  \n",
       "5033   2020-08-22  \n",
       "8167   2020-03-30  \n",
       "5764   2020-08-19  "
      ]
     },
     "execution_count": 68,
     "metadata": {},
     "output_type": "execute_result"
    }
   ],
   "source": [
    "df['Date'] = pd.to_datetime(df[\"Date et heure de comptage\"]).dt.date\n",
    "df.sample(5)"
   ]
  },
  {
   "cell_type": "markdown",
   "metadata": {},
   "source": [
    "Ajout du jour de la semaine:"
   ]
  },
  {
   "cell_type": "code",
   "execution_count": 70,
   "metadata": {},
   "outputs": [
    {
     "data": {
      "text/html": [
       "<div>\n",
       "<style scoped>\n",
       "    .dataframe tbody tr th:only-of-type {\n",
       "        vertical-align: middle;\n",
       "    }\n",
       "\n",
       "    .dataframe tbody tr th {\n",
       "        vertical-align: top;\n",
       "    }\n",
       "\n",
       "    .dataframe thead th {\n",
       "        text-align: right;\n",
       "    }\n",
       "</style>\n",
       "<table border=\"1\" class=\"dataframe\">\n",
       "  <thead>\n",
       "    <tr style=\"text-align: right;\">\n",
       "      <th></th>\n",
       "      <th>Libelle</th>\n",
       "      <th>Date et heure de comptage</th>\n",
       "      <th>Débit horaire</th>\n",
       "      <th>Taux d'occupation</th>\n",
       "      <th>Etat trafic</th>\n",
       "      <th>Etat arc</th>\n",
       "      <th>filename</th>\n",
       "      <th>Date</th>\n",
       "      <th>Jour de la semaine</th>\n",
       "    </tr>\n",
       "  </thead>\n",
       "  <tbody>\n",
       "    <tr>\n",
       "      <th>2085</th>\n",
       "      <td>AV_Champs_Elysees</td>\n",
       "      <td>2020-05-23 08:00:00</td>\n",
       "      <td>304.0</td>\n",
       "      <td>3.34889</td>\n",
       "      <td>1</td>\n",
       "      <td>Invalide</td>\n",
       "      <td>champs-elysees.csv</td>\n",
       "      <td>2020-05-23</td>\n",
       "      <td>5</td>\n",
       "    </tr>\n",
       "    <tr>\n",
       "      <th>42343</th>\n",
       "      <td>Convention</td>\n",
       "      <td>2020-11-11 10:00:00</td>\n",
       "      <td>275.0</td>\n",
       "      <td>1.84667</td>\n",
       "      <td>1</td>\n",
       "      <td>Invalide</td>\n",
       "      <td>convention.csv</td>\n",
       "      <td>2020-11-11</td>\n",
       "      <td>2</td>\n",
       "    </tr>\n",
       "    <tr>\n",
       "      <th>8301</th>\n",
       "      <td>AV_Champs_Elysees</td>\n",
       "      <td>2020-01-26 23:00:00</td>\n",
       "      <td>747.0</td>\n",
       "      <td>11.76278</td>\n",
       "      <td>1</td>\n",
       "      <td>Invalide</td>\n",
       "      <td>champs-elysees.csv</td>\n",
       "      <td>2020-01-26</td>\n",
       "      <td>6</td>\n",
       "    </tr>\n",
       "    <tr>\n",
       "      <th>179362</th>\n",
       "      <td>Convention</td>\n",
       "      <td>2020-02-22 03:00:00</td>\n",
       "      <td>379.0</td>\n",
       "      <td>2.26667</td>\n",
       "      <td>1</td>\n",
       "      <td>Invalide</td>\n",
       "      <td>convention.csv</td>\n",
       "      <td>2020-02-22</td>\n",
       "      <td>5</td>\n",
       "    </tr>\n",
       "    <tr>\n",
       "      <th>48775</th>\n",
       "      <td>Convention</td>\n",
       "      <td>2019-12-06 07:00:00</td>\n",
       "      <td>485.0</td>\n",
       "      <td>2.95222</td>\n",
       "      <td>1</td>\n",
       "      <td>Invalide</td>\n",
       "      <td>convention.csv</td>\n",
       "      <td>2019-12-06</td>\n",
       "      <td>4</td>\n",
       "    </tr>\n",
       "  </tbody>\n",
       "</table>\n",
       "</div>"
      ],
      "text/plain": [
       "                  Libelle Date et heure de comptage  Débit horaire  \\\n",
       "2085    AV_Champs_Elysees       2020-05-23 08:00:00          304.0   \n",
       "42343          Convention       2020-11-11 10:00:00          275.0   \n",
       "8301    AV_Champs_Elysees       2020-01-26 23:00:00          747.0   \n",
       "179362         Convention       2020-02-22 03:00:00          379.0   \n",
       "48775          Convention       2019-12-06 07:00:00          485.0   \n",
       "\n",
       "        Taux d'occupation  Etat trafic  Etat arc            filename  \\\n",
       "2085              3.34889            1  Invalide  champs-elysees.csv   \n",
       "42343             1.84667            1  Invalide      convention.csv   \n",
       "8301             11.76278            1  Invalide  champs-elysees.csv   \n",
       "179362            2.26667            1  Invalide      convention.csv   \n",
       "48775             2.95222            1  Invalide      convention.csv   \n",
       "\n",
       "              Date  Jour de la semaine  \n",
       "2085    2020-05-23                   5  \n",
       "42343   2020-11-11                   2  \n",
       "8301    2020-01-26                   6  \n",
       "179362  2020-02-22                   5  \n",
       "48775   2019-12-06                   4  "
      ]
     },
     "execution_count": 70,
     "metadata": {},
     "output_type": "execute_result"
    }
   ],
   "source": [
    "df['Jour de la semaine'] = pd.to_datetime(df[\"Date et heure de comptage\"]).dt.dayofweek\n",
    "df.sample(5)"
   ]
  },
  {
   "cell_type": "markdown",
   "metadata": {},
   "source": [
    "Reste maintenant à one-hot encoder cette variable.  \n",
    "‼️ On pensera à drop un des 7 jours pour éviter des problèmes d'overfitting ‼️"
   ]
  },
  {
   "cell_type": "code",
   "execution_count": 82,
   "metadata": {},
   "outputs": [
    {
     "data": {
      "text/html": [
       "<div>\n",
       "<style scoped>\n",
       "    .dataframe tbody tr th:only-of-type {\n",
       "        vertical-align: middle;\n",
       "    }\n",
       "\n",
       "    .dataframe tbody tr th {\n",
       "        vertical-align: top;\n",
       "    }\n",
       "\n",
       "    .dataframe thead th {\n",
       "        text-align: right;\n",
       "    }\n",
       "</style>\n",
       "<table border=\"1\" class=\"dataframe\">\n",
       "  <thead>\n",
       "    <tr style=\"text-align: right;\">\n",
       "      <th></th>\n",
       "      <th>Libelle</th>\n",
       "      <th>Date et heure de comptage</th>\n",
       "      <th>Débit horaire</th>\n",
       "      <th>Taux d'occupation</th>\n",
       "      <th>Etat trafic</th>\n",
       "      <th>Etat arc</th>\n",
       "      <th>filename</th>\n",
       "      <th>Date</th>\n",
       "      <th>Jour de la semaine_0</th>\n",
       "      <th>Jour de la semaine_1</th>\n",
       "      <th>Jour de la semaine_2</th>\n",
       "      <th>Jour de la semaine_3</th>\n",
       "      <th>Jour de la semaine_4</th>\n",
       "      <th>Jour de la semaine_5</th>\n",
       "      <th>Jour de la semaine_6</th>\n",
       "    </tr>\n",
       "  </thead>\n",
       "  <tbody>\n",
       "    <tr>\n",
       "      <th>0</th>\n",
       "      <td>AV_Champs_Elysees</td>\n",
       "      <td>2020-12-01 04:00:00</td>\n",
       "      <td>108.0</td>\n",
       "      <td>0.41722</td>\n",
       "      <td>1</td>\n",
       "      <td>Invalide</td>\n",
       "      <td>champs-elysees.csv</td>\n",
       "      <td>2020-12-01</td>\n",
       "      <td>0</td>\n",
       "      <td>1</td>\n",
       "      <td>0</td>\n",
       "      <td>0</td>\n",
       "      <td>0</td>\n",
       "      <td>0</td>\n",
       "      <td>0</td>\n",
       "    </tr>\n",
       "    <tr>\n",
       "      <th>1</th>\n",
       "      <td>AV_Champs_Elysees</td>\n",
       "      <td>2020-12-01 09:00:00</td>\n",
       "      <td>1279.0</td>\n",
       "      <td>13.58000</td>\n",
       "      <td>1</td>\n",
       "      <td>Invalide</td>\n",
       "      <td>champs-elysees.csv</td>\n",
       "      <td>2020-12-01</td>\n",
       "      <td>0</td>\n",
       "      <td>1</td>\n",
       "      <td>0</td>\n",
       "      <td>0</td>\n",
       "      <td>0</td>\n",
       "      <td>0</td>\n",
       "      <td>0</td>\n",
       "    </tr>\n",
       "    <tr>\n",
       "      <th>2</th>\n",
       "      <td>AV_Champs_Elysees</td>\n",
       "      <td>2020-11-02 05:00:00</td>\n",
       "      <td>144.0</td>\n",
       "      <td>2.25611</td>\n",
       "      <td>1</td>\n",
       "      <td>Invalide</td>\n",
       "      <td>champs-elysees.csv</td>\n",
       "      <td>2020-11-02</td>\n",
       "      <td>1</td>\n",
       "      <td>0</td>\n",
       "      <td>0</td>\n",
       "      <td>0</td>\n",
       "      <td>0</td>\n",
       "      <td>0</td>\n",
       "      <td>0</td>\n",
       "    </tr>\n",
       "    <tr>\n",
       "      <th>3</th>\n",
       "      <td>AV_Champs_Elysees</td>\n",
       "      <td>2020-11-01 23:00:00</td>\n",
       "      <td>245.0</td>\n",
       "      <td>8.11222</td>\n",
       "      <td>1</td>\n",
       "      <td>Invalide</td>\n",
       "      <td>champs-elysees.csv</td>\n",
       "      <td>2020-11-01</td>\n",
       "      <td>0</td>\n",
       "      <td>0</td>\n",
       "      <td>0</td>\n",
       "      <td>0</td>\n",
       "      <td>0</td>\n",
       "      <td>0</td>\n",
       "      <td>1</td>\n",
       "    </tr>\n",
       "    <tr>\n",
       "      <th>4</th>\n",
       "      <td>AV_Champs_Elysees</td>\n",
       "      <td>2020-12-01 23:00:00</td>\n",
       "      <td>236.0</td>\n",
       "      <td>2.56222</td>\n",
       "      <td>1</td>\n",
       "      <td>Invalide</td>\n",
       "      <td>champs-elysees.csv</td>\n",
       "      <td>2020-12-01</td>\n",
       "      <td>0</td>\n",
       "      <td>1</td>\n",
       "      <td>0</td>\n",
       "      <td>0</td>\n",
       "      <td>0</td>\n",
       "      <td>0</td>\n",
       "      <td>0</td>\n",
       "    </tr>\n",
       "    <tr>\n",
       "      <th>...</th>\n",
       "      <td>...</td>\n",
       "      <td>...</td>\n",
       "      <td>...</td>\n",
       "      <td>...</td>\n",
       "      <td>...</td>\n",
       "      <td>...</td>\n",
       "      <td>...</td>\n",
       "      <td>...</td>\n",
       "      <td>...</td>\n",
       "      <td>...</td>\n",
       "      <td>...</td>\n",
       "      <td>...</td>\n",
       "      <td>...</td>\n",
       "      <td>...</td>\n",
       "      <td>...</td>\n",
       "    </tr>\n",
       "    <tr>\n",
       "      <th>199445</th>\n",
       "      <td>Convention</td>\n",
       "      <td>2020-05-30 22:00:00</td>\n",
       "      <td>481.0</td>\n",
       "      <td>2.71445</td>\n",
       "      <td>1</td>\n",
       "      <td>Invalide</td>\n",
       "      <td>convention.csv</td>\n",
       "      <td>2020-05-30</td>\n",
       "      <td>0</td>\n",
       "      <td>0</td>\n",
       "      <td>0</td>\n",
       "      <td>0</td>\n",
       "      <td>0</td>\n",
       "      <td>1</td>\n",
       "      <td>0</td>\n",
       "    </tr>\n",
       "    <tr>\n",
       "      <th>199525</th>\n",
       "      <td>Convention</td>\n",
       "      <td>2020-06-01 01:00:00</td>\n",
       "      <td>175.0</td>\n",
       "      <td>0.85389</td>\n",
       "      <td>1</td>\n",
       "      <td>Invalide</td>\n",
       "      <td>convention.csv</td>\n",
       "      <td>2020-06-01</td>\n",
       "      <td>1</td>\n",
       "      <td>0</td>\n",
       "      <td>0</td>\n",
       "      <td>0</td>\n",
       "      <td>0</td>\n",
       "      <td>0</td>\n",
       "      <td>0</td>\n",
       "    </tr>\n",
       "    <tr>\n",
       "      <th>199526</th>\n",
       "      <td>Convention</td>\n",
       "      <td>2020-06-01 00:00:00</td>\n",
       "      <td>287.0</td>\n",
       "      <td>1.61056</td>\n",
       "      <td>1</td>\n",
       "      <td>Invalide</td>\n",
       "      <td>convention.csv</td>\n",
       "      <td>2020-06-01</td>\n",
       "      <td>1</td>\n",
       "      <td>0</td>\n",
       "      <td>0</td>\n",
       "      <td>0</td>\n",
       "      <td>0</td>\n",
       "      <td>0</td>\n",
       "      <td>0</td>\n",
       "    </tr>\n",
       "    <tr>\n",
       "      <th>199544</th>\n",
       "      <td>Convention</td>\n",
       "      <td>2020-06-01 02:00:00</td>\n",
       "      <td>117.0</td>\n",
       "      <td>0.50333</td>\n",
       "      <td>1</td>\n",
       "      <td>Invalide</td>\n",
       "      <td>convention.csv</td>\n",
       "      <td>2020-06-01</td>\n",
       "      <td>1</td>\n",
       "      <td>0</td>\n",
       "      <td>0</td>\n",
       "      <td>0</td>\n",
       "      <td>0</td>\n",
       "      <td>0</td>\n",
       "      <td>0</td>\n",
       "    </tr>\n",
       "    <tr>\n",
       "      <th>199545</th>\n",
       "      <td>Convention</td>\n",
       "      <td>2020-06-01 03:00:00</td>\n",
       "      <td>82.0</td>\n",
       "      <td>0.39778</td>\n",
       "      <td>1</td>\n",
       "      <td>Invalide</td>\n",
       "      <td>convention.csv</td>\n",
       "      <td>2020-06-01</td>\n",
       "      <td>1</td>\n",
       "      <td>0</td>\n",
       "      <td>0</td>\n",
       "      <td>0</td>\n",
       "      <td>0</td>\n",
       "      <td>0</td>\n",
       "      <td>0</td>\n",
       "    </tr>\n",
       "  </tbody>\n",
       "</table>\n",
       "<p>18851 rows × 15 columns</p>\n",
       "</div>"
      ],
      "text/plain": [
       "                  Libelle Date et heure de comptage  Débit horaire  \\\n",
       "0       AV_Champs_Elysees       2020-12-01 04:00:00          108.0   \n",
       "1       AV_Champs_Elysees       2020-12-01 09:00:00         1279.0   \n",
       "2       AV_Champs_Elysees       2020-11-02 05:00:00          144.0   \n",
       "3       AV_Champs_Elysees       2020-11-01 23:00:00          245.0   \n",
       "4       AV_Champs_Elysees       2020-12-01 23:00:00          236.0   \n",
       "...                   ...                       ...            ...   \n",
       "199445         Convention       2020-05-30 22:00:00          481.0   \n",
       "199525         Convention       2020-06-01 01:00:00          175.0   \n",
       "199526         Convention       2020-06-01 00:00:00          287.0   \n",
       "199544         Convention       2020-06-01 02:00:00          117.0   \n",
       "199545         Convention       2020-06-01 03:00:00           82.0   \n",
       "\n",
       "        Taux d'occupation  Etat trafic  Etat arc            filename  \\\n",
       "0                 0.41722            1  Invalide  champs-elysees.csv   \n",
       "1                13.58000            1  Invalide  champs-elysees.csv   \n",
       "2                 2.25611            1  Invalide  champs-elysees.csv   \n",
       "3                 8.11222            1  Invalide  champs-elysees.csv   \n",
       "4                 2.56222            1  Invalide  champs-elysees.csv   \n",
       "...                   ...          ...       ...                 ...   \n",
       "199445            2.71445            1  Invalide      convention.csv   \n",
       "199525            0.85389            1  Invalide      convention.csv   \n",
       "199526            1.61056            1  Invalide      convention.csv   \n",
       "199544            0.50333            1  Invalide      convention.csv   \n",
       "199545            0.39778            1  Invalide      convention.csv   \n",
       "\n",
       "              Date  Jour de la semaine_0  Jour de la semaine_1  \\\n",
       "0       2020-12-01                     0                     1   \n",
       "1       2020-12-01                     0                     1   \n",
       "2       2020-11-02                     1                     0   \n",
       "3       2020-11-01                     0                     0   \n",
       "4       2020-12-01                     0                     1   \n",
       "...            ...                   ...                   ...   \n",
       "199445  2020-05-30                     0                     0   \n",
       "199525  2020-06-01                     1                     0   \n",
       "199526  2020-06-01                     1                     0   \n",
       "199544  2020-06-01                     1                     0   \n",
       "199545  2020-06-01                     1                     0   \n",
       "\n",
       "        Jour de la semaine_2  Jour de la semaine_3  Jour de la semaine_4  \\\n",
       "0                          0                     0                     0   \n",
       "1                          0                     0                     0   \n",
       "2                          0                     0                     0   \n",
       "3                          0                     0                     0   \n",
       "4                          0                     0                     0   \n",
       "...                      ...                   ...                   ...   \n",
       "199445                     0                     0                     0   \n",
       "199525                     0                     0                     0   \n",
       "199526                     0                     0                     0   \n",
       "199544                     0                     0                     0   \n",
       "199545                     0                     0                     0   \n",
       "\n",
       "        Jour de la semaine_5  Jour de la semaine_6  \n",
       "0                          0                     0  \n",
       "1                          0                     0  \n",
       "2                          0                     0  \n",
       "3                          0                     1  \n",
       "4                          0                     0  \n",
       "...                      ...                   ...  \n",
       "199445                     1                     0  \n",
       "199525                     0                     0  \n",
       "199526                     0                     0  \n",
       "199544                     0                     0  \n",
       "199545                     0                     0  \n",
       "\n",
       "[18851 rows x 15 columns]"
      ]
     },
     "execution_count": 82,
     "metadata": {},
     "output_type": "execute_result"
    }
   ],
   "source": [
    "pd.concat(\n",
    "    [df, pd.get_dummies(df['Jour de la semaine'], prefix='Jour de la semaine', drop_first=False)],\n",
    "    axis=1\n",
    ").drop(columns=['Jour de la semaine'])"
   ]
  },
  {
   "cell_type": "markdown",
   "metadata": {},
   "source": [
    "## Périodes de vacances"
   ]
  },
  {
   "cell_type": "markdown",
   "metadata": {},
   "source": [
    "## Confinement"
   ]
  },
  {
   "cell_type": "markdown",
   "metadata": {},
   "source": [
    "D'après Wikipedia:\n",
    ">L'interdiction de déplacement en France, vulgarisée dans les médias par l'expression « confinement de la population » ou « confinement national », est une mesure sanitaire mise en place pour la première fois du 17 mars à 12 h au 11 mai 2020 (55 jours, soit 1 mois et 25 jours), et une deuxième fois à partir du 30 octobre 2020 au 15 décembre 2020 (soit 1 mois et 18 jours), s'insère dans un ensemble de politiques de restrictions de contacts humains et de déplacements en réponse à la pandémie de Covid-19 en France."
   ]
  },
  {
   "cell_type": "markdown",
   "metadata": {},
   "source": [
    "L'objectif est de donner une valeur qui traduit l'intensité du confinement.  \n",
    "  \n",
    "Nous allons donc créer une feature `Etat du confinement` qui traduira l'intensité de ce dernier. Elle prendra les valeurs suivantes :\n",
    "- 0 -> période avant le 1er confinement\n",
    "- 1 -> pas de confinement mais avec expérience du 1er confinement et mesures d'hygiènes renforcées\n",
    "- 2 -> confinement assoupli (réouverture des commerces non-essentiels notamment)\n",
    "- 3 -> confinement total."
   ]
  },
  {
   "cell_type": "code",
   "execution_count": 30,
   "metadata": {},
   "outputs": [],
   "source": [
    "confinement_1 = pd.date_range(start='3/17/2020', end='5/11/2020')\n",
    "confinement_2 = pd.date_range(start='10/30/2020', end='11/28/2020')\n",
    "confinement_2_assoupli = pd.date_range(start='11/28/2020', end='12/15/2020')"
   ]
  },
  {
   "cell_type": "code",
   "execution_count": 31,
   "metadata": {
    "scrolled": true
   },
   "outputs": [
    {
     "data": {
      "text/html": [
       "<div>\n",
       "<style scoped>\n",
       "    .dataframe tbody tr th:only-of-type {\n",
       "        vertical-align: middle;\n",
       "    }\n",
       "\n",
       "    .dataframe tbody tr th {\n",
       "        vertical-align: top;\n",
       "    }\n",
       "\n",
       "    .dataframe thead th {\n",
       "        text-align: right;\n",
       "    }\n",
       "</style>\n",
       "<table border=\"1\" class=\"dataframe\">\n",
       "  <thead>\n",
       "    <tr style=\"text-align: right;\">\n",
       "      <th></th>\n",
       "      <th>Libelle</th>\n",
       "      <th>Date et heure de comptage</th>\n",
       "      <th>Débit horaire</th>\n",
       "      <th>Taux d'occupation</th>\n",
       "      <th>Etat trafic</th>\n",
       "      <th>Etat arc</th>\n",
       "      <th>filename</th>\n",
       "      <th>Date</th>\n",
       "      <th>Jour de la semaine</th>\n",
       "      <th>Etat du confinement</th>\n",
       "    </tr>\n",
       "  </thead>\n",
       "  <tbody>\n",
       "    <tr>\n",
       "      <th>169580</th>\n",
       "      <td>Convention</td>\n",
       "      <td>2020-10-28 04:00:00</td>\n",
       "      <td>26.0</td>\n",
       "      <td>0.20889</td>\n",
       "      <td>1</td>\n",
       "      <td>Invalide</td>\n",
       "      <td>convention.csv</td>\n",
       "      <td>2020-10-28</td>\n",
       "      <td>2</td>\n",
       "      <td>1</td>\n",
       "    </tr>\n",
       "    <tr>\n",
       "      <th>6872</th>\n",
       "      <td>AV_Champs_Elysees</td>\n",
       "      <td>2020-10-24 02:00:00</td>\n",
       "      <td>68.0</td>\n",
       "      <td>0.86389</td>\n",
       "      <td>1</td>\n",
       "      <td>Invalide</td>\n",
       "      <td>champs-elysees.csv</td>\n",
       "      <td>2020-10-24</td>\n",
       "      <td>5</td>\n",
       "      <td>1</td>\n",
       "    </tr>\n",
       "    <tr>\n",
       "      <th>75040</th>\n",
       "      <td>Convention</td>\n",
       "      <td>2020-09-04 16:00:00</td>\n",
       "      <td>964.0</td>\n",
       "      <td>24.20723</td>\n",
       "      <td>2</td>\n",
       "      <td>Invalide</td>\n",
       "      <td>convention.csv</td>\n",
       "      <td>2020-09-04</td>\n",
       "      <td>4</td>\n",
       "      <td>1</td>\n",
       "    </tr>\n",
       "    <tr>\n",
       "      <th>194878</th>\n",
       "      <td>Convention</td>\n",
       "      <td>2020-06-27 04:00:00</td>\n",
       "      <td>205.0</td>\n",
       "      <td>1.02834</td>\n",
       "      <td>1</td>\n",
       "      <td>Invalide</td>\n",
       "      <td>convention.csv</td>\n",
       "      <td>2020-06-27</td>\n",
       "      <td>5</td>\n",
       "      <td>1</td>\n",
       "    </tr>\n",
       "    <tr>\n",
       "      <th>158983</th>\n",
       "      <td>Convention</td>\n",
       "      <td>2020-09-11 21:00:00</td>\n",
       "      <td>686.0</td>\n",
       "      <td>3.67222</td>\n",
       "      <td>1</td>\n",
       "      <td>Invalide</td>\n",
       "      <td>convention.csv</td>\n",
       "      <td>2020-09-11</td>\n",
       "      <td>4</td>\n",
       "      <td>1</td>\n",
       "    </tr>\n",
       "  </tbody>\n",
       "</table>\n",
       "</div>"
      ],
      "text/plain": [
       "                  Libelle Date et heure de comptage  Débit horaire  \\\n",
       "169580         Convention       2020-10-28 04:00:00           26.0   \n",
       "6872    AV_Champs_Elysees       2020-10-24 02:00:00           68.0   \n",
       "75040          Convention       2020-09-04 16:00:00          964.0   \n",
       "194878         Convention       2020-06-27 04:00:00          205.0   \n",
       "158983         Convention       2020-09-11 21:00:00          686.0   \n",
       "\n",
       "        Taux d'occupation  Etat trafic  Etat arc            filename  \\\n",
       "169580            0.20889            1  Invalide      convention.csv   \n",
       "6872              0.86389            1  Invalide  champs-elysees.csv   \n",
       "75040            24.20723            2  Invalide      convention.csv   \n",
       "194878            1.02834            1  Invalide      convention.csv   \n",
       "158983            3.67222            1  Invalide      convention.csv   \n",
       "\n",
       "              Date  Jour de la semaine  Etat du confinement  \n",
       "169580  2020-10-28                   2                    1  \n",
       "6872    2020-10-24                   5                    1  \n",
       "75040   2020-09-04                   4                    1  \n",
       "194878  2020-06-27                   5                    1  \n",
       "158983  2020-09-11                   4                    1  "
      ]
     },
     "execution_count": 31,
     "metadata": {},
     "output_type": "execute_result"
    }
   ],
   "source": [
    "# create a list of our conditions\n",
    "conditions = [\n",
    "    (df[\"Date et heure de comptage\"] < confinement_1[0]), # 0\n",
    "    (confinement_1[0] <= df[\"Date et heure de comptage\"]) & (df[\"Date et heure de comptage\"] < confinement_1[-1]), # 3\n",
    "    (confinement_1[-1] <= df[\"Date et heure de comptage\"]) & (df[\"Date et heure de comptage\"] < confinement_2[0]), # 1\n",
    "    (confinement_2[0] <= df[\"Date et heure de comptage\"]) & (df[\"Date et heure de comptage\"] < confinement_2[-1]), # 3\n",
    "    (confinement_2_assoupli[0] <= df[\"Date et heure de comptage\"]) & (df[\"Date et heure de comptage\"] < confinement_2_assoupli[-1]), # 2\n",
    "    (confinement_2_assoupli[-1] <= df[\"Date et heure de comptage\"]) # 1\n",
    "    ]\n",
    "\n",
    "# create a list of the values we want to assign for each condition\n",
    "values = [0, 3, 1, 3, 2, 1]\n",
    "\n",
    "# create a new column and use np.select to assign values to it using our lists as arguments\n",
    "df['Etat du confinement'] = np.select(conditions, values)\n",
    "df.sample(5)"
   ]
  },
  {
   "cell_type": "code",
   "execution_count": 32,
   "metadata": {
    "scrolled": true
   },
   "outputs": [
    {
     "data": {
      "text/plain": [
       "1    8159\n",
       "0    6450\n",
       "3    4000\n",
       "2     242\n",
       "Name: Etat du confinement, dtype: int64"
      ]
     },
     "execution_count": 32,
     "metadata": {},
     "output_type": "execute_result"
    }
   ],
   "source": [
    "df['Etat du confinement'].value_counts()"
   ]
  },
  {
   "cell_type": "markdown",
   "metadata": {},
   "source": [
    "## Couvre-feu"
   ]
  },
  {
   "cell_type": "code",
   "execution_count": 33,
   "metadata": {},
   "outputs": [
    {
     "data": {
      "text/plain": [
       "Timestamp('2020-10-17 00:00:00')"
      ]
     },
     "execution_count": 33,
     "metadata": {},
     "output_type": "execute_result"
    }
   ],
   "source": [
    "couvre_feu_start = pd.Timestamp('10/17/2020')\n",
    "couvre_feu_start"
   ]
  },
  {
   "cell_type": "code",
   "execution_count": 34,
   "metadata": {},
   "outputs": [
    {
     "data": {
      "text/html": [
       "<div>\n",
       "<style scoped>\n",
       "    .dataframe tbody tr th:only-of-type {\n",
       "        vertical-align: middle;\n",
       "    }\n",
       "\n",
       "    .dataframe tbody tr th {\n",
       "        vertical-align: top;\n",
       "    }\n",
       "\n",
       "    .dataframe thead th {\n",
       "        text-align: right;\n",
       "    }\n",
       "</style>\n",
       "<table border=\"1\" class=\"dataframe\">\n",
       "  <thead>\n",
       "    <tr style=\"text-align: right;\">\n",
       "      <th></th>\n",
       "      <th>Libelle</th>\n",
       "      <th>Date et heure de comptage</th>\n",
       "      <th>Débit horaire</th>\n",
       "      <th>Taux d'occupation</th>\n",
       "      <th>Etat trafic</th>\n",
       "      <th>Etat arc</th>\n",
       "      <th>filename</th>\n",
       "      <th>Date</th>\n",
       "      <th>Jour de la semaine</th>\n",
       "      <th>Etat du confinement</th>\n",
       "      <th>Couvre-feu</th>\n",
       "    </tr>\n",
       "  </thead>\n",
       "  <tbody>\n",
       "    <tr>\n",
       "      <th>89279</th>\n",
       "      <td>Convention</td>\n",
       "      <td>2019-12-12 06:00:00</td>\n",
       "      <td>211.0</td>\n",
       "      <td>0.91389</td>\n",
       "      <td>1</td>\n",
       "      <td>Invalide</td>\n",
       "      <td>convention.csv</td>\n",
       "      <td>2019-12-12</td>\n",
       "      <td>3</td>\n",
       "      <td>0</td>\n",
       "      <td>False</td>\n",
       "    </tr>\n",
       "    <tr>\n",
       "      <th>139513</th>\n",
       "      <td>Convention</td>\n",
       "      <td>2020-10-22 14:00:00</td>\n",
       "      <td>800.0</td>\n",
       "      <td>6.54667</td>\n",
       "      <td>1</td>\n",
       "      <td>Invalide</td>\n",
       "      <td>convention.csv</td>\n",
       "      <td>2020-10-22</td>\n",
       "      <td>3</td>\n",
       "      <td>1</td>\n",
       "      <td>True</td>\n",
       "    </tr>\n",
       "    <tr>\n",
       "      <th>100030</th>\n",
       "      <td>Convention</td>\n",
       "      <td>2020-01-21 00:00:00</td>\n",
       "      <td>549.0</td>\n",
       "      <td>2.45000</td>\n",
       "      <td>1</td>\n",
       "      <td>Invalide</td>\n",
       "      <td>convention.csv</td>\n",
       "      <td>2020-01-21</td>\n",
       "      <td>1</td>\n",
       "      <td>0</td>\n",
       "      <td>False</td>\n",
       "    </tr>\n",
       "    <tr>\n",
       "      <th>4802</th>\n",
       "      <td>AV_Champs_Elysees</td>\n",
       "      <td>2020-06-17 11:00:00</td>\n",
       "      <td>1233.0</td>\n",
       "      <td>17.04056</td>\n",
       "      <td>2</td>\n",
       "      <td>Invalide</td>\n",
       "      <td>champs-elysees.csv</td>\n",
       "      <td>2020-06-17</td>\n",
       "      <td>2</td>\n",
       "      <td>1</td>\n",
       "      <td>False</td>\n",
       "    </tr>\n",
       "    <tr>\n",
       "      <th>1496</th>\n",
       "      <td>AV_Champs_Elysees</td>\n",
       "      <td>2020-06-02 11:00:00</td>\n",
       "      <td>1156.0</td>\n",
       "      <td>18.46445</td>\n",
       "      <td>2</td>\n",
       "      <td>Invalide</td>\n",
       "      <td>champs-elysees.csv</td>\n",
       "      <td>2020-06-02</td>\n",
       "      <td>1</td>\n",
       "      <td>1</td>\n",
       "      <td>False</td>\n",
       "    </tr>\n",
       "  </tbody>\n",
       "</table>\n",
       "</div>"
      ],
      "text/plain": [
       "                  Libelle Date et heure de comptage  Débit horaire  \\\n",
       "89279          Convention       2019-12-12 06:00:00          211.0   \n",
       "139513         Convention       2020-10-22 14:00:00          800.0   \n",
       "100030         Convention       2020-01-21 00:00:00          549.0   \n",
       "4802    AV_Champs_Elysees       2020-06-17 11:00:00         1233.0   \n",
       "1496    AV_Champs_Elysees       2020-06-02 11:00:00         1156.0   \n",
       "\n",
       "        Taux d'occupation  Etat trafic  Etat arc            filename  \\\n",
       "89279             0.91389            1  Invalide      convention.csv   \n",
       "139513            6.54667            1  Invalide      convention.csv   \n",
       "100030            2.45000            1  Invalide      convention.csv   \n",
       "4802             17.04056            2  Invalide  champs-elysees.csv   \n",
       "1496             18.46445            2  Invalide  champs-elysees.csv   \n",
       "\n",
       "              Date  Jour de la semaine  Etat du confinement  Couvre-feu  \n",
       "89279   2019-12-12                   3                    0       False  \n",
       "139513  2020-10-22                   3                    1        True  \n",
       "100030  2020-01-21                   1                    0       False  \n",
       "4802    2020-06-17                   2                    1       False  \n",
       "1496    2020-06-02                   1                    1       False  "
      ]
     },
     "execution_count": 34,
     "metadata": {},
     "output_type": "execute_result"
    }
   ],
   "source": [
    "df['Couvre-feu'] = (couvre_feu_start <= df['Date'])\n",
    "df.sample(5)"
   ]
  },
  {
   "cell_type": "markdown",
   "metadata": {},
   "source": [
    "## Jours fériés"
   ]
  },
  {
   "cell_type": "markdown",
   "metadata": {},
   "source": [
    "Le CSV a été obtenu via le lien suivant :  \n",
    "- https://www.data.gouv.fr/en/datasets/jours-feries-en-france/"
   ]
  },
  {
   "cell_type": "code",
   "execution_count": 35,
   "metadata": {},
   "outputs": [
    {
     "data": {
      "text/html": [
       "<div>\n",
       "<style scoped>\n",
       "    .dataframe tbody tr th:only-of-type {\n",
       "        vertical-align: middle;\n",
       "    }\n",
       "\n",
       "    .dataframe tbody tr th {\n",
       "        vertical-align: top;\n",
       "    }\n",
       "\n",
       "    .dataframe thead th {\n",
       "        text-align: right;\n",
       "    }\n",
       "</style>\n",
       "<table border=\"1\" class=\"dataframe\">\n",
       "  <thead>\n",
       "    <tr style=\"text-align: right;\">\n",
       "      <th></th>\n",
       "      <th>date</th>\n",
       "      <th>annee</th>\n",
       "      <th>zone</th>\n",
       "      <th>nom_jour_ferie</th>\n",
       "    </tr>\n",
       "  </thead>\n",
       "  <tbody>\n",
       "    <tr>\n",
       "      <th>0</th>\n",
       "      <td>2000-01-01</td>\n",
       "      <td>2000</td>\n",
       "      <td>Métropole</td>\n",
       "      <td>1er janvier</td>\n",
       "    </tr>\n",
       "    <tr>\n",
       "      <th>1</th>\n",
       "      <td>2000-04-24</td>\n",
       "      <td>2000</td>\n",
       "      <td>Métropole</td>\n",
       "      <td>Lundi de Pâques</td>\n",
       "    </tr>\n",
       "    <tr>\n",
       "      <th>2</th>\n",
       "      <td>2000-05-01</td>\n",
       "      <td>2000</td>\n",
       "      <td>Métropole</td>\n",
       "      <td>1er mai</td>\n",
       "    </tr>\n",
       "    <tr>\n",
       "      <th>3</th>\n",
       "      <td>2000-05-08</td>\n",
       "      <td>2000</td>\n",
       "      <td>Métropole</td>\n",
       "      <td>8 mai</td>\n",
       "    </tr>\n",
       "    <tr>\n",
       "      <th>4</th>\n",
       "      <td>2000-06-01</td>\n",
       "      <td>2000</td>\n",
       "      <td>Métropole</td>\n",
       "      <td>Ascension</td>\n",
       "    </tr>\n",
       "  </tbody>\n",
       "</table>\n",
       "</div>"
      ],
      "text/plain": [
       "         date  annee       zone   nom_jour_ferie\n",
       "0  2000-01-01   2000  Métropole      1er janvier\n",
       "1  2000-04-24   2000  Métropole  Lundi de Pâques\n",
       "2  2000-05-01   2000  Métropole          1er mai\n",
       "3  2000-05-08   2000  Métropole            8 mai\n",
       "4  2000-06-01   2000  Métropole        Ascension"
      ]
     },
     "execution_count": 35,
     "metadata": {},
     "output_type": "execute_result"
    }
   ],
   "source": [
    "df_feries = pd.read_csv('data/jours_feries_metropole.csv')\n",
    "df_feries.head()"
   ]
  },
  {
   "cell_type": "code",
   "execution_count": 36,
   "metadata": {},
   "outputs": [
    {
     "data": {
      "text/html": [
       "<div>\n",
       "<style scoped>\n",
       "    .dataframe tbody tr th:only-of-type {\n",
       "        vertical-align: middle;\n",
       "    }\n",
       "\n",
       "    .dataframe tbody tr th {\n",
       "        vertical-align: top;\n",
       "    }\n",
       "\n",
       "    .dataframe thead th {\n",
       "        text-align: right;\n",
       "    }\n",
       "</style>\n",
       "<table border=\"1\" class=\"dataframe\">\n",
       "  <thead>\n",
       "    <tr style=\"text-align: right;\">\n",
       "      <th></th>\n",
       "      <th>date</th>\n",
       "      <th>annee</th>\n",
       "      <th>zone</th>\n",
       "      <th>nom_jour_ferie</th>\n",
       "    </tr>\n",
       "  </thead>\n",
       "  <tbody>\n",
       "    <tr>\n",
       "      <th>220</th>\n",
       "      <td>2020-01-01</td>\n",
       "      <td>2020</td>\n",
       "      <td>Métropole</td>\n",
       "      <td>1er janvier</td>\n",
       "    </tr>\n",
       "    <tr>\n",
       "      <th>214</th>\n",
       "      <td>2019-06-10</td>\n",
       "      <td>2019</td>\n",
       "      <td>Métropole</td>\n",
       "      <td>Lundi de Pentecôte</td>\n",
       "    </tr>\n",
       "    <tr>\n",
       "      <th>221</th>\n",
       "      <td>2020-04-13</td>\n",
       "      <td>2020</td>\n",
       "      <td>Métropole</td>\n",
       "      <td>Lundi de Pâques</td>\n",
       "    </tr>\n",
       "    <tr>\n",
       "      <th>226</th>\n",
       "      <td>2020-07-14</td>\n",
       "      <td>2020</td>\n",
       "      <td>Métropole</td>\n",
       "      <td>14 juillet</td>\n",
       "    </tr>\n",
       "    <tr>\n",
       "      <th>219</th>\n",
       "      <td>2019-12-25</td>\n",
       "      <td>2019</td>\n",
       "      <td>Métropole</td>\n",
       "      <td>Jour de Noël</td>\n",
       "    </tr>\n",
       "  </tbody>\n",
       "</table>\n",
       "</div>"
      ],
      "text/plain": [
       "           date  annee       zone      nom_jour_ferie\n",
       "220  2020-01-01   2020  Métropole         1er janvier\n",
       "214  2019-06-10   2019  Métropole  Lundi de Pentecôte\n",
       "221  2020-04-13   2020  Métropole     Lundi de Pâques\n",
       "226  2020-07-14   2020  Métropole          14 juillet\n",
       "219  2019-12-25   2019  Métropole        Jour de Noël"
      ]
     },
     "execution_count": 36,
     "metadata": {},
     "output_type": "execute_result"
    }
   ],
   "source": [
    "# On ne garde que les lignes relatives à 2019 ou 2020\n",
    "df_feries = df_feries[df_feries['annee'].isin(['2019', '2020'])]\n",
    "df_feries.sample(5)"
   ]
  },
  {
   "cell_type": "code",
   "execution_count": 37,
   "metadata": {
    "scrolled": true
   },
   "outputs": [],
   "source": [
    "def get_date(row):\n",
    "    return row.date()\n",
    "\n",
    "df_feries['date'] = pd.to_datetime(df_feries['date']).apply(get_date)\n",
    "series_feries = df_feries['date']"
   ]
  },
  {
   "cell_type": "code",
   "execution_count": 38,
   "metadata": {},
   "outputs": [
    {
     "data": {
      "text/plain": [
       "False    18237\n",
       "True       614\n",
       "Name: Jour férié, dtype: int64"
      ]
     },
     "execution_count": 38,
     "metadata": {},
     "output_type": "execute_result"
    }
   ],
   "source": [
    "df['Jour férié'] = df['Date'].isin(series_feries)\n",
    "df['Jour férié'].value_counts()"
   ]
  },
  {
   "cell_type": "code",
   "execution_count": 39,
   "metadata": {},
   "outputs": [
    {
     "data": {
      "text/html": [
       "<div>\n",
       "<style scoped>\n",
       "    .dataframe tbody tr th:only-of-type {\n",
       "        vertical-align: middle;\n",
       "    }\n",
       "\n",
       "    .dataframe tbody tr th {\n",
       "        vertical-align: top;\n",
       "    }\n",
       "\n",
       "    .dataframe thead th {\n",
       "        text-align: right;\n",
       "    }\n",
       "</style>\n",
       "<table border=\"1\" class=\"dataframe\">\n",
       "  <thead>\n",
       "    <tr style=\"text-align: right;\">\n",
       "      <th></th>\n",
       "      <th>Libelle</th>\n",
       "      <th>Date et heure de comptage</th>\n",
       "      <th>Débit horaire</th>\n",
       "      <th>Taux d'occupation</th>\n",
       "      <th>Etat trafic</th>\n",
       "      <th>Etat arc</th>\n",
       "      <th>filename</th>\n",
       "      <th>Date</th>\n",
       "      <th>Jour de la semaine</th>\n",
       "      <th>Etat du confinement</th>\n",
       "      <th>Couvre-feu</th>\n",
       "      <th>Jour férié</th>\n",
       "    </tr>\n",
       "  </thead>\n",
       "  <tbody>\n",
       "    <tr>\n",
       "      <th>0</th>\n",
       "      <td>AV_Champs_Elysees</td>\n",
       "      <td>2020-12-01 04:00:00</td>\n",
       "      <td>108.0</td>\n",
       "      <td>0.41722</td>\n",
       "      <td>1</td>\n",
       "      <td>Invalide</td>\n",
       "      <td>champs-elysees.csv</td>\n",
       "      <td>2020-12-01</td>\n",
       "      <td>1</td>\n",
       "      <td>2</td>\n",
       "      <td>True</td>\n",
       "      <td>False</td>\n",
       "    </tr>\n",
       "    <tr>\n",
       "      <th>1</th>\n",
       "      <td>AV_Champs_Elysees</td>\n",
       "      <td>2020-12-01 09:00:00</td>\n",
       "      <td>1279.0</td>\n",
       "      <td>13.58000</td>\n",
       "      <td>1</td>\n",
       "      <td>Invalide</td>\n",
       "      <td>champs-elysees.csv</td>\n",
       "      <td>2020-12-01</td>\n",
       "      <td>1</td>\n",
       "      <td>2</td>\n",
       "      <td>True</td>\n",
       "      <td>False</td>\n",
       "    </tr>\n",
       "    <tr>\n",
       "      <th>2</th>\n",
       "      <td>AV_Champs_Elysees</td>\n",
       "      <td>2020-11-02 05:00:00</td>\n",
       "      <td>144.0</td>\n",
       "      <td>2.25611</td>\n",
       "      <td>1</td>\n",
       "      <td>Invalide</td>\n",
       "      <td>champs-elysees.csv</td>\n",
       "      <td>2020-11-02</td>\n",
       "      <td>0</td>\n",
       "      <td>3</td>\n",
       "      <td>True</td>\n",
       "      <td>False</td>\n",
       "    </tr>\n",
       "    <tr>\n",
       "      <th>3</th>\n",
       "      <td>AV_Champs_Elysees</td>\n",
       "      <td>2020-11-01 23:00:00</td>\n",
       "      <td>245.0</td>\n",
       "      <td>8.11222</td>\n",
       "      <td>1</td>\n",
       "      <td>Invalide</td>\n",
       "      <td>champs-elysees.csv</td>\n",
       "      <td>2020-11-01</td>\n",
       "      <td>6</td>\n",
       "      <td>3</td>\n",
       "      <td>True</td>\n",
       "      <td>True</td>\n",
       "    </tr>\n",
       "    <tr>\n",
       "      <th>4</th>\n",
       "      <td>AV_Champs_Elysees</td>\n",
       "      <td>2020-12-01 23:00:00</td>\n",
       "      <td>236.0</td>\n",
       "      <td>2.56222</td>\n",
       "      <td>1</td>\n",
       "      <td>Invalide</td>\n",
       "      <td>champs-elysees.csv</td>\n",
       "      <td>2020-12-01</td>\n",
       "      <td>1</td>\n",
       "      <td>2</td>\n",
       "      <td>True</td>\n",
       "      <td>False</td>\n",
       "    </tr>\n",
       "  </tbody>\n",
       "</table>\n",
       "</div>"
      ],
      "text/plain": [
       "             Libelle Date et heure de comptage  Débit horaire  \\\n",
       "0  AV_Champs_Elysees       2020-12-01 04:00:00          108.0   \n",
       "1  AV_Champs_Elysees       2020-12-01 09:00:00         1279.0   \n",
       "2  AV_Champs_Elysees       2020-11-02 05:00:00          144.0   \n",
       "3  AV_Champs_Elysees       2020-11-01 23:00:00          245.0   \n",
       "4  AV_Champs_Elysees       2020-12-01 23:00:00          236.0   \n",
       "\n",
       "   Taux d'occupation  Etat trafic  Etat arc            filename        Date  \\\n",
       "0            0.41722            1  Invalide  champs-elysees.csv  2020-12-01   \n",
       "1           13.58000            1  Invalide  champs-elysees.csv  2020-12-01   \n",
       "2            2.25611            1  Invalide  champs-elysees.csv  2020-11-02   \n",
       "3            8.11222            1  Invalide  champs-elysees.csv  2020-11-01   \n",
       "4            2.56222            1  Invalide  champs-elysees.csv  2020-12-01   \n",
       "\n",
       "   Jour de la semaine  Etat du confinement  Couvre-feu  Jour férié  \n",
       "0                   1                    2        True       False  \n",
       "1                   1                    2        True       False  \n",
       "2                   0                    3        True       False  \n",
       "3                   6                    3        True        True  \n",
       "4                   1                    2        True       False  "
      ]
     },
     "execution_count": 39,
     "metadata": {},
     "output_type": "execute_result"
    }
   ],
   "source": [
    "df.head()"
   ]
  },
  {
   "cell_type": "markdown",
   "metadata": {},
   "source": [
    "## Vacances scolaires"
   ]
  },
  {
   "cell_type": "markdown",
   "metadata": {},
   "source": [
    "Le CSV a été obtenu via le lien suivant :  \n",
    "- https://www.data.gouv.fr/en/datasets/le-calendrier-scolaire/"
   ]
  },
  {
   "cell_type": "code",
   "execution_count": 41,
   "metadata": {
    "scrolled": true
   },
   "outputs": [
    {
     "data": {
      "text/html": [
       "<div>\n",
       "<style scoped>\n",
       "    .dataframe tbody tr th:only-of-type {\n",
       "        vertical-align: middle;\n",
       "    }\n",
       "\n",
       "    .dataframe tbody tr th {\n",
       "        vertical-align: top;\n",
       "    }\n",
       "\n",
       "    .dataframe thead th {\n",
       "        text-align: right;\n",
       "    }\n",
       "</style>\n",
       "<table border=\"1\" class=\"dataframe\">\n",
       "  <thead>\n",
       "    <tr style=\"text-align: right;\">\n",
       "      <th></th>\n",
       "      <th>description</th>\n",
       "      <th>population</th>\n",
       "      <th>start_date</th>\n",
       "      <th>end_date</th>\n",
       "      <th>location</th>\n",
       "      <th>zones</th>\n",
       "      <th>annee_scolaire</th>\n",
       "    </tr>\n",
       "  </thead>\n",
       "  <tbody>\n",
       "    <tr>\n",
       "      <th>0</th>\n",
       "      <td>Vacances de Printemps</td>\n",
       "      <td>NaN</td>\n",
       "      <td>2019-04-13</td>\n",
       "      <td>2019-04-29</td>\n",
       "      <td>Besançon</td>\n",
       "      <td>Zone A</td>\n",
       "      <td>2018-2019</td>\n",
       "    </tr>\n",
       "    <tr>\n",
       "      <th>1</th>\n",
       "      <td>Vacances d'Été</td>\n",
       "      <td>Enseignants</td>\n",
       "      <td>2019-07-06</td>\n",
       "      <td>2019-08-30</td>\n",
       "      <td>Besançon</td>\n",
       "      <td>Zone A</td>\n",
       "      <td>2018-2019</td>\n",
       "    </tr>\n",
       "    <tr>\n",
       "      <th>2</th>\n",
       "      <td>Pont de l'Ascension</td>\n",
       "      <td>NaN</td>\n",
       "      <td>2020-05-20</td>\n",
       "      <td>2020-05-25</td>\n",
       "      <td>Besançon</td>\n",
       "      <td>Zone A</td>\n",
       "      <td>2019-2020</td>\n",
       "    </tr>\n",
       "    <tr>\n",
       "      <th>3</th>\n",
       "      <td>Vacances de Noël</td>\n",
       "      <td>NaN</td>\n",
       "      <td>2020-12-19</td>\n",
       "      <td>2021-01-04</td>\n",
       "      <td>Besançon</td>\n",
       "      <td>Zone A</td>\n",
       "      <td>2020-2021</td>\n",
       "    </tr>\n",
       "    <tr>\n",
       "      <th>4</th>\n",
       "      <td>Pont de l'Ascension</td>\n",
       "      <td>NaN</td>\n",
       "      <td>2021-05-13</td>\n",
       "      <td>2021-05-17</td>\n",
       "      <td>Besançon</td>\n",
       "      <td>Zone A</td>\n",
       "      <td>2020-2021</td>\n",
       "    </tr>\n",
       "  </tbody>\n",
       "</table>\n",
       "</div>"
      ],
      "text/plain": [
       "             description   population  start_date    end_date  location  \\\n",
       "0  Vacances de Printemps          NaN  2019-04-13  2019-04-29  Besançon   \n",
       "1         Vacances d'Été  Enseignants  2019-07-06  2019-08-30  Besançon   \n",
       "2    Pont de l'Ascension          NaN  2020-05-20  2020-05-25  Besançon   \n",
       "3       Vacances de Noël          NaN  2020-12-19  2021-01-04  Besançon   \n",
       "4    Pont de l'Ascension          NaN  2021-05-13  2021-05-17  Besançon   \n",
       "\n",
       "    zones annee_scolaire  \n",
       "0  Zone A      2018-2019  \n",
       "1  Zone A      2018-2019  \n",
       "2  Zone A      2019-2020  \n",
       "3  Zone A      2020-2021  \n",
       "4  Zone A      2020-2021  "
      ]
     },
     "execution_count": 41,
     "metadata": {},
     "output_type": "execute_result"
    }
   ],
   "source": [
    "df_vacances = pd.read_csv('data/fr-en-calendrier-scolaire.csv', sep=';')\n",
    "df_vacances.head()"
   ]
  },
  {
   "cell_type": "code",
   "execution_count": 42,
   "metadata": {},
   "outputs": [
    {
     "data": {
      "text/html": [
       "<div>\n",
       "<style scoped>\n",
       "    .dataframe tbody tr th:only-of-type {\n",
       "        vertical-align: middle;\n",
       "    }\n",
       "\n",
       "    .dataframe tbody tr th {\n",
       "        vertical-align: top;\n",
       "    }\n",
       "\n",
       "    .dataframe thead th {\n",
       "        text-align: right;\n",
       "    }\n",
       "</style>\n",
       "<table border=\"1\" class=\"dataframe\">\n",
       "  <thead>\n",
       "    <tr style=\"text-align: right;\">\n",
       "      <th></th>\n",
       "      <th>description</th>\n",
       "      <th>population</th>\n",
       "      <th>start_date</th>\n",
       "      <th>end_date</th>\n",
       "      <th>location</th>\n",
       "      <th>zones</th>\n",
       "      <th>annee_scolaire</th>\n",
       "    </tr>\n",
       "  </thead>\n",
       "  <tbody>\n",
       "    <tr>\n",
       "      <th>102</th>\n",
       "      <td>Vacances d'Été</td>\n",
       "      <td>Élèves</td>\n",
       "      <td>2018-07-07</td>\n",
       "      <td>2018-09-03</td>\n",
       "      <td>Paris</td>\n",
       "      <td>Zone C</td>\n",
       "      <td>2017-2018</td>\n",
       "    </tr>\n",
       "    <tr>\n",
       "      <th>103</th>\n",
       "      <td>Vacances de la Toussaint</td>\n",
       "      <td>NaN</td>\n",
       "      <td>2018-10-20</td>\n",
       "      <td>2018-11-05</td>\n",
       "      <td>Paris</td>\n",
       "      <td>Zone C</td>\n",
       "      <td>2018-2019</td>\n",
       "    </tr>\n",
       "    <tr>\n",
       "      <th>104</th>\n",
       "      <td>Vacances de Noël</td>\n",
       "      <td>NaN</td>\n",
       "      <td>2019-12-21</td>\n",
       "      <td>2020-01-06</td>\n",
       "      <td>Paris</td>\n",
       "      <td>Zone C</td>\n",
       "      <td>2019-2020</td>\n",
       "    </tr>\n",
       "    <tr>\n",
       "      <th>105</th>\n",
       "      <td>Vacances d'Hiver</td>\n",
       "      <td>NaN</td>\n",
       "      <td>2020-02-08</td>\n",
       "      <td>2020-02-24</td>\n",
       "      <td>Paris</td>\n",
       "      <td>Zone C</td>\n",
       "      <td>2019-2020</td>\n",
       "    </tr>\n",
       "    <tr>\n",
       "      <th>280</th>\n",
       "      <td>Vacances de Noël</td>\n",
       "      <td>NaN</td>\n",
       "      <td>2017-12-23</td>\n",
       "      <td>2018-01-08</td>\n",
       "      <td>Paris</td>\n",
       "      <td>Zone C</td>\n",
       "      <td>2017-2018</td>\n",
       "    </tr>\n",
       "  </tbody>\n",
       "</table>\n",
       "</div>"
      ],
      "text/plain": [
       "                  description population  start_date    end_date location  \\\n",
       "102            Vacances d'Été     Élèves  2018-07-07  2018-09-03    Paris   \n",
       "103  Vacances de la Toussaint        NaN  2018-10-20  2018-11-05    Paris   \n",
       "104          Vacances de Noël        NaN  2019-12-21  2020-01-06    Paris   \n",
       "105          Vacances d'Hiver        NaN  2020-02-08  2020-02-24    Paris   \n",
       "280          Vacances de Noël        NaN  2017-12-23  2018-01-08    Paris   \n",
       "\n",
       "      zones annee_scolaire  \n",
       "102  Zone C      2017-2018  \n",
       "103  Zone C      2018-2019  \n",
       "104  Zone C      2019-2020  \n",
       "105  Zone C      2019-2020  \n",
       "280  Zone C      2017-2018  "
      ]
     },
     "execution_count": 42,
     "metadata": {},
     "output_type": "execute_result"
    }
   ],
   "source": [
    "df_vacances = df_vacances[df_vacances['location'] == 'Paris']\n",
    "df_vacances.head()"
   ]
  },
  {
   "cell_type": "code",
   "execution_count": 43,
   "metadata": {},
   "outputs": [
    {
     "data": {
      "text/html": [
       "<div>\n",
       "<style scoped>\n",
       "    .dataframe tbody tr th:only-of-type {\n",
       "        vertical-align: middle;\n",
       "    }\n",
       "\n",
       "    .dataframe tbody tr th {\n",
       "        vertical-align: top;\n",
       "    }\n",
       "\n",
       "    .dataframe thead th {\n",
       "        text-align: right;\n",
       "    }\n",
       "</style>\n",
       "<table border=\"1\" class=\"dataframe\">\n",
       "  <thead>\n",
       "    <tr style=\"text-align: right;\">\n",
       "      <th></th>\n",
       "      <th>description</th>\n",
       "      <th>population</th>\n",
       "      <th>start_date</th>\n",
       "      <th>end_date</th>\n",
       "      <th>location</th>\n",
       "      <th>zones</th>\n",
       "      <th>annee_scolaire</th>\n",
       "    </tr>\n",
       "  </thead>\n",
       "  <tbody>\n",
       "    <tr>\n",
       "      <th>104</th>\n",
       "      <td>Vacances de Noël</td>\n",
       "      <td>NaN</td>\n",
       "      <td>2019-12-21</td>\n",
       "      <td>2020-01-06</td>\n",
       "      <td>Paris</td>\n",
       "      <td>Zone C</td>\n",
       "      <td>2019-2020</td>\n",
       "    </tr>\n",
       "    <tr>\n",
       "      <th>105</th>\n",
       "      <td>Vacances d'Hiver</td>\n",
       "      <td>NaN</td>\n",
       "      <td>2020-02-08</td>\n",
       "      <td>2020-02-24</td>\n",
       "      <td>Paris</td>\n",
       "      <td>Zone C</td>\n",
       "      <td>2019-2020</td>\n",
       "    </tr>\n",
       "    <tr>\n",
       "      <th>284</th>\n",
       "      <td>Vacances d'Été</td>\n",
       "      <td>NaN</td>\n",
       "      <td>2020-07-04</td>\n",
       "      <td>2020-09-01</td>\n",
       "      <td>Paris</td>\n",
       "      <td>Zone C</td>\n",
       "      <td>2019-2020</td>\n",
       "    </tr>\n",
       "    <tr>\n",
       "      <th>285</th>\n",
       "      <td>Vacances d'Été</td>\n",
       "      <td>NaN</td>\n",
       "      <td>2021-07-05</td>\n",
       "      <td>NaN</td>\n",
       "      <td>Paris</td>\n",
       "      <td>Zone C</td>\n",
       "      <td>2020-2021</td>\n",
       "    </tr>\n",
       "    <tr>\n",
       "      <th>474</th>\n",
       "      <td>Vacances de Printemps</td>\n",
       "      <td>NaN</td>\n",
       "      <td>2020-04-04</td>\n",
       "      <td>2020-04-20</td>\n",
       "      <td>Paris</td>\n",
       "      <td>Zone C</td>\n",
       "      <td>2019-2020</td>\n",
       "    </tr>\n",
       "  </tbody>\n",
       "</table>\n",
       "</div>"
      ],
      "text/plain": [
       "               description population  start_date    end_date location  \\\n",
       "104       Vacances de Noël        NaN  2019-12-21  2020-01-06    Paris   \n",
       "105       Vacances d'Hiver        NaN  2020-02-08  2020-02-24    Paris   \n",
       "284         Vacances d'Été        NaN  2020-07-04  2020-09-01    Paris   \n",
       "285         Vacances d'Été        NaN  2021-07-05         NaN    Paris   \n",
       "474  Vacances de Printemps        NaN  2020-04-04  2020-04-20    Paris   \n",
       "\n",
       "      zones annee_scolaire  \n",
       "104  Zone C      2019-2020  \n",
       "105  Zone C      2019-2020  \n",
       "284  Zone C      2019-2020  \n",
       "285  Zone C      2020-2021  \n",
       "474  Zone C      2019-2020  "
      ]
     },
     "execution_count": 43,
     "metadata": {},
     "output_type": "execute_result"
    }
   ],
   "source": [
    "df_vacances = df_vacances[df_vacances['annee_scolaire'].isin(['2019-2020', '2020-2021'])]\n",
    "df_vacances.head()"
   ]
  },
  {
   "cell_type": "markdown",
   "metadata": {},
   "source": [
    "On observe un NaN... Affichons toute le DataFrame comme il n'y a que peu de lignes."
   ]
  },
  {
   "cell_type": "code",
   "execution_count": 44,
   "metadata": {},
   "outputs": [
    {
     "data": {
      "text/html": [
       "<div>\n",
       "<style scoped>\n",
       "    .dataframe tbody tr th:only-of-type {\n",
       "        vertical-align: middle;\n",
       "    }\n",
       "\n",
       "    .dataframe tbody tr th {\n",
       "        vertical-align: top;\n",
       "    }\n",
       "\n",
       "    .dataframe thead th {\n",
       "        text-align: right;\n",
       "    }\n",
       "</style>\n",
       "<table border=\"1\" class=\"dataframe\">\n",
       "  <thead>\n",
       "    <tr style=\"text-align: right;\">\n",
       "      <th></th>\n",
       "      <th>description</th>\n",
       "      <th>population</th>\n",
       "      <th>start_date</th>\n",
       "      <th>end_date</th>\n",
       "      <th>location</th>\n",
       "      <th>zones</th>\n",
       "      <th>annee_scolaire</th>\n",
       "    </tr>\n",
       "  </thead>\n",
       "  <tbody>\n",
       "    <tr>\n",
       "      <th>104</th>\n",
       "      <td>Vacances de Noël</td>\n",
       "      <td>NaN</td>\n",
       "      <td>2019-12-21</td>\n",
       "      <td>2020-01-06</td>\n",
       "      <td>Paris</td>\n",
       "      <td>Zone C</td>\n",
       "      <td>2019-2020</td>\n",
       "    </tr>\n",
       "    <tr>\n",
       "      <th>105</th>\n",
       "      <td>Vacances d'Hiver</td>\n",
       "      <td>NaN</td>\n",
       "      <td>2020-02-08</td>\n",
       "      <td>2020-02-24</td>\n",
       "      <td>Paris</td>\n",
       "      <td>Zone C</td>\n",
       "      <td>2019-2020</td>\n",
       "    </tr>\n",
       "    <tr>\n",
       "      <th>284</th>\n",
       "      <td>Vacances d'Été</td>\n",
       "      <td>NaN</td>\n",
       "      <td>2020-07-04</td>\n",
       "      <td>2020-09-01</td>\n",
       "      <td>Paris</td>\n",
       "      <td>Zone C</td>\n",
       "      <td>2019-2020</td>\n",
       "    </tr>\n",
       "    <tr>\n",
       "      <th>285</th>\n",
       "      <td>Vacances d'Été</td>\n",
       "      <td>NaN</td>\n",
       "      <td>2021-07-05</td>\n",
       "      <td>NaN</td>\n",
       "      <td>Paris</td>\n",
       "      <td>Zone C</td>\n",
       "      <td>2020-2021</td>\n",
       "    </tr>\n",
       "    <tr>\n",
       "      <th>474</th>\n",
       "      <td>Vacances de Printemps</td>\n",
       "      <td>NaN</td>\n",
       "      <td>2020-04-04</td>\n",
       "      <td>2020-04-20</td>\n",
       "      <td>Paris</td>\n",
       "      <td>Zone C</td>\n",
       "      <td>2019-2020</td>\n",
       "    </tr>\n",
       "    <tr>\n",
       "      <th>475</th>\n",
       "      <td>Pont de l'Ascension</td>\n",
       "      <td>NaN</td>\n",
       "      <td>2020-05-20</td>\n",
       "      <td>2020-05-25</td>\n",
       "      <td>Paris</td>\n",
       "      <td>Zone C</td>\n",
       "      <td>2019-2020</td>\n",
       "    </tr>\n",
       "    <tr>\n",
       "      <th>476</th>\n",
       "      <td>Vacances de Noël</td>\n",
       "      <td>NaN</td>\n",
       "      <td>2020-12-19</td>\n",
       "      <td>2021-01-04</td>\n",
       "      <td>Paris</td>\n",
       "      <td>Zone C</td>\n",
       "      <td>2020-2021</td>\n",
       "    </tr>\n",
       "    <tr>\n",
       "      <th>660</th>\n",
       "      <td>Vacances d'Hiver</td>\n",
       "      <td>NaN</td>\n",
       "      <td>2021-02-13</td>\n",
       "      <td>2021-03-01</td>\n",
       "      <td>Paris</td>\n",
       "      <td>Zone C</td>\n",
       "      <td>2020-2021</td>\n",
       "    </tr>\n",
       "    <tr>\n",
       "      <th>845</th>\n",
       "      <td>Vacances de la Toussaint</td>\n",
       "      <td>NaN</td>\n",
       "      <td>2019-10-19</td>\n",
       "      <td>2019-11-04</td>\n",
       "      <td>Paris</td>\n",
       "      <td>Zone C</td>\n",
       "      <td>2019-2020</td>\n",
       "    </tr>\n",
       "    <tr>\n",
       "      <th>846</th>\n",
       "      <td>Vacances de la Toussaint</td>\n",
       "      <td>NaN</td>\n",
       "      <td>2020-10-17</td>\n",
       "      <td>2020-11-02</td>\n",
       "      <td>Paris</td>\n",
       "      <td>Zone C</td>\n",
       "      <td>2020-2021</td>\n",
       "    </tr>\n",
       "    <tr>\n",
       "      <th>847</th>\n",
       "      <td>Vacances de Printemps</td>\n",
       "      <td>NaN</td>\n",
       "      <td>2021-04-17</td>\n",
       "      <td>2021-05-03</td>\n",
       "      <td>Paris</td>\n",
       "      <td>Zone C</td>\n",
       "      <td>2020-2021</td>\n",
       "    </tr>\n",
       "    <tr>\n",
       "      <th>848</th>\n",
       "      <td>Pont de l'Ascension</td>\n",
       "      <td>NaN</td>\n",
       "      <td>2021-05-13</td>\n",
       "      <td>2021-05-17</td>\n",
       "      <td>Paris</td>\n",
       "      <td>Zone C</td>\n",
       "      <td>2020-2021</td>\n",
       "    </tr>\n",
       "  </tbody>\n",
       "</table>\n",
       "</div>"
      ],
      "text/plain": [
       "                  description population  start_date    end_date location  \\\n",
       "104          Vacances de Noël        NaN  2019-12-21  2020-01-06    Paris   \n",
       "105          Vacances d'Hiver        NaN  2020-02-08  2020-02-24    Paris   \n",
       "284            Vacances d'Été        NaN  2020-07-04  2020-09-01    Paris   \n",
       "285            Vacances d'Été        NaN  2021-07-05         NaN    Paris   \n",
       "474     Vacances de Printemps        NaN  2020-04-04  2020-04-20    Paris   \n",
       "475       Pont de l'Ascension        NaN  2020-05-20  2020-05-25    Paris   \n",
       "476          Vacances de Noël        NaN  2020-12-19  2021-01-04    Paris   \n",
       "660          Vacances d'Hiver        NaN  2021-02-13  2021-03-01    Paris   \n",
       "845  Vacances de la Toussaint        NaN  2019-10-19  2019-11-04    Paris   \n",
       "846  Vacances de la Toussaint        NaN  2020-10-17  2020-11-02    Paris   \n",
       "847     Vacances de Printemps        NaN  2021-04-17  2021-05-03    Paris   \n",
       "848       Pont de l'Ascension        NaN  2021-05-13  2021-05-17    Paris   \n",
       "\n",
       "      zones annee_scolaire  \n",
       "104  Zone C      2019-2020  \n",
       "105  Zone C      2019-2020  \n",
       "284  Zone C      2019-2020  \n",
       "285  Zone C      2020-2021  \n",
       "474  Zone C      2019-2020  \n",
       "475  Zone C      2019-2020  \n",
       "476  Zone C      2020-2021  \n",
       "660  Zone C      2020-2021  \n",
       "845  Zone C      2019-2020  \n",
       "846  Zone C      2020-2021  \n",
       "847  Zone C      2020-2021  \n",
       "848  Zone C      2020-2021  "
      ]
     },
     "execution_count": 44,
     "metadata": {},
     "output_type": "execute_result"
    }
   ],
   "source": [
    "df_vacances"
   ]
  },
  {
   "cell_type": "markdown",
   "metadata": {},
   "source": [
    "Le seul NaN ne correpond pas à une date comprise dans notre étude. On peut donc la drop sereinement."
   ]
  },
  {
   "cell_type": "code",
   "execution_count": 45,
   "metadata": {},
   "outputs": [
    {
     "data": {
      "text/html": [
       "<div>\n",
       "<style scoped>\n",
       "    .dataframe tbody tr th:only-of-type {\n",
       "        vertical-align: middle;\n",
       "    }\n",
       "\n",
       "    .dataframe tbody tr th {\n",
       "        vertical-align: top;\n",
       "    }\n",
       "\n",
       "    .dataframe thead th {\n",
       "        text-align: right;\n",
       "    }\n",
       "</style>\n",
       "<table border=\"1\" class=\"dataframe\">\n",
       "  <thead>\n",
       "    <tr style=\"text-align: right;\">\n",
       "      <th></th>\n",
       "      <th>description</th>\n",
       "      <th>population</th>\n",
       "      <th>start_date</th>\n",
       "      <th>end_date</th>\n",
       "      <th>location</th>\n",
       "      <th>zones</th>\n",
       "      <th>annee_scolaire</th>\n",
       "    </tr>\n",
       "  </thead>\n",
       "  <tbody>\n",
       "    <tr>\n",
       "      <th>104</th>\n",
       "      <td>Vacances de Noël</td>\n",
       "      <td>NaN</td>\n",
       "      <td>2019-12-21</td>\n",
       "      <td>2020-01-06</td>\n",
       "      <td>Paris</td>\n",
       "      <td>Zone C</td>\n",
       "      <td>2019-2020</td>\n",
       "    </tr>\n",
       "    <tr>\n",
       "      <th>105</th>\n",
       "      <td>Vacances d'Hiver</td>\n",
       "      <td>NaN</td>\n",
       "      <td>2020-02-08</td>\n",
       "      <td>2020-02-24</td>\n",
       "      <td>Paris</td>\n",
       "      <td>Zone C</td>\n",
       "      <td>2019-2020</td>\n",
       "    </tr>\n",
       "    <tr>\n",
       "      <th>284</th>\n",
       "      <td>Vacances d'Été</td>\n",
       "      <td>NaN</td>\n",
       "      <td>2020-07-04</td>\n",
       "      <td>2020-09-01</td>\n",
       "      <td>Paris</td>\n",
       "      <td>Zone C</td>\n",
       "      <td>2019-2020</td>\n",
       "    </tr>\n",
       "    <tr>\n",
       "      <th>474</th>\n",
       "      <td>Vacances de Printemps</td>\n",
       "      <td>NaN</td>\n",
       "      <td>2020-04-04</td>\n",
       "      <td>2020-04-20</td>\n",
       "      <td>Paris</td>\n",
       "      <td>Zone C</td>\n",
       "      <td>2019-2020</td>\n",
       "    </tr>\n",
       "    <tr>\n",
       "      <th>475</th>\n",
       "      <td>Pont de l'Ascension</td>\n",
       "      <td>NaN</td>\n",
       "      <td>2020-05-20</td>\n",
       "      <td>2020-05-25</td>\n",
       "      <td>Paris</td>\n",
       "      <td>Zone C</td>\n",
       "      <td>2019-2020</td>\n",
       "    </tr>\n",
       "    <tr>\n",
       "      <th>476</th>\n",
       "      <td>Vacances de Noël</td>\n",
       "      <td>NaN</td>\n",
       "      <td>2020-12-19</td>\n",
       "      <td>2021-01-04</td>\n",
       "      <td>Paris</td>\n",
       "      <td>Zone C</td>\n",
       "      <td>2020-2021</td>\n",
       "    </tr>\n",
       "    <tr>\n",
       "      <th>660</th>\n",
       "      <td>Vacances d'Hiver</td>\n",
       "      <td>NaN</td>\n",
       "      <td>2021-02-13</td>\n",
       "      <td>2021-03-01</td>\n",
       "      <td>Paris</td>\n",
       "      <td>Zone C</td>\n",
       "      <td>2020-2021</td>\n",
       "    </tr>\n",
       "    <tr>\n",
       "      <th>845</th>\n",
       "      <td>Vacances de la Toussaint</td>\n",
       "      <td>NaN</td>\n",
       "      <td>2019-10-19</td>\n",
       "      <td>2019-11-04</td>\n",
       "      <td>Paris</td>\n",
       "      <td>Zone C</td>\n",
       "      <td>2019-2020</td>\n",
       "    </tr>\n",
       "    <tr>\n",
       "      <th>846</th>\n",
       "      <td>Vacances de la Toussaint</td>\n",
       "      <td>NaN</td>\n",
       "      <td>2020-10-17</td>\n",
       "      <td>2020-11-02</td>\n",
       "      <td>Paris</td>\n",
       "      <td>Zone C</td>\n",
       "      <td>2020-2021</td>\n",
       "    </tr>\n",
       "    <tr>\n",
       "      <th>847</th>\n",
       "      <td>Vacances de Printemps</td>\n",
       "      <td>NaN</td>\n",
       "      <td>2021-04-17</td>\n",
       "      <td>2021-05-03</td>\n",
       "      <td>Paris</td>\n",
       "      <td>Zone C</td>\n",
       "      <td>2020-2021</td>\n",
       "    </tr>\n",
       "    <tr>\n",
       "      <th>848</th>\n",
       "      <td>Pont de l'Ascension</td>\n",
       "      <td>NaN</td>\n",
       "      <td>2021-05-13</td>\n",
       "      <td>2021-05-17</td>\n",
       "      <td>Paris</td>\n",
       "      <td>Zone C</td>\n",
       "      <td>2020-2021</td>\n",
       "    </tr>\n",
       "  </tbody>\n",
       "</table>\n",
       "</div>"
      ],
      "text/plain": [
       "                  description population  start_date    end_date location  \\\n",
       "104          Vacances de Noël        NaN  2019-12-21  2020-01-06    Paris   \n",
       "105          Vacances d'Hiver        NaN  2020-02-08  2020-02-24    Paris   \n",
       "284            Vacances d'Été        NaN  2020-07-04  2020-09-01    Paris   \n",
       "474     Vacances de Printemps        NaN  2020-04-04  2020-04-20    Paris   \n",
       "475       Pont de l'Ascension        NaN  2020-05-20  2020-05-25    Paris   \n",
       "476          Vacances de Noël        NaN  2020-12-19  2021-01-04    Paris   \n",
       "660          Vacances d'Hiver        NaN  2021-02-13  2021-03-01    Paris   \n",
       "845  Vacances de la Toussaint        NaN  2019-10-19  2019-11-04    Paris   \n",
       "846  Vacances de la Toussaint        NaN  2020-10-17  2020-11-02    Paris   \n",
       "847     Vacances de Printemps        NaN  2021-04-17  2021-05-03    Paris   \n",
       "848       Pont de l'Ascension        NaN  2021-05-13  2021-05-17    Paris   \n",
       "\n",
       "      zones annee_scolaire  \n",
       "104  Zone C      2019-2020  \n",
       "105  Zone C      2019-2020  \n",
       "284  Zone C      2019-2020  \n",
       "474  Zone C      2019-2020  \n",
       "475  Zone C      2019-2020  \n",
       "476  Zone C      2020-2021  \n",
       "660  Zone C      2020-2021  \n",
       "845  Zone C      2019-2020  \n",
       "846  Zone C      2020-2021  \n",
       "847  Zone C      2020-2021  \n",
       "848  Zone C      2020-2021  "
      ]
     },
     "execution_count": 45,
     "metadata": {},
     "output_type": "execute_result"
    }
   ],
   "source": [
    "df_vacances = df_vacances[~ df_vacances['end_date'].isna()]\n",
    "df_vacances"
   ]
  },
  {
   "cell_type": "code",
   "execution_count": 46,
   "metadata": {},
   "outputs": [
    {
     "data": {
      "text/plain": [
       "description       object\n",
       "population        object\n",
       "start_date        object\n",
       "end_date          object\n",
       "location          object\n",
       "zones             object\n",
       "annee_scolaire    object\n",
       "dtype: object"
      ]
     },
     "execution_count": 46,
     "metadata": {},
     "output_type": "execute_result"
    }
   ],
   "source": [
    "df_vacances.dtypes"
   ]
  },
  {
   "cell_type": "code",
   "execution_count": 47,
   "metadata": {
    "scrolled": false
   },
   "outputs": [
    {
     "name": "stderr",
     "output_type": "stream",
     "text": [
      "/Users/Tony/opt/anaconda3/envs/ML/lib/python3.7/site-packages/ipykernel_launcher.py:1: SettingWithCopyWarning: \n",
      "A value is trying to be set on a copy of a slice from a DataFrame.\n",
      "Try using .loc[row_indexer,col_indexer] = value instead\n",
      "\n",
      "See the caveats in the documentation: https://pandas.pydata.org/pandas-docs/stable/user_guide/indexing.html#returning-a-view-versus-a-copy\n",
      "  \"\"\"Entry point for launching an IPython kernel.\n",
      "/Users/Tony/opt/anaconda3/envs/ML/lib/python3.7/site-packages/ipykernel_launcher.py:2: SettingWithCopyWarning: \n",
      "A value is trying to be set on a copy of a slice from a DataFrame.\n",
      "Try using .loc[row_indexer,col_indexer] = value instead\n",
      "\n",
      "See the caveats in the documentation: https://pandas.pydata.org/pandas-docs/stable/user_guide/indexing.html#returning-a-view-versus-a-copy\n",
      "  \n"
     ]
    },
    {
     "data": {
      "text/plain": [
       "description               object\n",
       "population                object\n",
       "start_date        datetime64[ns]\n",
       "end_date          datetime64[ns]\n",
       "location                  object\n",
       "zones                     object\n",
       "annee_scolaire            object\n",
       "dtype: object"
      ]
     },
     "execution_count": 47,
     "metadata": {},
     "output_type": "execute_result"
    }
   ],
   "source": [
    "df_vacances['start_date'] = pd.to_datetime(df_vacances['start_date'])\n",
    "df_vacances['end_date'] = pd.to_datetime(df_vacances['end_date'])\n",
    "\n",
    "df_vacances.dtypes"
   ]
  },
  {
   "cell_type": "markdown",
   "metadata": {},
   "source": [
    "On peut maintenant ajouter notre colonne `Vacances scolaires` à notre DataFrame de départ."
   ]
  },
  {
   "cell_type": "code",
   "execution_count": 48,
   "metadata": {
    "scrolled": true
   },
   "outputs": [
    {
     "data": {
      "text/html": [
       "<div>\n",
       "<style scoped>\n",
       "    .dataframe tbody tr th:only-of-type {\n",
       "        vertical-align: middle;\n",
       "    }\n",
       "\n",
       "    .dataframe tbody tr th {\n",
       "        vertical-align: top;\n",
       "    }\n",
       "\n",
       "    .dataframe thead th {\n",
       "        text-align: right;\n",
       "    }\n",
       "</style>\n",
       "<table border=\"1\" class=\"dataframe\">\n",
       "  <thead>\n",
       "    <tr style=\"text-align: right;\">\n",
       "      <th></th>\n",
       "      <th>Libelle</th>\n",
       "      <th>Date et heure de comptage</th>\n",
       "      <th>Débit horaire</th>\n",
       "      <th>Taux d'occupation</th>\n",
       "      <th>Etat trafic</th>\n",
       "      <th>Etat arc</th>\n",
       "      <th>filename</th>\n",
       "      <th>Date</th>\n",
       "      <th>Jour de la semaine</th>\n",
       "      <th>Etat du confinement</th>\n",
       "      <th>Couvre-feu</th>\n",
       "      <th>Jour férié</th>\n",
       "      <th>Vacances scolaires</th>\n",
       "    </tr>\n",
       "  </thead>\n",
       "  <tbody>\n",
       "    <tr>\n",
       "      <th>83689</th>\n",
       "      <td>Convention</td>\n",
       "      <td>2020-09-21 16:00:00</td>\n",
       "      <td>947.0</td>\n",
       "      <td>6.98667</td>\n",
       "      <td>1</td>\n",
       "      <td>Invalide</td>\n",
       "      <td>convention.csv</td>\n",
       "      <td>2020-09-21</td>\n",
       "      <td>0</td>\n",
       "      <td>1</td>\n",
       "      <td>False</td>\n",
       "      <td>False</td>\n",
       "      <td>False</td>\n",
       "    </tr>\n",
       "    <tr>\n",
       "      <th>602</th>\n",
       "      <td>AV_Champs_Elysees</td>\n",
       "      <td>2020-03-14 13:00:00</td>\n",
       "      <td>841.0</td>\n",
       "      <td>12.43889</td>\n",
       "      <td>1</td>\n",
       "      <td>Invalide</td>\n",
       "      <td>champs-elysees.csv</td>\n",
       "      <td>2020-03-14</td>\n",
       "      <td>5</td>\n",
       "      <td>0</td>\n",
       "      <td>False</td>\n",
       "      <td>False</td>\n",
       "      <td>False</td>\n",
       "    </tr>\n",
       "    <tr>\n",
       "      <th>44699</th>\n",
       "      <td>Convention</td>\n",
       "      <td>2020-09-14 13:00:00</td>\n",
       "      <td>821.0</td>\n",
       "      <td>4.97333</td>\n",
       "      <td>1</td>\n",
       "      <td>Invalide</td>\n",
       "      <td>convention.csv</td>\n",
       "      <td>2020-09-14</td>\n",
       "      <td>0</td>\n",
       "      <td>1</td>\n",
       "      <td>False</td>\n",
       "      <td>False</td>\n",
       "      <td>False</td>\n",
       "    </tr>\n",
       "    <tr>\n",
       "      <th>3985</th>\n",
       "      <td>AV_Champs_Elysees</td>\n",
       "      <td>2020-08-25 15:00:00</td>\n",
       "      <td>969.0</td>\n",
       "      <td>19.89389</td>\n",
       "      <td>2</td>\n",
       "      <td>Invalide</td>\n",
       "      <td>champs-elysees.csv</td>\n",
       "      <td>2020-08-25</td>\n",
       "      <td>1</td>\n",
       "      <td>1</td>\n",
       "      <td>False</td>\n",
       "      <td>False</td>\n",
       "      <td>True</td>\n",
       "    </tr>\n",
       "    <tr>\n",
       "      <th>533</th>\n",
       "      <td>AV_Champs_Elysees</td>\n",
       "      <td>2020-09-07 03:00:00</td>\n",
       "      <td>144.0</td>\n",
       "      <td>1.77944</td>\n",
       "      <td>1</td>\n",
       "      <td>Invalide</td>\n",
       "      <td>champs-elysees.csv</td>\n",
       "      <td>2020-09-07</td>\n",
       "      <td>0</td>\n",
       "      <td>1</td>\n",
       "      <td>False</td>\n",
       "      <td>False</td>\n",
       "      <td>False</td>\n",
       "    </tr>\n",
       "  </tbody>\n",
       "</table>\n",
       "</div>"
      ],
      "text/plain": [
       "                 Libelle Date et heure de comptage  Débit horaire  \\\n",
       "83689         Convention       2020-09-21 16:00:00          947.0   \n",
       "602    AV_Champs_Elysees       2020-03-14 13:00:00          841.0   \n",
       "44699         Convention       2020-09-14 13:00:00          821.0   \n",
       "3985   AV_Champs_Elysees       2020-08-25 15:00:00          969.0   \n",
       "533    AV_Champs_Elysees       2020-09-07 03:00:00          144.0   \n",
       "\n",
       "       Taux d'occupation  Etat trafic  Etat arc            filename  \\\n",
       "83689            6.98667            1  Invalide      convention.csv   \n",
       "602             12.43889            1  Invalide  champs-elysees.csv   \n",
       "44699            4.97333            1  Invalide      convention.csv   \n",
       "3985            19.89389            2  Invalide  champs-elysees.csv   \n",
       "533              1.77944            1  Invalide  champs-elysees.csv   \n",
       "\n",
       "             Date  Jour de la semaine  Etat du confinement  Couvre-feu  \\\n",
       "83689  2020-09-21                   0                    1       False   \n",
       "602    2020-03-14                   5                    0       False   \n",
       "44699  2020-09-14                   0                    1       False   \n",
       "3985   2020-08-25                   1                    1       False   \n",
       "533    2020-09-07                   0                    1       False   \n",
       "\n",
       "       Jour férié  Vacances scolaires  \n",
       "83689       False               False  \n",
       "602         False               False  \n",
       "44699       False               False  \n",
       "3985        False                True  \n",
       "533         False               False  "
      ]
     },
     "execution_count": 48,
     "metadata": {},
     "output_type": "execute_result"
    }
   ],
   "source": [
    "def est_pendant_vacances(date):    \n",
    "    for index, row_vacances in df_vacances.iterrows():\n",
    "        start = row_vacances['start_date']\n",
    "        end = row_vacances['end_date']\n",
    "        \n",
    "        if start < date < end:\n",
    "            return True\n",
    "        else:\n",
    "            pass\n",
    "    \n",
    "    return False\n",
    "\n",
    "df['Vacances scolaires'] = df['Date'].apply(est_pendant_vacances)\n",
    "df.sample(5)"
   ]
  },
  {
   "cell_type": "markdown",
   "metadata": {},
   "source": [
    "## Temps avant les prochaines grandes vacances scolaires"
   ]
  },
  {
   "cell_type": "markdown",
   "metadata": {},
   "source": [
    "Déjà, créons un DataFrame avec uniquement les grandes vacances."
   ]
  },
  {
   "cell_type": "code",
   "execution_count": 49,
   "metadata": {},
   "outputs": [
    {
     "data": {
      "text/html": [
       "<div>\n",
       "<style scoped>\n",
       "    .dataframe tbody tr th:only-of-type {\n",
       "        vertical-align: middle;\n",
       "    }\n",
       "\n",
       "    .dataframe tbody tr th {\n",
       "        vertical-align: top;\n",
       "    }\n",
       "\n",
       "    .dataframe thead th {\n",
       "        text-align: right;\n",
       "    }\n",
       "</style>\n",
       "<table border=\"1\" class=\"dataframe\">\n",
       "  <thead>\n",
       "    <tr style=\"text-align: right;\">\n",
       "      <th></th>\n",
       "      <th>description</th>\n",
       "      <th>population</th>\n",
       "      <th>start_date</th>\n",
       "      <th>end_date</th>\n",
       "      <th>location</th>\n",
       "      <th>zones</th>\n",
       "      <th>annee_scolaire</th>\n",
       "    </tr>\n",
       "  </thead>\n",
       "  <tbody>\n",
       "    <tr>\n",
       "      <th>104</th>\n",
       "      <td>Vacances de Noël</td>\n",
       "      <td>NaN</td>\n",
       "      <td>2019-12-21</td>\n",
       "      <td>2020-01-06</td>\n",
       "      <td>Paris</td>\n",
       "      <td>Zone C</td>\n",
       "      <td>2019-2020</td>\n",
       "    </tr>\n",
       "    <tr>\n",
       "      <th>105</th>\n",
       "      <td>Vacances d'Hiver</td>\n",
       "      <td>NaN</td>\n",
       "      <td>2020-02-08</td>\n",
       "      <td>2020-02-24</td>\n",
       "      <td>Paris</td>\n",
       "      <td>Zone C</td>\n",
       "      <td>2019-2020</td>\n",
       "    </tr>\n",
       "    <tr>\n",
       "      <th>284</th>\n",
       "      <td>Vacances d'Été</td>\n",
       "      <td>NaN</td>\n",
       "      <td>2020-07-04</td>\n",
       "      <td>2020-09-01</td>\n",
       "      <td>Paris</td>\n",
       "      <td>Zone C</td>\n",
       "      <td>2019-2020</td>\n",
       "    </tr>\n",
       "    <tr>\n",
       "      <th>474</th>\n",
       "      <td>Vacances de Printemps</td>\n",
       "      <td>NaN</td>\n",
       "      <td>2020-04-04</td>\n",
       "      <td>2020-04-20</td>\n",
       "      <td>Paris</td>\n",
       "      <td>Zone C</td>\n",
       "      <td>2019-2020</td>\n",
       "    </tr>\n",
       "    <tr>\n",
       "      <th>476</th>\n",
       "      <td>Vacances de Noël</td>\n",
       "      <td>NaN</td>\n",
       "      <td>2020-12-19</td>\n",
       "      <td>2021-01-04</td>\n",
       "      <td>Paris</td>\n",
       "      <td>Zone C</td>\n",
       "      <td>2020-2021</td>\n",
       "    </tr>\n",
       "  </tbody>\n",
       "</table>\n",
       "</div>"
      ],
      "text/plain": [
       "               description population start_date   end_date location   zones  \\\n",
       "104       Vacances de Noël        NaN 2019-12-21 2020-01-06    Paris  Zone C   \n",
       "105       Vacances d'Hiver        NaN 2020-02-08 2020-02-24    Paris  Zone C   \n",
       "284         Vacances d'Été        NaN 2020-07-04 2020-09-01    Paris  Zone C   \n",
       "474  Vacances de Printemps        NaN 2020-04-04 2020-04-20    Paris  Zone C   \n",
       "476       Vacances de Noël        NaN 2020-12-19 2021-01-04    Paris  Zone C   \n",
       "\n",
       "    annee_scolaire  \n",
       "104      2019-2020  \n",
       "105      2019-2020  \n",
       "284      2019-2020  \n",
       "474      2019-2020  \n",
       "476      2020-2021  "
      ]
     },
     "execution_count": 49,
     "metadata": {},
     "output_type": "execute_result"
    }
   ],
   "source": [
    "df_grandes_vacances = df_vacances[df_vacances['description'].str.contains('Vacances')]\n",
    "df_grandes_vacances.head()"
   ]
  },
  {
   "cell_type": "markdown",
   "metadata": {},
   "source": [
    "On trie maintenant ce DataFrame par ordre chronologique."
   ]
  },
  {
   "cell_type": "code",
   "execution_count": 50,
   "metadata": {},
   "outputs": [
    {
     "data": {
      "text/html": [
       "<div>\n",
       "<style scoped>\n",
       "    .dataframe tbody tr th:only-of-type {\n",
       "        vertical-align: middle;\n",
       "    }\n",
       "\n",
       "    .dataframe tbody tr th {\n",
       "        vertical-align: top;\n",
       "    }\n",
       "\n",
       "    .dataframe thead th {\n",
       "        text-align: right;\n",
       "    }\n",
       "</style>\n",
       "<table border=\"1\" class=\"dataframe\">\n",
       "  <thead>\n",
       "    <tr style=\"text-align: right;\">\n",
       "      <th></th>\n",
       "      <th>description</th>\n",
       "      <th>population</th>\n",
       "      <th>start_date</th>\n",
       "      <th>end_date</th>\n",
       "      <th>location</th>\n",
       "      <th>zones</th>\n",
       "      <th>annee_scolaire</th>\n",
       "    </tr>\n",
       "  </thead>\n",
       "  <tbody>\n",
       "    <tr>\n",
       "      <th>845</th>\n",
       "      <td>Vacances de la Toussaint</td>\n",
       "      <td>NaN</td>\n",
       "      <td>2019-10-19</td>\n",
       "      <td>2019-11-04</td>\n",
       "      <td>Paris</td>\n",
       "      <td>Zone C</td>\n",
       "      <td>2019-2020</td>\n",
       "    </tr>\n",
       "    <tr>\n",
       "      <th>104</th>\n",
       "      <td>Vacances de Noël</td>\n",
       "      <td>NaN</td>\n",
       "      <td>2019-12-21</td>\n",
       "      <td>2020-01-06</td>\n",
       "      <td>Paris</td>\n",
       "      <td>Zone C</td>\n",
       "      <td>2019-2020</td>\n",
       "    </tr>\n",
       "    <tr>\n",
       "      <th>105</th>\n",
       "      <td>Vacances d'Hiver</td>\n",
       "      <td>NaN</td>\n",
       "      <td>2020-02-08</td>\n",
       "      <td>2020-02-24</td>\n",
       "      <td>Paris</td>\n",
       "      <td>Zone C</td>\n",
       "      <td>2019-2020</td>\n",
       "    </tr>\n",
       "    <tr>\n",
       "      <th>474</th>\n",
       "      <td>Vacances de Printemps</td>\n",
       "      <td>NaN</td>\n",
       "      <td>2020-04-04</td>\n",
       "      <td>2020-04-20</td>\n",
       "      <td>Paris</td>\n",
       "      <td>Zone C</td>\n",
       "      <td>2019-2020</td>\n",
       "    </tr>\n",
       "    <tr>\n",
       "      <th>284</th>\n",
       "      <td>Vacances d'Été</td>\n",
       "      <td>NaN</td>\n",
       "      <td>2020-07-04</td>\n",
       "      <td>2020-09-01</td>\n",
       "      <td>Paris</td>\n",
       "      <td>Zone C</td>\n",
       "      <td>2019-2020</td>\n",
       "    </tr>\n",
       "  </tbody>\n",
       "</table>\n",
       "</div>"
      ],
      "text/plain": [
       "                  description population start_date   end_date location  \\\n",
       "845  Vacances de la Toussaint        NaN 2019-10-19 2019-11-04    Paris   \n",
       "104          Vacances de Noël        NaN 2019-12-21 2020-01-06    Paris   \n",
       "105          Vacances d'Hiver        NaN 2020-02-08 2020-02-24    Paris   \n",
       "474     Vacances de Printemps        NaN 2020-04-04 2020-04-20    Paris   \n",
       "284            Vacances d'Été        NaN 2020-07-04 2020-09-01    Paris   \n",
       "\n",
       "      zones annee_scolaire  \n",
       "845  Zone C      2019-2020  \n",
       "104  Zone C      2019-2020  \n",
       "105  Zone C      2019-2020  \n",
       "474  Zone C      2019-2020  \n",
       "284  Zone C      2019-2020  "
      ]
     },
     "execution_count": 50,
     "metadata": {},
     "output_type": "execute_result"
    }
   ],
   "source": [
    "df_grandes_vacances = df_grandes_vacances.sort_values(by=['start_date'])\n",
    "df_grandes_vacances.head()"
   ]
  },
  {
   "cell_type": "code",
   "execution_count": 51,
   "metadata": {},
   "outputs": [
    {
     "data": {
      "text/html": [
       "<div>\n",
       "<style scoped>\n",
       "    .dataframe tbody tr th:only-of-type {\n",
       "        vertical-align: middle;\n",
       "    }\n",
       "\n",
       "    .dataframe tbody tr th {\n",
       "        vertical-align: top;\n",
       "    }\n",
       "\n",
       "    .dataframe thead th {\n",
       "        text-align: right;\n",
       "    }\n",
       "</style>\n",
       "<table border=\"1\" class=\"dataframe\">\n",
       "  <thead>\n",
       "    <tr style=\"text-align: right;\">\n",
       "      <th></th>\n",
       "      <th>Libelle</th>\n",
       "      <th>Date et heure de comptage</th>\n",
       "      <th>Débit horaire</th>\n",
       "      <th>Taux d'occupation</th>\n",
       "      <th>Etat trafic</th>\n",
       "      <th>Etat arc</th>\n",
       "      <th>filename</th>\n",
       "      <th>Date</th>\n",
       "      <th>Jour de la semaine</th>\n",
       "      <th>Etat du confinement</th>\n",
       "      <th>Couvre-feu</th>\n",
       "      <th>Jour férié</th>\n",
       "      <th>Vacances scolaires</th>\n",
       "      <th>Date des prochaines vacances scolaires</th>\n",
       "    </tr>\n",
       "  </thead>\n",
       "  <tbody>\n",
       "    <tr>\n",
       "      <th>95007</th>\n",
       "      <td>Convention</td>\n",
       "      <td>2020-04-18 11:00:00</td>\n",
       "      <td>278.0</td>\n",
       "      <td>1.69000</td>\n",
       "      <td>1</td>\n",
       "      <td>Invalide</td>\n",
       "      <td>convention.csv</td>\n",
       "      <td>2020-04-18</td>\n",
       "      <td>5</td>\n",
       "      <td>3</td>\n",
       "      <td>False</td>\n",
       "      <td>False</td>\n",
       "      <td>True</td>\n",
       "      <td>2020-07-04</td>\n",
       "    </tr>\n",
       "    <tr>\n",
       "      <th>110040</th>\n",
       "      <td>Convention</td>\n",
       "      <td>2020-09-22 18:00:00</td>\n",
       "      <td>1031.0</td>\n",
       "      <td>18.41222</td>\n",
       "      <td>2</td>\n",
       "      <td>Invalide</td>\n",
       "      <td>convention.csv</td>\n",
       "      <td>2020-09-22</td>\n",
       "      <td>1</td>\n",
       "      <td>1</td>\n",
       "      <td>False</td>\n",
       "      <td>False</td>\n",
       "      <td>False</td>\n",
       "      <td>2020-10-17</td>\n",
       "    </tr>\n",
       "    <tr>\n",
       "      <th>82005</th>\n",
       "      <td>Convention</td>\n",
       "      <td>2020-02-08 21:00:00</td>\n",
       "      <td>759.0</td>\n",
       "      <td>4.92389</td>\n",
       "      <td>1</td>\n",
       "      <td>Invalide</td>\n",
       "      <td>convention.csv</td>\n",
       "      <td>2020-02-08</td>\n",
       "      <td>5</td>\n",
       "      <td>0</td>\n",
       "      <td>False</td>\n",
       "      <td>False</td>\n",
       "      <td>False</td>\n",
       "      <td>2020-04-04</td>\n",
       "    </tr>\n",
       "    <tr>\n",
       "      <th>3243</th>\n",
       "      <td>AV_Champs_Elysees</td>\n",
       "      <td>2020-01-02 13:00:00</td>\n",
       "      <td>1146.0</td>\n",
       "      <td>31.71334</td>\n",
       "      <td>3</td>\n",
       "      <td>Invalide</td>\n",
       "      <td>champs-elysees.csv</td>\n",
       "      <td>2020-01-02</td>\n",
       "      <td>3</td>\n",
       "      <td>0</td>\n",
       "      <td>False</td>\n",
       "      <td>False</td>\n",
       "      <td>True</td>\n",
       "      <td>2020-02-08</td>\n",
       "    </tr>\n",
       "    <tr>\n",
       "      <th>7944</th>\n",
       "      <td>AV_Champs_Elysees</td>\n",
       "      <td>2020-04-22 19:00:00</td>\n",
       "      <td>237.0</td>\n",
       "      <td>2.48500</td>\n",
       "      <td>1</td>\n",
       "      <td>Invalide</td>\n",
       "      <td>champs-elysees.csv</td>\n",
       "      <td>2020-04-22</td>\n",
       "      <td>2</td>\n",
       "      <td>3</td>\n",
       "      <td>False</td>\n",
       "      <td>False</td>\n",
       "      <td>False</td>\n",
       "      <td>2020-07-04</td>\n",
       "    </tr>\n",
       "  </tbody>\n",
       "</table>\n",
       "</div>"
      ],
      "text/plain": [
       "                  Libelle Date et heure de comptage  Débit horaire  \\\n",
       "95007          Convention       2020-04-18 11:00:00          278.0   \n",
       "110040         Convention       2020-09-22 18:00:00         1031.0   \n",
       "82005          Convention       2020-02-08 21:00:00          759.0   \n",
       "3243    AV_Champs_Elysees       2020-01-02 13:00:00         1146.0   \n",
       "7944    AV_Champs_Elysees       2020-04-22 19:00:00          237.0   \n",
       "\n",
       "        Taux d'occupation  Etat trafic  Etat arc            filename  \\\n",
       "95007             1.69000            1  Invalide      convention.csv   \n",
       "110040           18.41222            2  Invalide      convention.csv   \n",
       "82005             4.92389            1  Invalide      convention.csv   \n",
       "3243             31.71334            3  Invalide  champs-elysees.csv   \n",
       "7944              2.48500            1  Invalide  champs-elysees.csv   \n",
       "\n",
       "              Date  Jour de la semaine  Etat du confinement  Couvre-feu  \\\n",
       "95007   2020-04-18                   5                    3       False   \n",
       "110040  2020-09-22                   1                    1       False   \n",
       "82005   2020-02-08                   5                    0       False   \n",
       "3243    2020-01-02                   3                    0       False   \n",
       "7944    2020-04-22                   2                    3       False   \n",
       "\n",
       "        Jour férié  Vacances scolaires Date des prochaines vacances scolaires  \n",
       "95007        False                True                             2020-07-04  \n",
       "110040       False               False                             2020-10-17  \n",
       "82005        False               False                             2020-04-04  \n",
       "3243         False                True                             2020-02-08  \n",
       "7944         False               False                             2020-07-04  "
      ]
     },
     "execution_count": 51,
     "metadata": {},
     "output_type": "execute_result"
    }
   ],
   "source": [
    "# create a list of our conditions\n",
    "conditions = []\n",
    "\n",
    "# create a list of the values we want to assign for each condition\n",
    "values = []\n",
    "\n",
    "for idx, row in df_grandes_vacances.iterrows():\n",
    "    conditions.append(df[\"Date et heure de comptage\"] < row['start_date'])\n",
    "    values.append(row['start_date'])\n",
    "\n",
    "df['Date des prochaines vacances scolaires'] = np.select(conditions, values)\n",
    "df['Date des prochaines vacances scolaires'] = df['Date des prochaines vacances scolaires']\n",
    "df.sample(5)"
   ]
  },
  {
   "cell_type": "code",
   "execution_count": 52,
   "metadata": {},
   "outputs": [
    {
     "data": {
      "text/html": [
       "<div>\n",
       "<style scoped>\n",
       "    .dataframe tbody tr th:only-of-type {\n",
       "        vertical-align: middle;\n",
       "    }\n",
       "\n",
       "    .dataframe tbody tr th {\n",
       "        vertical-align: top;\n",
       "    }\n",
       "\n",
       "    .dataframe thead th {\n",
       "        text-align: right;\n",
       "    }\n",
       "</style>\n",
       "<table border=\"1\" class=\"dataframe\">\n",
       "  <thead>\n",
       "    <tr style=\"text-align: right;\">\n",
       "      <th></th>\n",
       "      <th>Libelle</th>\n",
       "      <th>Date et heure de comptage</th>\n",
       "      <th>Débit horaire</th>\n",
       "      <th>Taux d'occupation</th>\n",
       "      <th>Etat trafic</th>\n",
       "      <th>Etat arc</th>\n",
       "      <th>filename</th>\n",
       "      <th>Date</th>\n",
       "      <th>Jour de la semaine</th>\n",
       "      <th>Etat du confinement</th>\n",
       "      <th>Couvre-feu</th>\n",
       "      <th>Jour férié</th>\n",
       "      <th>Vacances scolaires</th>\n",
       "      <th>Date des prochaines vacances scolaires</th>\n",
       "      <th>Temps avant les prochaines vacances scolaires</th>\n",
       "    </tr>\n",
       "  </thead>\n",
       "  <tbody>\n",
       "    <tr>\n",
       "      <th>9414</th>\n",
       "      <td>AV_Champs_Elysees</td>\n",
       "      <td>2020-05-28 22:00:00</td>\n",
       "      <td>747.0</td>\n",
       "      <td>9.54111</td>\n",
       "      <td>1</td>\n",
       "      <td>Invalide</td>\n",
       "      <td>champs-elysees.csv</td>\n",
       "      <td>2020-05-28</td>\n",
       "      <td>3</td>\n",
       "      <td>1</td>\n",
       "      <td>False</td>\n",
       "      <td>False</td>\n",
       "      <td>False</td>\n",
       "      <td>2020-07-04</td>\n",
       "      <td>36 days 02:00:00</td>\n",
       "    </tr>\n",
       "    <tr>\n",
       "      <th>41523</th>\n",
       "      <td>Convention</td>\n",
       "      <td>2020-03-03 06:00:00</td>\n",
       "      <td>130.0</td>\n",
       "      <td>0.71333</td>\n",
       "      <td>1</td>\n",
       "      <td>Invalide</td>\n",
       "      <td>convention.csv</td>\n",
       "      <td>2020-03-03</td>\n",
       "      <td>1</td>\n",
       "      <td>0</td>\n",
       "      <td>False</td>\n",
       "      <td>False</td>\n",
       "      <td>False</td>\n",
       "      <td>2020-04-04</td>\n",
       "      <td>31 days 18:00:00</td>\n",
       "    </tr>\n",
       "    <tr>\n",
       "      <th>170805</th>\n",
       "      <td>Convention</td>\n",
       "      <td>2020-08-31 02:00:00</td>\n",
       "      <td>78.0</td>\n",
       "      <td>0.35111</td>\n",
       "      <td>1</td>\n",
       "      <td>Invalide</td>\n",
       "      <td>convention.csv</td>\n",
       "      <td>2020-08-31</td>\n",
       "      <td>0</td>\n",
       "      <td>1</td>\n",
       "      <td>False</td>\n",
       "      <td>False</td>\n",
       "      <td>True</td>\n",
       "      <td>2020-10-17</td>\n",
       "      <td>46 days 22:00:00</td>\n",
       "    </tr>\n",
       "    <tr>\n",
       "      <th>7734</th>\n",
       "      <td>AV_Champs_Elysees</td>\n",
       "      <td>2020-02-28 19:00:00</td>\n",
       "      <td>1141.0</td>\n",
       "      <td>35.02889</td>\n",
       "      <td>3</td>\n",
       "      <td>Invalide</td>\n",
       "      <td>champs-elysees.csv</td>\n",
       "      <td>2020-02-28</td>\n",
       "      <td>4</td>\n",
       "      <td>0</td>\n",
       "      <td>False</td>\n",
       "      <td>False</td>\n",
       "      <td>False</td>\n",
       "      <td>2020-04-04</td>\n",
       "      <td>35 days 05:00:00</td>\n",
       "    </tr>\n",
       "    <tr>\n",
       "      <th>3357</th>\n",
       "      <td>AV_Champs_Elysees</td>\n",
       "      <td>2019-12-04 16:00:00</td>\n",
       "      <td>1013.0</td>\n",
       "      <td>47.76500</td>\n",
       "      <td>3</td>\n",
       "      <td>Invalide</td>\n",
       "      <td>champs-elysees.csv</td>\n",
       "      <td>2019-12-04</td>\n",
       "      <td>2</td>\n",
       "      <td>0</td>\n",
       "      <td>False</td>\n",
       "      <td>False</td>\n",
       "      <td>False</td>\n",
       "      <td>2019-12-21</td>\n",
       "      <td>16 days 08:00:00</td>\n",
       "    </tr>\n",
       "  </tbody>\n",
       "</table>\n",
       "</div>"
      ],
      "text/plain": [
       "                  Libelle Date et heure de comptage  Débit horaire  \\\n",
       "9414    AV_Champs_Elysees       2020-05-28 22:00:00          747.0   \n",
       "41523          Convention       2020-03-03 06:00:00          130.0   \n",
       "170805         Convention       2020-08-31 02:00:00           78.0   \n",
       "7734    AV_Champs_Elysees       2020-02-28 19:00:00         1141.0   \n",
       "3357    AV_Champs_Elysees       2019-12-04 16:00:00         1013.0   \n",
       "\n",
       "        Taux d'occupation  Etat trafic  Etat arc            filename  \\\n",
       "9414              9.54111            1  Invalide  champs-elysees.csv   \n",
       "41523             0.71333            1  Invalide      convention.csv   \n",
       "170805            0.35111            1  Invalide      convention.csv   \n",
       "7734             35.02889            3  Invalide  champs-elysees.csv   \n",
       "3357             47.76500            3  Invalide  champs-elysees.csv   \n",
       "\n",
       "              Date  Jour de la semaine  Etat du confinement  Couvre-feu  \\\n",
       "9414    2020-05-28                   3                    1       False   \n",
       "41523   2020-03-03                   1                    0       False   \n",
       "170805  2020-08-31                   0                    1       False   \n",
       "7734    2020-02-28                   4                    0       False   \n",
       "3357    2019-12-04                   2                    0       False   \n",
       "\n",
       "        Jour férié  Vacances scolaires Date des prochaines vacances scolaires  \\\n",
       "9414         False               False                             2020-07-04   \n",
       "41523        False               False                             2020-04-04   \n",
       "170805       False                True                             2020-10-17   \n",
       "7734         False               False                             2020-04-04   \n",
       "3357         False               False                             2019-12-21   \n",
       "\n",
       "       Temps avant les prochaines vacances scolaires  \n",
       "9414                                36 days 02:00:00  \n",
       "41523                               31 days 18:00:00  \n",
       "170805                              46 days 22:00:00  \n",
       "7734                                35 days 05:00:00  \n",
       "3357                                16 days 08:00:00  "
      ]
     },
     "execution_count": 52,
     "metadata": {},
     "output_type": "execute_result"
    }
   ],
   "source": [
    "df['Temps avant les prochaines vacances scolaires'] = df['Date des prochaines vacances scolaires'] - df['Date et heure de comptage']\n",
    "df.sample(5)"
   ]
  },
  {
   "cell_type": "markdown",
   "metadata": {},
   "source": [
    "## Données météorologiques"
   ]
  },
  {
   "cell_type": "code",
   "execution_count": null,
   "metadata": {},
   "outputs": [],
   "source": []
  },
  {
   "cell_type": "markdown",
   "metadata": {},
   "source": [
    "# Analyse et visualisation (partie 2)"
   ]
  },
  {
   "cell_type": "code",
   "execution_count": 53,
   "metadata": {},
   "outputs": [
    {
     "data": {
      "image/png": "[encoded data removed]",
      "text/plain": [
       "<Figure size 432x288 with 2 Axes>"
      ]
     },
     "metadata": {},
     "output_type": "display_data"
    }
   ],
   "source": [
    "corr = df.corr()\n",
    "mask = np.zeros_like(corr)\n",
    "mask[np.triu_indices_from(mask)] = True\n",
    "with sns.axes_style(\"white\"):\n",
    "    ax = sns.heatmap(corr, mask=mask, vmax=.3, square=True)"
   ]
  },
  {
   "cell_type": "markdown",
   "metadata": {},
   "source": [
    "# Export train / dev / test"
   ]
  },
  {
   "cell_type": "code",
   "execution_count": 58,
   "metadata": {},
   "outputs": [
    {
     "data": {
      "text/plain": [
       "Timestamp('2020-12-01 04:00:00')"
      ]
     },
     "execution_count": 58,
     "metadata": {},
     "output_type": "execute_result"
    }
   ],
   "source": [
    "df['Date et heure de comptage'].iloc[0]"
   ]
  },
  {
   "cell_type": "code",
   "execution_count": 61,
   "metadata": {},
   "outputs": [],
   "source": [
    "df[df['filename']=='champs-elysees.csv'].to_pickle('data/champs-elysees-cleaned.pkl')"
   ]
  },
  {
   "cell_type": "code",
   "execution_count": 55,
   "metadata": {},
   "outputs": [],
   "source": [
    "#print(f'% train: {len(df_train) / len(df)}')\n",
    "#print(f'% dev: {len(df_dev) / len(df)}')\n",
    "#print(f'% test: {len(df_test) / len(df)}')"
   ]
  }
 ],
 "metadata": {
  "kernelspec": {
   "display_name": "Python 3",
   "language": "python",
   "name": "python3"
  },
  "language_info": {
   "codemirror_mode": {
    "name": "ipython",
    "version": 3
   },
   "file_extension": ".py",
   "mimetype": "text/x-python",
   "name": "python",
   "nbconvert_exporter": "python",
   "pygments_lexer": "ipython3",
   "version": "3.7.9"
  },
  "toc": {
   "base_numbering": 1,
   "nav_menu": {},
   "number_sections": true,
   "sideBar": true,
   "skip_h1_title": false,
   "title_cell": "Table of Contents",
   "title_sidebar": "Contents",
   "toc_cell": true,
   "toc_position": {
    "height": "calc(100% - 180px)",
    "left": "10px",
    "top": "150px",
    "width": "250px"
   },
   "toc_section_display": true,
   "toc_window_display": true
  },
  "varInspector": {
   "cols": {
    "lenName": 16,
    "lenType": 16,
    "lenVar": 40
   },
   "kernels_config": {
    "python": {
     "delete_cmd_postfix": "",
     "delete_cmd_prefix": "del ",
     "library": "var_list.py",
     "varRefreshCmd": "print(var_dic_list())"
    },
    "r": {
     "delete_cmd_postfix": ") ",
     "delete_cmd_prefix": "rm(",
     "library": "var_list.r",
     "varRefreshCmd": "cat(var_dic_list()) "
    }
   },
   "types_to_exclude": [
    "module",
    "function",
    "builtin_function_or_method",
    "instance",
    "_Feature"
   ],
   "window_display": false
  }
 },
 "nbformat": 4,
 "nbformat_minor": 4
}

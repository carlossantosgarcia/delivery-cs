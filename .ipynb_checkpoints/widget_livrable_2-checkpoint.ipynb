{
 "cells": [
  {
   "cell_type": "code",
   "execution_count": 1,
   "metadata": {},
   "outputs": [],
   "source": [
    "import pandas as pd\n",
    "import random as rd\n",
    "\n",
    "from planning_livreurs import *\n",
    "\n",
    "from IPython.display import HTML\n",
    "from ipywidgets import interact, interactive, fixed, interact_manual\n",
    "import ipywidgets as widgets"
   ]
  },
  {
   "cell_type": "code",
   "execution_count": 2,
   "metadata": {},
   "outputs": [
    {
     "data": {
      "text/plain": [
       "{'Champs-Elysées': VBox(), 'Convention': VBox(), 'Sts': VBox()}"
      ]
     },
     "execution_count": 2,
     "metadata": {},
     "output_type": "execute_result"
    }
   ],
   "source": [
    "list_streets = ['Champs-Elysées', 'Convention', 'Sts']\n",
    "\n",
    "# On crée le dictionnaire avec des VBox vide :\n",
    "dic_widgets_streets = {key: widgets.VBox() for key in list_streets}\n",
    "dic_widgets_streets"
   ]
  },
  {
   "cell_type": "code",
   "execution_count": 3,
   "metadata": {
    "scrolled": true
   },
   "outputs": [
    {
     "data": {
      "application/vnd.jupyter.widget-view+json": {
       "model_id": "0119ea56b6e046b492849b2c697e6876",
       "version_major": 2,
       "version_minor": 0
      },
      "text/plain": [
       "HBox(children=(VBox(children=(HTML(value='<b>Champs-Elysées :</b>'), IntSlider(value=0, description='Jour 0', …"
      ]
     },
     "metadata": {},
     "output_type": "display_data"
    }
   ],
   "source": [
    "nb_jours = 7\n",
    "\n",
    "dic_sliders_colis = dict(zip(list_streets, [[\n",
    "        widgets.IntSlider(value=0,\n",
    "                          min=0,\n",
    "                          max=10,\n",
    "                          step=1,\n",
    "                          description=f'Jour {i}') for i in range(nb_jours)\n",
    "    ] for _ in range(3)]))\n",
    "\n",
    "for key in dic_widgets_streets.keys():\n",
    "    # On associera le 1er élément de VBox.children comme étant relatif aux vendeurs\n",
    "    # et le 2nd élément sera lié aux colis.\n",
    "    dic_widgets_streets[key].children = [widgets.HTML(value=f'<b>{key} :</b>')]\n",
    "    dic_widgets_streets[key].children += tuple(dic_sliders_colis[key])\n",
    "\n",
    "hbox_children = list(dic_widgets_streets.values())\n",
    "hbox = widgets.HBox(hbox_children)\n",
    "hbox"
   ]
  },
  {
   "cell_type": "code",
   "execution_count": 4,
   "metadata": {},
   "outputs": [
    {
     "data": {
      "application/vnd.jupyter.widget-view+json": {
       "model_id": "1e18f2adb3154a479f883ba9e4d7dee9",
       "version_major": 2,
       "version_minor": 0
      },
      "text/plain": [
       "VBox(children=(IntSlider(value=8, description='#livreurs', max=50), SelectionRangeSlider(description='#shifts'…"
      ]
     },
     "metadata": {},
     "output_type": "display_data"
    }
   ],
   "source": [
    "slider_livreurs = widgets.IntSlider(\n",
    "    value=8,\n",
    "    min=0,\n",
    "    max=50,\n",
    "    step=1,\n",
    "    description='#livreurs'\n",
    ")\n",
    "\n",
    "shifts_slider = widgets.SelectionRangeSlider(\n",
    "    options=list(range(0,10)),\n",
    "    index=(4, 8),\n",
    "    description='#shifts'\n",
    ")\n",
    "\n",
    "hbox_general = widgets.VBox([slider_livreurs, shifts_slider])\n",
    "hbox_general"
   ]
  },
  {
   "cell_type": "code",
   "execution_count": 5,
   "metadata": {},
   "outputs": [
    {
     "data": {
      "application/vnd.jupyter.widget-view+json": {
       "model_id": "00c224326e92430aa1c1bc6b1d912e45",
       "version_major": 2,
       "version_minor": 0
      },
      "text/plain": [
       "Tab(children=(VBox(children=(IntSlider(value=8, description='#livreurs', max=50), SelectionRangeSlider(descrip…"
      ]
     },
     "metadata": {},
     "output_type": "display_data"
    }
   ],
   "source": [
    "tab = widgets.Tab([hbox_general, hbox])\n",
    "tab.set_title(0, 'Général')\n",
    "tab.set_title(1, 'Par rue')\n",
    "\n",
    "tab"
   ]
  },
  {
   "cell_type": "code",
   "execution_count": 6,
   "metadata": {},
   "outputs": [],
   "source": [
    "def get_list_prenoms_courants(k):\n",
    "    df_prenoms = pd.read_csv('data/prenoms.csv')\n",
    "    \n",
    "    return rd.sample(list_prenoms, k=k)"
   ]
  },
  {
   "cell_type": "code",
   "execution_count": 7,
   "metadata": {},
   "outputs": [
    {
     "data": {
      "application/vnd.jupyter.widget-view+json": {
       "model_id": "59d87cb864af4ab1a4816b17247e2c35",
       "version_major": 2,
       "version_minor": 0
      },
      "text/plain": [
       "VBox(children=(Tab(children=(VBox(children=(IntSlider(value=8, description='#livreurs', max=50), SelectionRang…"
      ]
     },
     "metadata": {},
     "output_type": "display_data"
    }
   ],
   "source": [
    "update_button = widgets.Button(\n",
    "    description='Mettre à jour',\n",
    ")\n",
    "\n",
    "container = widgets.VBox([tab ,update_button])\n",
    "\n",
    "@update_button.on_click\n",
    "def update(b=None):\n",
    "    ## Initialisation des variables fixées pour la suite :\n",
    "    num_weeks = 1\n",
    "    tagg_heure = [\"0:00-1:00\", \"1:00-2:00\", \"2:00-3:00\", \"3:00-4:00\",\"4:00-5:00\",\"5:00-6:00\",\"6:00-7:00\",\"7:00-8:00\",\"8:00-9:00\",\"9:00-10:00\",\"10:00-11:00\",\"11:00-12:00\",\"12:00-13:00\",\"13:00-14:00\",\"14:00-15:00\",\"15:00-16:00\",\"16:00-17:00\",\"17:00-18:00\",\"18:00-19:00\",\"19:00-20:00\",\"20:00-21:00\",\"21:00-22:00\",\"22:00-23:00\",\"23:00-00:00\"]\n",
    "    zones = [\"Avenue des Champs Elysées\", \"Sts-Pères\", \"Convention\"]\n",
    "    zones_heures={}\n",
    "    for index, zone in enumerate(zones):\n",
    "        zones_heures[zone] = [i for i in range(len(tagg_heure)*num_weeks*7)]\n",
    "    \n",
    "    \n",
    "    ## Récupération des valeurs des widgets :\n",
    "    nb_livreurs = slider_livreurs.value\n",
    "    # On pioche aléatoirement parmi une liste de prénoms :\n",
    "    livreurs = dict(zip(range(nb_livreurs), get_list_prenoms_courants(k=nb_livreurs)))\n",
    "    \n",
    "    Creneaux = [\"R\"] + tagg_heure\n",
    "    \n",
    "    \n",
    "    # Récupération de l'intervalle sélectionné dans le widget associé :\n",
    "    min_shift_per_day= shifts_slider.value[0]\n",
    "    max_shift_per_day = shifts_slider.value[1]\n",
    "    \n",
    "    \n",
    "    # Récupération du nombre de colis demandé par jour et par zone :\n",
    "    list_nb_colis_par_jour_ACE = [dic_sliders_colis['Champs-Elysées'][i].value for i in range(7)]\n",
    "    nb_colis_ACE = dict(zip(range(7), list_nb_colis_par_jour_ACE))\n",
    "    \n",
    "    list_nb_colis_par_jour_Sts = [dic_sliders_colis['Sts'][i].value for i in range(7)]\n",
    "    nb_colis_Sts = dict(zip(range(7), list_nb_colis_par_jour_Sts))\n",
    "    \n",
    "    list_nb_colis_par_jour_convention = [dic_sliders_colis['Convention'][i].value for i in range(7)]\n",
    "    nb_colis_convention = dict(zip(range(7), list_nb_colis_par_jour_convention))\n",
    "    \n",
    "    \n",
    "    daily_cover_demands={}\n",
    "    for d in range (num_weeks*7):\n",
    "        for zone in zones:\n",
    "            if zone == \"Avenue des Champs Elysées\":\n",
    "                daily_cover_demands[d,zone]=nb_colis_ACE[d]\n",
    "            if zone == \"Sts-Pères\":\n",
    "                daily_cover_demands[d,zone]=nb_colis_Sts[d]\n",
    "            if zone == \"Convention\":\n",
    "                daily_cover_demands[d,zone]=nb_colis_convention[d]\n",
    "                \n",
    "    # paramètres temps de travails\n",
    "    # contrainte_tp = [ [task1, task2,....], [shift1, shift2,...], total_nb_of_hours, nb_of_hours_min, nb_of_hours_max, min_penalty, max_penalty]\n",
    "    contrainte_tp = []\n",
    "    \n",
    "    contrainte_tp.append([zone for zone in zones])\n",
    "    contrainte_tp.append([shifts for shifts in range(len(tagg_heure))])\n",
    "    # base_pourc_work\n",
    "    contrainte_tp.append(35)\n",
    "    contrainte_tp.append(0)\n",
    "    contrainte_tp.append(60)\n",
    "    contrainte_tp.append(15)\n",
    "    contrainte_tp.append(15)\n",
    "\n",
    "    shift_hours = {\"0:00-1:00\" : 1, \"1:00-2:00\":1, \"2:00-3:00\":1, \"3:00-4:00\":1,\n",
    "                   \"4:00-5:00\":1,\"5:00-6:00\":1,\"6:00-7:00\":1,\"7:00-8:00\":1,\n",
    "                   \"8:00-9:00\":1,\"9:00-10:00\":1,\"10:00-11:00\":1,\"11:00-12:00\":1,\n",
    "                   \"12:00-13:00\":1,\"13:00-14:00\":1,\"14:00-15:00\":1,\"15:00-16:00\":1,\n",
    "                   \"16:00-17:00\":1,\"17:00-18:00\":1,\"18:00-19:00\":1,\"19:00-20:00\":1,\n",
    "                   \"20:00-21:00\":1,\"21:00-22:00\":1,\"22:00-23:00\":1,\"23:00-00:00\":1}\n",
    "\n",
    "    df = pd.read_pickle('data/df_train.pkl')\n",
    "    df_ACE = df[df['filename']=='champs-elysees.csv']\n",
    "    df_Sts = df[df['filename']=='sts.csv']\n",
    "    df_convention = df[df['filename']=='convention.csv']\n",
    "    \n",
    "    debut = pd.Timestamp('2020-11-23')\n",
    "    fin = pd.Timestamp('2020-11-30')\n",
    "    \n",
    "    \n",
    "    \n",
    "    #for df in (df_ACE, df_Sts, df_convention):\n",
    "    #    df['Date et heure de comptage'] = df['Date et heure de comptage'].apply(lambda s: clean_date(s))\n",
    "    #for df in (df_ACE, df_Sts, df_convention):\n",
    "    #    df['Date et heure de comptage'] = pd.to_datetime(df[\"Date et heure de comptage\"], format='%Y-%m-%d %H:%M:%S')\n",
    "    #for df in (df_ACE, df_Sts, df_convention):\n",
    "    #    df.sort_values(\"Date et heure de comptage\", inplace=True)\n",
    "\n",
    "\n",
    "    df_ACE = df_ACE[(df_ACE['Date et heure de comptage'] >= debut)]\n",
    "    df_ACE = df_ACE[(df_ACE['Date et heure de comptage'] <= fin)]\n",
    "    tx_occup_ACE = np.array(df_ACE[\"Taux d'occupation\"])\n",
    "    debit_ACE = np.array(df_ACE['Débit horaire'])\n",
    "\n",
    "    print(df_ACE['Date et heure de comptage'])\n",
    "    df_Sts = df_Sts[(df_Sts['Date et heure de comptage'] >= debut)]\n",
    "    df_Sts = df_Sts[(df_Sts['Date et heure de comptage'] <= fin)]\n",
    "    tx_occup_Sts = np.array(df_Sts[\"Taux d'occupation\"])\n",
    "    debit_Sts = np.array(df_Sts['Débit horaire'])\n",
    "\n",
    "    df_convention = df_convention[(df_convention['Date et heure de comptage'] >= debut)]\n",
    "    df_convention = df_convention[(df_convention['Date et heure de comptage'] <= fin)]\n",
    "    tx_occup_convention = np.array(df_convention[\"Taux d'occupation\"])\n",
    "    debit_convention = np.array(df_convention['Débit horaire'])\n",
    "    print(len(tx_occup_convention))\n",
    "\n",
    "    occ_rues = {}\n",
    "    for zone in zones:\n",
    "        for d in range (num_weeks*7):\n",
    "            for s in range(len(tagg_heure)):\n",
    "                if zone == \"Avenue des Champs Elysées\":\n",
    "                    occ_rues[s, d, zone] = int((tx_occup_ACE[d*len(tagg_heure)+s]/debit_ACE[d*len(tagg_heure)+s])*1000)\n",
    "                if zone == \"Sts-Pères\":\n",
    "                    occ_rues[s, d, zone] = int((tx_occup_Sts[d*len(tagg_heure)+s]/debit_Sts[d*len(tagg_heure)+s])*1000)\n",
    "                if zone == \"Convention\":\n",
    "                    occ_rues[s, d, zone] = int((tx_occup_convention[d * len(tagg_heure) + s] / debit_convention[d * len(tagg_heure) + s])*1000)\n",
    "\n",
    "    waiting_time = 60\n",
    "    \n",
    "    \n",
    "    \n",
    "    ## Appel de la fonction de résolution du schedule\n",
    "    solver, work, status = solve_shift_scheduling(livreurs, Creneaux, num_weeks, zones, \n",
    "                                                  max_shift_per_day, min_shift_per_day, \n",
    "                                                  contrainte_tp, daily_cover_demands,\n",
    "                                                  occ_rues, waiting_time,shift_hours)\n",
    "\n",
    "    \n",
    "    ## Export du fichier Excel résultant\n",
    "    all_shifts=num_weeks * len(tagg_heure) * 7\n",
    "    wb = print_solution_blockwise_del(zones, all_shifts, livreurs, solver, work, tagg_heure)\n",
    "    wb.save('planning.xls')\n",
    "    \n",
    "    \n",
    "    ## Lecture et affichage du Excel obtenu :\n",
    "    df = pd.read_excel('planning_test.xls', skiprows=3)\n",
    "    \n",
    "    df = df.fillna('')\n",
    "    df.to_html('planning.html')\n",
    "    \n",
    "    display(HTML(filename=\"planning.html\"))\n",
    "    \n",
    "    return\n",
    "\n",
    "display(container)"
   ]
  },
  {
   "cell_type": "code",
   "execution_count": null,
   "metadata": {},
   "outputs": [],
   "source": []
  },
  {
   "cell_type": "code",
   "execution_count": null,
   "metadata": {},
   "outputs": [],
   "source": []
  }
 ],
 "metadata": {
  "kernelspec": {
   "display_name": "Python 3",
   "language": "python",
   "name": "python3"
  },
  "language_info": {
   "codemirror_mode": {
    "name": "ipython",
    "version": 3
   },
   "file_extension": ".py",
   "mimetype": "text/x-python",
   "name": "python",
   "nbconvert_exporter": "python",
   "pygments_lexer": "ipython3",
   "version": "3.7.9"
  },
  "toc": {
   "base_numbering": 1,
   "nav_menu": {},
   "number_sections": true,
   "sideBar": true,
   "skip_h1_title": false,
   "title_cell": "Table of Contents",
   "title_sidebar": "Contents",
   "toc_cell": false,
   "toc_position": {},
   "toc_section_display": true,
   "toc_window_display": false
  },
  "varInspector": {
   "cols": {
    "lenName": 16,
    "lenType": 16,
    "lenVar": 40
   },
   "kernels_config": {
    "python": {
     "delete_cmd_postfix": "",
     "delete_cmd_prefix": "del ",
     "library": "var_list.py",
     "varRefreshCmd": "print(var_dic_list())"
    },
    "r": {
     "delete_cmd_postfix": ") ",
     "delete_cmd_prefix": "rm(",
     "library": "var_list.r",
     "varRefreshCmd": "cat(var_dic_list()) "
    }
   },
   "types_to_exclude": [
    "module",
    "function",
    "builtin_function_or_method",
    "instance",
    "_Feature"
   ],
   "window_display": false
  }
 },
 "nbformat": 4,
 "nbformat_minor": 4
}

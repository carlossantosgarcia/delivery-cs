{
 "cells": [
  {
   "cell_type": "code",
   "execution_count": 1,
   "metadata": {},
   "outputs": [],
   "source": [
    "from cleaning import *\n",
    "import pandas as pd"
   ]
  },
  {
   "cell_type": "markdown",
   "metadata": {},
   "source": [
    "**Modifier la variable qui suit pour définir la date qui servira à séparer le trainset du testset.**"
   ]
  },
  {
   "cell_type": "code",
   "execution_count": 2,
   "metadata": {},
   "outputs": [],
   "source": [
    "sep_date_str = '2020/11/23'"
   ]
  },
  {
   "cell_type": "markdown",
   "metadata": {},
   "source": [
    "# export_datasets"
   ]
  },
  {
   "cell_type": "code",
   "execution_count": 3,
   "metadata": {},
   "outputs": [
    {
     "name": "stdout",
     "output_type": "stream",
     "text": [
      "% train: 0.974636028766883\n",
      "% test: 0.025363971233116997\n"
     ]
    }
   ],
   "source": [
    "export_datasets(sep_date_str=sep_date_str);"
   ]
  },
  {
   "cell_type": "code",
   "execution_count": 4,
   "metadata": {},
   "outputs": [
    {
     "data": {
      "text/html": [
       "<div>\n",
       "<style scoped>\n",
       "    .dataframe tbody tr th:only-of-type {\n",
       "        vertical-align: middle;\n",
       "    }\n",
       "\n",
       "    .dataframe tbody tr th {\n",
       "        vertical-align: top;\n",
       "    }\n",
       "\n",
       "    .dataframe thead th {\n",
       "        text-align: right;\n",
       "    }\n",
       "</style>\n",
       "<table border=\"1\" class=\"dataframe\">\n",
       "  <thead>\n",
       "    <tr style=\"text-align: right;\">\n",
       "      <th></th>\n",
       "      <th>Libelle</th>\n",
       "      <th>Date et heure de comptage</th>\n",
       "      <th>Débit horaire</th>\n",
       "      <th>Taux d'occupation</th>\n",
       "      <th>Etat trafic</th>\n",
       "      <th>Etat arc</th>\n",
       "      <th>filename</th>\n",
       "      <th>Date</th>\n",
       "      <th>Jour de la semaine_0</th>\n",
       "      <th>Jour de la semaine_1</th>\n",
       "      <th>...</th>\n",
       "      <th>mintempC</th>\n",
       "      <th>avgtempC</th>\n",
       "      <th>totalSnow_cm</th>\n",
       "      <th>sunHour</th>\n",
       "      <th>daily_uvIndex</th>\n",
       "      <th>sunrise</th>\n",
       "      <th>sunset</th>\n",
       "      <th>moon_phase</th>\n",
       "      <th>moon_illumination</th>\n",
       "      <th>Journée</th>\n",
       "    </tr>\n",
       "  </thead>\n",
       "  <tbody>\n",
       "    <tr>\n",
       "      <th>9259</th>\n",
       "      <td>AV_Champs_Elysees</td>\n",
       "      <td>2020-11-23 00:00:00</td>\n",
       "      <td>91.0</td>\n",
       "      <td>1.38722</td>\n",
       "      <td>1</td>\n",
       "      <td>Invalide</td>\n",
       "      <td>champs-elysees.csv</td>\n",
       "      <td>2020-11-23</td>\n",
       "      <td>1</td>\n",
       "      <td>0</td>\n",
       "      <td>...</td>\n",
       "      <td>8</td>\n",
       "      <td>9</td>\n",
       "      <td>0.0</td>\n",
       "      <td>3.3</td>\n",
       "      <td>2</td>\n",
       "      <td>2020-11-23 08:12:00</td>\n",
       "      <td>2020-11-23 17:02:00</td>\n",
       "      <td>First Quarter</td>\n",
       "      <td>54</td>\n",
       "      <td>False</td>\n",
       "    </tr>\n",
       "    <tr>\n",
       "      <th>9260</th>\n",
       "      <td>AV_Champs_Elysees</td>\n",
       "      <td>2020-11-23 01:00:00</td>\n",
       "      <td>63.0</td>\n",
       "      <td>0.91056</td>\n",
       "      <td>1</td>\n",
       "      <td>Invalide</td>\n",
       "      <td>champs-elysees.csv</td>\n",
       "      <td>2020-11-23</td>\n",
       "      <td>1</td>\n",
       "      <td>0</td>\n",
       "      <td>...</td>\n",
       "      <td>8</td>\n",
       "      <td>9</td>\n",
       "      <td>0.0</td>\n",
       "      <td>3.3</td>\n",
       "      <td>2</td>\n",
       "      <td>2020-11-23 08:12:00</td>\n",
       "      <td>2020-11-23 17:02:00</td>\n",
       "      <td>First Quarter</td>\n",
       "      <td>54</td>\n",
       "      <td>False</td>\n",
       "    </tr>\n",
       "    <tr>\n",
       "      <th>9261</th>\n",
       "      <td>AV_Champs_Elysees</td>\n",
       "      <td>2020-11-23 02:00:00</td>\n",
       "      <td>47.0</td>\n",
       "      <td>0.74278</td>\n",
       "      <td>1</td>\n",
       "      <td>Invalide</td>\n",
       "      <td>champs-elysees.csv</td>\n",
       "      <td>2020-11-23</td>\n",
       "      <td>1</td>\n",
       "      <td>0</td>\n",
       "      <td>...</td>\n",
       "      <td>8</td>\n",
       "      <td>9</td>\n",
       "      <td>0.0</td>\n",
       "      <td>3.3</td>\n",
       "      <td>2</td>\n",
       "      <td>2020-11-23 08:12:00</td>\n",
       "      <td>2020-11-23 17:02:00</td>\n",
       "      <td>First Quarter</td>\n",
       "      <td>54</td>\n",
       "      <td>False</td>\n",
       "    </tr>\n",
       "    <tr>\n",
       "      <th>9262</th>\n",
       "      <td>AV_Champs_Elysees</td>\n",
       "      <td>2020-11-23 03:00:00</td>\n",
       "      <td>51.0</td>\n",
       "      <td>0.61056</td>\n",
       "      <td>1</td>\n",
       "      <td>Invalide</td>\n",
       "      <td>champs-elysees.csv</td>\n",
       "      <td>2020-11-23</td>\n",
       "      <td>1</td>\n",
       "      <td>0</td>\n",
       "      <td>...</td>\n",
       "      <td>8</td>\n",
       "      <td>9</td>\n",
       "      <td>0.0</td>\n",
       "      <td>3.3</td>\n",
       "      <td>2</td>\n",
       "      <td>2020-11-23 08:12:00</td>\n",
       "      <td>2020-11-23 17:02:00</td>\n",
       "      <td>First Quarter</td>\n",
       "      <td>54</td>\n",
       "      <td>False</td>\n",
       "    </tr>\n",
       "    <tr>\n",
       "      <th>9263</th>\n",
       "      <td>AV_Champs_Elysees</td>\n",
       "      <td>2020-11-23 04:00:00</td>\n",
       "      <td>32.0</td>\n",
       "      <td>0.35334</td>\n",
       "      <td>1</td>\n",
       "      <td>Invalide</td>\n",
       "      <td>champs-elysees.csv</td>\n",
       "      <td>2020-11-23</td>\n",
       "      <td>1</td>\n",
       "      <td>0</td>\n",
       "      <td>...</td>\n",
       "      <td>8</td>\n",
       "      <td>9</td>\n",
       "      <td>0.0</td>\n",
       "      <td>3.3</td>\n",
       "      <td>2</td>\n",
       "      <td>2020-11-23 08:12:00</td>\n",
       "      <td>2020-11-23 17:02:00</td>\n",
       "      <td>First Quarter</td>\n",
       "      <td>54</td>\n",
       "      <td>False</td>\n",
       "    </tr>\n",
       "  </tbody>\n",
       "</table>\n",
       "<p>5 rows × 47 columns</p>\n",
       "</div>"
      ],
      "text/plain": [
       "                Libelle Date et heure de comptage  Débit horaire  \\\n",
       "9259  AV_Champs_Elysees       2020-11-23 00:00:00           91.0   \n",
       "9260  AV_Champs_Elysees       2020-11-23 01:00:00           63.0   \n",
       "9261  AV_Champs_Elysees       2020-11-23 02:00:00           47.0   \n",
       "9262  AV_Champs_Elysees       2020-11-23 03:00:00           51.0   \n",
       "9263  AV_Champs_Elysees       2020-11-23 04:00:00           32.0   \n",
       "\n",
       "      Taux d'occupation  Etat trafic  Etat arc            filename  \\\n",
       "9259            1.38722            1  Invalide  champs-elysees.csv   \n",
       "9260            0.91056            1  Invalide  champs-elysees.csv   \n",
       "9261            0.74278            1  Invalide  champs-elysees.csv   \n",
       "9262            0.61056            1  Invalide  champs-elysees.csv   \n",
       "9263            0.35334            1  Invalide  champs-elysees.csv   \n",
       "\n",
       "            Date  Jour de la semaine_0  Jour de la semaine_1  ...  mintempC  \\\n",
       "9259  2020-11-23                     1                     0  ...         8   \n",
       "9260  2020-11-23                     1                     0  ...         8   \n",
       "9261  2020-11-23                     1                     0  ...         8   \n",
       "9262  2020-11-23                     1                     0  ...         8   \n",
       "9263  2020-11-23                     1                     0  ...         8   \n",
       "\n",
       "      avgtempC  totalSnow_cm  sunHour  daily_uvIndex             sunrise  \\\n",
       "9259         9           0.0      3.3              2 2020-11-23 08:12:00   \n",
       "9260         9           0.0      3.3              2 2020-11-23 08:12:00   \n",
       "9261         9           0.0      3.3              2 2020-11-23 08:12:00   \n",
       "9262         9           0.0      3.3              2 2020-11-23 08:12:00   \n",
       "9263         9           0.0      3.3              2 2020-11-23 08:12:00   \n",
       "\n",
       "                  sunset     moon_phase  moon_illumination Journée  \n",
       "9259 2020-11-23 17:02:00  First Quarter                 54   False  \n",
       "9260 2020-11-23 17:02:00  First Quarter                 54   False  \n",
       "9261 2020-11-23 17:02:00  First Quarter                 54   False  \n",
       "9262 2020-11-23 17:02:00  First Quarter                 54   False  \n",
       "9263 2020-11-23 17:02:00  First Quarter                 54   False  \n",
       "\n",
       "[5 rows x 47 columns]"
      ]
     },
     "execution_count": 4,
     "metadata": {},
     "output_type": "execute_result"
    }
   ],
   "source": [
    "df = pd.read_pickle('data/df_test.pkl')\n",
    "df.head()"
   ]
  },
  {
   "cell_type": "code",
   "execution_count": 5,
   "metadata": {},
   "outputs": [
    {
     "data": {
      "text/plain": [
       "array(['champs-elysees.csv', 'convention.csv', 'sts.csv'], dtype=object)"
      ]
     },
     "execution_count": 5,
     "metadata": {},
     "output_type": "execute_result"
    }
   ],
   "source": [
    "df['filename'].unique()"
   ]
  },
  {
   "cell_type": "code",
   "execution_count": 6,
   "metadata": {},
   "outputs": [
    {
     "data": {
      "text/plain": [
       "723"
      ]
     },
     "execution_count": 6,
     "metadata": {},
     "output_type": "execute_result"
    }
   ],
   "source": [
    "len(df)"
   ]
  },
  {
   "cell_type": "markdown",
   "metadata": {},
   "source": [
    "# export_concat_datasets"
   ]
  },
  {
   "cell_type": "code",
   "execution_count": 7,
   "metadata": {
    "scrolled": true
   },
   "outputs": [
    {
     "name": "stdout",
     "output_type": "stream",
     "text": [
      "% train: 0.9746315789473684\n",
      "% test: 0.02536842105263158\n"
     ]
    }
   ],
   "source": [
    "export_concat_datasets(sep_date_str=sep_date_str);"
   ]
  },
  {
   "cell_type": "code",
   "execution_count": 8,
   "metadata": {},
   "outputs": [
    {
     "data": {
      "text/html": [
       "<div>\n",
       "<style scoped>\n",
       "    .dataframe tbody tr th:only-of-type {\n",
       "        vertical-align: middle;\n",
       "    }\n",
       "\n",
       "    .dataframe tbody tr th {\n",
       "        vertical-align: top;\n",
       "    }\n",
       "\n",
       "    .dataframe thead th {\n",
       "        text-align: right;\n",
       "    }\n",
       "</style>\n",
       "<table border=\"1\" class=\"dataframe\">\n",
       "  <thead>\n",
       "    <tr style=\"text-align: right;\">\n",
       "      <th></th>\n",
       "      <th>Date et heure de comptage</th>\n",
       "      <th>champs-elysees_Débit horaire</th>\n",
       "      <th>champs-elysees_Taux d'occupation</th>\n",
       "      <th>champs-elysees_Etat trafic</th>\n",
       "      <th>champs-elysees_Etat arc</th>\n",
       "      <th>convention_Débit horaire</th>\n",
       "      <th>convention_Taux d'occupation</th>\n",
       "      <th>convention_Etat trafic</th>\n",
       "      <th>convention_Etat arc</th>\n",
       "      <th>sts_Débit horaire</th>\n",
       "      <th>...</th>\n",
       "      <th>mintempC</th>\n",
       "      <th>avgtempC</th>\n",
       "      <th>totalSnow_cm</th>\n",
       "      <th>sunHour</th>\n",
       "      <th>daily_uvIndex</th>\n",
       "      <th>sunrise</th>\n",
       "      <th>sunset</th>\n",
       "      <th>moon_phase</th>\n",
       "      <th>moon_illumination</th>\n",
       "      <th>Journée</th>\n",
       "    </tr>\n",
       "  </thead>\n",
       "  <tbody>\n",
       "    <tr>\n",
       "      <th>0</th>\n",
       "      <td>2019-11-01 04:00:00</td>\n",
       "      <td>746.0</td>\n",
       "      <td>10.98889</td>\n",
       "      <td>1</td>\n",
       "      <td>Invalide</td>\n",
       "      <td>323.0</td>\n",
       "      <td>1.67722</td>\n",
       "      <td>1</td>\n",
       "      <td>Invalide</td>\n",
       "      <td>259.0</td>\n",
       "      <td>...</td>\n",
       "      <td>9</td>\n",
       "      <td>13</td>\n",
       "      <td>0.0</td>\n",
       "      <td>3.7</td>\n",
       "      <td>3</td>\n",
       "      <td>2019-11-01 07:37:00</td>\n",
       "      <td>2019-11-01 17:31:00</td>\n",
       "      <td>Waxing Crescent</td>\n",
       "      <td>24</td>\n",
       "      <td>False</td>\n",
       "    </tr>\n",
       "    <tr>\n",
       "      <th>1</th>\n",
       "      <td>2019-11-01 05:00:00</td>\n",
       "      <td>549.0</td>\n",
       "      <td>7.40722</td>\n",
       "      <td>1</td>\n",
       "      <td>Invalide</td>\n",
       "      <td>272.0</td>\n",
       "      <td>1.41056</td>\n",
       "      <td>1</td>\n",
       "      <td>Invalide</td>\n",
       "      <td>197.0</td>\n",
       "      <td>...</td>\n",
       "      <td>9</td>\n",
       "      <td>13</td>\n",
       "      <td>0.0</td>\n",
       "      <td>3.7</td>\n",
       "      <td>3</td>\n",
       "      <td>2019-11-01 07:37:00</td>\n",
       "      <td>2019-11-01 17:31:00</td>\n",
       "      <td>Waxing Crescent</td>\n",
       "      <td>24</td>\n",
       "      <td>False</td>\n",
       "    </tr>\n",
       "    <tr>\n",
       "      <th>2</th>\n",
       "      <td>2019-11-01 06:00:00</td>\n",
       "      <td>503.0</td>\n",
       "      <td>7.66667</td>\n",
       "      <td>1</td>\n",
       "      <td>Invalide</td>\n",
       "      <td>240.0</td>\n",
       "      <td>1.35667</td>\n",
       "      <td>1</td>\n",
       "      <td>Invalide</td>\n",
       "      <td>163.0</td>\n",
       "      <td>...</td>\n",
       "      <td>9</td>\n",
       "      <td>13</td>\n",
       "      <td>0.0</td>\n",
       "      <td>3.7</td>\n",
       "      <td>3</td>\n",
       "      <td>2019-11-01 07:37:00</td>\n",
       "      <td>2019-11-01 17:31:00</td>\n",
       "      <td>Waxing Crescent</td>\n",
       "      <td>24</td>\n",
       "      <td>False</td>\n",
       "    </tr>\n",
       "    <tr>\n",
       "      <th>3</th>\n",
       "      <td>2019-11-01 07:00:00</td>\n",
       "      <td>500.0</td>\n",
       "      <td>4.75500</td>\n",
       "      <td>1</td>\n",
       "      <td>Invalide</td>\n",
       "      <td>216.0</td>\n",
       "      <td>1.14056</td>\n",
       "      <td>1</td>\n",
       "      <td>Invalide</td>\n",
       "      <td>170.0</td>\n",
       "      <td>...</td>\n",
       "      <td>9</td>\n",
       "      <td>13</td>\n",
       "      <td>0.0</td>\n",
       "      <td>3.7</td>\n",
       "      <td>3</td>\n",
       "      <td>2019-11-01 07:37:00</td>\n",
       "      <td>2019-11-01 17:31:00</td>\n",
       "      <td>Waxing Crescent</td>\n",
       "      <td>24</td>\n",
       "      <td>False</td>\n",
       "    </tr>\n",
       "    <tr>\n",
       "      <th>4</th>\n",
       "      <td>2019-11-01 08:00:00</td>\n",
       "      <td>525.0</td>\n",
       "      <td>5.37389</td>\n",
       "      <td>1</td>\n",
       "      <td>Invalide</td>\n",
       "      <td>260.0</td>\n",
       "      <td>1.85722</td>\n",
       "      <td>1</td>\n",
       "      <td>Invalide</td>\n",
       "      <td>225.0</td>\n",
       "      <td>...</td>\n",
       "      <td>9</td>\n",
       "      <td>13</td>\n",
       "      <td>0.0</td>\n",
       "      <td>3.7</td>\n",
       "      <td>3</td>\n",
       "      <td>2019-11-01 07:37:00</td>\n",
       "      <td>2019-11-01 17:31:00</td>\n",
       "      <td>Waxing Crescent</td>\n",
       "      <td>24</td>\n",
       "      <td>True</td>\n",
       "    </tr>\n",
       "  </tbody>\n",
       "</table>\n",
       "<p>5 rows × 54 columns</p>\n",
       "</div>"
      ],
      "text/plain": [
       "  Date et heure de comptage  champs-elysees_Débit horaire  \\\n",
       "0       2019-11-01 04:00:00                         746.0   \n",
       "1       2019-11-01 05:00:00                         549.0   \n",
       "2       2019-11-01 06:00:00                         503.0   \n",
       "3       2019-11-01 07:00:00                         500.0   \n",
       "4       2019-11-01 08:00:00                         525.0   \n",
       "\n",
       "   champs-elysees_Taux d'occupation  champs-elysees_Etat trafic  \\\n",
       "0                          10.98889                           1   \n",
       "1                           7.40722                           1   \n",
       "2                           7.66667                           1   \n",
       "3                           4.75500                           1   \n",
       "4                           5.37389                           1   \n",
       "\n",
       "  champs-elysees_Etat arc  convention_Débit horaire  \\\n",
       "0                Invalide                     323.0   \n",
       "1                Invalide                     272.0   \n",
       "2                Invalide                     240.0   \n",
       "3                Invalide                     216.0   \n",
       "4                Invalide                     260.0   \n",
       "\n",
       "   convention_Taux d'occupation  convention_Etat trafic convention_Etat arc  \\\n",
       "0                       1.67722                       1            Invalide   \n",
       "1                       1.41056                       1            Invalide   \n",
       "2                       1.35667                       1            Invalide   \n",
       "3                       1.14056                       1            Invalide   \n",
       "4                       1.85722                       1            Invalide   \n",
       "\n",
       "   sts_Débit horaire  ...  mintempC  avgtempC totalSnow_cm sunHour  \\\n",
       "0              259.0  ...         9        13          0.0     3.7   \n",
       "1              197.0  ...         9        13          0.0     3.7   \n",
       "2              163.0  ...         9        13          0.0     3.7   \n",
       "3              170.0  ...         9        13          0.0     3.7   \n",
       "4              225.0  ...         9        13          0.0     3.7   \n",
       "\n",
       "  daily_uvIndex             sunrise              sunset       moon_phase  \\\n",
       "0             3 2019-11-01 07:37:00 2019-11-01 17:31:00  Waxing Crescent   \n",
       "1             3 2019-11-01 07:37:00 2019-11-01 17:31:00  Waxing Crescent   \n",
       "2             3 2019-11-01 07:37:00 2019-11-01 17:31:00  Waxing Crescent   \n",
       "3             3 2019-11-01 07:37:00 2019-11-01 17:31:00  Waxing Crescent   \n",
       "4             3 2019-11-01 07:37:00 2019-11-01 17:31:00  Waxing Crescent   \n",
       "\n",
       "   moon_illumination  Journée  \n",
       "0                 24    False  \n",
       "1                 24    False  \n",
       "2                 24    False  \n",
       "3                 24    False  \n",
       "4                 24     True  \n",
       "\n",
       "[5 rows x 54 columns]"
      ]
     },
     "execution_count": 8,
     "metadata": {},
     "output_type": "execute_result"
    }
   ],
   "source": [
    "df_concat = pd.read_pickle('data/df_concat_train.pkl')\n",
    "df_concat.head()"
   ]
  },
  {
   "cell_type": "code",
   "execution_count": 9,
   "metadata": {},
   "outputs": [
    {
     "data": {
      "text/plain": [
       "Index(['Date et heure de comptage', 'champs-elysees_Débit horaire',\n",
       "       'champs-elysees_Taux d'occupation', 'champs-elysees_Etat trafic',\n",
       "       'champs-elysees_Etat arc', 'convention_Débit horaire',\n",
       "       'convention_Taux d'occupation', 'convention_Etat trafic',\n",
       "       'convention_Etat arc', 'sts_Débit horaire', 'sts_Taux d'occupation',\n",
       "       'sts_Etat trafic', 'sts_Etat arc', 'filename', 'Date',\n",
       "       'Jour de la semaine_0', 'Jour de la semaine_1', 'Jour de la semaine_2',\n",
       "       'Jour de la semaine_3', 'Jour de la semaine_4', 'Jour de la semaine_5',\n",
       "       'Jour de la semaine_6', 'Etat du confinement', 'Couvre-feu',\n",
       "       'Jour férié', 'Vacances scolaires',\n",
       "       'Date des prochaines vacances scolaires',\n",
       "       'Temps avant les prochaines vacances scolaires', 'tempC',\n",
       "       'windspeedKmph', 'winddirDegree', 'weatherCode', 'precipMM', 'humidity',\n",
       "       'visibility', 'pressure', 'cloudcover', 'HeatIndexC', 'DewPointC',\n",
       "       'WindChillC', 'WindGustKmph', 'FeelsLikeC', 'hourly_uvIndex',\n",
       "       'maxtempC', 'mintempC', 'avgtempC', 'totalSnow_cm', 'sunHour',\n",
       "       'daily_uvIndex', 'sunrise', 'sunset', 'moon_phase', 'moon_illumination',\n",
       "       'Journée'],\n",
       "      dtype='object')"
      ]
     },
     "execution_count": 9,
     "metadata": {},
     "output_type": "execute_result"
    }
   ],
   "source": [
    "df_concat.columns"
   ]
  },
  {
   "cell_type": "code",
   "execution_count": 10,
   "metadata": {},
   "outputs": [
    {
     "data": {
      "text/plain": [
       "9259"
      ]
     },
     "execution_count": 10,
     "metadata": {},
     "output_type": "execute_result"
    }
   ],
   "source": [
    "len(df_concat)"
   ]
  },
  {
   "cell_type": "markdown",
   "metadata": {},
   "source": [
    "# Modification des DataFrames pour générer les baselines"
   ]
  },
  {
   "cell_type": "code",
   "execution_count": 11,
   "metadata": {},
   "outputs": [
    {
     "data": {
      "text/plain": [
       "(Timestamp('2019-11-01 04:00:00'), Timestamp('2020-11-22 23:00:00'))"
      ]
     },
     "execution_count": 11,
     "metadata": {},
     "output_type": "execute_result"
    }
   ],
   "source": [
    "df_train_baseline = pd.read_pickle('data/df_train.pkl')\n",
    "df_train_baseline['Date et heure de comptage'].iloc[0], df_train_baseline['Date et heure de comptage'].iloc[-1]"
   ]
  },
  {
   "cell_type": "code",
   "execution_count": 12,
   "metadata": {},
   "outputs": [
    {
     "data": {
      "text/plain": [
       "(Timestamp('2020-11-23 00:00:00'), Timestamp('2020-11-27 23:00:00'))"
      ]
     },
     "execution_count": 12,
     "metadata": {},
     "output_type": "execute_result"
    }
   ],
   "source": [
    "df_test_baseline = pd.read_pickle('data/df_test.pkl')\n",
    "end_datetime = pd.Timestamp('2020/11/28')\n",
    "df_test_baseline = df_test_baseline[df_test_baseline['Date et heure de comptage'] < end_datetime]\n",
    "df_test_baseline['Date et heure de comptage'].iloc[0], df_test_baseline['Date et heure de comptage'].iloc[-1]"
   ]
  },
  {
   "cell_type": "code",
   "execution_count": 13,
   "metadata": {},
   "outputs": [],
   "source": [
    "df_train_baseline.to_pickle('data/df_train_baseline.pkl')\n",
    "df_test_baseline.to_pickle('data/df_test_baseline.pkl')"
   ]
  },
  {
   "cell_type": "code",
   "execution_count": null,
   "metadata": {},
   "outputs": [],
   "source": []
  }
 ],
 "metadata": {
  "kernelspec": {
   "display_name": "Python 3",
   "language": "python",
   "name": "python3"
  },
  "language_info": {
   "codemirror_mode": {
    "name": "ipython",
    "version": 3
   },
   "file_extension": ".py",
   "mimetype": "text/x-python",
   "name": "python",
   "nbconvert_exporter": "python",
   "pygments_lexer": "ipython3",
   "version": "3.7.9"
  },
  "toc": {
   "base_numbering": 1,
   "nav_menu": {},
   "number_sections": true,
   "sideBar": true,
   "skip_h1_title": false,
   "title_cell": "Table of Contents",
   "title_sidebar": "Contents",
   "toc_cell": false,
   "toc_position": {},
   "toc_section_display": true,
   "toc_window_display": false
  },
  "varInspector": {
   "cols": {
    "lenName": 16,
    "lenType": 16,
    "lenVar": 40
   },
   "kernels_config": {
    "python": {
     "delete_cmd_postfix": "",
     "delete_cmd_prefix": "del ",
     "library": "var_list.py",
     "varRefreshCmd": "print(var_dic_list())"
    },
    "r": {
     "delete_cmd_postfix": ") ",
     "delete_cmd_prefix": "rm(",
     "library": "var_list.r",
     "varRefreshCmd": "cat(var_dic_list()) "
    }
   },
   "types_to_exclude": [
    "module",
    "function",
    "builtin_function_or_method",
    "instance",
    "_Feature"
   ],
   "window_display": false
  }
 },
 "nbformat": 4,
 "nbformat_minor": 4
}

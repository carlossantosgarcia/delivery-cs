{
 "cells": [
  {
   "cell_type": "markdown",
   "metadata": {
    "toc": true
   },
   "source": [
    "<h1>Table of Contents<span class=\"tocSkip\"></span></h1>\n",
    "<div class=\"toc\"><ul class=\"toc-item\"><li><span><a href=\"#Récupération-des-données\" data-toc-modified-id=\"Récupération-des-données-1\"><span class=\"toc-item-num\">1&nbsp;&nbsp;</span>Récupération des données</a></span></li><li><span><a href=\"#Séparation-des-données\" data-toc-modified-id=\"Séparation-des-données-2\"><span class=\"toc-item-num\">2&nbsp;&nbsp;</span>Séparation des données</a></span></li><li><span><a href=\"#Paramètres-globaux-pour-générer-les-baselines\" data-toc-modified-id=\"Paramètres-globaux-pour-générer-les-baselines-3\"><span class=\"toc-item-num\">3&nbsp;&nbsp;</span>Paramètres globaux pour générer les baselines</a></span><ul class=\"toc-item\"><li><span><a href=\"#nb_predictions\" data-toc-modified-id=\"nb_predictions-3.1\"><span class=\"toc-item-num\">3.1&nbsp;&nbsp;</span>nb_predictions</a></span></li><li><span><a href=\"#nb_jours\" data-toc-modified-id=\"nb_jours-3.2\"><span class=\"toc-item-num\">3.2&nbsp;&nbsp;</span>nb_jours</a></span></li><li><span><a href=\"#cols_to_keep\" data-toc-modified-id=\"cols_to_keep-3.3\"><span class=\"toc-item-num\">3.3&nbsp;&nbsp;</span>cols_to_keep</a></span></li><li><span><a href=\"#time_index\" data-toc-modified-id=\"time_index-3.4\"><span class=\"toc-item-num\">3.4&nbsp;&nbsp;</span>time_index</a></span></li></ul></li><li><span><a href=\"#Naive-last\" data-toc-modified-id=\"Naive-last-4\"><span class=\"toc-item-num\">4&nbsp;&nbsp;</span>Naive last</a></span></li><li><span><a href=\"#Naive-seasonal\" data-toc-modified-id=\"Naive-seasonal-5\"><span class=\"toc-item-num\">5&nbsp;&nbsp;</span>Naive seasonal</a></span><ul class=\"toc-item\"><li><span><a href=\"#Exponential-smoothing\" data-toc-modified-id=\"Exponential-smoothing-5.1\"><span class=\"toc-item-num\">5.1&nbsp;&nbsp;</span>Exponential smoothing</a></span></li></ul></li></ul></div>"
   ]
  },
  {
   "cell_type": "code",
   "execution_count": 103,
   "metadata": {},
   "outputs": [],
   "source": [
    "import pandas as pd\n",
    "\n",
    "from statsmodels.tsa.holtwinters import SimpleExpSmoothing\n",
    "\n",
    "from sklearn.metrics import mean_squared_error"
   ]
  },
  {
   "cell_type": "markdown",
   "metadata": {},
   "source": [
    "# Récupération des données"
   ]
  },
  {
   "cell_type": "code",
   "execution_count": 58,
   "metadata": {},
   "outputs": [],
   "source": [
    "df_train = pd.read_pickle('data/df_train_baseline.pkl')\n",
    "df_test = pd.read_pickle('data/df_test_baseline.pkl')"
   ]
  },
  {
   "cell_type": "markdown",
   "metadata": {},
   "source": [
    "Vérifions que le test set est sur la bonne période."
   ]
  },
  {
   "cell_type": "code",
   "execution_count": 3,
   "metadata": {},
   "outputs": [
    {
     "data": {
      "text/html": [
       "<div>\n",
       "<style scoped>\n",
       "    .dataframe tbody tr th:only-of-type {\n",
       "        vertical-align: middle;\n",
       "    }\n",
       "\n",
       "    .dataframe tbody tr th {\n",
       "        vertical-align: top;\n",
       "    }\n",
       "\n",
       "    .dataframe thead th {\n",
       "        text-align: right;\n",
       "    }\n",
       "</style>\n",
       "<table border=\"1\" class=\"dataframe\">\n",
       "  <thead>\n",
       "    <tr style=\"text-align: right;\">\n",
       "      <th></th>\n",
       "      <th>Libelle</th>\n",
       "      <th>Date et heure de comptage</th>\n",
       "      <th>Débit horaire</th>\n",
       "      <th>Taux d'occupation</th>\n",
       "      <th>Etat trafic</th>\n",
       "      <th>Etat arc</th>\n",
       "      <th>filename</th>\n",
       "      <th>Date</th>\n",
       "      <th>Jour de la semaine_0</th>\n",
       "      <th>Jour de la semaine_1</th>\n",
       "      <th>...</th>\n",
       "      <th>mintempC</th>\n",
       "      <th>avgtempC</th>\n",
       "      <th>totalSnow_cm</th>\n",
       "      <th>sunHour</th>\n",
       "      <th>daily_uvIndex</th>\n",
       "      <th>sunrise</th>\n",
       "      <th>sunset</th>\n",
       "      <th>moon_phase</th>\n",
       "      <th>moon_illumination</th>\n",
       "      <th>Journée</th>\n",
       "    </tr>\n",
       "  </thead>\n",
       "  <tbody>\n",
       "    <tr>\n",
       "      <th>9259</th>\n",
       "      <td>AV_Champs_Elysees</td>\n",
       "      <td>2020-11-23</td>\n",
       "      <td>91.0</td>\n",
       "      <td>1.38722</td>\n",
       "      <td>1</td>\n",
       "      <td>Invalide</td>\n",
       "      <td>champs-elysees.csv</td>\n",
       "      <td>2020-11-23</td>\n",
       "      <td>1</td>\n",
       "      <td>0</td>\n",
       "      <td>...</td>\n",
       "      <td>8</td>\n",
       "      <td>9</td>\n",
       "      <td>0.0</td>\n",
       "      <td>3.3</td>\n",
       "      <td>2</td>\n",
       "      <td>2020-11-23 08:12:00</td>\n",
       "      <td>2020-11-23 17:02:00</td>\n",
       "      <td>First Quarter</td>\n",
       "      <td>54</td>\n",
       "      <td>False</td>\n",
       "    </tr>\n",
       "  </tbody>\n",
       "</table>\n",
       "<p>1 rows × 47 columns</p>\n",
       "</div>"
      ],
      "text/plain": [
       "                Libelle Date et heure de comptage  Débit horaire  \\\n",
       "9259  AV_Champs_Elysees                2020-11-23           91.0   \n",
       "\n",
       "      Taux d'occupation  Etat trafic  Etat arc            filename  \\\n",
       "9259            1.38722            1  Invalide  champs-elysees.csv   \n",
       "\n",
       "            Date  Jour de la semaine_0  Jour de la semaine_1  ...  mintempC  \\\n",
       "9259  2020-11-23                     1                     0  ...         8   \n",
       "\n",
       "      avgtempC  totalSnow_cm  sunHour  daily_uvIndex             sunrise  \\\n",
       "9259         9           0.0      3.3              2 2020-11-23 08:12:00   \n",
       "\n",
       "                  sunset     moon_phase  moon_illumination Journée  \n",
       "9259 2020-11-23 17:02:00  First Quarter                 54   False  \n",
       "\n",
       "[1 rows x 47 columns]"
      ]
     },
     "execution_count": 3,
     "metadata": {},
     "output_type": "execute_result"
    }
   ],
   "source": [
    "df_test.head(1)"
   ]
  },
  {
   "cell_type": "code",
   "execution_count": 4,
   "metadata": {},
   "outputs": [
    {
     "data": {
      "text/html": [
       "<div>\n",
       "<style scoped>\n",
       "    .dataframe tbody tr th:only-of-type {\n",
       "        vertical-align: middle;\n",
       "    }\n",
       "\n",
       "    .dataframe tbody tr th {\n",
       "        vertical-align: top;\n",
       "    }\n",
       "\n",
       "    .dataframe thead th {\n",
       "        text-align: right;\n",
       "    }\n",
       "</style>\n",
       "<table border=\"1\" class=\"dataframe\">\n",
       "  <thead>\n",
       "    <tr style=\"text-align: right;\">\n",
       "      <th></th>\n",
       "      <th>Libelle</th>\n",
       "      <th>Date et heure de comptage</th>\n",
       "      <th>Débit horaire</th>\n",
       "      <th>Taux d'occupation</th>\n",
       "      <th>Etat trafic</th>\n",
       "      <th>Etat arc</th>\n",
       "      <th>filename</th>\n",
       "      <th>Date</th>\n",
       "      <th>Jour de la semaine_0</th>\n",
       "      <th>Jour de la semaine_1</th>\n",
       "      <th>...</th>\n",
       "      <th>mintempC</th>\n",
       "      <th>avgtempC</th>\n",
       "      <th>totalSnow_cm</th>\n",
       "      <th>sunHour</th>\n",
       "      <th>daily_uvIndex</th>\n",
       "      <th>sunrise</th>\n",
       "      <th>sunset</th>\n",
       "      <th>moon_phase</th>\n",
       "      <th>moon_illumination</th>\n",
       "      <th>Journée</th>\n",
       "    </tr>\n",
       "  </thead>\n",
       "  <tbody>\n",
       "    <tr>\n",
       "      <th>28383</th>\n",
       "      <td>Sts_Peres</td>\n",
       "      <td>2020-11-27 23:00:00</td>\n",
       "      <td>109.0</td>\n",
       "      <td>1.24945</td>\n",
       "      <td>1</td>\n",
       "      <td>Invalide</td>\n",
       "      <td>sts.csv</td>\n",
       "      <td>2020-11-27</td>\n",
       "      <td>0</td>\n",
       "      <td>0</td>\n",
       "      <td>...</td>\n",
       "      <td>8</td>\n",
       "      <td>10</td>\n",
       "      <td>0.0</td>\n",
       "      <td>8.4</td>\n",
       "      <td>3</td>\n",
       "      <td>2020-11-27 08:18:00</td>\n",
       "      <td>2020-11-27 16:59:00</td>\n",
       "      <td>Waxing Gibbous</td>\n",
       "      <td>85</td>\n",
       "      <td>False</td>\n",
       "    </tr>\n",
       "  </tbody>\n",
       "</table>\n",
       "<p>1 rows × 47 columns</p>\n",
       "</div>"
      ],
      "text/plain": [
       "         Libelle Date et heure de comptage  Débit horaire  Taux d'occupation  \\\n",
       "28383  Sts_Peres       2020-11-27 23:00:00          109.0            1.24945   \n",
       "\n",
       "       Etat trafic  Etat arc filename        Date  Jour de la semaine_0  \\\n",
       "28383            1  Invalide  sts.csv  2020-11-27                     0   \n",
       "\n",
       "       Jour de la semaine_1  ...  mintempC  avgtempC  totalSnow_cm  sunHour  \\\n",
       "28383                     0  ...         8        10           0.0      8.4   \n",
       "\n",
       "       daily_uvIndex             sunrise              sunset      moon_phase  \\\n",
       "28383              3 2020-11-27 08:18:00 2020-11-27 16:59:00  Waxing Gibbous   \n",
       "\n",
       "       moon_illumination Journée  \n",
       "28383                 85   False  \n",
       "\n",
       "[1 rows x 47 columns]"
      ]
     },
     "execution_count": 4,
     "metadata": {},
     "output_type": "execute_result"
    }
   ],
   "source": [
    "df_test.tail(1)"
   ]
  },
  {
   "cell_type": "markdown",
   "metadata": {},
   "source": [
    "Définition des noms de variables à expliquer :"
   ]
  },
  {
   "cell_type": "code",
   "execution_count": 5,
   "metadata": {},
   "outputs": [
    {
     "data": {
      "text/plain": [
       "Débit horaire             90\n",
       "Taux d'occupation    1.32778\n",
       "Name: 28263, dtype: object"
      ]
     },
     "execution_count": 5,
     "metadata": {},
     "output_type": "execute_result"
    }
   ],
   "source": [
    "cols_to_explain = [\"Débit horaire\", \"Taux d'occupation\"]\n",
    "\n",
    "# Essai sur la dernière ligne de df_train :\n",
    "df_train.iloc[-1][cols_to_explain]"
   ]
  },
  {
   "cell_type": "markdown",
   "metadata": {},
   "source": [
    "# Séparation des données"
   ]
  },
  {
   "cell_type": "code",
   "execution_count": 6,
   "metadata": {},
   "outputs": [
    {
     "data": {
      "text/plain": [
       "['champs-elysees.csv', 'convention.csv', 'sts.csv']"
      ]
     },
     "execution_count": 6,
     "metadata": {},
     "output_type": "execute_result"
    }
   ],
   "source": [
    "list_filenames = df_train['filename'].unique().tolist()\n",
    "list_filenames"
   ]
  },
  {
   "cell_type": "code",
   "execution_count": 7,
   "metadata": {},
   "outputs": [
    {
     "data": {
      "text/plain": [
       "dict_keys(['champs-elysees', 'convention', 'sts'])"
      ]
     },
     "execution_count": 7,
     "metadata": {},
     "output_type": "execute_result"
    }
   ],
   "source": [
    "dic_df_train = {filename[:-4]: df_train[df_train['filename']==filename] for filename in list_filenames}\n",
    "dic_df_test = {filename[:-4]: df_test[df_test['filename']==filename] for filename in list_filenames}\n",
    "\n",
    "dic_df_train.keys()"
   ]
  },
  {
   "cell_type": "code",
   "execution_count": 8,
   "metadata": {},
   "outputs": [
    {
     "data": {
      "text/html": [
       "<div>\n",
       "<style scoped>\n",
       "    .dataframe tbody tr th:only-of-type {\n",
       "        vertical-align: middle;\n",
       "    }\n",
       "\n",
       "    .dataframe tbody tr th {\n",
       "        vertical-align: top;\n",
       "    }\n",
       "\n",
       "    .dataframe thead th {\n",
       "        text-align: right;\n",
       "    }\n",
       "</style>\n",
       "<table border=\"1\" class=\"dataframe\">\n",
       "  <thead>\n",
       "    <tr style=\"text-align: right;\">\n",
       "      <th></th>\n",
       "      <th>Débit horaire</th>\n",
       "      <th>Taux d'occupation</th>\n",
       "    </tr>\n",
       "  </thead>\n",
       "  <tbody>\n",
       "    <tr>\n",
       "      <th>28263</th>\n",
       "      <td>90.0</td>\n",
       "      <td>1.32778</td>\n",
       "    </tr>\n",
       "    <tr>\n",
       "      <th>28263</th>\n",
       "      <td>90.0</td>\n",
       "      <td>1.32778</td>\n",
       "    </tr>\n",
       "    <tr>\n",
       "      <th>28263</th>\n",
       "      <td>90.0</td>\n",
       "      <td>1.32778</td>\n",
       "    </tr>\n",
       "    <tr>\n",
       "      <th>28263</th>\n",
       "      <td>90.0</td>\n",
       "      <td>1.32778</td>\n",
       "    </tr>\n",
       "    <tr>\n",
       "      <th>28263</th>\n",
       "      <td>90.0</td>\n",
       "      <td>1.32778</td>\n",
       "    </tr>\n",
       "    <tr>\n",
       "      <th>28263</th>\n",
       "      <td>90.0</td>\n",
       "      <td>1.32778</td>\n",
       "    </tr>\n",
       "    <tr>\n",
       "      <th>28263</th>\n",
       "      <td>90.0</td>\n",
       "      <td>1.32778</td>\n",
       "    </tr>\n",
       "  </tbody>\n",
       "</table>\n",
       "</div>"
      ],
      "text/plain": [
       "       Débit horaire  Taux d'occupation\n",
       "28263           90.0            1.32778\n",
       "28263           90.0            1.32778\n",
       "28263           90.0            1.32778\n",
       "28263           90.0            1.32778\n",
       "28263           90.0            1.32778\n",
       "28263           90.0            1.32778\n",
       "28263           90.0            1.32778"
      ]
     },
     "execution_count": 8,
     "metadata": {},
     "output_type": "execute_result"
    }
   ],
   "source": [
    "predictions = pd.DataFrame([df_train.iloc[-1][cols_to_explain] for _ in range(7)])\n",
    "predictions"
   ]
  },
  {
   "cell_type": "markdown",
   "metadata": {},
   "source": [
    "# Paramètres globaux pour générer les baselines"
   ]
  },
  {
   "cell_type": "markdown",
   "metadata": {},
   "source": [
    "## nb_predictions"
   ]
  },
  {
   "cell_type": "markdown",
   "metadata": {},
   "source": [
    "`nb_predictions` is the size of the sought output."
   ]
  },
  {
   "cell_type": "code",
   "execution_count": 9,
   "metadata": {},
   "outputs": [
    {
     "data": {
      "text/plain": [
       "360"
      ]
     },
     "execution_count": 9,
     "metadata": {},
     "output_type": "execute_result"
    }
   ],
   "source": [
    "nb_predictions = len(df_test)\n",
    "nb_predictions"
   ]
  },
  {
   "cell_type": "markdown",
   "metadata": {},
   "source": [
    "## nb_jours"
   ]
  },
  {
   "cell_type": "code",
   "execution_count": 10,
   "metadata": {},
   "outputs": [],
   "source": [
    "nb_days = 5"
   ]
  },
  {
   "cell_type": "markdown",
   "metadata": {},
   "source": [
    "## cols_to_keep"
   ]
  },
  {
   "cell_type": "code",
   "execution_count": 11,
   "metadata": {},
   "outputs": [
    {
     "data": {
      "text/plain": [
       "['Date et heure de comptage', 'Débit horaire', \"Taux d'occupation\"]"
      ]
     },
     "execution_count": 11,
     "metadata": {},
     "output_type": "execute_result"
    }
   ],
   "source": [
    "cols_to_keep = ['Date et heure de comptage'] + cols_to_explain\n",
    "cols_to_keep"
   ]
  },
  {
   "cell_type": "markdown",
   "metadata": {},
   "source": [
    "## time_index"
   ]
  },
  {
   "cell_type": "code",
   "execution_count": 49,
   "metadata": {},
   "outputs": [
    {
     "data": {
      "text/plain": [
       "0     2020-11-23 00:00:00\n",
       "1     2020-11-23 01:00:00\n",
       "2     2020-11-23 02:00:00\n",
       "3     2020-11-23 03:00:00\n",
       "4     2020-11-23 04:00:00\n",
       "              ...        \n",
       "115   2020-11-27 19:00:00\n",
       "116   2020-11-27 20:00:00\n",
       "117   2020-11-27 21:00:00\n",
       "118   2020-11-27 22:00:00\n",
       "119   2020-11-27 23:00:00\n",
       "Name: Date et heure de comptage, Length: 120, dtype: datetime64[ns]"
      ]
     },
     "execution_count": 49,
     "metadata": {},
     "output_type": "execute_result"
    }
   ],
   "source": [
    "time_index = dic_df_test['sts']['Date et heure de comptage'].reset_index(drop=True)\n",
    "time_index"
   ]
  },
  {
   "cell_type": "markdown",
   "metadata": {},
   "source": [
    "# Naive last"
   ]
  },
  {
   "cell_type": "code",
   "execution_count": 54,
   "metadata": {},
   "outputs": [],
   "source": [
    "class Naive_last():\n",
    "    def __init__(self, time_index):\n",
    "        self.last_day = None\n",
    "        self.time_index = time_index\n",
    "    \n",
    "    @staticmethod\n",
    "    def get_last_day(df_train):\n",
    "        last_day = df_train['Date et heure de comptage'].max().date()\n",
    "        return df_train[df_train['Date']==last_day]\n",
    "    \n",
    "    def fit(self, df_train):\n",
    "        self.last_day = self.get_last_day(df_train)[cols_to_explain]\n",
    "        return\n",
    "    \n",
    "    def predict(self, nb_days):\n",
    "        df_temp = pd.concat([self.last_day for _ in range(nb_days)], axis=0).reset_index(drop=True)\n",
    "        \n",
    "        return pd.concat([self.time_index, df_temp], axis=1)"
   ]
  },
  {
   "cell_type": "code",
   "execution_count": 56,
   "metadata": {},
   "outputs": [
    {
     "data": {
      "text/plain": [
       "{'champs-elysees': {'Débit horaire': 523.4125125876657,\n",
       "  \"Taux d'occupation\": 5.930661152210112},\n",
       " 'convention': {'Débit horaire': 280.83731945736844,\n",
       "  \"Taux d'occupation\": 2.637713405966425},\n",
       " 'sts': {'Débit horaire': 256.02517779833033,\n",
       "  \"Taux d'occupation\": 3.4003668198224095}}"
      ]
     },
     "execution_count": 56,
     "metadata": {},
     "output_type": "execute_result"
    }
   ],
   "source": [
    "dic_results_naive_last = dict()\n",
    "\n",
    "for street in dic_df_train.keys():\n",
    "    \n",
    "    dic_results_naive_last[street] = dict()\n",
    "    \n",
    "    df_train = dic_df_train[street]\n",
    "    df_test = dic_df_test[street]\n",
    "    \n",
    "    # On crée notre modèle :\n",
    "    naive_last = Naive_last(time_index)\n",
    "    naive_last.fit(df_train)\n",
    "    \n",
    "    predictions = naive_last.predict(nb_days)\n",
    "    \n",
    "    for col in cols_to_explain:\n",
    "        dic_results_naive_last[street][col] = mean_squared_error(df_test[col], predictions[col], squared=False)\n",
    "    \n",
    "dic_results_naive_last    "
   ]
  },
  {
   "cell_type": "markdown",
   "metadata": {},
   "source": [
    "# Naive seasonal"
   ]
  },
  {
   "cell_type": "markdown",
   "metadata": {},
   "source": [
    "**Remarque :** Contrairement à son nom, on ne prédit pas vriament sur une semaine ici. On désignera toutefois par `week` ces 5 jours."
   ]
  },
  {
   "cell_type": "code",
   "execution_count": 97,
   "metadata": {},
   "outputs": [],
   "source": [
    "class Naive_seasonal():\n",
    "    def __init__(self, time_index):\n",
    "        self.last_week = None\n",
    "        self.time_index = time_index\n",
    "    \n",
    "    @staticmethod\n",
    "    def get_last_week(df_train):\n",
    "        last_day = df_train['Date et heure de comptage'].max()\n",
    "        list_last_week = [(last_day - pd.DateOffset(i)).date() for i in range(5)]\n",
    "        return df_train[df_train['Date'].isin(list_last_week)]\n",
    "    \n",
    "    def fit(self, df_train):\n",
    "        self.last_week = self.get_last_week(df_train)[cols_to_explain].reset_index(drop=True)\n",
    "        return\n",
    "    \n",
    "    def predict(self):\n",
    "        return pd.concat([self.time_index, self.last_week], axis=1)"
   ]
  },
  {
   "cell_type": "code",
   "execution_count": 98,
   "metadata": {},
   "outputs": [],
   "source": [
    "df_train = dic_df_train[street]\n",
    "df_test = dic_df_test[street]\n",
    "\n",
    "# On crée notre modèle :\n",
    "naive_seasonal = Naive_seasonal(time_index)\n",
    "naive_seasonal.fit(df_train)"
   ]
  },
  {
   "cell_type": "code",
   "execution_count": 102,
   "metadata": {},
   "outputs": [
    {
     "data": {
      "text/plain": [
       "{'champs-elysees': {'Débit horaire': 296.29010277091606,\n",
       "  \"Taux d'occupation\": 3.5735788455522193},\n",
       " 'convention': {'Débit horaire': 159.13280617144915,\n",
       "  \"Taux d'occupation\": 1.919154093148854},\n",
       " 'sts': {'Débit horaire': 144.68549224668888,\n",
       "  \"Taux d'occupation\": 1.9229872899031775}}"
      ]
     },
     "execution_count": 102,
     "metadata": {},
     "output_type": "execute_result"
    }
   ],
   "source": [
    "dic_results_naive_seasonal = dict()\n",
    "\n",
    "for street in dic_df_train.keys():\n",
    "    \n",
    "    dic_results_naive_seasonal[street] = dict()\n",
    "    \n",
    "    df_train = dic_df_train[street]\n",
    "    df_test = dic_df_test[street]\n",
    "    \n",
    "    # On crée notre modèle :\n",
    "    naive_seasonal = Naive_seasonal(time_index)\n",
    "    naive_seasonal.fit(df_train)\n",
    "    \n",
    "    predictions = naive_seasonal.predict()\n",
    "    \n",
    "    for col in cols_to_explain:\n",
    "        dic_results_naive_seasonal[street][col] = mean_squared_error(df_test[col], predictions[col], squared=False)\n",
    "    \n",
    "dic_results_naive_seasonal    "
   ]
  },
  {
   "cell_type": "markdown",
   "metadata": {},
   "source": [
    "## Exponential smoothing"
   ]
  },
  {
   "cell_type": "code",
   "execution_count": null,
   "metadata": {},
   "outputs": [],
   "source": []
  }
 ],
 "metadata": {
  "kernelspec": {
   "display_name": "Python 3",
   "language": "python",
   "name": "python3"
  },
  "language_info": {
   "codemirror_mode": {
    "name": "ipython",
    "version": 3
   },
   "file_extension": ".py",
   "mimetype": "text/x-python",
   "name": "python",
   "nbconvert_exporter": "python",
   "pygments_lexer": "ipython3",
   "version": "3.7.9"
  },
  "toc": {
   "base_numbering": 1,
   "nav_menu": {},
   "number_sections": true,
   "sideBar": true,
   "skip_h1_title": false,
   "title_cell": "Table of Contents",
   "title_sidebar": "Contents",
   "toc_cell": true,
   "toc_position": {
    "height": "calc(100% - 180px)",
    "left": "10px",
    "top": "150px",
    "width": "227.796875px"
   },
   "toc_section_display": true,
   "toc_window_display": true
  },
  "varInspector": {
   "cols": {
    "lenName": 16,
    "lenType": 16,
    "lenVar": 40
   },
   "kernels_config": {
    "python": {
     "delete_cmd_postfix": "",
     "delete_cmd_prefix": "del ",
     "library": "var_list.py",
     "varRefreshCmd": "print(var_dic_list())"
    },
    "r": {
     "delete_cmd_postfix": ") ",
     "delete_cmd_prefix": "rm(",
     "library": "var_list.r",
     "varRefreshCmd": "cat(var_dic_list()) "
    }
   },
   "types_to_exclude": [
    "module",
    "function",
    "builtin_function_or_method",
    "instance",
    "_Feature"
   ],
   "window_display": false
  }
 },
 "nbformat": 4,
 "nbformat_minor": 4
}

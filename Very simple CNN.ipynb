{
 "cells": [
  {
   "cell_type": "code",
   "execution_count": 1,
   "metadata": {},
   "outputs": [],
   "source": [
    "from utils import load_df\n",
    "import pandas as pd\n",
    "import numpy as np\n",
    "import matplotlib.pyplot as plt\n",
    "from tensorflow.keras import datasets, layers, models, losses\n",
    "import ipywidgets as ipw\n",
    "import tensorflow as tf"
   ]
  },
  {
   "cell_type": "code",
   "execution_count": 6,
   "metadata": {},
   "outputs": [],
   "source": [
    "train_df = load_df(\"data\\\\df_concat_train.pkl\")\n",
    "data = train_df[\"champs-elysees_Débit horaire\"].to_numpy()"
   ]
  },
  {
   "cell_type": "code",
   "execution_count": 16,
   "metadata": {},
   "outputs": [
    {
     "data": {
      "text/plain": [
       "[<matplotlib.lines.Line2D at 0x26738c58cc8>]"
      ]
     },
     "execution_count": 16,
     "metadata": {},
     "output_type": "execute_result"
    },
    {
     "data": {
      "image/png": "[encoded data removed]",
      "text/plain": [
       "<Figure size 432x288 with 1 Axes>"
      ]
     },
     "metadata": {
      "needs_background": "light"
     },
     "output_type": "display_data"
    }
   ],
   "source": [
    "def get_X_y(data, nb_steps=24):\n",
    "    \"\"\" returns the X and y vectors from dataframe \n",
    "        steps : nb of datapoints in each Xi\n",
    "    \"\"\" \n",
    "    nb_train_ex = data.shape[0] - (nb_steps + 1) + 1 # 1 in () : the y \n",
    "    \n",
    "    X = np.empty((nb_train_ex, nb_steps))\n",
    "    y = np.empty((nb_train_ex,))\n",
    "    for k_start in range(nb_train_ex):  \n",
    "        X_k = data[k_start:k_start + nb_steps]\n",
    "        y_k = data[k_start + nb_steps]\n",
    "\n",
    "        example_id = k_start\n",
    "\n",
    "        X[example_id, :] = X_k\n",
    "        y[example_id] = y_k\n",
    "#     X_tensor = tf.convert_to_tensor(X)\n",
    "#     y_tensor = tf.convert_to_tensor(y)\n",
    "    return X.reshape((nb_train_ex, nb_steps, 1)), y\n",
    "\n",
    "\n",
    "X, y = get_X_y(data)\n",
    "plt.plot(X[0])\n"
   ]
  },
  {
   "cell_type": "code",
   "execution_count": 17,
   "metadata": {},
   "outputs": [
    {
     "name": "stdout",
     "output_type": "stream",
     "text": [
      "input shape :  (24, 1)\n",
      "Model: \"sequential_4\"\n",
      "_________________________________________________________________\n",
      "Layer (type)                 Output Shape              Param #   \n",
      "=================================================================\n",
      "conv1d_4 (Conv1D)            (None, 22, 256)           1024      \n",
      "_________________________________________________________________\n",
      "max_pooling1d_2 (MaxPooling1 (None, 7, 256)            0         \n",
      "_________________________________________________________________\n",
      "dropout_2 (Dropout)          (None, 7, 256)            0         \n",
      "_________________________________________________________________\n",
      "flatten_2 (Flatten)          (None, 1792)              0         \n",
      "_________________________________________________________________\n",
      "dense_6 (Dense)              (None, 128)               229504    \n",
      "_________________________________________________________________\n",
      "dense_7 (Dense)              (None, 64)                8256      \n",
      "_________________________________________________________________\n",
      "dense_8 (Dense)              (None, 32)                2080      \n",
      "_________________________________________________________________\n",
      "dense_9 (Dense)              (None, 1)                 33        \n",
      "=================================================================\n",
      "Total params: 240,897\n",
      "Trainable params: 240,897\n",
      "Non-trainable params: 0\n",
      "_________________________________________________________________\n"
     ]
    }
   ],
   "source": [
    "def model_1(nb_steps=24, show_summary=False):\n",
    "    input_shape = (nb_steps, 1)\n",
    "    print(\"input shape : \", input_shape)\n",
    "    \n",
    "    model = models.Sequential()\n",
    "\n",
    "    model.add(layers.Conv1D(256, kernel_size=(3,),\n",
    "                        input_shape=input_shape, activation=\"relu\"))\n",
    "    model.add(layers.MaxPooling1D(3))\n",
    "    model.add(layers.Dropout(0.2))\n",
    "\n",
    "#     model.add(layers.Conv1D(128, kernel_size=(3,), activation=\"relu\"))\n",
    "#     model.add(layers.MaxPooling1D(3))\n",
    "#     model.add(layers.Dropout(0.2))\n",
    "\n",
    "    model.add(layers.Flatten())\n",
    "    model.add(layers.Dense(128, activation=\"relu\"))\n",
    "    model.add(layers.Dense(64, activation=\"relu\"))\n",
    "    model.add(layers.Dense(32, activation=\"relu\"))\n",
    "    model.add(layers.Dense(1, activation=\"linear\"))\n",
    "    \n",
    "    if show_summary:\n",
    "        model.summary()\n",
    "        \n",
    "    model.compile(loss='mse', optimizer='adam', metrics=['mae'])\n",
    "    \n",
    "    return model\n",
    "\n",
    "# test\n",
    "cnn_model_1 = model_1(show_summary=True) "
   ]
  },
  {
   "cell_type": "code",
   "execution_count": 18,
   "metadata": {
    "scrolled": true
   },
   "outputs": [
    {
     "name": "stdout",
     "output_type": "stream",
     "text": [
      "Train on 9235 samples\n",
      "Epoch 1/100\n",
      "9235/9235 [==============================] - 5s 521us/sample - loss: 46292.8558 - mae: 154.1587\n",
      "Epoch 2/100\n",
      "9235/9235 [==============================] - 1s 101us/sample - loss: 29236.3886 - mae: 122.8869\n",
      "Epoch 3/100\n",
      "9235/9235 [==============================] - 1s 84us/sample - loss: 27686.1247 - mae: 119.7717\n",
      "Epoch 4/100\n",
      "9235/9235 [==============================] - 1s 83us/sample - loss: 24508.3680 - mae: 111.8144\n",
      "Epoch 5/100\n",
      "9235/9235 [==============================] - 1s 82us/sample - loss: 23507.9449 - mae: 109.5515\n",
      "Epoch 6/100\n",
      "9235/9235 [==============================] - 1s 81us/sample - loss: 22950.9917 - mae: 108.6189\n",
      "Epoch 7/100\n",
      "9235/9235 [==============================] - 1s 79us/sample - loss: 22280.0126 - mae: 106.8988\n",
      "Epoch 8/100\n",
      "9235/9235 [==============================] - 1s 80us/sample - loss: 21105.6006 - mae: 104.2597\n",
      "Epoch 9/100\n",
      "9235/9235 [==============================] - 1s 85us/sample - loss: 21171.7296 - mae: 103.6169\n",
      "Epoch 10/100\n",
      "9235/9235 [==============================] - 1s 80us/sample - loss: 21034.5315 - mae: 103.2537\n",
      "Epoch 11/100\n",
      "9235/9235 [==============================] - 1s 81us/sample - loss: 20681.8169 - mae: 102.7907\n",
      "Epoch 12/100\n",
      "9235/9235 [==============================] - 1s 84us/sample - loss: 19659.3590 - mae: 100.3255\n",
      "Epoch 13/100\n",
      "9235/9235 [==============================] - 1s 79us/sample - loss: 19462.3849 - mae: 99.4985\n",
      "Epoch 14/100\n",
      "9235/9235 [==============================] - 1s 85us/sample - loss: 19692.9158 - mae: 99.8761\n",
      "Epoch 15/100\n",
      "9235/9235 [==============================] - 1s 86us/sample - loss: 18680.4360 - mae: 97.5228\n",
      "Epoch 16/100\n",
      "9235/9235 [==============================] - 1s 88us/sample - loss: 19544.5261 - mae: 100.1906\n",
      "Epoch 17/100\n",
      "9235/9235 [==============================] - 1s 87us/sample - loss: 18250.0712 - mae: 95.7581\n",
      "Epoch 18/100\n",
      "9235/9235 [==============================] - 1s 80us/sample - loss: 18562.9114 - mae: 97.0757\n",
      "Epoch 19/100\n",
      "9235/9235 [==============================] - 1s 81us/sample - loss: 17540.0643 - mae: 94.2122\n",
      "Epoch 20/100\n",
      "9235/9235 [==============================] - 1s 83us/sample - loss: 17062.6523 - mae: 92.8795\n",
      "Epoch 21/100\n",
      "9235/9235 [==============================] - 1s 89us/sample - loss: 17030.1075 - mae: 92.5448\n",
      "Epoch 22/100\n",
      "9235/9235 [==============================] - 1s 88us/sample - loss: 16773.7059 - mae: 92.1504\n",
      "Epoch 23/100\n",
      "9235/9235 [==============================] - 1s 91us/sample - loss: 16061.6443 - mae: 89.8965\n",
      "Epoch 24/100\n",
      "9235/9235 [==============================] - 1s 83us/sample - loss: 16410.3553 - mae: 90.9962\n",
      "Epoch 25/100\n",
      "9235/9235 [==============================] - 1s 86us/sample - loss: 16266.1288 - mae: 90.1386\n",
      "Epoch 26/100\n",
      "9235/9235 [==============================] - 1s 91us/sample - loss: 15531.3157 - mae: 88.4409\n",
      "Epoch 27/100\n",
      "9235/9235 [==============================] - 1s 83us/sample - loss: 16196.6114 - mae: 90.4038\n",
      "Epoch 28/100\n",
      "9235/9235 [==============================] - 1s 88us/sample - loss: 15587.6991 - mae: 88.9784\n",
      "Epoch 29/100\n",
      "9235/9235 [==============================] - 1s 89us/sample - loss: 15284.8720 - mae: 87.2326\n",
      "Epoch 30/100\n",
      "9235/9235 [==============================] - 1s 85us/sample - loss: 14697.8046 - mae: 86.1025\n",
      "Epoch 31/100\n",
      "9235/9235 [==============================] - 1s 83us/sample - loss: 14854.5331 - mae: 86.1547\n",
      "Epoch 32/100\n",
      "9235/9235 [==============================] - 1s 89us/sample - loss: 14868.0659 - mae: 85.9895\n",
      "Epoch 33/100\n",
      "9235/9235 [==============================] - 1s 90us/sample - loss: 14479.6033 - mae: 85.2772\n",
      "Epoch 34/100\n",
      "9235/9235 [==============================] - 1s 86us/sample - loss: 14794.1311 - mae: 86.7023\n",
      "Epoch 35/100\n",
      "9235/9235 [==============================] - 1s 81us/sample - loss: 14562.2881 - mae: 86.0817\n",
      "Epoch 36/100\n",
      "9235/9235 [==============================] - 1s 83us/sample - loss: 14386.0517 - mae: 84.7870\n",
      "Epoch 37/100\n",
      "9235/9235 [==============================] - 1s 85us/sample - loss: 13966.2840 - mae: 83.4204\n",
      "Epoch 38/100\n",
      "9235/9235 [==============================] - 1s 81us/sample - loss: 13570.1919 - mae: 82.7620\n",
      "Epoch 39/100\n",
      "9235/9235 [==============================] - 1s 80us/sample - loss: 13796.5371 - mae: 82.9993\n",
      "Epoch 40/100\n",
      "9235/9235 [==============================] - 1s 80us/sample - loss: 13680.0542 - mae: 83.2491\n",
      "Epoch 41/100\n",
      "9235/9235 [==============================] - 1s 84us/sample - loss: 13467.1094 - mae: 81.9457\n",
      "Epoch 42/100\n",
      "9235/9235 [==============================] - 1s 80us/sample - loss: 13750.9159 - mae: 83.1785\n",
      "Epoch 43/100\n",
      "9235/9235 [==============================] - 1s 82us/sample - loss: 13543.0363 - mae: 82.2305\n",
      "Epoch 44/100\n",
      "9235/9235 [==============================] - 1s 82us/sample - loss: 13309.9180 - mae: 81.6608\n",
      "Epoch 45/100\n",
      "9235/9235 [==============================] - 1s 81us/sample - loss: 13060.7781 - mae: 81.1858\n",
      "Epoch 46/100\n",
      "9235/9235 [==============================] - 1s 79us/sample - loss: 12899.9008 - mae: 80.5795\n",
      "Epoch 47/100\n",
      "9235/9235 [==============================] - 1s 81us/sample - loss: 12581.0267 - mae: 79.5699\n",
      "Epoch 48/100\n",
      "9235/9235 [==============================] - 1s 84us/sample - loss: 12745.0673 - mae: 79.7684\n",
      "Epoch 49/100\n",
      "9235/9235 [==============================] - 1s 81us/sample - loss: 12716.5721 - mae: 80.2504\n",
      "Epoch 50/100\n",
      "9235/9235 [==============================] - 1s 82us/sample - loss: 12965.1353 - mae: 80.6325\n",
      "Epoch 51/100\n",
      "9235/9235 [==============================] - 1s 83us/sample - loss: 12993.1632 - mae: 80.9496\n",
      "Epoch 52/100\n",
      "9235/9235 [==============================] - 1s 81us/sample - loss: 13175.9365 - mae: 81.6337\n",
      "Epoch 53/100\n",
      "9235/9235 [==============================] - 1s 80us/sample - loss: 12691.4676 - mae: 79.8947\n",
      "Epoch 54/100\n",
      "9235/9235 [==============================] - 1s 83us/sample - loss: 11943.9649 - mae: 77.1814\n",
      "Epoch 55/100\n",
      "9235/9235 [==============================] - 1s 83us/sample - loss: 12056.8908 - mae: 77.3756\n",
      "Epoch 56/100\n",
      "9235/9235 [==============================] - 1s 82us/sample - loss: 11613.2713 - mae: 76.2745\n",
      "Epoch 57/100\n",
      "9235/9235 [==============================] - 1s 81us/sample - loss: 12203.9014 - mae: 78.8342\n",
      "Epoch 58/100\n",
      "9235/9235 [==============================] - 1s 82us/sample - loss: 11930.9835 - mae: 77.3022\n",
      "Epoch 59/100\n",
      "9235/9235 [==============================] - 1s 81us/sample - loss: 12086.5844 - mae: 78.0905\n",
      "Epoch 60/100\n",
      "9235/9235 [==============================] - 1s 82us/sample - loss: 12475.9354 - mae: 79.7101\n",
      "Epoch 61/100\n",
      "9235/9235 [==============================] - 1s 83us/sample - loss: 11526.4759 - mae: 76.1492\n",
      "Epoch 62/100\n",
      "9235/9235 [==============================] - 1s 80us/sample - loss: 11569.5714 - mae: 76.6309\n",
      "Epoch 63/100\n",
      "9235/9235 [==============================] - 1s 82us/sample - loss: 11734.7381 - mae: 76.3751\n",
      "Epoch 64/100\n",
      "9235/9235 [==============================] - 1s 81us/sample - loss: 11482.0480 - mae: 75.8094\n",
      "Epoch 65/100\n",
      "9235/9235 [==============================] - 1s 80us/sample - loss: 11261.5221 - mae: 75.1940\n",
      "Epoch 66/100\n",
      "9235/9235 [==============================] - 1s 82us/sample - loss: 11457.8643 - mae: 76.0147\n",
      "Epoch 67/100\n",
      "9235/9235 [==============================] - 1s 82us/sample - loss: 11936.2185 - mae: 78.1471\n",
      "Epoch 68/100\n",
      "9235/9235 [==============================] - 1s 84us/sample - loss: 11405.7970 - mae: 75.4499\n",
      "Epoch 69/100\n",
      "9235/9235 [==============================] - 1s 82us/sample - loss: 11630.3839 - mae: 76.6092\n",
      "Epoch 70/100\n",
      "9235/9235 [==============================] - 1s 80us/sample - loss: 11538.6605 - mae: 76.1133\n",
      "Epoch 71/100\n",
      "9235/9235 [==============================] - 1s 81us/sample - loss: 11440.0689 - mae: 75.5244\n",
      "Epoch 72/100\n",
      "9235/9235 [==============================] - 1s 80us/sample - loss: 10835.7081 - mae: 73.6476\n",
      "Epoch 73/100\n",
      "9235/9235 [==============================] - 1s 83us/sample - loss: 11073.4587 - mae: 74.9803\n",
      "Epoch 74/100\n",
      "9235/9235 [==============================] - 1s 87us/sample - loss: 10626.9967 - mae: 73.0895\n",
      "Epoch 75/100\n",
      "9235/9235 [==============================] - 1s 85us/sample - loss: 11048.5601 - mae: 74.7868\n",
      "Epoch 76/100\n",
      "9235/9235 [==============================] - 1s 85us/sample - loss: 10916.4142 - mae: 74.4246\n",
      "Epoch 77/100\n"
     ]
    },
    {
     "name": "stdout",
     "output_type": "stream",
     "text": [
      "9235/9235 [==============================] - 1s 80us/sample - loss: 10494.6980 - mae: 72.3093\n",
      "Epoch 78/100\n",
      "9235/9235 [==============================] - 1s 91us/sample - loss: 10914.8114 - mae: 74.3686\n",
      "Epoch 79/100\n",
      "9235/9235 [==============================] - 1s 83us/sample - loss: 10465.5808 - mae: 72.3613\n",
      "Epoch 80/100\n",
      "9235/9235 [==============================] - 1s 86us/sample - loss: 10600.2339 - mae: 73.3970\n",
      "Epoch 81/100\n",
      "9235/9235 [==============================] - 1s 87us/sample - loss: 10941.1640 - mae: 74.2200\n",
      "Epoch 82/100\n",
      "9235/9235 [==============================] - 1s 83us/sample - loss: 11089.0176 - mae: 74.4349\n",
      "Epoch 83/100\n",
      "9235/9235 [==============================] - 1s 87us/sample - loss: 10086.0530 - mae: 71.0449\n",
      "Epoch 84/100\n",
      "9235/9235 [==============================] - 1s 85us/sample - loss: 10501.7932 - mae: 72.6914\n",
      "Epoch 85/100\n",
      "9235/9235 [==============================] - 1s 84us/sample - loss: 11014.1219 - mae: 73.8307\n",
      "Epoch 86/100\n",
      "9235/9235 [==============================] - 1s 84us/sample - loss: 10959.5788 - mae: 74.5073\n",
      "Epoch 87/100\n",
      "9235/9235 [==============================] - 1s 88us/sample - loss: 10075.7240 - mae: 70.8894\n",
      "Epoch 88/100\n",
      "9235/9235 [==============================] - 1s 85us/sample - loss: 10006.9592 - mae: 71.2962\n",
      "Epoch 89/100\n",
      "9235/9235 [==============================] - 1s 87us/sample - loss: 10163.1221 - mae: 71.0220\n",
      "Epoch 90/100\n",
      "9235/9235 [==============================] - 1s 85us/sample - loss: 10373.1445 - mae: 71.8984\n",
      "Epoch 91/100\n",
      "9235/9235 [==============================] - 1s 82us/sample - loss: 10503.0198 - mae: 72.6313\n",
      "Epoch 92/100\n",
      "9235/9235 [==============================] - 1s 81us/sample - loss: 9855.3324 - mae: 70.4070\n",
      "Epoch 93/100\n",
      "9235/9235 [==============================] - 1s 83us/sample - loss: 9781.9133 - mae: 70.0325\n",
      "Epoch 94/100\n",
      "9235/9235 [==============================] - 1s 82us/sample - loss: 10069.0634 - mae: 71.0997\n",
      "Epoch 95/100\n",
      "9235/9235 [==============================] - 1s 81us/sample - loss: 10283.9680 - mae: 71.9524\n",
      "Epoch 96/100\n",
      "9235/9235 [==============================] - 1s 81us/sample - loss: 9928.4584 - mae: 70.6116\n",
      "Epoch 97/100\n",
      "9235/9235 [==============================] - 1s 80us/sample - loss: 9608.7217 - mae: 69.7851\n",
      "Epoch 98/100\n",
      "9235/9235 [==============================] - 1s 81us/sample - loss: 9827.2406 - mae: 70.4632\n",
      "Epoch 99/100\n",
      "9235/9235 [==============================] - 1s 80us/sample - loss: 10338.3525 - mae: 72.0073\n",
      "Epoch 100/100\n",
      "9235/9235 [==============================] - 1s 85us/sample - loss: 9714.8390 - mae: 69.5610\n"
     ]
    },
    {
     "data": {
      "text/plain": [
       "<tensorflow.python.keras.callbacks.History at 0x267390e0f08>"
      ]
     },
     "execution_count": 18,
     "metadata": {},
     "output_type": "execute_result"
    }
   ],
   "source": [
    "cnn_model_1.fit(X, y, batch_size=32, epochs=100, verbose=1)"
   ]
  },
  {
   "cell_type": "code",
   "execution_count": 21,
   "metadata": {},
   "outputs": [
    {
     "name": "stdout",
     "output_type": "stream",
     "text": [
      "752.5986\n"
     ]
    },
    {
     "data": {
      "image/png": "[encoded data removed]",
      "text/plain": [
       "<Figure size 432x288 with 1 Axes>"
      ]
     },
     "metadata": {
      "needs_background": "light"
     },
     "output_type": "display_data"
    }
   ],
   "source": [
    "def show_one_pred(model, X, y, i):\n",
    "    \"\"\" computes rmse & shows the predicted point \"\"\"\n",
    "    y_pred = model.predict(X[i].reshape(1, 24, 1))\n",
    "    print(y_pred[0][0])\n",
    "    abscissa = list(range(24))\n",
    "    plt.scatter(abscissa, y[i:i+24], label=\"x\")\n",
    "    plt.scatter([i+24], [y_pred[0][0]], label=\"predicted\")\n",
    "    plt.scatter([i+24], y[i+24], label=\"ground truth\")\n",
    "    plt.legend()\n",
    "    \n",
    "show_one_pred(cnn_model_1, X, y, 0)"
   ]
  },
  {
   "cell_type": "code",
   "execution_count": 27,
   "metadata": {},
   "outputs": [],
   "source": [
    "def predict_one_week(model, X):\n",
    "    \"\"\" predicts y for 24*7 = 168 hours \n",
    "        first, we will only return the predicted y for <champs-elysees_Débit horaire>\n",
    "        \n",
    "        steps : \n",
    "            - get the 24 first values of each feature, put it in a np array\n",
    "            - predict the 25th for features_to_predict\n",
    "            - store <champs-elysees_Débit horaire> in a list\n",
    "            - create one complete line with predicted and not predicted\n",
    "            - add this line to the examples\n",
    "            - take the 24 last values \n",
    "    \"\"\"\n",
    "    nb_predict = 24 * 7 # change to parameters\n",
    "    \n",
    "    # array qui contiendra les prédictions des y\n",
    "    predicted_y = np.empty(nb_predict)\n",
    "    # array qui contiendra les X\n",
    "    X_24 = np.empty((24 + nb_predict))\n",
    "    # on le remplit avec les premieres valeurs\n",
    "    first_24_X = X[0].flatten()\n",
    "    X_24[0:24] = first_24_X\n",
    "    \n",
    "    for i in range(nb_predict):\n",
    "        \n",
    "        # get the inputs\n",
    "        next_24_X = X_24[i:24 + i].reshape(1, 24,1)\n",
    "        # predict the 24+i th value\n",
    "        f_y_pred = model.predict(next_24_X)\n",
    "        # store <champs-elysees_Débit horaire> in a list\n",
    "        predicted_y[i] = f_y_pred[0][0]\n",
    "        # create one complete line with predicted and not predicted\n",
    "        X_24[24 + i] = f_y_pred[0][0]\n",
    "    \n",
    "    return predicted_y\n",
    "\n",
    "pred_y = predict_one_week(cnn_model_1, X)\n",
    "ground_truth_y = X[24:24 + 24*7].flatten()"
   ]
  },
  {
   "cell_type": "code",
   "execution_count": 49,
   "metadata": {},
   "outputs": [
    {
     "name": "stdout",
     "output_type": "stream",
     "text": [
      "299.4531555175781\n"
     ]
    },
    {
     "data": {
      "image/png": "[encoded data removed]",
      "text/plain": [
       "<Figure size 432x288 with 1 Axes>"
      ]
     },
     "metadata": {
      "needs_background": "light"
     },
     "output_type": "display_data"
    }
   ],
   "source": [
    "def display_comparison(X, true_y, pred_y, nb_steps):\n",
    "    abscissa = range(24, 24 + nb_steps)\n",
    "    plt.plot(range(24), X[0], label=\"x\")\n",
    "    plt.plot(abscissa, pred_y[:nb_steps], label=\"predicted\")\n",
    "    plt.plot(abscissa, ground_truth_y[:nb_steps], label=\"ground truth\")\n",
    "    plt.title(\"Débit horaire champs élysées\")\n",
    "    plt.legend()\n",
    "display_comparison(X, ground_truth_y, pred_y, 168)\n",
    "print(np.mean(abs(ground_truth_y[:168]-pred_y)))"
   ]
  },
  {
   "cell_type": "code",
   "execution_count": null,
   "metadata": {},
   "outputs": [],
   "source": []
  }
 ],
 "metadata": {
  "kernelspec": {
   "display_name": "Python 3.7 (tensorflow_venv)",
   "language": "python",
   "name": "tensorflow_venv"
  },
  "language_info": {
   "codemirror_mode": {
    "name": "ipython",
    "version": 3
   },
   "file_extension": ".py",
   "mimetype": "text/x-python",
   "name": "python",
   "nbconvert_exporter": "python",
   "pygments_lexer": "ipython3",
   "version": "3.7.9"
  }
 },
 "nbformat": 4,
 "nbformat_minor": 4
}

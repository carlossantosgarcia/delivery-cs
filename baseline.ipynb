{
 "cells": [
  {
   "cell_type": "markdown",
   "metadata": {},
   "source": [
    "## Regression Linéaire Multiples :"
   ]
  },
  {
   "cell_type": "code",
   "execution_count": 5,
   "metadata": {},
   "outputs": [],
   "source": [
    "# entrainement du modèle\n",
    "from sklearn.linear_model import LinearRegression\n",
    "from sklearn.metrics import mean_squared_error\n",
    "import pandas as pd\n",
    "df_train = pd.read_pickle(\"C:/Users/souka/OneDrive/Bureau/data/df_train_baseline.pkl\")\n",
    "df_test = pd.read_pickle(\"C:/Users/souka/OneDrive/Bureau/data/df_test_baseline.pkl\")"
   ]
  },
  {
   "cell_type": "code",
   "execution_count": null,
   "metadata": {},
   "outputs": [],
   "source": [
    "lmodellineaire = LinearRegression()\n",
    "lmodellineaire.fit(X_train, Y_train)"
   ]
  },
  {
   "cell_type": "code",
   "execution_count": null,
   "metadata": {},
   "outputs": [],
   "source": [
    "# model evaluation for testing set\n",
    "y_test_predict = lmodellineaire.predict(X_test)\n",
    "rmse = (np.sqrt(mean_squared_error(Y_test, y_test_predict)))\n",
    "r2 = r2_score(Y_test, y_test_predict)\n",
    " \n",
    "print('La performance du modèle sur la base de test')\n",
    "print('--------------------------------------')\n",
    "print('Lerreur quadratique moyenne est {}'.format(rmse))\n",
    "print('le score R2 est {}'.format(r2))\n",
    "\n",
    "# model evaluation for testing set\n",
    "y_test_predict = lmodellineaire.predict(X_test)\n",
    "rmse = (np.sqrt(mean_squared_error(Y_test, y_test_predict)))\n",
    "r2 = r2_score(Y_test, y_test_predict)\n",
    " \n",
    "print('La performance du modèle sur la base de test')\n",
    "print('--------------------------------------')\n",
    "print('Lerreur quadratique moyenne est {}'.format(rmse))\n",
    "print('le score R2 est {}'.format(r2))\n",
    "\n",
    "# model evaluation for testing set\n",
    "y_test_predict = lmodellineaire.predict(X_test)\n",
    "rmse = (np.sqrt(mean_squared_error(Y_test, y_test_predict)))\n",
    "r2 = r2_score(Y_test, y_test_predict)\n",
    " \n",
    "print('La performance du modèle sur la base de test')\n",
    "print('--------------------------------------')\n",
    "print('Lerreur quadratique moyenne est {}'.format(rmse))\n",
    "print('le score R2 est {}'.format(r2))\n",
    "\n",
    "# model evaluation for testing set\n",
    "y_test_predict = lmodellineaire.predict(X_test)\n",
    "rmse = (np.sqrt(mean_squared_error(Y_test, y_test_predict)))\n",
    "r2 = r2_score(Y_test, y_test_predict)\n",
    " \n",
    "print('La performance du modèle sur la base de test')\n",
    "print('--------------------------------------')\n",
    "print('Lerreur quadratique moyenne est {}'.format(rmse))\n",
    "print('le score R2 est {}'.format(r2))\n",
    "\n",
    "# model evaluation for testing set\n",
    "y_test_predict = lmodellineaire.predict(X_test)\n",
    "rmse = (np.sqrt(mean_squared_error(Y_test, y_test_predict)))\n",
    "r2 = r2_score(Y_test, y_test_predict)\n",
    " \n",
    "print('La performance du modèle sur la base de test')\n",
    "print('--------------------------------------')\n",
    "print('Lerreur quadratique moyenne est {}'.format(rmse))\n",
    "print('le score R2 est {}'.format(r2))"
   ]
  },
  {
   "cell_type": "code",
   "execution_count": null,
   "metadata": {},
   "outputs": [],
   "source": [
    "# Evaluation du training set\n",
    "from sklearn.metrics import r2_score\n",
    "y_train_predict = lmodellineaire.predict(X_train)\n",
    "rmse = (np.sqrt(mean_squared_error(Y_train, y_train_predict)))\n",
    "r2 = r2_score(Y_train, y_train_predict)\n",
    " \n",
    "print('La performance du modèle sur la base dapprentissage')\n",
    "print('--------------------------------------')\n",
    "print('Lerreur quadratique moyenne est {}'.format(rmse))\n",
    "print('le score R2 est {}'.format(r2))\n",
    "print('\\n')"
   ]
  }
 ],
 "metadata": {
  "kernelspec": {
   "display_name": "Python 3",
   "language": "python",
   "name": "python3"
  },
  "language_info": {
   "codemirror_mode": {
    "name": "ipython",
    "version": 3
   },
   "file_extension": ".py",
   "mimetype": "text/x-python",
   "name": "python",
   "nbconvert_exporter": "python",
   "pygments_lexer": "ipython3",
   "version": "3.8.3"
  }
 },
 "nbformat": 4,
 "nbformat_minor": 4
}

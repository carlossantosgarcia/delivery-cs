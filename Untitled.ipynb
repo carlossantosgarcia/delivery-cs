{
 "cells": [
  {
   "cell_type": "code",
   "execution_count": 35,
   "metadata": {},
   "outputs": [
    {
     "name": "stdout",
     "output_type": "stream",
     "text": [
      "                 Libelle Date et heure de comptage  Débit horaire  \\\n",
      "0      AV_Champs_Elysees       2019-11-01 04:00:00          746.0   \n",
      "1      AV_Champs_Elysees       2019-11-01 05:00:00          549.0   \n",
      "2      AV_Champs_Elysees       2019-11-01 06:00:00          503.0   \n",
      "3      AV_Champs_Elysees       2019-11-01 07:00:00          500.0   \n",
      "4      AV_Champs_Elysees       2019-11-01 08:00:00          525.0   \n",
      "...                  ...                       ...            ...   \n",
      "28259          Sts_Peres       2020-11-22 19:00:00          276.0   \n",
      "28260          Sts_Peres       2020-11-22 20:00:00          221.0   \n",
      "28261          Sts_Peres       2020-11-22 21:00:00          182.0   \n",
      "28262          Sts_Peres       2020-11-22 22:00:00          136.0   \n",
      "28263          Sts_Peres       2020-11-22 23:00:00           90.0   \n",
      "\n",
      "       Taux d'occupation  Etat trafic  Etat arc            filename  \\\n",
      "0               10.98889            1  Invalide  champs-elysees.csv   \n",
      "1                7.40722            1  Invalide  champs-elysees.csv   \n",
      "2                7.66667            1  Invalide  champs-elysees.csv   \n",
      "3                4.75500            1  Invalide  champs-elysees.csv   \n",
      "4                5.37389            1  Invalide  champs-elysees.csv   \n",
      "...                  ...          ...       ...                 ...   \n",
      "28259            3.34333            1  Invalide             sts.csv   \n",
      "28260            2.50222            1  Invalide             sts.csv   \n",
      "28261            2.03500            1  Invalide             sts.csv   \n",
      "28262            1.54834            1  Invalide             sts.csv   \n",
      "28263            1.32778            1  Invalide             sts.csv   \n",
      "\n",
      "             Date  Jour de la semaine_0  Jour de la semaine_1  ...  mintempC  \\\n",
      "0      2019-11-01                     0                     0  ...         9   \n",
      "1      2019-11-01                     0                     0  ...         9   \n",
      "2      2019-11-01                     0                     0  ...         9   \n",
      "3      2019-11-01                     0                     0  ...         9   \n",
      "4      2019-11-01                     0                     0  ...         9   \n",
      "...           ...                   ...                   ...  ...       ...   \n",
      "28259  2020-11-22                     0                     0  ...         7   \n",
      "28260  2020-11-22                     0                     0  ...         7   \n",
      "28261  2020-11-22                     0                     0  ...         7   \n",
      "28262  2020-11-22                     0                     0  ...         7   \n",
      "28263  2020-11-22                     0                     0  ...         7   \n",
      "\n",
      "       avgtempC  totalSnow_cm  sunHour  uvIndex             sunrise  \\\n",
      "0            13           0.0      3.7        3 2019-11-01 07:37:00   \n",
      "1            13           0.0      3.7        3 2019-11-01 07:37:00   \n",
      "2            13           0.0      3.7        3 2019-11-01 07:37:00   \n",
      "3            13           0.0      3.7        3 2019-11-01 07:37:00   \n",
      "4            13           0.0      3.7        3 2019-11-01 07:37:00   \n",
      "...         ...           ...      ...      ...                 ...   \n",
      "28259         9           0.0      5.1        3 2020-11-22 08:11:00   \n",
      "28260         9           0.0      5.1        3 2020-11-22 08:11:00   \n",
      "28261         9           0.0      5.1        3 2020-11-22 08:11:00   \n",
      "28262         9           0.0      5.1        3 2020-11-22 08:11:00   \n",
      "28263         9           0.0      5.1        3 2020-11-22 08:11:00   \n",
      "\n",
      "                   sunset       moon_phase  moon_illumination Journée  \n",
      "0     2019-11-01 17:31:00  Waxing Crescent                 24   False  \n",
      "1     2019-11-01 17:31:00  Waxing Crescent                 24   False  \n",
      "2     2019-11-01 17:31:00  Waxing Crescent                 24   False  \n",
      "3     2019-11-01 17:31:00  Waxing Crescent                 24   False  \n",
      "4     2019-11-01 17:31:00  Waxing Crescent                 24    True  \n",
      "...                   ...              ...                ...     ...  \n",
      "28259 2020-11-22 17:03:00    First Quarter                 47   False  \n",
      "28260 2020-11-22 17:03:00    First Quarter                 47   False  \n",
      "28261 2020-11-22 17:03:00    First Quarter                 47   False  \n",
      "28262 2020-11-22 17:03:00    First Quarter                 47   False  \n",
      "28263 2020-11-22 17:03:00    First Quarter                 47   False  \n",
      "\n",
      "[27782 rows x 47 columns]\n",
      "                 Libelle Date et heure de comptage  Débit horaire  \\\n",
      "9259   AV_Champs_Elysees       2020-11-23 00:00:00           91.0   \n",
      "9260   AV_Champs_Elysees       2020-11-23 01:00:00           63.0   \n",
      "9261   AV_Champs_Elysees       2020-11-23 02:00:00           47.0   \n",
      "9262   AV_Champs_Elysees       2020-11-23 03:00:00           51.0   \n",
      "9263   AV_Champs_Elysees       2020-11-23 04:00:00           32.0   \n",
      "...                  ...                       ...            ...   \n",
      "28500          Sts_Peres       2020-12-02 20:00:00          565.0   \n",
      "28501          Sts_Peres       2020-12-02 21:00:00          422.0   \n",
      "28502          Sts_Peres       2020-12-02 22:00:00          239.0   \n",
      "28503          Sts_Peres       2020-12-02 23:00:00          142.0   \n",
      "28504          Sts_Peres       2020-12-03 00:00:00          129.0   \n",
      "\n",
      "       Taux d'occupation  Etat trafic  Etat arc            filename  \\\n",
      "9259             1.38722            1  Invalide  champs-elysees.csv   \n",
      "9260             0.91056            1  Invalide  champs-elysees.csv   \n",
      "9261             0.74278            1  Invalide  champs-elysees.csv   \n",
      "9262             0.61056            1  Invalide  champs-elysees.csv   \n",
      "9263             0.35334            1  Invalide  champs-elysees.csv   \n",
      "...                  ...          ...       ...                 ...   \n",
      "28500            5.79944            1  Invalide             sts.csv   \n",
      "28501            3.94778            1  Invalide             sts.csv   \n",
      "28502            2.58000            1  Invalide             sts.csv   \n",
      "28503            1.83667            1  Invalide             sts.csv   \n",
      "28504            1.68500            1  Invalide             sts.csv   \n",
      "\n",
      "             Date  Jour de la semaine_0  Jour de la semaine_1  ...  mintempC  \\\n",
      "9259   2020-11-23                     1                     0  ...         8   \n",
      "9260   2020-11-23                     1                     0  ...         8   \n",
      "9261   2020-11-23                     1                     0  ...         8   \n",
      "9262   2020-11-23                     1                     0  ...         8   \n",
      "9263   2020-11-23                     1                     0  ...         8   \n",
      "...           ...                   ...                   ...  ...       ...   \n",
      "28500  2020-12-02                     0                     0  ...         6   \n",
      "28501  2020-12-02                     0                     0  ...         6   \n",
      "28502  2020-12-02                     0                     0  ...         6   \n",
      "28503  2020-12-02                     0                     0  ...         6   \n",
      "28504  2020-12-03                     0                     0  ...        -3   \n",
      "\n",
      "       avgtempC  totalSnow_cm  sunHour  uvIndex             sunrise  \\\n",
      "9259          9           0.0      3.3        2 2020-11-23 08:12:00   \n",
      "9260          9           0.0      3.3        2 2020-11-23 08:12:00   \n",
      "9261          9           0.0      3.3        2 2020-11-23 08:12:00   \n",
      "9262          9           0.0      3.3        2 2020-11-23 08:12:00   \n",
      "9263          9           0.0      3.3        2 2020-11-23 08:12:00   \n",
      "...         ...           ...      ...      ...                 ...   \n",
      "28500         7           0.0      3.1        2 2020-12-02 08:24:00   \n",
      "28501         7           0.0      3.1        2 2020-12-02 08:24:00   \n",
      "28502         7           0.0      3.1        2 2020-12-02 08:24:00   \n",
      "28503         7           0.0      3.1        2 2020-12-02 08:24:00   \n",
      "28504         7           0.0      3.1        3 2020-12-03 08:25:00   \n",
      "\n",
      "                   sunset      moon_phase  moon_illumination Journée  \n",
      "9259  2020-11-23 17:02:00   First Quarter                 54   False  \n",
      "9260  2020-11-23 17:02:00   First Quarter                 54   False  \n",
      "9261  2020-11-23 17:02:00   First Quarter                 54   False  \n",
      "9262  2020-11-23 17:02:00   First Quarter                 54   False  \n",
      "9263  2020-11-23 17:02:00   First Quarter                 54   False  \n",
      "...                   ...             ...                ...     ...  \n",
      "28500 2020-12-02 16:56:00  Waxing Gibbous                 82   False  \n",
      "28501 2020-12-02 16:56:00  Waxing Gibbous                 82   False  \n",
      "28502 2020-12-02 16:56:00  Waxing Gibbous                 82   False  \n",
      "28503 2020-12-02 16:56:00  Waxing Gibbous                 82   False  \n",
      "28504 2020-12-03 16:55:00  Waning Gibbous                 75   False  \n",
      "\n",
      "[723 rows x 47 columns]\n"
     ]
    }
   ],
   "source": [
    "import pandas as pd\n",
    "import os\n",
    "import re\n",
    "\n",
    "\n",
    "df_train = pd.read_pickle(os.path.join(r\"data/df_train.pkl\"))\n",
    "\n",
    "df_test = pd.read_pickle(os.path.join(r\"data/df_test.pkl\"))\n",
    "\n",
    "print(df_train)\n",
    "print(df_test)\n"
   ]
  },
  {
   "cell_type": "code",
   "execution_count": 58,
   "metadata": {},
   "outputs": [
    {
     "name": "stdout",
     "output_type": "stream",
     "text": [
      "Index(['Libelle', 'Date et heure de comptage', 'Débit horaire',\n",
      "       'Taux d'occupation', 'Etat trafic', 'Etat arc', 'filename', 'Date',\n",
      "       'Jour de la semaine_0', 'Jour de la semaine_1', 'Jour de la semaine_2',\n",
      "       'Jour de la semaine_3', 'Jour de la semaine_4', 'Jour de la semaine_5',\n",
      "       'Jour de la semaine_6', 'Etat du confinement', 'Couvre-feu',\n",
      "       'Jour férié', 'Vacances scolaires',\n",
      "       'Date des prochaines vacances scolaires',\n",
      "       'Temps avant les prochaines vacances scolaires', 'tempC',\n",
      "       'windspeedKmph', 'winddirDegree', 'weatherCode', 'precipMM', 'humidity',\n",
      "       'visibility', 'pressure', 'cloudcover', 'HeatIndexC', 'DewPointC',\n",
      "       'WindChillC', 'WindGustKmph', 'FeelsLikeC', 'uvIndex', 'maxtempC',\n",
      "       'mintempC', 'avgtempC', 'totalSnow_cm', 'sunHour', 'uvIndex', 'sunrise',\n",
      "       'sunset', 'moon_phase', 'moon_illumination', 'Journée'],\n",
      "      dtype='object')\n",
      "      Libelle Date et heure de comptage  Débit horaire  Taux d'occupation  \\\n",
      "9331        0       2020-11-26 00:00:00          142.0            1.71334   \n",
      "9332        0       2020-11-26 01:00:00          103.0            1.26445   \n",
      "9333        0       2020-11-26 02:00:00           69.0            0.91556   \n",
      "9334        0       2020-11-26 03:00:00           45.0            0.66278   \n",
      "9335        0       2020-11-26 04:00:00           51.0            0.62667   \n",
      "...       ...                       ...            ...                ...   \n",
      "28475       2       2020-12-01 19:00:00          649.0            6.91111   \n",
      "28476       2       2020-12-01 20:00:00          633.0            6.06944   \n",
      "28477       2       2020-12-01 21:00:00          386.0            3.86222   \n",
      "28478       2       2020-12-01 22:00:00          235.0            2.52166   \n",
      "28479       2       2020-12-01 23:00:00          116.0            1.52611   \n",
      "\n",
      "       Etat trafic  Etat arc            filename        Date  \\\n",
      "9331             1  Invalide  champs-elysees.csv  2020-11-26   \n",
      "9332             1  Invalide  champs-elysees.csv  2020-11-26   \n",
      "9333             1  Invalide  champs-elysees.csv  2020-11-26   \n",
      "9334             1  Invalide  champs-elysees.csv  2020-11-26   \n",
      "9335             1  Invalide  champs-elysees.csv  2020-11-26   \n",
      "...            ...       ...                 ...         ...   \n",
      "28475            1  Invalide             sts.csv  2020-12-01   \n",
      "28476            1  Invalide             sts.csv  2020-12-01   \n",
      "28477            1  Invalide             sts.csv  2020-12-01   \n",
      "28478            1  Invalide             sts.csv  2020-12-01   \n",
      "28479            1  Invalide             sts.csv  2020-12-01   \n",
      "\n",
      "       Jour de la semaine_0  Jour de la semaine_1  ...  mintempC  avgtempC  \\\n",
      "9331                      0                     0  ...         8        10   \n",
      "9332                      0                     0  ...         8        10   \n",
      "9333                      0                     0  ...         8        10   \n",
      "9334                      0                     0  ...         8        10   \n",
      "9335                      0                     0  ...         8        10   \n",
      "...                     ...                   ...  ...       ...       ...   \n",
      "28475                     0                     1  ...         6         8   \n",
      "28476                     0                     1  ...         6         8   \n",
      "28477                     0                     1  ...         6         8   \n",
      "28478                     0                     1  ...         6         8   \n",
      "28479                     0                     1  ...         6         8   \n",
      "\n",
      "       totalSnow_cm  sunHour  uvIndex             sunrise              sunset  \\\n",
      "9331            0.0      8.4        4 2020-11-26 08:16:00 2020-11-26 16:59:00   \n",
      "9332            0.0      8.4        4 2020-11-26 08:16:00 2020-11-26 16:59:00   \n",
      "9333            0.0      8.4        4 2020-11-26 08:16:00 2020-11-26 16:59:00   \n",
      "9334            0.0      8.4        4 2020-11-26 08:16:00 2020-11-26 16:59:00   \n",
      "9335            0.0      8.4        4 2020-11-26 08:16:00 2020-11-26 16:59:00   \n",
      "...             ...      ...      ...                 ...                 ...   \n",
      "28475           0.0      3.1        2 2020-12-01 08:23:00 2020-12-01 16:56:00   \n",
      "28476           0.0      3.1        2 2020-12-01 08:23:00 2020-12-01 16:56:00   \n",
      "28477           0.0      3.1        2 2020-12-01 08:23:00 2020-12-01 16:56:00   \n",
      "28478           0.0      3.1        2 2020-12-01 08:23:00 2020-12-01 16:56:00   \n",
      "28479           0.0      3.1        2 2020-12-01 08:23:00 2020-12-01 16:56:00   \n",
      "\n",
      "           moon_phase  moon_illumination Journée  \n",
      "9331   Waxing Gibbous                 77   False  \n",
      "9332   Waxing Gibbous                 77   False  \n",
      "9333   Waxing Gibbous                 77   False  \n",
      "9334   Waxing Gibbous                 77   False  \n",
      "9335   Waxing Gibbous                 77   False  \n",
      "...               ...                ...     ...  \n",
      "28475  Waxing Gibbous                 89   False  \n",
      "28476  Waxing Gibbous                 89   False  \n",
      "28477  Waxing Gibbous                 89   False  \n",
      "28478  Waxing Gibbous                 89   False  \n",
      "28479  Waxing Gibbous                 89   False  \n",
      "\n",
      "[432 rows x 47 columns]\n",
      "9331     1.71334\n",
      "9332     1.26445\n",
      "9333     0.91556\n",
      "9334     0.66278\n",
      "9335     0.62667\n",
      "          ...   \n",
      "28475    6.91111\n",
      "28476    6.06944\n",
      "28477    3.86222\n",
      "28478    2.52166\n",
      "28479    1.52611\n",
      "Name: Taux d'occupation, Length: 432, dtype: float64\n"
     ]
    }
   ],
   "source": [
    "print(df_train.columns)\n",
    "\n",
    "\n",
    "debut=pd.Timestamp('2020-11-26')\n",
    "fin=pd.Timestamp('2020-12-01')\n",
    "\n",
    "df_test = df_test[(df_test['Date'] >= debut)]\n",
    "df_test = df_test[(df_test['Date'] <= fin)]\n",
    "print(df_test)\n",
    "print(df_test[\"Taux d'occupation\"])"
   ]
  },
  {
   "cell_type": "code",
   "execution_count": 37,
   "metadata": {},
   "outputs": [],
   "source": [
    "def chunks(l, size, step):\n",
    "    \"\"\" Yield successive n-sized chunks from l.\n",
    "    \"\"\"\n",
    "    l = l[:(len(l) // size) * size]\n",
    "    return [x for x in [l[i : i + size] for i in range(0, len(l), step)] if len(x) == size]"
   ]
  },
  {
   "cell_type": "code",
   "execution_count": 38,
   "metadata": {},
   "outputs": [
    {
     "name": "stdout",
     "output_type": "stream",
     "text": [
      "['AV_Champs_Elysees' 'Convention' 'Sts_Peres']\n",
      "0        False\n",
      "1        False\n",
      "2        False\n",
      "3        False\n",
      "4         True\n",
      "         ...  \n",
      "28259    False\n",
      "28260    False\n",
      "28261    False\n",
      "28262    False\n",
      "28263    False\n",
      "Name: Journée, Length: 27782, dtype: bool\n"
     ]
    }
   ],
   "source": [
    "print(df_train[\"Libelle\"].unique())\n",
    "print(df_train['Journée'])"
   ]
  },
  {
   "cell_type": "code",
   "execution_count": 39,
   "metadata": {},
   "outputs": [
    {
     "name": "stdout",
     "output_type": "stream",
     "text": [
      "['0' '1' '2']\n"
     ]
    }
   ],
   "source": [
    "mapper = {'AV_Champs_Elysees': \"0\", 'Convention': \"1\", 'Sts_Peres': \"2\"}\n",
    "df_train['Libelle'] = df_train['Libelle'].map(mapper)\n",
    "df_test['Libelle'] = df_test['Libelle'].map(mapper)\n",
    "print(df_train[\"Libelle\"].unique())"
   ]
  },
  {
   "cell_type": "code",
   "execution_count": 40,
   "metadata": {},
   "outputs": [],
   "source": [
    "#paramètres\n",
    "N_input = 21\n",
    "N_output = 7\n",
    "device = 'cuda'\n",
    "#p_test = 0.2\n",
    "optimizer_parameters = {'lr': 0.001}\n",
    "batch_size = 100"
   ]
  },
  {
   "cell_type": "code",
   "execution_count": 46,
   "metadata": {},
   "outputs": [
    {
     "name": "stdout",
     "output_type": "stream",
     "text": [
      "197\n"
     ]
    }
   ],
   "source": [
    "#visibility \n",
    "metatemp_columns = ['windspeedKmph', 'weatherCode', 'precipMM', 'cloudcover', 'HeatIndexC', 'maxtempC', 'mintempC', 'totalSnow_cm']\n",
    "\n",
    "metatemp_data_train = df_train.sort_values(['Date et heure de comptage', 'Libelle']).groupby('Libelle')[metatemp_columns].apply(lambda x: chunks(x.values, size=N_input+N_output, step=1))\n",
    "metatemp_data_test = df_test.sort_values(['Date et heure de comptage', 'Libelle']).groupby('Libelle')[metatemp_columns].apply(lambda x: chunks(x.values, size=N_input+N_output, step=1))\n",
    "print(len(metatemp_data.values[0]))"
   ]
  },
  {
   "cell_type": "code",
   "execution_count": 47,
   "metadata": {},
   "outputs": [
    {
     "name": "stdout",
     "output_type": "stream",
     "text": [
      "['0' '1' '2']\n"
     ]
    },
    {
     "name": "stderr",
     "output_type": "stream",
     "text": [
      "d:\\anaconda\\envs\\ml_mvp_1\\lib\\site-packages\\ipykernel_launcher.py:2: FutureWarning: Indexing with multiple keys (implicitly converted to a tuple of keys) will be deprecated, use a list instead.\n",
      "  \n",
      "d:\\anaconda\\envs\\ml_mvp_1\\lib\\site-packages\\ipykernel_launcher.py:3: FutureWarning: Indexing with multiple keys (implicitly converted to a tuple of keys) will be deprecated, use a list instead.\n",
      "  This is separate from the ipykernel package so we can avoid doing imports until\n"
     ]
    }
   ],
   "source": [
    "import numpy as np\n",
    "data_train = df_train.sort_values(['Date et heure de comptage', 'Libelle']).groupby('Libelle')['Débit horaire',\"Taux d'occupation\"].apply(lambda x: chunks(x.values, size=N_input+N_output, step=1))\n",
    "data_test = df_test.sort_values(['Date et heure de comptage', 'Libelle']).groupby('Libelle')['Débit horaire',\"Taux d'occupation\"].apply(lambda x: chunks(x.values, size=N_input+N_output, step=1))\n",
    "\n",
    "#print(data.values)\n",
    "data_numpy_train = np.array([np.array(x) for x in data_train.values])\n",
    "data_numpy_test = np.array([np.array(x) for x in data_test.values])\n",
    "metatemp_data_numpy_train = np.array([np.array(x) for x in metatemp_data_train.values])\n",
    "metatemp_data_numpy_test = np.array([np.array(x) for x in metatemp_data_test.values])\n",
    "#data_numpy.astype(float)\n",
    "\n",
    "\n",
    "rues = np.array([x for x in data_train.index])\n",
    "print(rues)"
   ]
  },
  {
   "cell_type": "code",
   "execution_count": 48,
   "metadata": {},
   "outputs": [
    {
     "name": "stdout",
     "output_type": "stream",
     "text": [
      "True\n",
      "(9213, 28, 8)\n",
      "(9213, 28, 2)\n"
     ]
    }
   ],
   "source": [
    "# Mélange les rues\n",
    "print(len(data_numpy_train)==len(metatemp_data_numpy_train))\n",
    "ind = np.arange(len(data_numpy_train))\n",
    "np.random.shuffle(ind)\n",
    "data_numpy_train = data_numpy_train[ind]\n",
    "metatemp_data_numpy_train = metatemp_data_numpy_train[ind]\n",
    "print(metatemp_data_numpy_train[0].shape)\n",
    "print(data_numpy_train[0].shape)"
   ]
  },
  {
   "cell_type": "code",
   "execution_count": null,
   "metadata": {},
   "outputs": [],
   "source": []
  }
 ],
 "metadata": {
  "kernelspec": {
   "display_name": "Python 3",
   "language": "python",
   "name": "python3"
  },
  "language_info": {
   "codemirror_mode": {
    "name": "ipython",
    "version": 3
   },
   "file_extension": ".py",
   "mimetype": "text/x-python",
   "name": "python",
   "nbconvert_exporter": "python",
   "pygments_lexer": "ipython3",
   "version": "3.7.7"
  }
 },
 "nbformat": 4,
 "nbformat_minor": 4
}

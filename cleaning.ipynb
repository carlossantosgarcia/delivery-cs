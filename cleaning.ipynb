{
 "cells": [
  {
   "cell_type": "markdown",
   "metadata": {},
   "source": [
    "<center> <font size='6' font-weight='bold'> Nettoyage des données </font> </center>"
   ]
  },
  {
   "cell_type": "markdown",
   "metadata": {},
   "source": [
    "**Description :** Notebook servant au nettoyage des données."
   ]
  },
  {
   "cell_type": "markdown",
   "metadata": {
    "toc": true
   },
   "source": [
    "<h1>Table of Contents<span class=\"tocSkip\"></span></h1>\n",
    "<div class=\"toc\"><ul class=\"toc-item\"><li><span><a href=\"#Import-des-données\" data-toc-modified-id=\"Import-des-données-1\"><span class=\"toc-item-num\">1&nbsp;&nbsp;</span>Import des données</a></span><ul class=\"toc-item\"><li><span><a href=\"#Informations-générales\" data-toc-modified-id=\"Informations-générales-1.1\"><span class=\"toc-item-num\">1.1&nbsp;&nbsp;</span>Informations générales</a></span></li><li><span><a href=\"#Lecture-des-CSV\" data-toc-modified-id=\"Lecture-des-CSV-1.2\"><span class=\"toc-item-num\">1.2&nbsp;&nbsp;</span>Lecture des CSV</a></span></li><li><span><a href=\"#Filtrage-par-noeud\" data-toc-modified-id=\"Filtrage-par-noeud-1.3\"><span class=\"toc-item-num\">1.3&nbsp;&nbsp;</span>Filtrage par noeud</a></span></li></ul></li><li><span><a href=\"#Nettoyage-des-données\" data-toc-modified-id=\"Nettoyage-des-données-2\"><span class=\"toc-item-num\">2&nbsp;&nbsp;</span>Nettoyage des données</a></span><ul class=\"toc-item\"><li><span><a href=\"#NaN\" data-toc-modified-id=\"NaN-2.1\"><span class=\"toc-item-num\">2.1&nbsp;&nbsp;</span>NaN</a></span></li><li><span><a href=\"#Conversion-en-datetime64\" data-toc-modified-id=\"Conversion-en-datetime64-2.2\"><span class=\"toc-item-num\">2.2&nbsp;&nbsp;</span>Conversion en datetime64</a></span></li></ul></li><li><span><a href=\"#Analyse-et-visualisation-(partie-1)\" data-toc-modified-id=\"Analyse-et-visualisation-(partie-1)-3\"><span class=\"toc-item-num\">3&nbsp;&nbsp;</span>Analyse et visualisation (partie 1)</a></span></li><li><span><a href=\"#Feature-engineering\" data-toc-modified-id=\"Feature-engineering-4\"><span class=\"toc-item-num\">4&nbsp;&nbsp;</span>Feature engineering</a></span><ul class=\"toc-item\"><li><span><a href=\"#Categorical-variables\" data-toc-modified-id=\"Categorical-variables-4.1\"><span class=\"toc-item-num\">4.1&nbsp;&nbsp;</span>Categorical variables</a></span></li><li><span><a href=\"#Prise-en-compte-des-périodes-de-vacances\" data-toc-modified-id=\"Prise-en-compte-des-périodes-de-vacances-4.2\"><span class=\"toc-item-num\">4.2&nbsp;&nbsp;</span>Prise en compte des périodes de vacances</a></span></li><li><span><a href=\"#Plus-de-features-liées-aux-timestamp\" data-toc-modified-id=\"Plus-de-features-liées-aux-timestamp-4.3\"><span class=\"toc-item-num\">4.3&nbsp;&nbsp;</span>Plus de features liées aux timestamp</a></span></li><li><span><a href=\"#Prise-en-compte-du-confinement\" data-toc-modified-id=\"Prise-en-compte-du-confinement-4.4\"><span class=\"toc-item-num\">4.4&nbsp;&nbsp;</span>Prise en compte du confinement</a></span></li><li><span><a href=\"#Prise-en-compte-du-couvre-feu\" data-toc-modified-id=\"Prise-en-compte-du-couvre-feu-4.5\"><span class=\"toc-item-num\">4.5&nbsp;&nbsp;</span>Prise en compte du couvre-feu</a></span></li><li><span><a href=\"#Analyse-et-visualisation-(partie-2)\" data-toc-modified-id=\"Analyse-et-visualisation-(partie-2)-4.6\"><span class=\"toc-item-num\">4.6&nbsp;&nbsp;</span>Analyse et visualisation (partie 2)</a></span></li></ul></li><li><span><a href=\"#Export-train-/-dev-/-test\" data-toc-modified-id=\"Export-train-/-dev-/-test-5\"><span class=\"toc-item-num\">5&nbsp;&nbsp;</span>Export train / dev / test</a></span></li></ul></div>"
   ]
  },
  {
   "cell_type": "code",
   "execution_count": 1,
   "metadata": {},
   "outputs": [],
   "source": [
    "import os\n",
    "import datetime\n",
    "\n",
    "from functools import reduce\n",
    "\n",
    "import numpy as np\n",
    "import pandas as pd\n",
    "\n",
    "import seaborn as sns"
   ]
  },
  {
   "cell_type": "markdown",
   "metadata": {},
   "source": [
    "Les données sont enregistrées dans 3 fichiers CSV différents. Elles portent le nom suivant :"
   ]
  },
  {
   "cell_type": "code",
   "execution_count": 2,
   "metadata": {},
   "outputs": [],
   "source": [
    "data_path = './data'"
   ]
  },
  {
   "cell_type": "code",
   "execution_count": 3,
   "metadata": {
    "scrolled": true
   },
   "outputs": [
    {
     "data": {
      "text/plain": [
       "['convention.csv',\n",
       " '.DS_Store',\n",
       " 'champs-elysees.csv',\n",
       " 'previsions-meteo-france-metropole.csv',\n",
       " 'df_dev.csv',\n",
       " 'df_test.csv',\n",
       " 'Sts.csv',\n",
       " 'df_train.csv']"
      ]
     },
     "execution_count": 3,
     "metadata": {},
     "output_type": "execute_result"
    }
   ],
   "source": [
    "os.listdir(path=data_path)"
   ]
  },
  {
   "cell_type": "code",
   "execution_count": 4,
   "metadata": {},
   "outputs": [],
   "source": [
    "list_filenames = ['champs-elysees.csv', 'convention.csv', 'Sts.csv']"
   ]
  },
  {
   "cell_type": "markdown",
   "metadata": {},
   "source": [
    "# Import des données"
   ]
  },
  {
   "cell_type": "markdown",
   "metadata": {},
   "source": [
    "## Informations générales"
   ]
  },
  {
   "cell_type": "markdown",
   "metadata": {},
   "source": [
    "**Les données  ont été téléchargées depuis :**  \n",
    "- https://opendata.paris.fr/explore/dataset/comptages-routiers-permanents/information/?disjunctive.libelle&disjunctive.etat_trafic&disjunctive.libelle_nd_amont&disjunctive.libelle_nd_aval&sort=t_1h  \n",
    "  \n",
    "**Lien de la notice d'obtention des features :**  \n",
    "- https://opendata.paris.fr/api/datasets/1.0/comptages-routiers-permanents/attachments/notice_donnes_trafic_capteurs_permanents_version_20190607_pdf/  \n",
    "  \n",
    "**Quelques infos issues du site sur le dataset:**  \n",
    ">**Données de trafic routier issues des capteurs permanents sur 13 mois glissants en J-1**  \n",
    "Sur le réseau parisien, la mesure du trafic s’effectue majoritairement par le biais de boucles électromagnétiques implantés dans la chaussée.  \n",
    "La donnée est produite par la Direction de la Voirie et des déplacements - Service des Déplacements - Poste Central d'Exploitation Lutèce.  \n",
    "La donnée et les visualisations associées (Tableau, Carte et Dataviz) sont brutes sans aucune interprétation ou analyse. Elles donnent à voir la donnée telle qu'elle est publiée quotidiennement. \n",
    "Elles donnent un aperçu du taux d'occupation et du débit sur plus de 3000 tronçons de voies. A elles seules, elles ne permettent pas de caractériser la complexité de la circulation à Paris.  \n",
    ">  \n",
    "**Deux types de données sont ainsi élaborés :**\n",
    "le taux d’occupation, qui correspond au temps de présence de véhicules sur la boucle en pourcentage d’un intervalle de temps fixe (une heure pour les données fournies). Ainsi, 25% de taux d’occupation sur une heure signifie que des véhicules ont été présents sur la boucle pendant 15 minutes. Le taux fournit une information sur la congestion routière. L’implantation des boucles est pensée de manière à pouvoir déduire, d’une mesure ponctuelle, l’état du trafic sur un arc.\n",
    "le débit est le nombre de véhicules ayant passé le point de comptage pendant un intervalle de temps fixe (une heure pour les données fournies).  \n",
    "L'horodate horaire est effectué en fin de période d'élaboration. \n",
    "Par exemple, l’horodate « 2019-01-01 01:00:00 » désigne la période du 1er janvier 2019 à 00h00 au 1er janvier 2019 à 01h00.  \n",
    "Ainsi, l’observation couplée en un point du taux d’occupation et du débit permet de caractériser le trafic. Cela constitue l’un des fondements de l’ingénierie du trafic, et l’on nomme d’ailleurs cela le « diagramme fondamental ».\n",
    "Un débit peut correspondre à deux situations de trafic : fluide ou saturée, d’où la nécessité du taux d’occupation. A titre d’exemple : sur une heure, un débit de 100 véhicules par heure sur un axe habituellement très chargé peut se rencontrer de nuit (trafic fluide) ou bien en heure de pointe (trafic saturé).  \n",
    ">  \n",
    "**L’équipement du réseau parisien :**  \n",
    "Les principaux axes de la Ville de Paris sont équipés de stations de comptage des véhicules et de mesure du taux d’occupation, à des fins à la fois de régulation du trafic et des transports en commun, d’information aux usagers (diffusion sur le site Sytadin), et d’étude.\n",
    "Il existe deux types de stations sur le réseau : les stations de mesure du taux d’occupation seul, et des stations à la fois de mesure du taux et de comptage des véhicules.\n",
    "Les stations de mesure du taux sont implantées très régulièrement : elles permettent une connaissance fine des conditions de circulation.\n",
    "Les stations de débit sont moins nombreuses, et généralement implantées entre les principales intersections. En effet, le débit se conserve généralement sur une section entre deux grands carrefours."
   ]
  },
  {
   "cell_type": "markdown",
   "metadata": {},
   "source": [
    "## Lecture des CSV"
   ]
  },
  {
   "cell_type": "markdown",
   "metadata": {},
   "source": [
    "On regroupera directement toutes les lignes des 3 CSV dans un même DataFrame. Une colonne filename y a été ajoutée pour facilement avoir l'origine de la ligne à portée de main."
   ]
  },
  {
   "cell_type": "code",
   "execution_count": 5,
   "metadata": {},
   "outputs": [
    {
     "data": {
      "text/html": [
       "<div>\n",
       "<style scoped>\n",
       "    .dataframe tbody tr th:only-of-type {\n",
       "        vertical-align: middle;\n",
       "    }\n",
       "\n",
       "    .dataframe tbody tr th {\n",
       "        vertical-align: top;\n",
       "    }\n",
       "\n",
       "    .dataframe thead th {\n",
       "        text-align: right;\n",
       "    }\n",
       "</style>\n",
       "<table border=\"1\" class=\"dataframe\">\n",
       "  <thead>\n",
       "    <tr style=\"text-align: right;\">\n",
       "      <th></th>\n",
       "      <th>Libelle</th>\n",
       "      <th>Date et heure de comptage</th>\n",
       "      <th>Débit horaire</th>\n",
       "      <th>Taux d'occupation</th>\n",
       "      <th>Etat trafic</th>\n",
       "      <th>Identifiant noeud amont</th>\n",
       "      <th>Libelle noeud amont</th>\n",
       "      <th>Identifiant noeud aval</th>\n",
       "      <th>Libelle noeud aval</th>\n",
       "      <th>Etat arc</th>\n",
       "      <th>Date debut dispo data</th>\n",
       "      <th>Date fin dispo data</th>\n",
       "      <th>geo_point_2d</th>\n",
       "      <th>geo_shape</th>\n",
       "      <th>filename</th>\n",
       "    </tr>\n",
       "  </thead>\n",
       "  <tbody>\n",
       "    <tr>\n",
       "      <th>107825</th>\n",
       "      <td>Convention</td>\n",
       "      <td>2020-05-14T02:00:00+02:00</td>\n",
       "      <td>56.0</td>\n",
       "      <td>0.62111</td>\n",
       "      <td>Fluide</td>\n",
       "      <td>2967</td>\n",
       "      <td>Convention-Lourmel</td>\n",
       "      <td>2968</td>\n",
       "      <td>Convention-Felix_Faure</td>\n",
       "      <td>Invalide</td>\n",
       "      <td>2005-01-01</td>\n",
       "      <td>2019-06-01</td>\n",
       "      <td>48.8410899245,2.28786733</td>\n",
       "      <td>{\"type\": \"LineString\", \"coordinates\": [[2.2878...</td>\n",
       "      <td>Sts.csv</td>\n",
       "    </tr>\n",
       "    <tr>\n",
       "      <th>199802</th>\n",
       "      <td>Convention</td>\n",
       "      <td>2020-10-31T04:00:00+01:00</td>\n",
       "      <td>NaN</td>\n",
       "      <td>0.09723</td>\n",
       "      <td>Fluide</td>\n",
       "      <td>2969</td>\n",
       "      <td>Convention-Croix_Nivert</td>\n",
       "      <td>2968</td>\n",
       "      <td>Convention-Felix_Faure</td>\n",
       "      <td>Invalide</td>\n",
       "      <td>2005-01-01</td>\n",
       "      <td>2019-06-01</td>\n",
       "      <td>48.840570742,2.28915914031</td>\n",
       "      <td>{\"type\": \"LineString\", \"coordinates\": [[2.2903...</td>\n",
       "      <td>Sts.csv</td>\n",
       "    </tr>\n",
       "    <tr>\n",
       "      <th>9513</th>\n",
       "      <td>Sts_Peres</td>\n",
       "      <td>2019-12-07T08:00:00+01:00</td>\n",
       "      <td>220.0</td>\n",
       "      <td>3.81889</td>\n",
       "      <td>Fluide</td>\n",
       "      <td>117</td>\n",
       "      <td>Sts_Peres-Grenelle</td>\n",
       "      <td>118</td>\n",
       "      <td>Sevres-Sts_Peres</td>\n",
       "      <td>Invalide</td>\n",
       "      <td>2005-01-01</td>\n",
       "      <td>2019-06-01</td>\n",
       "      <td>48.8523283513,2.32895140461</td>\n",
       "      <td>{\"type\": \"LineString\", \"coordinates\": [[2.3293...</td>\n",
       "      <td>convention.csv</td>\n",
       "    </tr>\n",
       "    <tr>\n",
       "      <th>134277</th>\n",
       "      <td>Convention</td>\n",
       "      <td>2020-03-21T20:00:00+01:00</td>\n",
       "      <td>51.0</td>\n",
       "      <td>0.95778</td>\n",
       "      <td>Fluide</td>\n",
       "      <td>2966</td>\n",
       "      <td>Convention-St_Charles</td>\n",
       "      <td>2967</td>\n",
       "      <td>Convention-Lourmel</td>\n",
       "      <td>Invalide</td>\n",
       "      <td>2005-01-01</td>\n",
       "      <td>2019-06-01</td>\n",
       "      <td>48.8427659306,2.28419855155</td>\n",
       "      <td>{\"type\": \"LineString\", \"coordinates\": [[2.2828...</td>\n",
       "      <td>Sts.csv</td>\n",
       "    </tr>\n",
       "    <tr>\n",
       "      <th>57201</th>\n",
       "      <td>Convention</td>\n",
       "      <td>2020-08-02T17:00:00+02:00</td>\n",
       "      <td>NaN</td>\n",
       "      <td>2.35833</td>\n",
       "      <td>Fluide</td>\n",
       "      <td>2969</td>\n",
       "      <td>Convention-Croix_Nivert</td>\n",
       "      <td>2968</td>\n",
       "      <td>Convention-Felix_Faure</td>\n",
       "      <td>Invalide</td>\n",
       "      <td>2005-01-01</td>\n",
       "      <td>2019-06-01</td>\n",
       "      <td>48.840570742,2.28915914031</td>\n",
       "      <td>{\"type\": \"LineString\", \"coordinates\": [[2.2903...</td>\n",
       "      <td>Sts.csv</td>\n",
       "    </tr>\n",
       "  </tbody>\n",
       "</table>\n",
       "</div>"
      ],
      "text/plain": [
       "           Libelle  Date et heure de comptage  Débit horaire  \\\n",
       "107825  Convention  2020-05-14T02:00:00+02:00           56.0   \n",
       "199802  Convention  2020-10-31T04:00:00+01:00            NaN   \n",
       "9513     Sts_Peres  2019-12-07T08:00:00+01:00          220.0   \n",
       "134277  Convention  2020-03-21T20:00:00+01:00           51.0   \n",
       "57201   Convention  2020-08-02T17:00:00+02:00            NaN   \n",
       "\n",
       "        Taux d'occupation Etat trafic  Identifiant noeud amont  \\\n",
       "107825            0.62111      Fluide                     2967   \n",
       "199802            0.09723      Fluide                     2969   \n",
       "9513              3.81889      Fluide                      117   \n",
       "134277            0.95778      Fluide                     2966   \n",
       "57201             2.35833      Fluide                     2969   \n",
       "\n",
       "            Libelle noeud amont  Identifiant noeud aval  \\\n",
       "107825       Convention-Lourmel                    2968   \n",
       "199802  Convention-Croix_Nivert                    2968   \n",
       "9513         Sts_Peres-Grenelle                     118   \n",
       "134277    Convention-St_Charles                    2967   \n",
       "57201   Convention-Croix_Nivert                    2968   \n",
       "\n",
       "            Libelle noeud aval  Etat arc Date debut dispo data  \\\n",
       "107825  Convention-Felix_Faure  Invalide            2005-01-01   \n",
       "199802  Convention-Felix_Faure  Invalide            2005-01-01   \n",
       "9513          Sevres-Sts_Peres  Invalide            2005-01-01   \n",
       "134277      Convention-Lourmel  Invalide            2005-01-01   \n",
       "57201   Convention-Felix_Faure  Invalide            2005-01-01   \n",
       "\n",
       "       Date fin dispo data                 geo_point_2d  \\\n",
       "107825          2019-06-01     48.8410899245,2.28786733   \n",
       "199802          2019-06-01   48.840570742,2.28915914031   \n",
       "9513            2019-06-01  48.8523283513,2.32895140461   \n",
       "134277          2019-06-01  48.8427659306,2.28419855155   \n",
       "57201           2019-06-01   48.840570742,2.28915914031   \n",
       "\n",
       "                                                geo_shape        filename  \n",
       "107825  {\"type\": \"LineString\", \"coordinates\": [[2.2878...         Sts.csv  \n",
       "199802  {\"type\": \"LineString\", \"coordinates\": [[2.2903...         Sts.csv  \n",
       "9513    {\"type\": \"LineString\", \"coordinates\": [[2.3293...  convention.csv  \n",
       "134277  {\"type\": \"LineString\", \"coordinates\": [[2.2828...         Sts.csv  \n",
       "57201   {\"type\": \"LineString\", \"coordinates\": [[2.2903...         Sts.csv  "
      ]
     },
     "execution_count": 5,
     "metadata": {},
     "output_type": "execute_result"
    }
   ],
   "source": [
    "df = pd.concat(\n",
    "    [pd.read_csv(os.path.join(data_path, filename), sep=';', index_col=0).assign(filename=filename) for filename in list_filenames],\n",
    "               ignore_index=True\n",
    "\n",
    ")\n",
    "\n",
    "df.sample(5)"
   ]
  },
  {
   "cell_type": "markdown",
   "metadata": {},
   "source": [
    "## Filtrage par noeud"
   ]
  },
  {
   "cell_type": "markdown",
   "metadata": {},
   "source": [
    "On peut déjà drop les identifiants des noeuds et les données liées à la géométrie car ils ne nous serviront pas pour la suite.  \n",
    "On supprimera aussi "
   ]
  },
  {
   "cell_type": "code",
   "execution_count": 6,
   "metadata": {},
   "outputs": [],
   "source": [
    "df = df.drop(columns=[\n",
    "    'Identifiant noeud amont', 'Identifiant noeud aval', 'geo_point_2d',\n",
    "    'geo_shape', 'Date debut dispo data', 'Date fin dispo data'\n",
    "])"
   ]
  },
  {
   "cell_type": "code",
   "execution_count": 7,
   "metadata": {},
   "outputs": [],
   "source": [
    "# Contient pour chaque fichier CSV un 2-tuple de la forme (noeud_amont, noeud_aval)\n",
    "dic_noeuds = {\n",
    "    'champs-elysees.csv': ('Av_Champs_Elysees-Washington', 'Av_Champs_Elysees-Berri'),\n",
    "    'convention.csv': ('Lecourbe-Convention', 'Convention-Blomet'),\n",
    "    'Sts.csv': ('Sts_Peres-Voltaire', 'Sts_Peres-Universite')\n",
    "}"
   ]
  },
  {
   "cell_type": "code",
   "execution_count": 8,
   "metadata": {
    "scrolled": true
   },
   "outputs": [
    {
     "name": "stdout",
     "output_type": "stream",
     "text": [
      "Taille du df avant filtrage: 235768\n",
      "Taille du df après filtrage: 9428\n"
     ]
    }
   ],
   "source": [
    "list_criteria = []\n",
    "for key, val in dic_noeuds.items():\n",
    "    criterion = (df['filename']==key) & (df['Libelle noeud amont']==val[0]) & (df['Libelle noeud aval']==val[1])\n",
    "    list_criteria.append(criterion)\n",
    "\n",
    "criterion_noeuds = reduce(lambda x, y: x | y, list_criteria)\n",
    "\n",
    "print(f'Taille du df avant filtrage: {len(df)}')\n",
    "df = df[criterion_noeuds]\n",
    "print(f'Taille du df après filtrage: {len(df)}')"
   ]
  },
  {
   "cell_type": "markdown",
   "metadata": {},
   "source": [
    "On peut désormais drop les libellés."
   ]
  },
  {
   "cell_type": "code",
   "execution_count": 9,
   "metadata": {},
   "outputs": [
    {
     "data": {
      "text/html": [
       "<div>\n",
       "<style scoped>\n",
       "    .dataframe tbody tr th:only-of-type {\n",
       "        vertical-align: middle;\n",
       "    }\n",
       "\n",
       "    .dataframe tbody tr th {\n",
       "        vertical-align: top;\n",
       "    }\n",
       "\n",
       "    .dataframe thead th {\n",
       "        text-align: right;\n",
       "    }\n",
       "</style>\n",
       "<table border=\"1\" class=\"dataframe\">\n",
       "  <thead>\n",
       "    <tr style=\"text-align: right;\">\n",
       "      <th></th>\n",
       "      <th>Libelle</th>\n",
       "      <th>Date et heure de comptage</th>\n",
       "      <th>Débit horaire</th>\n",
       "      <th>Taux d'occupation</th>\n",
       "      <th>Etat trafic</th>\n",
       "      <th>Etat arc</th>\n",
       "      <th>filename</th>\n",
       "    </tr>\n",
       "  </thead>\n",
       "  <tbody>\n",
       "    <tr>\n",
       "      <th>0</th>\n",
       "      <td>AV_Champs_Elysees</td>\n",
       "      <td>2020-11-02T05:00:00+01:00</td>\n",
       "      <td>144.0</td>\n",
       "      <td>2.25611</td>\n",
       "      <td>Fluide</td>\n",
       "      <td>Invalide</td>\n",
       "      <td>champs-elysees.csv</td>\n",
       "    </tr>\n",
       "    <tr>\n",
       "      <th>1</th>\n",
       "      <td>AV_Champs_Elysees</td>\n",
       "      <td>2020-11-01T23:00:00+01:00</td>\n",
       "      <td>245.0</td>\n",
       "      <td>8.11222</td>\n",
       "      <td>Fluide</td>\n",
       "      <td>Invalide</td>\n",
       "      <td>champs-elysees.csv</td>\n",
       "    </tr>\n",
       "    <tr>\n",
       "      <th>2</th>\n",
       "      <td>AV_Champs_Elysees</td>\n",
       "      <td>2020-07-01T16:00:00+02:00</td>\n",
       "      <td>1138.0</td>\n",
       "      <td>17.86611</td>\n",
       "      <td>Pré-saturé</td>\n",
       "      <td>Invalide</td>\n",
       "      <td>champs-elysees.csv</td>\n",
       "    </tr>\n",
       "    <tr>\n",
       "      <th>3</th>\n",
       "      <td>AV_Champs_Elysees</td>\n",
       "      <td>2020-07-01T22:00:00+02:00</td>\n",
       "      <td>880.0</td>\n",
       "      <td>16.03611</td>\n",
       "      <td>Pré-saturé</td>\n",
       "      <td>Invalide</td>\n",
       "      <td>champs-elysees.csv</td>\n",
       "    </tr>\n",
       "    <tr>\n",
       "      <th>4</th>\n",
       "      <td>AV_Champs_Elysees</td>\n",
       "      <td>2020-08-05T03:00:00+02:00</td>\n",
       "      <td>487.0</td>\n",
       "      <td>6.35389</td>\n",
       "      <td>Fluide</td>\n",
       "      <td>Invalide</td>\n",
       "      <td>champs-elysees.csv</td>\n",
       "    </tr>\n",
       "  </tbody>\n",
       "</table>\n",
       "</div>"
      ],
      "text/plain": [
       "             Libelle  Date et heure de comptage  Débit horaire  \\\n",
       "0  AV_Champs_Elysees  2020-11-02T05:00:00+01:00          144.0   \n",
       "1  AV_Champs_Elysees  2020-11-01T23:00:00+01:00          245.0   \n",
       "2  AV_Champs_Elysees  2020-07-01T16:00:00+02:00         1138.0   \n",
       "3  AV_Champs_Elysees  2020-07-01T22:00:00+02:00          880.0   \n",
       "4  AV_Champs_Elysees  2020-08-05T03:00:00+02:00          487.0   \n",
       "\n",
       "   Taux d'occupation Etat trafic  Etat arc            filename  \n",
       "0            2.25611      Fluide  Invalide  champs-elysees.csv  \n",
       "1            8.11222      Fluide  Invalide  champs-elysees.csv  \n",
       "2           17.86611  Pré-saturé  Invalide  champs-elysees.csv  \n",
       "3           16.03611  Pré-saturé  Invalide  champs-elysees.csv  \n",
       "4            6.35389      Fluide  Invalide  champs-elysees.csv  "
      ]
     },
     "execution_count": 9,
     "metadata": {},
     "output_type": "execute_result"
    }
   ],
   "source": [
    "df = df.drop(columns=['Libelle noeud amont', 'Libelle noeud aval'])\n",
    "df.head()"
   ]
  },
  {
   "cell_type": "markdown",
   "metadata": {},
   "source": [
    "# Nettoyage des données"
   ]
  },
  {
   "cell_type": "code",
   "execution_count": 10,
   "metadata": {},
   "outputs": [
    {
     "data": {
      "text/plain": [
       "Libelle                       object\n",
       "Date et heure de comptage     object\n",
       "Débit horaire                float64\n",
       "Taux d'occupation            float64\n",
       "Etat trafic                   object\n",
       "Etat arc                      object\n",
       "filename                      object\n",
       "dtype: object"
      ]
     },
     "execution_count": 10,
     "metadata": {},
     "output_type": "execute_result"
    }
   ],
   "source": [
    "df.dtypes"
   ]
  },
  {
   "cell_type": "markdown",
   "metadata": {},
   "source": [
    "## NaN"
   ]
  },
  {
   "cell_type": "code",
   "execution_count": 11,
   "metadata": {},
   "outputs": [
    {
     "data": {
      "text/plain": [
       "Libelle                       0\n",
       "Date et heure de comptage     0\n",
       "Débit horaire                77\n",
       "Taux d'occupation            85\n",
       "Etat trafic                   0\n",
       "Etat arc                      0\n",
       "filename                      0\n",
       "dtype: int64"
      ]
     },
     "execution_count": 11,
     "metadata": {},
     "output_type": "execute_result"
    }
   ],
   "source": [
    "df.isna().sum()"
   ]
  },
  {
   "cell_type": "code",
   "execution_count": 12,
   "metadata": {},
   "outputs": [
    {
     "data": {
      "text/plain": [
       "Libelle                      0.000000\n",
       "Date et heure de comptage    0.000000\n",
       "Débit horaire                0.008167\n",
       "Taux d'occupation            0.009016\n",
       "Etat trafic                  0.000000\n",
       "Etat arc                     0.000000\n",
       "filename                     0.000000\n",
       "dtype: float64"
      ]
     },
     "execution_count": 12,
     "metadata": {},
     "output_type": "execute_result"
    }
   ],
   "source": [
    "df.isna().mean()"
   ]
  },
  {
   "cell_type": "markdown",
   "metadata": {},
   "source": [
    "Moins de 1% des lignes ont des NaN. On peut donc drop ces lignes de manière sereine."
   ]
  },
  {
   "cell_type": "code",
   "execution_count": 13,
   "metadata": {},
   "outputs": [
    {
     "data": {
      "text/plain": [
       "Libelle                      0\n",
       "Date et heure de comptage    0\n",
       "Débit horaire                0\n",
       "Taux d'occupation            0\n",
       "Etat trafic                  0\n",
       "Etat arc                     0\n",
       "filename                     0\n",
       "dtype: int64"
      ]
     },
     "execution_count": 13,
     "metadata": {},
     "output_type": "execute_result"
    }
   ],
   "source": [
    "df = df.dropna()\n",
    "df.isna().sum()"
   ]
  },
  {
   "cell_type": "markdown",
   "metadata": {},
   "source": [
    "## Conversion en datetime64"
   ]
  },
  {
   "cell_type": "code",
   "execution_count": 14,
   "metadata": {},
   "outputs": [
    {
     "data": {
      "text/plain": [
       "0       2020-11-02T05:00:00+01:00\n",
       "1       2020-11-01T23:00:00+01:00\n",
       "2       2020-07-01T16:00:00+02:00\n",
       "3       2020-07-01T22:00:00+02:00\n",
       "4       2020-08-05T03:00:00+02:00\n",
       "                  ...            \n",
       "9423    2020-05-31T20:00:00+02:00\n",
       "9424    2020-06-01T02:00:00+02:00\n",
       "9425    2020-06-01T04:00:00+02:00\n",
       "9426    2020-06-01T01:00:00+02:00\n",
       "9427    2020-06-01T03:00:00+02:00\n",
       "Name: Date et heure de comptage, Length: 9343, dtype: object"
      ]
     },
     "execution_count": 14,
     "metadata": {},
     "output_type": "execute_result"
    }
   ],
   "source": [
    "df['Date et heure de comptage']"
   ]
  },
  {
   "cell_type": "code",
   "execution_count": 15,
   "metadata": {},
   "outputs": [],
   "source": [
    "def remove_timezone(row):\n",
    "    return row.tz_localize(None)"
   ]
  },
  {
   "cell_type": "code",
   "execution_count": 16,
   "metadata": {
    "scrolled": true
   },
   "outputs": [
    {
     "data": {
      "text/plain": [
       "0      2020-11-02 04:00:00\n",
       "1      2020-11-01 22:00:00\n",
       "2      2020-07-01 14:00:00\n",
       "3      2020-07-01 20:00:00\n",
       "4      2020-08-05 01:00:00\n",
       "               ...        \n",
       "9423   2020-05-31 18:00:00\n",
       "9424   2020-06-01 00:00:00\n",
       "9425   2020-06-01 02:00:00\n",
       "9426   2020-05-31 23:00:00\n",
       "9427   2020-06-01 01:00:00\n",
       "Name: Date et heure de comptage, Length: 9343, dtype: datetime64[ns]"
      ]
     },
     "execution_count": 16,
     "metadata": {},
     "output_type": "execute_result"
    }
   ],
   "source": [
    "df['Date et heure de comptage'] = pd.to_datetime(df['Date et heure de comptage'], utc=True)\n",
    "df['Date et heure de comptage'] = df['Date et heure de comptage'].apply(remove_timezone)\n",
    "df['Date et heure de comptage']"
   ]
  },
  {
   "cell_type": "code",
   "execution_count": 17,
   "metadata": {},
   "outputs": [
    {
     "data": {
      "text/plain": [
       "Libelle                              object\n",
       "Date et heure de comptage    datetime64[ns]\n",
       "Débit horaire                       float64\n",
       "Taux d'occupation                   float64\n",
       "Etat trafic                          object\n",
       "Etat arc                             object\n",
       "filename                             object\n",
       "dtype: object"
      ]
     },
     "execution_count": 17,
     "metadata": {},
     "output_type": "execute_result"
    }
   ],
   "source": [
    "df.dtypes"
   ]
  },
  {
   "cell_type": "code",
   "execution_count": 18,
   "metadata": {},
   "outputs": [
    {
     "name": "stdout",
     "output_type": "stream",
     "text": [
      "Première mesure de comptage prise : 01/11/2019\n",
      "Dernière mesure de comptage prise : 29/11/2020\n"
     ]
    }
   ],
   "source": [
    "date_begin = df['Date et heure de comptage'].min().strftime('%d/%m/%Y')\n",
    "date_end = df['Date et heure de comptage'].max().strftime('%d/%m/%Y')\n",
    "print(f'Première mesure de comptage prise : {date_begin}')\n",
    "print(f'Dernière mesure de comptage prise : {date_end}')"
   ]
  },
  {
   "cell_type": "markdown",
   "metadata": {},
   "source": [
    "# Analyse et visualisation (partie 1)"
   ]
  },
  {
   "cell_type": "code",
   "execution_count": 19,
   "metadata": {},
   "outputs": [
    {
     "data": {
      "text/html": [
       "<div>\n",
       "<style scoped>\n",
       "    .dataframe tbody tr th:only-of-type {\n",
       "        vertical-align: middle;\n",
       "    }\n",
       "\n",
       "    .dataframe tbody tr th {\n",
       "        vertical-align: top;\n",
       "    }\n",
       "\n",
       "    .dataframe thead th {\n",
       "        text-align: right;\n",
       "    }\n",
       "</style>\n",
       "<table border=\"1\" class=\"dataframe\">\n",
       "  <thead>\n",
       "    <tr style=\"text-align: right;\">\n",
       "      <th></th>\n",
       "      <th>Débit horaire</th>\n",
       "      <th>Taux d'occupation</th>\n",
       "    </tr>\n",
       "  </thead>\n",
       "  <tbody>\n",
       "    <tr>\n",
       "      <th>count</th>\n",
       "      <td>9343.000000</td>\n",
       "      <td>9343.000000</td>\n",
       "    </tr>\n",
       "    <tr>\n",
       "      <th>mean</th>\n",
       "      <td>708.792893</td>\n",
       "      <td>13.150319</td>\n",
       "    </tr>\n",
       "    <tr>\n",
       "      <th>std</th>\n",
       "      <td>413.836128</td>\n",
       "      <td>11.412242</td>\n",
       "    </tr>\n",
       "    <tr>\n",
       "      <th>min</th>\n",
       "      <td>0.000000</td>\n",
       "      <td>0.000000</td>\n",
       "    </tr>\n",
       "    <tr>\n",
       "      <th>25%</th>\n",
       "      <td>300.000000</td>\n",
       "      <td>3.589445</td>\n",
       "    </tr>\n",
       "    <tr>\n",
       "      <th>50%</th>\n",
       "      <td>774.000000</td>\n",
       "      <td>10.692220</td>\n",
       "    </tr>\n",
       "    <tr>\n",
       "      <th>75%</th>\n",
       "      <td>1072.000000</td>\n",
       "      <td>19.311390</td>\n",
       "    </tr>\n",
       "    <tr>\n",
       "      <th>max</th>\n",
       "      <td>1610.000000</td>\n",
       "      <td>84.668890</td>\n",
       "    </tr>\n",
       "  </tbody>\n",
       "</table>\n",
       "</div>"
      ],
      "text/plain": [
       "       Débit horaire  Taux d'occupation\n",
       "count    9343.000000        9343.000000\n",
       "mean      708.792893          13.150319\n",
       "std       413.836128          11.412242\n",
       "min         0.000000           0.000000\n",
       "25%       300.000000           3.589445\n",
       "50%       774.000000          10.692220\n",
       "75%      1072.000000          19.311390\n",
       "max      1610.000000          84.668890"
      ]
     },
     "execution_count": 19,
     "metadata": {},
     "output_type": "execute_result"
    }
   ],
   "source": [
    "df[['Débit horaire', \"Taux d'occupation\"]].describe()"
   ]
  },
  {
   "cell_type": "code",
   "execution_count": 20,
   "metadata": {},
   "outputs": [
    {
     "data": {
      "text/plain": [
       "<AxesSubplot:>"
      ]
     },
     "execution_count": 20,
     "metadata": {},
     "output_type": "execute_result"
    },
    {
     "data": {
      "image/png": "[encoded data removed]",
      "text/plain": [
       "<Figure size 432x288 with 1 Axes>"
      ]
     },
     "metadata": {
      "needs_background": "light"
     },
     "output_type": "display_data"
    }
   ],
   "source": [
    "df[['Débit horaire', \"Taux d'occupation\"]].plot()"
   ]
  },
  {
   "cell_type": "code",
   "execution_count": 21,
   "metadata": {},
   "outputs": [
    {
     "data": {
      "text/plain": [
       "<AxesSubplot:ylabel='Débit horaire'>"
      ]
     },
     "execution_count": 21,
     "metadata": {},
     "output_type": "execute_result"
    },
    {
     "data": {
      "image/png": "[encoded data removed]",
      "text/plain": [
       "<Figure size 432x288 with 1 Axes>"
      ]
     },
     "metadata": {
      "needs_background": "light"
     },
     "output_type": "display_data"
    }
   ],
   "source": [
    "sns.violinplot(y='Débit horaire', data=df)"
   ]
  },
  {
   "cell_type": "code",
   "execution_count": 22,
   "metadata": {},
   "outputs": [
    {
     "data": {
      "text/plain": [
       "<AxesSubplot:ylabel=\"Taux d'occupation\">"
      ]
     },
     "execution_count": 22,
     "metadata": {},
     "output_type": "execute_result"
    },
    {
     "data": {
      "image/png": "[encoded data removed]",
      "text/plain": [
       "<Figure size 432x288 with 1 Axes>"
      ]
     },
     "metadata": {
      "needs_background": "light"
     },
     "output_type": "display_data"
    }
   ],
   "source": [
    "sns.violinplot(y=\"Taux d'occupation\", data=df)"
   ]
  },
  {
   "cell_type": "code",
   "execution_count": 23,
   "metadata": {
    "scrolled": true
   },
   "outputs": [
    {
     "data": {
      "text/plain": [
       "<seaborn.axisgrid.FacetGrid at 0x7fe5e8faf890>"
      ]
     },
     "execution_count": 23,
     "metadata": {},
     "output_type": "execute_result"
    },
    {
     "data": {
      "image/png": "[encoded data removed]",
      "text/plain": [
       "<Figure size 360x360 with 1 Axes>"
      ]
     },
     "metadata": {
      "needs_background": "light"
     },
     "output_type": "display_data"
    }
   ],
   "source": [
    "sns.displot(df, x=\"Taux d'occupation\")"
   ]
  },
  {
   "cell_type": "markdown",
   "metadata": {},
   "source": [
    "# Feature engineering"
   ]
  },
  {
   "cell_type": "markdown",
   "metadata": {},
   "source": [
    "## Categorical variables"
   ]
  },
  {
   "cell_type": "markdown",
   "metadata": {},
   "source": [
    "Ajoutons un *one-hot encoding* pour les variables catégoriques. On n'oubliera cependant pas de passer à un *dummy encoding* avant d'entraîner le modèle pour éviter un problème de dimension. ‼️"
   ]
  },
  {
   "cell_type": "code",
   "execution_count": 24,
   "metadata": {
    "scrolled": true
   },
   "outputs": [
    {
     "data": {
      "text/plain": [
       "Libelle                              object\n",
       "Date et heure de comptage    datetime64[ns]\n",
       "Débit horaire                       float64\n",
       "Taux d'occupation                   float64\n",
       "Etat trafic                          object\n",
       "Etat arc                             object\n",
       "filename                             object\n",
       "dtype: object"
      ]
     },
     "execution_count": 24,
     "metadata": {},
     "output_type": "execute_result"
    }
   ],
   "source": [
    "df.dtypes"
   ]
  },
  {
   "cell_type": "markdown",
   "metadata": {},
   "source": [
    "**Ordinal encoding :**"
   ]
  },
  {
   "cell_type": "markdown",
   "metadata": {},
   "source": [
    "Il semble en réalité plus pertinent d'utiliser un *ordinal encoding* pour donner une relation d'ordre à la feature. On se servira pour cela des informations contenues dans la notice.\n",
    "<img src=\"ressources/ordinal_encoding.png\" />"
   ]
  },
  {
   "cell_type": "code",
   "execution_count": 25,
   "metadata": {},
   "outputs": [
    {
     "data": {
      "text/plain": [
       "0           Fluide\n",
       "1           Fluide\n",
       "2       Pré-saturé\n",
       "3       Pré-saturé\n",
       "4           Fluide\n",
       "           ...    \n",
       "9423    Pré-saturé\n",
       "9424        Fluide\n",
       "9425        Fluide\n",
       "9426        Fluide\n",
       "9427        Fluide\n",
       "Name: Etat trafic, Length: 9343, dtype: object"
      ]
     },
     "execution_count": 25,
     "metadata": {},
     "output_type": "execute_result"
    }
   ],
   "source": [
    " df['Etat trafic']"
   ]
  },
  {
   "cell_type": "code",
   "execution_count": 26,
   "metadata": {
    "scrolled": false
   },
   "outputs": [
    {
     "data": {
      "text/html": [
       "<div>\n",
       "<style scoped>\n",
       "    .dataframe tbody tr th:only-of-type {\n",
       "        vertical-align: middle;\n",
       "    }\n",
       "\n",
       "    .dataframe tbody tr th {\n",
       "        vertical-align: top;\n",
       "    }\n",
       "\n",
       "    .dataframe thead th {\n",
       "        text-align: right;\n",
       "    }\n",
       "</style>\n",
       "<table border=\"1\" class=\"dataframe\">\n",
       "  <thead>\n",
       "    <tr style=\"text-align: right;\">\n",
       "      <th></th>\n",
       "      <th>Libelle</th>\n",
       "      <th>Date et heure de comptage</th>\n",
       "      <th>Débit horaire</th>\n",
       "      <th>Taux d'occupation</th>\n",
       "      <th>Etat trafic</th>\n",
       "      <th>Etat arc</th>\n",
       "      <th>filename</th>\n",
       "    </tr>\n",
       "  </thead>\n",
       "  <tbody>\n",
       "    <tr>\n",
       "      <th>2050</th>\n",
       "      <td>AV_Champs_Elysees</td>\n",
       "      <td>2020-08-14 18:00:00</td>\n",
       "      <td>767.0</td>\n",
       "      <td>13.59000</td>\n",
       "      <td>1</td>\n",
       "      <td>Invalide</td>\n",
       "      <td>champs-elysees.csv</td>\n",
       "    </tr>\n",
       "    <tr>\n",
       "      <th>7962</th>\n",
       "      <td>AV_Champs_Elysees</td>\n",
       "      <td>2020-08-29 18:00:00</td>\n",
       "      <td>962.0</td>\n",
       "      <td>14.81334</td>\n",
       "      <td>1</td>\n",
       "      <td>Invalide</td>\n",
       "      <td>champs-elysees.csv</td>\n",
       "    </tr>\n",
       "    <tr>\n",
       "      <th>3734</th>\n",
       "      <td>AV_Champs_Elysees</td>\n",
       "      <td>2020-09-04 05:00:00</td>\n",
       "      <td>653.0</td>\n",
       "      <td>6.44945</td>\n",
       "      <td>1</td>\n",
       "      <td>Invalide</td>\n",
       "      <td>champs-elysees.csv</td>\n",
       "    </tr>\n",
       "    <tr>\n",
       "      <th>3287</th>\n",
       "      <td>AV_Champs_Elysees</td>\n",
       "      <td>2019-12-02 10:00:00</td>\n",
       "      <td>898.0</td>\n",
       "      <td>43.75833</td>\n",
       "      <td>3</td>\n",
       "      <td>Invalide</td>\n",
       "      <td>champs-elysees.csv</td>\n",
       "    </tr>\n",
       "    <tr>\n",
       "      <th>8113</th>\n",
       "      <td>AV_Champs_Elysees</td>\n",
       "      <td>2020-03-31 03:00:00</td>\n",
       "      <td>30.0</td>\n",
       "      <td>0.40611</td>\n",
       "      <td>1</td>\n",
       "      <td>Invalide</td>\n",
       "      <td>champs-elysees.csv</td>\n",
       "    </tr>\n",
       "  </tbody>\n",
       "</table>\n",
       "</div>"
      ],
      "text/plain": [
       "                Libelle Date et heure de comptage  Débit horaire  \\\n",
       "2050  AV_Champs_Elysees       2020-08-14 18:00:00          767.0   \n",
       "7962  AV_Champs_Elysees       2020-08-29 18:00:00          962.0   \n",
       "3734  AV_Champs_Elysees       2020-09-04 05:00:00          653.0   \n",
       "3287  AV_Champs_Elysees       2019-12-02 10:00:00          898.0   \n",
       "8113  AV_Champs_Elysees       2020-03-31 03:00:00           30.0   \n",
       "\n",
       "      Taux d'occupation  Etat trafic  Etat arc            filename  \n",
       "2050           13.59000            1  Invalide  champs-elysees.csv  \n",
       "7962           14.81334            1  Invalide  champs-elysees.csv  \n",
       "3734            6.44945            1  Invalide  champs-elysees.csv  \n",
       "3287           43.75833            3  Invalide  champs-elysees.csv  \n",
       "8113            0.40611            1  Invalide  champs-elysees.csv  "
      ]
     },
     "execution_count": 26,
     "metadata": {},
     "output_type": "execute_result"
    }
   ],
   "source": [
    "# df_ordinal = df.copy(deep=True)\n",
    "mapper = {'Inconnu': 0, 'Fluide': 1, 'Pré-saturé': 2, 'Saturé': 3, 'Bloqué': 4}\n",
    "df['Etat trafic'] = df['Etat trafic'].map(mapper)\n",
    "df.sample(5)"
   ]
  },
  {
   "cell_type": "markdown",
   "metadata": {},
   "source": [
    "## Prise en compte des périodes de vacances"
   ]
  },
  {
   "cell_type": "code",
   "execution_count": 27,
   "metadata": {},
   "outputs": [
    {
     "data": {
      "text/plain": [
       "Timestamp('2020-12-19 00:00:00')"
      ]
     },
     "execution_count": 27,
     "metadata": {},
     "output_type": "execute_result"
    }
   ],
   "source": [
    "first_day_holiday = pd.Timestamp('2020-12-19')\n",
    "first_day_holiday"
   ]
  },
  {
   "cell_type": "code",
   "execution_count": 28,
   "metadata": {},
   "outputs": [
    {
     "data": {
      "text/plain": [
       "0       46 days 20:00:00\n",
       "1       47 days 02:00:00\n",
       "2      170 days 10:00:00\n",
       "3      170 days 04:00:00\n",
       "4      135 days 23:00:00\n",
       "              ...       \n",
       "9423   201 days 06:00:00\n",
       "9424   201 days 00:00:00\n",
       "9425   200 days 22:00:00\n",
       "9426   201 days 01:00:00\n",
       "9427   200 days 23:00:00\n",
       "Name: Date et heure de comptage, Length: 9343, dtype: timedelta64[ns]"
      ]
     },
     "execution_count": 28,
     "metadata": {},
     "output_type": "execute_result"
    }
   ],
   "source": [
    "first_day_holiday - df[\"Date et heure de comptage\"]"
   ]
  },
  {
   "cell_type": "markdown",
   "metadata": {},
   "source": [
    "## Plus de features liées aux timestamp"
   ]
  },
  {
   "cell_type": "markdown",
   "metadata": {},
   "source": [
    "Ajout du jour (sans l'heure) :"
   ]
  },
  {
   "cell_type": "code",
   "execution_count": 29,
   "metadata": {},
   "outputs": [
    {
     "data": {
      "text/html": [
       "<div>\n",
       "<style scoped>\n",
       "    .dataframe tbody tr th:only-of-type {\n",
       "        vertical-align: middle;\n",
       "    }\n",
       "\n",
       "    .dataframe tbody tr th {\n",
       "        vertical-align: top;\n",
       "    }\n",
       "\n",
       "    .dataframe thead th {\n",
       "        text-align: right;\n",
       "    }\n",
       "</style>\n",
       "<table border=\"1\" class=\"dataframe\">\n",
       "  <thead>\n",
       "    <tr style=\"text-align: right;\">\n",
       "      <th></th>\n",
       "      <th>Libelle</th>\n",
       "      <th>Date et heure de comptage</th>\n",
       "      <th>Débit horaire</th>\n",
       "      <th>Taux d'occupation</th>\n",
       "      <th>Etat trafic</th>\n",
       "      <th>Etat arc</th>\n",
       "      <th>filename</th>\n",
       "      <th>Date</th>\n",
       "    </tr>\n",
       "  </thead>\n",
       "  <tbody>\n",
       "    <tr>\n",
       "      <th>1952</th>\n",
       "      <td>AV_Champs_Elysees</td>\n",
       "      <td>2020-09-20 17:00:00</td>\n",
       "      <td>674.0</td>\n",
       "      <td>5.21778</td>\n",
       "      <td>1</td>\n",
       "      <td>Barré</td>\n",
       "      <td>champs-elysees.csv</td>\n",
       "      <td>2020-09-20</td>\n",
       "    </tr>\n",
       "    <tr>\n",
       "      <th>7117</th>\n",
       "      <td>AV_Champs_Elysees</td>\n",
       "      <td>2020-10-28 06:00:00</td>\n",
       "      <td>673.0</td>\n",
       "      <td>7.67555</td>\n",
       "      <td>1</td>\n",
       "      <td>Invalide</td>\n",
       "      <td>champs-elysees.csv</td>\n",
       "      <td>2020-10-28</td>\n",
       "    </tr>\n",
       "    <tr>\n",
       "      <th>2034</th>\n",
       "      <td>AV_Champs_Elysees</td>\n",
       "      <td>2020-09-04 04:00:00</td>\n",
       "      <td>268.0</td>\n",
       "      <td>2.92611</td>\n",
       "      <td>1</td>\n",
       "      <td>Invalide</td>\n",
       "      <td>champs-elysees.csv</td>\n",
       "      <td>2020-09-04</td>\n",
       "    </tr>\n",
       "    <tr>\n",
       "      <th>6490</th>\n",
       "      <td>AV_Champs_Elysees</td>\n",
       "      <td>2020-02-04 17:00:00</td>\n",
       "      <td>1267.0</td>\n",
       "      <td>24.42333</td>\n",
       "      <td>2</td>\n",
       "      <td>Invalide</td>\n",
       "      <td>champs-elysees.csv</td>\n",
       "      <td>2020-02-04</td>\n",
       "    </tr>\n",
       "    <tr>\n",
       "      <th>7347</th>\n",
       "      <td>AV_Champs_Elysees</td>\n",
       "      <td>2020-06-15 22:00:00</td>\n",
       "      <td>720.0</td>\n",
       "      <td>10.27778</td>\n",
       "      <td>1</td>\n",
       "      <td>Invalide</td>\n",
       "      <td>champs-elysees.csv</td>\n",
       "      <td>2020-06-15</td>\n",
       "    </tr>\n",
       "  </tbody>\n",
       "</table>\n",
       "</div>"
      ],
      "text/plain": [
       "                Libelle Date et heure de comptage  Débit horaire  \\\n",
       "1952  AV_Champs_Elysees       2020-09-20 17:00:00          674.0   \n",
       "7117  AV_Champs_Elysees       2020-10-28 06:00:00          673.0   \n",
       "2034  AV_Champs_Elysees       2020-09-04 04:00:00          268.0   \n",
       "6490  AV_Champs_Elysees       2020-02-04 17:00:00         1267.0   \n",
       "7347  AV_Champs_Elysees       2020-06-15 22:00:00          720.0   \n",
       "\n",
       "      Taux d'occupation  Etat trafic  Etat arc            filename        Date  \n",
       "1952            5.21778            1     Barré  champs-elysees.csv  2020-09-20  \n",
       "7117            7.67555            1  Invalide  champs-elysees.csv  2020-10-28  \n",
       "2034            2.92611            1  Invalide  champs-elysees.csv  2020-09-04  \n",
       "6490           24.42333            2  Invalide  champs-elysees.csv  2020-02-04  \n",
       "7347           10.27778            1  Invalide  champs-elysees.csv  2020-06-15  "
      ]
     },
     "execution_count": 29,
     "metadata": {},
     "output_type": "execute_result"
    }
   ],
   "source": [
    "df['Date'] = pd.to_datetime(df[\"Date et heure de comptage\"]).dt.date\n",
    "df.sample(5)"
   ]
  },
  {
   "cell_type": "markdown",
   "metadata": {},
   "source": [
    "Ajout du jour de la semaine:"
   ]
  },
  {
   "cell_type": "code",
   "execution_count": 30,
   "metadata": {},
   "outputs": [
    {
     "data": {
      "text/html": [
       "<div>\n",
       "<style scoped>\n",
       "    .dataframe tbody tr th:only-of-type {\n",
       "        vertical-align: middle;\n",
       "    }\n",
       "\n",
       "    .dataframe tbody tr th {\n",
       "        vertical-align: top;\n",
       "    }\n",
       "\n",
       "    .dataframe thead th {\n",
       "        text-align: right;\n",
       "    }\n",
       "</style>\n",
       "<table border=\"1\" class=\"dataframe\">\n",
       "  <thead>\n",
       "    <tr style=\"text-align: right;\">\n",
       "      <th></th>\n",
       "      <th>Libelle</th>\n",
       "      <th>Date et heure de comptage</th>\n",
       "      <th>Débit horaire</th>\n",
       "      <th>Taux d'occupation</th>\n",
       "      <th>Etat trafic</th>\n",
       "      <th>Etat arc</th>\n",
       "      <th>filename</th>\n",
       "      <th>Date</th>\n",
       "      <th>Jour de la semaine</th>\n",
       "    </tr>\n",
       "  </thead>\n",
       "  <tbody>\n",
       "    <tr>\n",
       "      <th>7732</th>\n",
       "      <td>AV_Champs_Elysees</td>\n",
       "      <td>2020-02-25 23:00:00</td>\n",
       "      <td>718.0</td>\n",
       "      <td>10.72000</td>\n",
       "      <td>1</td>\n",
       "      <td>Invalide</td>\n",
       "      <td>champs-elysees.csv</td>\n",
       "      <td>2020-02-25</td>\n",
       "      <td>1</td>\n",
       "    </tr>\n",
       "    <tr>\n",
       "      <th>8528</th>\n",
       "      <td>AV_Champs_Elysees</td>\n",
       "      <td>2020-03-22 03:00:00</td>\n",
       "      <td>16.0</td>\n",
       "      <td>0.15889</td>\n",
       "      <td>1</td>\n",
       "      <td>Invalide</td>\n",
       "      <td>champs-elysees.csv</td>\n",
       "      <td>2020-03-22</td>\n",
       "      <td>6</td>\n",
       "    </tr>\n",
       "    <tr>\n",
       "      <th>5078</th>\n",
       "      <td>AV_Champs_Elysees</td>\n",
       "      <td>2020-11-24 02:00:00</td>\n",
       "      <td>58.0</td>\n",
       "      <td>0.69556</td>\n",
       "      <td>1</td>\n",
       "      <td>Invalide</td>\n",
       "      <td>champs-elysees.csv</td>\n",
       "      <td>2020-11-24</td>\n",
       "      <td>1</td>\n",
       "    </tr>\n",
       "    <tr>\n",
       "      <th>1826</th>\n",
       "      <td>AV_Champs_Elysees</td>\n",
       "      <td>2020-09-27 05:00:00</td>\n",
       "      <td>420.0</td>\n",
       "      <td>2.91667</td>\n",
       "      <td>1</td>\n",
       "      <td>Invalide</td>\n",
       "      <td>champs-elysees.csv</td>\n",
       "      <td>2020-09-27</td>\n",
       "      <td>6</td>\n",
       "    </tr>\n",
       "    <tr>\n",
       "      <th>3420</th>\n",
       "      <td>AV_Champs_Elysees</td>\n",
       "      <td>2020-01-03 04:00:00</td>\n",
       "      <td>226.0</td>\n",
       "      <td>2.47889</td>\n",
       "      <td>1</td>\n",
       "      <td>Invalide</td>\n",
       "      <td>champs-elysees.csv</td>\n",
       "      <td>2020-01-03</td>\n",
       "      <td>4</td>\n",
       "    </tr>\n",
       "  </tbody>\n",
       "</table>\n",
       "</div>"
      ],
      "text/plain": [
       "                Libelle Date et heure de comptage  Débit horaire  \\\n",
       "7732  AV_Champs_Elysees       2020-02-25 23:00:00          718.0   \n",
       "8528  AV_Champs_Elysees       2020-03-22 03:00:00           16.0   \n",
       "5078  AV_Champs_Elysees       2020-11-24 02:00:00           58.0   \n",
       "1826  AV_Champs_Elysees       2020-09-27 05:00:00          420.0   \n",
       "3420  AV_Champs_Elysees       2020-01-03 04:00:00          226.0   \n",
       "\n",
       "      Taux d'occupation  Etat trafic  Etat arc            filename  \\\n",
       "7732           10.72000            1  Invalide  champs-elysees.csv   \n",
       "8528            0.15889            1  Invalide  champs-elysees.csv   \n",
       "5078            0.69556            1  Invalide  champs-elysees.csv   \n",
       "1826            2.91667            1  Invalide  champs-elysees.csv   \n",
       "3420            2.47889            1  Invalide  champs-elysees.csv   \n",
       "\n",
       "            Date  Jour de la semaine  \n",
       "7732  2020-02-25                   1  \n",
       "8528  2020-03-22                   6  \n",
       "5078  2020-11-24                   1  \n",
       "1826  2020-09-27                   6  \n",
       "3420  2020-01-03                   4  "
      ]
     },
     "execution_count": 30,
     "metadata": {},
     "output_type": "execute_result"
    }
   ],
   "source": [
    "df['Jour de la semaine'] = pd.to_datetime(df[\"Date et heure de comptage\"]).dt.dayofweek\n",
    "df.sample(5)"
   ]
  },
  {
   "cell_type": "markdown",
   "metadata": {},
   "source": [
    "## Prise en compte du confinement"
   ]
  },
  {
   "cell_type": "markdown",
   "metadata": {},
   "source": [
    "D'après Wikipedia:\n",
    ">L'interdiction de déplacement en France, vulgarisée dans les médias par l'expression « confinement de la population » ou « confinement national », est une mesure sanitaire mise en place pour la première fois du 17 mars à 12 h au 11 mai 2020 (55 jours, soit 1 mois et 25 jours), et une deuxième fois à partir du 30 octobre 2020 au 15 décembre 2020 (soit 1 mois et 18 jours), s'insère dans un ensemble de politiques de restrictions de contacts humains et de déplacements en réponse à la pandémie de Covid-19 en France."
   ]
  },
  {
   "cell_type": "code",
   "execution_count": 31,
   "metadata": {},
   "outputs": [],
   "source": [
    "confinement_1 = pd.date_range(start='3/17/2020', end='5/11/2020')\n",
    "confinement_2 = pd.date_range(start='10/30/2020', end='12/15/2020')"
   ]
  },
  {
   "cell_type": "code",
   "execution_count": 32,
   "metadata": {
    "scrolled": true
   },
   "outputs": [
    {
     "data": {
      "text/html": [
       "<div>\n",
       "<style scoped>\n",
       "    .dataframe tbody tr th:only-of-type {\n",
       "        vertical-align: middle;\n",
       "    }\n",
       "\n",
       "    .dataframe tbody tr th {\n",
       "        vertical-align: top;\n",
       "    }\n",
       "\n",
       "    .dataframe thead th {\n",
       "        text-align: right;\n",
       "    }\n",
       "</style>\n",
       "<table border=\"1\" class=\"dataframe\">\n",
       "  <thead>\n",
       "    <tr style=\"text-align: right;\">\n",
       "      <th></th>\n",
       "      <th>Libelle</th>\n",
       "      <th>Date et heure de comptage</th>\n",
       "      <th>Débit horaire</th>\n",
       "      <th>Taux d'occupation</th>\n",
       "      <th>Etat trafic</th>\n",
       "      <th>Etat arc</th>\n",
       "      <th>filename</th>\n",
       "      <th>Date</th>\n",
       "      <th>Jour de la semaine</th>\n",
       "      <th>Etat du confinement</th>\n",
       "    </tr>\n",
       "  </thead>\n",
       "  <tbody>\n",
       "    <tr>\n",
       "      <th>6830</th>\n",
       "      <td>AV_Champs_Elysees</td>\n",
       "      <td>2020-10-24 06:00:00</td>\n",
       "      <td>362.0</td>\n",
       "      <td>3.76167</td>\n",
       "      <td>1</td>\n",
       "      <td>Invalide</td>\n",
       "      <td>champs-elysees.csv</td>\n",
       "      <td>2020-10-24</td>\n",
       "      <td>5</td>\n",
       "      <td>2</td>\n",
       "    </tr>\n",
       "    <tr>\n",
       "      <th>6037</th>\n",
       "      <td>AV_Champs_Elysees</td>\n",
       "      <td>2020-04-17 21:00:00</td>\n",
       "      <td>77.0</td>\n",
       "      <td>0.85611</td>\n",
       "      <td>1</td>\n",
       "      <td>Invalide</td>\n",
       "      <td>champs-elysees.csv</td>\n",
       "      <td>2020-04-17</td>\n",
       "      <td>4</td>\n",
       "      <td>1</td>\n",
       "    </tr>\n",
       "    <tr>\n",
       "      <th>8684</th>\n",
       "      <td>AV_Champs_Elysees</td>\n",
       "      <td>2020-03-24 11:00:00</td>\n",
       "      <td>212.0</td>\n",
       "      <td>2.28278</td>\n",
       "      <td>1</td>\n",
       "      <td>Invalide</td>\n",
       "      <td>champs-elysees.csv</td>\n",
       "      <td>2020-03-24</td>\n",
       "      <td>1</td>\n",
       "      <td>1</td>\n",
       "    </tr>\n",
       "    <tr>\n",
       "      <th>1151</th>\n",
       "      <td>AV_Champs_Elysees</td>\n",
       "      <td>2020-04-13 13:00:00</td>\n",
       "      <td>108.0</td>\n",
       "      <td>1.78389</td>\n",
       "      <td>1</td>\n",
       "      <td>Invalide</td>\n",
       "      <td>champs-elysees.csv</td>\n",
       "      <td>2020-04-13</td>\n",
       "      <td>0</td>\n",
       "      <td>1</td>\n",
       "    </tr>\n",
       "    <tr>\n",
       "      <th>5698</th>\n",
       "      <td>AV_Champs_Elysees</td>\n",
       "      <td>2020-11-23 08:00:00</td>\n",
       "      <td>1224.0</td>\n",
       "      <td>11.94000</td>\n",
       "      <td>1</td>\n",
       "      <td>Invalide</td>\n",
       "      <td>champs-elysees.csv</td>\n",
       "      <td>2020-11-23</td>\n",
       "      <td>0</td>\n",
       "      <td>3</td>\n",
       "    </tr>\n",
       "  </tbody>\n",
       "</table>\n",
       "</div>"
      ],
      "text/plain": [
       "                Libelle Date et heure de comptage  Débit horaire  \\\n",
       "6830  AV_Champs_Elysees       2020-10-24 06:00:00          362.0   \n",
       "6037  AV_Champs_Elysees       2020-04-17 21:00:00           77.0   \n",
       "8684  AV_Champs_Elysees       2020-03-24 11:00:00          212.0   \n",
       "1151  AV_Champs_Elysees       2020-04-13 13:00:00          108.0   \n",
       "5698  AV_Champs_Elysees       2020-11-23 08:00:00         1224.0   \n",
       "\n",
       "      Taux d'occupation  Etat trafic  Etat arc            filename  \\\n",
       "6830            3.76167            1  Invalide  champs-elysees.csv   \n",
       "6037            0.85611            1  Invalide  champs-elysees.csv   \n",
       "8684            2.28278            1  Invalide  champs-elysees.csv   \n",
       "1151            1.78389            1  Invalide  champs-elysees.csv   \n",
       "5698           11.94000            1  Invalide  champs-elysees.csv   \n",
       "\n",
       "            Date  Jour de la semaine  Etat du confinement  \n",
       "6830  2020-10-24                   5                    2  \n",
       "6037  2020-04-17                   4                    1  \n",
       "8684  2020-03-24                   1                    1  \n",
       "1151  2020-04-13                   0                    1  \n",
       "5698  2020-11-23                   0                    3  "
      ]
     },
     "execution_count": 32,
     "metadata": {},
     "output_type": "execute_result"
    }
   ],
   "source": [
    "# create a list of our conditions\n",
    "conditions = [\n",
    "    (df[\"Date et heure de comptage\"] < confinement_1[0]),\n",
    "    (confinement_1[0] <= df[\"Date et heure de comptage\"]) & (df[\"Date et heure de comptage\"] < confinement_1[-1]),\n",
    "    (confinement_1[-1] <= df[\"Date et heure de comptage\"]) & (df[\"Date et heure de comptage\"] < confinement_2[0]),\n",
    "    (confinement_2[0] <= df[\"Date et heure de comptage\"]) & (df[\"Date et heure de comptage\"] < confinement_2[-1]),\n",
    "    (confinement_2[-1] <= df[\"Date et heure de comptage\"])\n",
    "    ]\n",
    "\n",
    "# create a list of the values we want to assign for each condition\n",
    "values = [0, 1, 2, 3, 4]\n",
    "\n",
    "# create a new column and use np.select to assign values to it using our lists as arguments\n",
    "df['Etat du confinement'] = np.select(conditions, values)\n",
    "df.sample(5)"
   ]
  },
  {
   "cell_type": "code",
   "execution_count": 33,
   "metadata": {
    "scrolled": true
   },
   "outputs": [
    {
     "data": {
      "text/plain": [
       "2    4070\n",
       "0    3217\n",
       "1    1313\n",
       "3     743\n",
       "Name: Etat du confinement, dtype: int64"
      ]
     },
     "execution_count": 33,
     "metadata": {},
     "output_type": "execute_result"
    }
   ],
   "source": [
    "df['Etat du confinement'].value_counts()"
   ]
  },
  {
   "cell_type": "markdown",
   "metadata": {},
   "source": [
    "## Prise en compte du couvre-feu"
   ]
  },
  {
   "cell_type": "code",
   "execution_count": 34,
   "metadata": {},
   "outputs": [
    {
     "data": {
      "text/plain": [
       "Timestamp('2020-10-17 00:00:00')"
      ]
     },
     "execution_count": 34,
     "metadata": {},
     "output_type": "execute_result"
    }
   ],
   "source": [
    "couvre_feu_start = pd.Timestamp('10/17/2020')\n",
    "couvre_feu_start"
   ]
  },
  {
   "cell_type": "code",
   "execution_count": 35,
   "metadata": {},
   "outputs": [
    {
     "data": {
      "text/html": [
       "<div>\n",
       "<style scoped>\n",
       "    .dataframe tbody tr th:only-of-type {\n",
       "        vertical-align: middle;\n",
       "    }\n",
       "\n",
       "    .dataframe tbody tr th {\n",
       "        vertical-align: top;\n",
       "    }\n",
       "\n",
       "    .dataframe thead th {\n",
       "        text-align: right;\n",
       "    }\n",
       "</style>\n",
       "<table border=\"1\" class=\"dataframe\">\n",
       "  <thead>\n",
       "    <tr style=\"text-align: right;\">\n",
       "      <th></th>\n",
       "      <th>Libelle</th>\n",
       "      <th>Date et heure de comptage</th>\n",
       "      <th>Débit horaire</th>\n",
       "      <th>Taux d'occupation</th>\n",
       "      <th>Etat trafic</th>\n",
       "      <th>Etat arc</th>\n",
       "      <th>filename</th>\n",
       "      <th>Date</th>\n",
       "      <th>Jour de la semaine</th>\n",
       "      <th>Etat du confinement</th>\n",
       "      <th>Couvre-feu</th>\n",
       "    </tr>\n",
       "  </thead>\n",
       "  <tbody>\n",
       "    <tr>\n",
       "      <th>4581</th>\n",
       "      <td>AV_Champs_Elysees</td>\n",
       "      <td>2020-02-13 03:00:00</td>\n",
       "      <td>248.0</td>\n",
       "      <td>2.91889</td>\n",
       "      <td>1</td>\n",
       "      <td>Invalide</td>\n",
       "      <td>champs-elysees.csv</td>\n",
       "      <td>2020-02-13</td>\n",
       "      <td>3</td>\n",
       "      <td>0</td>\n",
       "      <td>False</td>\n",
       "    </tr>\n",
       "    <tr>\n",
       "      <th>934</th>\n",
       "      <td>AV_Champs_Elysees</td>\n",
       "      <td>2019-12-14 04:00:00</td>\n",
       "      <td>679.0</td>\n",
       "      <td>5.74666</td>\n",
       "      <td>1</td>\n",
       "      <td>Invalide</td>\n",
       "      <td>champs-elysees.csv</td>\n",
       "      <td>2019-12-14</td>\n",
       "      <td>5</td>\n",
       "      <td>0</td>\n",
       "      <td>False</td>\n",
       "    </tr>\n",
       "    <tr>\n",
       "      <th>1713</th>\n",
       "      <td>AV_Champs_Elysees</td>\n",
       "      <td>2020-08-07 22:00:00</td>\n",
       "      <td>1181.0</td>\n",
       "      <td>18.58056</td>\n",
       "      <td>2</td>\n",
       "      <td>Invalide</td>\n",
       "      <td>champs-elysees.csv</td>\n",
       "      <td>2020-08-07</td>\n",
       "      <td>4</td>\n",
       "      <td>2</td>\n",
       "      <td>False</td>\n",
       "    </tr>\n",
       "    <tr>\n",
       "      <th>4920</th>\n",
       "      <td>AV_Champs_Elysees</td>\n",
       "      <td>2019-11-10 02:00:00</td>\n",
       "      <td>682.0</td>\n",
       "      <td>7.29333</td>\n",
       "      <td>1</td>\n",
       "      <td>Invalide</td>\n",
       "      <td>champs-elysees.csv</td>\n",
       "      <td>2019-11-10</td>\n",
       "      <td>6</td>\n",
       "      <td>0</td>\n",
       "      <td>False</td>\n",
       "    </tr>\n",
       "    <tr>\n",
       "      <th>9313</th>\n",
       "      <td>AV_Champs_Elysees</td>\n",
       "      <td>2020-05-03 16:00:00</td>\n",
       "      <td>197.0</td>\n",
       "      <td>1.89889</td>\n",
       "      <td>1</td>\n",
       "      <td>Invalide</td>\n",
       "      <td>champs-elysees.csv</td>\n",
       "      <td>2020-05-03</td>\n",
       "      <td>6</td>\n",
       "      <td>1</td>\n",
       "      <td>False</td>\n",
       "    </tr>\n",
       "  </tbody>\n",
       "</table>\n",
       "</div>"
      ],
      "text/plain": [
       "                Libelle Date et heure de comptage  Débit horaire  \\\n",
       "4581  AV_Champs_Elysees       2020-02-13 03:00:00          248.0   \n",
       "934   AV_Champs_Elysees       2019-12-14 04:00:00          679.0   \n",
       "1713  AV_Champs_Elysees       2020-08-07 22:00:00         1181.0   \n",
       "4920  AV_Champs_Elysees       2019-11-10 02:00:00          682.0   \n",
       "9313  AV_Champs_Elysees       2020-05-03 16:00:00          197.0   \n",
       "\n",
       "      Taux d'occupation  Etat trafic  Etat arc            filename  \\\n",
       "4581            2.91889            1  Invalide  champs-elysees.csv   \n",
       "934             5.74666            1  Invalide  champs-elysees.csv   \n",
       "1713           18.58056            2  Invalide  champs-elysees.csv   \n",
       "4920            7.29333            1  Invalide  champs-elysees.csv   \n",
       "9313            1.89889            1  Invalide  champs-elysees.csv   \n",
       "\n",
       "            Date  Jour de la semaine  Etat du confinement  Couvre-feu  \n",
       "4581  2020-02-13                   3                    0       False  \n",
       "934   2019-12-14                   5                    0       False  \n",
       "1713  2020-08-07                   4                    2       False  \n",
       "4920  2019-11-10                   6                    0       False  \n",
       "9313  2020-05-03                   6                    1       False  "
      ]
     },
     "execution_count": 35,
     "metadata": {},
     "output_type": "execute_result"
    }
   ],
   "source": [
    "df['Couvre-feu'] = (couvre_feu_start <= df['Date'])\n",
    "df.sample(5)"
   ]
  },
  {
   "cell_type": "markdown",
   "metadata": {},
   "source": [
    "## Analyse et visualisation (partie 2)"
   ]
  },
  {
   "cell_type": "code",
   "execution_count": 36,
   "metadata": {},
   "outputs": [
    {
     "data": {
      "image/png": "[encoded data removed]",
      "text/plain": [
       "<Figure size 432x288 with 2 Axes>"
      ]
     },
     "metadata": {},
     "output_type": "display_data"
    }
   ],
   "source": [
    "corr = df.corr()\n",
    "mask = np.zeros_like(corr)\n",
    "mask[np.triu_indices_from(mask)] = True\n",
    "with sns.axes_style(\"white\"):\n",
    "    ax = sns.heatmap(corr, mask=mask, vmax=.3, square=True)"
   ]
  },
  {
   "cell_type": "markdown",
   "metadata": {},
   "source": [
    "# Export train / dev / test"
   ]
  },
  {
   "cell_type": "code",
   "execution_count": 37,
   "metadata": {},
   "outputs": [],
   "source": [
    "def get_datasets(df, percentage_train, percentage_dev, percentage_test, seed=None):\n",
    "    assert(percentage_train + percentage_dev + percentage_test == 1.), 'Please correct the input values.'\n",
    "    df_train, df_dev, df_test = np.split(\n",
    "        df.sample(frac=1, random_state=seed),\n",
    "        [int(percentage_train*len(df)), int((percentage_train+percentage_dev)*len(df))]\n",
    "    )\n",
    "    return df_train, df_dev, df_test"
   ]
  },
  {
   "cell_type": "code",
   "execution_count": 38,
   "metadata": {},
   "outputs": [
    {
     "name": "stdout",
     "output_type": "stream",
     "text": [
      "% train: 0.7999571871989725\n",
      "% dev: 0.09996789039922938\n",
      "% test: 0.10007492240179813\n"
     ]
    }
   ],
   "source": [
    "percentage_train = 0.8\n",
    "percentage_dev = 0.1\n",
    "percentage_test = 0.1\n",
    "\n",
    "df_train, df_dev, df_test = get_datasets(df, percentage_train, percentage_dev, percentage_test, seed=0)\n",
    "\n",
    "print(f'% train: {len(df_train) / len(df)}')\n",
    "print(f'% dev: {len(df_dev) / len(df)}')\n",
    "print(f'% test: {len(df_test) / len(df)}')"
   ]
  },
  {
   "cell_type": "code",
   "execution_count": 39,
   "metadata": {},
   "outputs": [],
   "source": [
    "for df_export, df_filename in zip([df_train, df_dev, df_test], ['df_train.csv', 'df_dev.csv', 'df_test.csv']):\n",
    "    filepath = os.path.join('data', df_filename)\n",
    "    df_export.to_csv(filepath)"
   ]
  }
 ],
 "metadata": {
  "kernelspec": {
   "display_name": "Python 3",
   "language": "python",
   "name": "python3"
  },
  "language_info": {
   "codemirror_mode": {
    "name": "ipython",
    "version": 3
   },
   "file_extension": ".py",
   "mimetype": "text/x-python",
   "name": "python",
   "nbconvert_exporter": "python",
   "pygments_lexer": "ipython3",
   "version": "3.7.9"
  },
  "toc": {
   "base_numbering": 1,
   "nav_menu": {},
   "number_sections": true,
   "sideBar": true,
   "skip_h1_title": false,
   "title_cell": "Table of Contents",
   "title_sidebar": "Contents",
   "toc_cell": true,
   "toc_position": {
    "height": "calc(100% - 180px)",
    "left": "10px",
    "top": "150px",
    "width": "250px"
   },
   "toc_section_display": true,
   "toc_window_display": true
  },
  "varInspector": {
   "cols": {
    "lenName": 16,
    "lenType": 16,
    "lenVar": 40
   },
   "kernels_config": {
    "python": {
     "delete_cmd_postfix": "",
     "delete_cmd_prefix": "del ",
     "library": "var_list.py",
     "varRefreshCmd": "print(var_dic_list())"
    },
    "r": {
     "delete_cmd_postfix": ") ",
     "delete_cmd_prefix": "rm(",
     "library": "var_list.r",
     "varRefreshCmd": "cat(var_dic_list()) "
    }
   },
   "types_to_exclude": [
    "module",
    "function",
    "builtin_function_or_method",
    "instance",
    "_Feature"
   ],
   "window_display": false
  }
 },
 "nbformat": 4,
 "nbformat_minor": 4
}

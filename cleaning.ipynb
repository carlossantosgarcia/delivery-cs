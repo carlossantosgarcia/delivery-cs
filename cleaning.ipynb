{
 "cells": [
  {
   "cell_type": "markdown",
   "metadata": {},
   "source": [
    "<center> <font size='6' font-weight='bold'> Nettoyage des données </font> </center>"
   ]
  },
  {
   "cell_type": "markdown",
   "metadata": {},
   "source": [
    "**Description :** Notebook servant au nettoyage des données."
   ]
  },
  {
   "cell_type": "markdown",
   "metadata": {
    "toc": true
   },
   "source": [
    "<h1>Table of Contents<span class=\"tocSkip\"></span></h1>\n",
    "<div class=\"toc\"><ul class=\"toc-item\"><li><span><a href=\"#Import-des-données\" data-toc-modified-id=\"Import-des-données-1\"><span class=\"toc-item-num\">1&nbsp;&nbsp;</span>Import des données</a></span><ul class=\"toc-item\"><li><span><a href=\"#Informations-générales\" data-toc-modified-id=\"Informations-générales-1.1\"><span class=\"toc-item-num\">1.1&nbsp;&nbsp;</span>Informations générales</a></span></li><li><span><a href=\"#Lecture-des-CSV\" data-toc-modified-id=\"Lecture-des-CSV-1.2\"><span class=\"toc-item-num\">1.2&nbsp;&nbsp;</span>Lecture des CSV</a></span></li><li><span><a href=\"#Filtrage-par-noeud\" data-toc-modified-id=\"Filtrage-par-noeud-1.3\"><span class=\"toc-item-num\">1.3&nbsp;&nbsp;</span>Filtrage par noeud</a></span></li></ul></li><li><span><a href=\"#Nettoyage-des-données\" data-toc-modified-id=\"Nettoyage-des-données-2\"><span class=\"toc-item-num\">2&nbsp;&nbsp;</span>Nettoyage des données</a></span><ul class=\"toc-item\"><li><span><a href=\"#NaN\" data-toc-modified-id=\"NaN-2.1\"><span class=\"toc-item-num\">2.1&nbsp;&nbsp;</span>NaN</a></span></li><li><span><a href=\"#Conversion-en-datetime64\" data-toc-modified-id=\"Conversion-en-datetime64-2.2\"><span class=\"toc-item-num\">2.2&nbsp;&nbsp;</span>Conversion en datetime64</a></span></li></ul></li><li><span><a href=\"#Analyse-et-visualisation-(partie-1)\" data-toc-modified-id=\"Analyse-et-visualisation-(partie-1)-3\"><span class=\"toc-item-num\">3&nbsp;&nbsp;</span>Analyse et visualisation (partie 1)</a></span></li><li><span><a href=\"#Feature-engineering\" data-toc-modified-id=\"Feature-engineering-4\"><span class=\"toc-item-num\">4&nbsp;&nbsp;</span>Feature engineering</a></span><ul class=\"toc-item\"><li><span><a href=\"#Categorical-variables\" data-toc-modified-id=\"Categorical-variables-4.1\"><span class=\"toc-item-num\">4.1&nbsp;&nbsp;</span>Categorical variables</a></span></li><li><span><a href=\"#Périodes-de-vacances\" data-toc-modified-id=\"Périodes-de-vacances-4.2\"><span class=\"toc-item-num\">4.2&nbsp;&nbsp;</span>Périodes de vacances</a></span></li><li><span><a href=\"#Features-liées-aux-timestamp\" data-toc-modified-id=\"Features-liées-aux-timestamp-4.3\"><span class=\"toc-item-num\">4.3&nbsp;&nbsp;</span>Features liées aux timestamp</a></span></li><li><span><a href=\"#Confinement\" data-toc-modified-id=\"Confinement-4.4\"><span class=\"toc-item-num\">4.4&nbsp;&nbsp;</span>Confinement</a></span></li><li><span><a href=\"#Couvre-feu\" data-toc-modified-id=\"Couvre-feu-4.5\"><span class=\"toc-item-num\">4.5&nbsp;&nbsp;</span>Couvre-feu</a></span></li><li><span><a href=\"#Jours-fériés\" data-toc-modified-id=\"Jours-fériés-4.6\"><span class=\"toc-item-num\">4.6&nbsp;&nbsp;</span>Jours fériés</a></span></li><li><span><a href=\"#Vacances-scolaires\" data-toc-modified-id=\"Vacances-scolaires-4.7\"><span class=\"toc-item-num\">4.7&nbsp;&nbsp;</span>Vacances scolaires</a></span></li><li><span><a href=\"#Lever-/-Coucher-du-soleil\" data-toc-modified-id=\"Lever-/-Coucher-du-soleil-4.8\"><span class=\"toc-item-num\">4.8&nbsp;&nbsp;</span>Lever / Coucher du soleil</a></span></li></ul></li><li><span><a href=\"#Analyse-et-visualisation-(partie-2)\" data-toc-modified-id=\"Analyse-et-visualisation-(partie-2)-5\"><span class=\"toc-item-num\">5&nbsp;&nbsp;</span>Analyse et visualisation (partie 2)</a></span></li><li><span><a href=\"#Export-train-/-dev-/-test\" data-toc-modified-id=\"Export-train-/-dev-/-test-6\"><span class=\"toc-item-num\">6&nbsp;&nbsp;</span>Export train / dev / test</a></span></li></ul></div>"
   ]
  },
  {
   "cell_type": "code",
   "execution_count": 1,
   "metadata": {},
   "outputs": [],
   "source": [
    "import os\n",
    "import datetime\n",
    "\n",
    "from functools import reduce\n",
    "\n",
    "import numpy as np\n",
    "import pandas as pd\n",
    "\n",
    "import seaborn as sns"
   ]
  },
  {
   "cell_type": "markdown",
   "metadata": {},
   "source": [
    "Les données sont enregistrées dans 3 fichiers CSV différents. Elles portent le nom suivant :"
   ]
  },
  {
   "cell_type": "code",
   "execution_count": 2,
   "metadata": {},
   "outputs": [],
   "source": [
    "data_path = './data'"
   ]
  },
  {
   "cell_type": "code",
   "execution_count": 3,
   "metadata": {
    "scrolled": true
   },
   "outputs": [
    {
     "data": {
      "text/plain": [
       "['convention.csv',\n",
       " '.DS_Store',\n",
       " 'champs-elysees.csv',\n",
       " 'previsions-meteo-france-metropole.csv',\n",
       " 'df_dev.csv',\n",
       " 'jours_feries_metropole.csv',\n",
       " 'df_test.csv',\n",
       " 'Sts.csv',\n",
       " 'df_train.csv']"
      ]
     },
     "execution_count": 3,
     "metadata": {},
     "output_type": "execute_result"
    }
   ],
   "source": [
    "os.listdir(path=data_path)"
   ]
  },
  {
   "cell_type": "code",
   "execution_count": 4,
   "metadata": {},
   "outputs": [],
   "source": [
    "list_filenames = ['champs-elysees.csv', 'convention.csv', 'Sts.csv']"
   ]
  },
  {
   "cell_type": "markdown",
   "metadata": {},
   "source": [
    "# Import des données"
   ]
  },
  {
   "cell_type": "markdown",
   "metadata": {},
   "source": [
    "## Informations générales"
   ]
  },
  {
   "cell_type": "markdown",
   "metadata": {},
   "source": [
    "**Les données  ont été téléchargées depuis :**  \n",
    "- https://opendata.paris.fr/explore/dataset/comptages-routiers-permanents/information/?disjunctive.libelle&disjunctive.etat_trafic&disjunctive.libelle_nd_amont&disjunctive.libelle_nd_aval&sort=t_1h  \n",
    "  \n",
    "**Lien de la notice d'obtention des features :**  \n",
    "- https://opendata.paris.fr/api/datasets/1.0/comptages-routiers-permanents/attachments/notice_donnes_trafic_capteurs_permanents_version_20190607_pdf/  \n",
    "  \n",
    "**Quelques infos issues du site sur le dataset:**  \n",
    ">**Données de trafic routier issues des capteurs permanents sur 13 mois glissants en J-1**  \n",
    "Sur le réseau parisien, la mesure du trafic s’effectue majoritairement par le biais de boucles électromagnétiques implantés dans la chaussée.  \n",
    "La donnée est produite par la Direction de la Voirie et des déplacements - Service des Déplacements - Poste Central d'Exploitation Lutèce.  \n",
    "La donnée et les visualisations associées (Tableau, Carte et Dataviz) sont brutes sans aucune interprétation ou analyse. Elles donnent à voir la donnée telle qu'elle est publiée quotidiennement. \n",
    "Elles donnent un aperçu du taux d'occupation et du débit sur plus de 3000 tronçons de voies. A elles seules, elles ne permettent pas de caractériser la complexité de la circulation à Paris.  \n",
    ">  \n",
    "**Deux types de données sont ainsi élaborés :**\n",
    "le taux d’occupation, qui correspond au temps de présence de véhicules sur la boucle en pourcentage d’un intervalle de temps fixe (une heure pour les données fournies). Ainsi, 25% de taux d’occupation sur une heure signifie que des véhicules ont été présents sur la boucle pendant 15 minutes. Le taux fournit une information sur la congestion routière. L’implantation des boucles est pensée de manière à pouvoir déduire, d’une mesure ponctuelle, l’état du trafic sur un arc.\n",
    "le débit est le nombre de véhicules ayant passé le point de comptage pendant un intervalle de temps fixe (une heure pour les données fournies).  \n",
    "L'horodate horaire est effectué en fin de période d'élaboration. \n",
    "Par exemple, l’horodate « 2019-01-01 01:00:00 » désigne la période du 1er janvier 2019 à 00h00 au 1er janvier 2019 à 01h00.  \n",
    "Ainsi, l’observation couplée en un point du taux d’occupation et du débit permet de caractériser le trafic. Cela constitue l’un des fondements de l’ingénierie du trafic, et l’on nomme d’ailleurs cela le « diagramme fondamental ».\n",
    "Un débit peut correspondre à deux situations de trafic : fluide ou saturée, d’où la nécessité du taux d’occupation. A titre d’exemple : sur une heure, un débit de 100 véhicules par heure sur un axe habituellement très chargé peut se rencontrer de nuit (trafic fluide) ou bien en heure de pointe (trafic saturé).  \n",
    ">  \n",
    "**L’équipement du réseau parisien :**  \n",
    "Les principaux axes de la Ville de Paris sont équipés de stations de comptage des véhicules et de mesure du taux d’occupation, à des fins à la fois de régulation du trafic et des transports en commun, d’information aux usagers (diffusion sur le site Sytadin), et d’étude.\n",
    "Il existe deux types de stations sur le réseau : les stations de mesure du taux d’occupation seul, et des stations à la fois de mesure du taux et de comptage des véhicules.\n",
    "Les stations de mesure du taux sont implantées très régulièrement : elles permettent une connaissance fine des conditions de circulation.\n",
    "Les stations de débit sont moins nombreuses, et généralement implantées entre les principales intersections. En effet, le débit se conserve généralement sur une section entre deux grands carrefours."
   ]
  },
  {
   "cell_type": "markdown",
   "metadata": {},
   "source": [
    "## Lecture des CSV"
   ]
  },
  {
   "cell_type": "markdown",
   "metadata": {},
   "source": [
    "On regroupera directement toutes les lignes des 3 CSV dans un même DataFrame. Une colonne filename y a été ajoutée pour facilement avoir l'origine de la ligne à portée de main."
   ]
  },
  {
   "cell_type": "code",
   "execution_count": 5,
   "metadata": {},
   "outputs": [
    {
     "data": {
      "text/html": [
       "<div>\n",
       "<style scoped>\n",
       "    .dataframe tbody tr th:only-of-type {\n",
       "        vertical-align: middle;\n",
       "    }\n",
       "\n",
       "    .dataframe tbody tr th {\n",
       "        vertical-align: top;\n",
       "    }\n",
       "\n",
       "    .dataframe thead th {\n",
       "        text-align: right;\n",
       "    }\n",
       "</style>\n",
       "<table border=\"1\" class=\"dataframe\">\n",
       "  <thead>\n",
       "    <tr style=\"text-align: right;\">\n",
       "      <th></th>\n",
       "      <th>Libelle</th>\n",
       "      <th>Date et heure de comptage</th>\n",
       "      <th>Débit horaire</th>\n",
       "      <th>Taux d'occupation</th>\n",
       "      <th>Etat trafic</th>\n",
       "      <th>Identifiant noeud amont</th>\n",
       "      <th>Libelle noeud amont</th>\n",
       "      <th>Identifiant noeud aval</th>\n",
       "      <th>Libelle noeud aval</th>\n",
       "      <th>Etat arc</th>\n",
       "      <th>Date debut dispo data</th>\n",
       "      <th>Date fin dispo data</th>\n",
       "      <th>geo_point_2d</th>\n",
       "      <th>geo_shape</th>\n",
       "      <th>filename</th>\n",
       "    </tr>\n",
       "  </thead>\n",
       "  <tbody>\n",
       "    <tr>\n",
       "      <th>89322</th>\n",
       "      <td>Convention</td>\n",
       "      <td>2020-01-21T00:00:00+01:00</td>\n",
       "      <td>549.0</td>\n",
       "      <td>8.60889</td>\n",
       "      <td>Fluide</td>\n",
       "      <td>2973</td>\n",
       "      <td>Convention-Blomet</td>\n",
       "      <td>2914</td>\n",
       "      <td>Convention-Vaugirard</td>\n",
       "      <td>Invalide</td>\n",
       "      <td>2005-01-01</td>\n",
       "      <td>2019-06-01</td>\n",
       "      <td>48.8376043025,2.29547010952</td>\n",
       "      <td>{\"type\": \"LineString\", \"coordinates\": [[2.2945...</td>\n",
       "      <td>Sts.csv</td>\n",
       "    </tr>\n",
       "    <tr>\n",
       "      <th>96299</th>\n",
       "      <td>Convention</td>\n",
       "      <td>2020-01-16T19:00:00+01:00</td>\n",
       "      <td>307.0</td>\n",
       "      <td>NaN</td>\n",
       "      <td>Inconnu</td>\n",
       "      <td>2974</td>\n",
       "      <td>Convention-Olivier_de_Serres</td>\n",
       "      <td>2914</td>\n",
       "      <td>Convention-Vaugirard</td>\n",
       "      <td>Invalide</td>\n",
       "      <td>2005-01-01</td>\n",
       "      <td>2019-06-01</td>\n",
       "      <td>48.836994466,2.29718074341</td>\n",
       "      <td>{\"type\": \"LineString\", \"coordinates\": [[2.2979...</td>\n",
       "      <td>Sts.csv</td>\n",
       "    </tr>\n",
       "    <tr>\n",
       "      <th>103674</th>\n",
       "      <td>Convention</td>\n",
       "      <td>2020-09-16T13:00:00+02:00</td>\n",
       "      <td>NaN</td>\n",
       "      <td>NaN</td>\n",
       "      <td>Inconnu</td>\n",
       "      <td>2965</td>\n",
       "      <td>Convention-Gutemberg</td>\n",
       "      <td>2387</td>\n",
       "      <td>Rond_Point_Mirabeau</td>\n",
       "      <td>Invalide</td>\n",
       "      <td>2005-01-01</td>\n",
       "      <td>2019-06-01</td>\n",
       "      <td>48.8450383443,2.27928837976</td>\n",
       "      <td>{\"type\": \"LineString\", \"coordinates\": [[2.2812...</td>\n",
       "      <td>Sts.csv</td>\n",
       "    </tr>\n",
       "    <tr>\n",
       "      <th>11757</th>\n",
       "      <td>Sts_Peres</td>\n",
       "      <td>2020-02-21T18:00:00+01:00</td>\n",
       "      <td>295.0</td>\n",
       "      <td>5.10056</td>\n",
       "      <td>Fluide</td>\n",
       "      <td>120</td>\n",
       "      <td>Bd_St_Germain-Sts_Peres</td>\n",
       "      <td>117</td>\n",
       "      <td>Sts_Peres-Grenelle</td>\n",
       "      <td>Invalide</td>\n",
       "      <td>2005-01-01</td>\n",
       "      <td>2019-06-01</td>\n",
       "      <td>48.8535840296,2.32988311847</td>\n",
       "      <td>{\"type\": \"LineString\", \"coordinates\": [[2.3304...</td>\n",
       "      <td>convention.csv</td>\n",
       "    </tr>\n",
       "    <tr>\n",
       "      <th>94145</th>\n",
       "      <td>Convention</td>\n",
       "      <td>2020-04-07T01:00:00+02:00</td>\n",
       "      <td>63.0</td>\n",
       "      <td>0.18111</td>\n",
       "      <td>Fluide</td>\n",
       "      <td>2968</td>\n",
       "      <td>Convention-Felix_Faure</td>\n",
       "      <td>2969</td>\n",
       "      <td>Convention-Croix_Nivert</td>\n",
       "      <td>Invalide</td>\n",
       "      <td>2005-01-01</td>\n",
       "      <td>2019-06-01</td>\n",
       "      <td>48.8405343369,2.28910566697</td>\n",
       "      <td>{\"type\": \"LineString\", \"coordinates\": [[2.2879...</td>\n",
       "      <td>Sts.csv</td>\n",
       "    </tr>\n",
       "  </tbody>\n",
       "</table>\n",
       "</div>"
      ],
      "text/plain": [
       "           Libelle  Date et heure de comptage  Débit horaire  \\\n",
       "89322   Convention  2020-01-21T00:00:00+01:00          549.0   \n",
       "96299   Convention  2020-01-16T19:00:00+01:00          307.0   \n",
       "103674  Convention  2020-09-16T13:00:00+02:00            NaN   \n",
       "11757    Sts_Peres  2020-02-21T18:00:00+01:00          295.0   \n",
       "94145   Convention  2020-04-07T01:00:00+02:00           63.0   \n",
       "\n",
       "        Taux d'occupation Etat trafic  Identifiant noeud amont  \\\n",
       "89322             8.60889      Fluide                     2973   \n",
       "96299                 NaN     Inconnu                     2974   \n",
       "103674                NaN     Inconnu                     2965   \n",
       "11757             5.10056      Fluide                      120   \n",
       "94145             0.18111      Fluide                     2968   \n",
       "\n",
       "                 Libelle noeud amont  Identifiant noeud aval  \\\n",
       "89322              Convention-Blomet                    2914   \n",
       "96299   Convention-Olivier_de_Serres                    2914   \n",
       "103674          Convention-Gutemberg                    2387   \n",
       "11757        Bd_St_Germain-Sts_Peres                     117   \n",
       "94145         Convention-Felix_Faure                    2969   \n",
       "\n",
       "             Libelle noeud aval  Etat arc Date debut dispo data  \\\n",
       "89322      Convention-Vaugirard  Invalide            2005-01-01   \n",
       "96299      Convention-Vaugirard  Invalide            2005-01-01   \n",
       "103674      Rond_Point_Mirabeau  Invalide            2005-01-01   \n",
       "11757        Sts_Peres-Grenelle  Invalide            2005-01-01   \n",
       "94145   Convention-Croix_Nivert  Invalide            2005-01-01   \n",
       "\n",
       "       Date fin dispo data                 geo_point_2d  \\\n",
       "89322           2019-06-01  48.8376043025,2.29547010952   \n",
       "96299           2019-06-01   48.836994466,2.29718074341   \n",
       "103674          2019-06-01  48.8450383443,2.27928837976   \n",
       "11757           2019-06-01  48.8535840296,2.32988311847   \n",
       "94145           2019-06-01  48.8405343369,2.28910566697   \n",
       "\n",
       "                                                geo_shape        filename  \n",
       "89322   {\"type\": \"LineString\", \"coordinates\": [[2.2945...         Sts.csv  \n",
       "96299   {\"type\": \"LineString\", \"coordinates\": [[2.2979...         Sts.csv  \n",
       "103674  {\"type\": \"LineString\", \"coordinates\": [[2.2812...         Sts.csv  \n",
       "11757   {\"type\": \"LineString\", \"coordinates\": [[2.3304...  convention.csv  \n",
       "94145   {\"type\": \"LineString\", \"coordinates\": [[2.2879...         Sts.csv  "
      ]
     },
     "execution_count": 5,
     "metadata": {},
     "output_type": "execute_result"
    }
   ],
   "source": [
    "df = pd.concat(\n",
    "    [pd.read_csv(os.path.join(data_path, filename), sep=';', index_col=0).assign(filename=filename) for filename in list_filenames],\n",
    "               ignore_index=True\n",
    "\n",
    ")\n",
    "\n",
    "df.sample(5)"
   ]
  },
  {
   "cell_type": "markdown",
   "metadata": {},
   "source": [
    "## Filtrage par noeud"
   ]
  },
  {
   "cell_type": "markdown",
   "metadata": {},
   "source": [
    "On peut déjà drop les identifiants des noeuds et les données liées à la géométrie car ils ne nous serviront pas pour la suite.  \n",
    "On supprimera aussi "
   ]
  },
  {
   "cell_type": "code",
   "execution_count": 6,
   "metadata": {},
   "outputs": [],
   "source": [
    "df = df.drop(columns=[\n",
    "    'Identifiant noeud amont', 'Identifiant noeud aval', 'geo_point_2d',\n",
    "    'geo_shape', 'Date debut dispo data', 'Date fin dispo data'\n",
    "])"
   ]
  },
  {
   "cell_type": "code",
   "execution_count": 7,
   "metadata": {},
   "outputs": [],
   "source": [
    "# Contient pour chaque fichier CSV un 2-tuple de la forme (noeud_amont, noeud_aval)\n",
    "dic_noeuds = {\n",
    "    'champs-elysees.csv': ('Av_Champs_Elysees-Washington', 'Av_Champs_Elysees-Berri'),\n",
    "    'convention.csv': ('Lecourbe-Convention', 'Convention-Blomet'),\n",
    "    'Sts.csv': ('Sts_Peres-Voltaire', 'Sts_Peres-Universite')\n",
    "}"
   ]
  },
  {
   "cell_type": "code",
   "execution_count": 8,
   "metadata": {
    "scrolled": true
   },
   "outputs": [
    {
     "name": "stdout",
     "output_type": "stream",
     "text": [
      "Taille du df avant filtrage: 235768\n",
      "Taille du df après filtrage: 9428\n"
     ]
    }
   ],
   "source": [
    "list_criteria = []\n",
    "for key, val in dic_noeuds.items():\n",
    "    criterion = (df['filename']==key) & (df['Libelle noeud amont']==val[0]) & (df['Libelle noeud aval']==val[1])\n",
    "    list_criteria.append(criterion)\n",
    "\n",
    "criterion_noeuds = reduce(lambda x, y: x | y, list_criteria)\n",
    "\n",
    "print(f'Taille du df avant filtrage: {len(df)}')\n",
    "df = df[criterion_noeuds]\n",
    "print(f'Taille du df après filtrage: {len(df)}')"
   ]
  },
  {
   "cell_type": "markdown",
   "metadata": {},
   "source": [
    "On peut désormais drop les libellés."
   ]
  },
  {
   "cell_type": "code",
   "execution_count": 9,
   "metadata": {},
   "outputs": [
    {
     "data": {
      "text/html": [
       "<div>\n",
       "<style scoped>\n",
       "    .dataframe tbody tr th:only-of-type {\n",
       "        vertical-align: middle;\n",
       "    }\n",
       "\n",
       "    .dataframe tbody tr th {\n",
       "        vertical-align: top;\n",
       "    }\n",
       "\n",
       "    .dataframe thead th {\n",
       "        text-align: right;\n",
       "    }\n",
       "</style>\n",
       "<table border=\"1\" class=\"dataframe\">\n",
       "  <thead>\n",
       "    <tr style=\"text-align: right;\">\n",
       "      <th></th>\n",
       "      <th>Libelle</th>\n",
       "      <th>Date et heure de comptage</th>\n",
       "      <th>Débit horaire</th>\n",
       "      <th>Taux d'occupation</th>\n",
       "      <th>Etat trafic</th>\n",
       "      <th>Etat arc</th>\n",
       "      <th>filename</th>\n",
       "    </tr>\n",
       "  </thead>\n",
       "  <tbody>\n",
       "    <tr>\n",
       "      <th>0</th>\n",
       "      <td>AV_Champs_Elysees</td>\n",
       "      <td>2020-11-02T05:00:00+01:00</td>\n",
       "      <td>144.0</td>\n",
       "      <td>2.25611</td>\n",
       "      <td>Fluide</td>\n",
       "      <td>Invalide</td>\n",
       "      <td>champs-elysees.csv</td>\n",
       "    </tr>\n",
       "    <tr>\n",
       "      <th>1</th>\n",
       "      <td>AV_Champs_Elysees</td>\n",
       "      <td>2020-11-01T23:00:00+01:00</td>\n",
       "      <td>245.0</td>\n",
       "      <td>8.11222</td>\n",
       "      <td>Fluide</td>\n",
       "      <td>Invalide</td>\n",
       "      <td>champs-elysees.csv</td>\n",
       "    </tr>\n",
       "    <tr>\n",
       "      <th>2</th>\n",
       "      <td>AV_Champs_Elysees</td>\n",
       "      <td>2020-07-01T16:00:00+02:00</td>\n",
       "      <td>1138.0</td>\n",
       "      <td>17.86611</td>\n",
       "      <td>Pré-saturé</td>\n",
       "      <td>Invalide</td>\n",
       "      <td>champs-elysees.csv</td>\n",
       "    </tr>\n",
       "    <tr>\n",
       "      <th>3</th>\n",
       "      <td>AV_Champs_Elysees</td>\n",
       "      <td>2020-07-01T22:00:00+02:00</td>\n",
       "      <td>880.0</td>\n",
       "      <td>16.03611</td>\n",
       "      <td>Pré-saturé</td>\n",
       "      <td>Invalide</td>\n",
       "      <td>champs-elysees.csv</td>\n",
       "    </tr>\n",
       "    <tr>\n",
       "      <th>4</th>\n",
       "      <td>AV_Champs_Elysees</td>\n",
       "      <td>2020-08-05T03:00:00+02:00</td>\n",
       "      <td>487.0</td>\n",
       "      <td>6.35389</td>\n",
       "      <td>Fluide</td>\n",
       "      <td>Invalide</td>\n",
       "      <td>champs-elysees.csv</td>\n",
       "    </tr>\n",
       "  </tbody>\n",
       "</table>\n",
       "</div>"
      ],
      "text/plain": [
       "             Libelle  Date et heure de comptage  Débit horaire  \\\n",
       "0  AV_Champs_Elysees  2020-11-02T05:00:00+01:00          144.0   \n",
       "1  AV_Champs_Elysees  2020-11-01T23:00:00+01:00          245.0   \n",
       "2  AV_Champs_Elysees  2020-07-01T16:00:00+02:00         1138.0   \n",
       "3  AV_Champs_Elysees  2020-07-01T22:00:00+02:00          880.0   \n",
       "4  AV_Champs_Elysees  2020-08-05T03:00:00+02:00          487.0   \n",
       "\n",
       "   Taux d'occupation Etat trafic  Etat arc            filename  \n",
       "0            2.25611      Fluide  Invalide  champs-elysees.csv  \n",
       "1            8.11222      Fluide  Invalide  champs-elysees.csv  \n",
       "2           17.86611  Pré-saturé  Invalide  champs-elysees.csv  \n",
       "3           16.03611  Pré-saturé  Invalide  champs-elysees.csv  \n",
       "4            6.35389      Fluide  Invalide  champs-elysees.csv  "
      ]
     },
     "execution_count": 9,
     "metadata": {},
     "output_type": "execute_result"
    }
   ],
   "source": [
    "df = df.drop(columns=['Libelle noeud amont', 'Libelle noeud aval'])\n",
    "df.head()"
   ]
  },
  {
   "cell_type": "markdown",
   "metadata": {},
   "source": [
    "# Nettoyage des données"
   ]
  },
  {
   "cell_type": "code",
   "execution_count": 10,
   "metadata": {},
   "outputs": [
    {
     "data": {
      "text/plain": [
       "Libelle                       object\n",
       "Date et heure de comptage     object\n",
       "Débit horaire                float64\n",
       "Taux d'occupation            float64\n",
       "Etat trafic                   object\n",
       "Etat arc                      object\n",
       "filename                      object\n",
       "dtype: object"
      ]
     },
     "execution_count": 10,
     "metadata": {},
     "output_type": "execute_result"
    }
   ],
   "source": [
    "df.dtypes"
   ]
  },
  {
   "cell_type": "markdown",
   "metadata": {},
   "source": [
    "## NaN"
   ]
  },
  {
   "cell_type": "code",
   "execution_count": 11,
   "metadata": {},
   "outputs": [
    {
     "data": {
      "text/plain": [
       "Libelle                       0\n",
       "Date et heure de comptage     0\n",
       "Débit horaire                77\n",
       "Taux d'occupation            85\n",
       "Etat trafic                   0\n",
       "Etat arc                      0\n",
       "filename                      0\n",
       "dtype: int64"
      ]
     },
     "execution_count": 11,
     "metadata": {},
     "output_type": "execute_result"
    }
   ],
   "source": [
    "df.isna().sum()"
   ]
  },
  {
   "cell_type": "code",
   "execution_count": 12,
   "metadata": {},
   "outputs": [
    {
     "data": {
      "text/plain": [
       "Libelle                      0.000000\n",
       "Date et heure de comptage    0.000000\n",
       "Débit horaire                0.008167\n",
       "Taux d'occupation            0.009016\n",
       "Etat trafic                  0.000000\n",
       "Etat arc                     0.000000\n",
       "filename                     0.000000\n",
       "dtype: float64"
      ]
     },
     "execution_count": 12,
     "metadata": {},
     "output_type": "execute_result"
    }
   ],
   "source": [
    "df.isna().mean()"
   ]
  },
  {
   "cell_type": "markdown",
   "metadata": {},
   "source": [
    "Moins de 1% des lignes ont des NaN. On peut donc drop ces lignes de manière sereine."
   ]
  },
  {
   "cell_type": "code",
   "execution_count": 13,
   "metadata": {},
   "outputs": [
    {
     "data": {
      "text/plain": [
       "Libelle                      0\n",
       "Date et heure de comptage    0\n",
       "Débit horaire                0\n",
       "Taux d'occupation            0\n",
       "Etat trafic                  0\n",
       "Etat arc                     0\n",
       "filename                     0\n",
       "dtype: int64"
      ]
     },
     "execution_count": 13,
     "metadata": {},
     "output_type": "execute_result"
    }
   ],
   "source": [
    "df = df.dropna()\n",
    "df.isna().sum()"
   ]
  },
  {
   "cell_type": "markdown",
   "metadata": {},
   "source": [
    "## Conversion en datetime64"
   ]
  },
  {
   "cell_type": "code",
   "execution_count": 14,
   "metadata": {},
   "outputs": [
    {
     "data": {
      "text/plain": [
       "0       2020-11-02T05:00:00+01:00\n",
       "1       2020-11-01T23:00:00+01:00\n",
       "2       2020-07-01T16:00:00+02:00\n",
       "3       2020-07-01T22:00:00+02:00\n",
       "4       2020-08-05T03:00:00+02:00\n",
       "                  ...            \n",
       "9423    2020-05-31T20:00:00+02:00\n",
       "9424    2020-06-01T02:00:00+02:00\n",
       "9425    2020-06-01T04:00:00+02:00\n",
       "9426    2020-06-01T01:00:00+02:00\n",
       "9427    2020-06-01T03:00:00+02:00\n",
       "Name: Date et heure de comptage, Length: 9343, dtype: object"
      ]
     },
     "execution_count": 14,
     "metadata": {},
     "output_type": "execute_result"
    }
   ],
   "source": [
    "df['Date et heure de comptage']"
   ]
  },
  {
   "cell_type": "markdown",
   "metadata": {},
   "source": [
    "‼️ Il semble y avoir un soucis de timezone pour les capteurs... ‼️  \n",
    "  \n",
    "**Hypothèse:** On ca supposer que l'heure UTC est la bonne pour la suite."
   ]
  },
  {
   "cell_type": "code",
   "execution_count": 15,
   "metadata": {},
   "outputs": [],
   "source": [
    "def remove_timezone(row):\n",
    "    return row.tz_localize(None)"
   ]
  },
  {
   "cell_type": "code",
   "execution_count": 16,
   "metadata": {
    "scrolled": true
   },
   "outputs": [
    {
     "data": {
      "text/plain": [
       "0      2020-11-02 04:00:00\n",
       "1      2020-11-01 22:00:00\n",
       "2      2020-07-01 14:00:00\n",
       "3      2020-07-01 20:00:00\n",
       "4      2020-08-05 01:00:00\n",
       "               ...        \n",
       "9423   2020-05-31 18:00:00\n",
       "9424   2020-06-01 00:00:00\n",
       "9425   2020-06-01 02:00:00\n",
       "9426   2020-05-31 23:00:00\n",
       "9427   2020-06-01 01:00:00\n",
       "Name: Date et heure de comptage, Length: 9343, dtype: datetime64[ns]"
      ]
     },
     "execution_count": 16,
     "metadata": {},
     "output_type": "execute_result"
    }
   ],
   "source": [
    "df['Date et heure de comptage'] = pd.to_datetime(df['Date et heure de comptage'], utc=True)\n",
    "df['Date et heure de comptage'] = df['Date et heure de comptage'].apply(remove_timezone)\n",
    "df['Date et heure de comptage']"
   ]
  },
  {
   "cell_type": "markdown",
   "metadata": {},
   "source": [
    "On a pour l'instant l'heure UTC. Nous allons nous replacer à l'heure de Paris pour la suite, pour des questions pratiques."
   ]
  },
  {
   "cell_type": "code",
   "execution_count": 55,
   "metadata": {},
   "outputs": [
    {
     "data": {
      "text/plain": [
       "0      2020-11-02 05:00:00\n",
       "1      2020-11-01 23:00:00\n",
       "2      2020-07-01 15:00:00\n",
       "3      2020-07-01 21:00:00\n",
       "4      2020-08-05 02:00:00\n",
       "               ...        \n",
       "9423   2020-05-31 19:00:00\n",
       "9424   2020-06-01 01:00:00\n",
       "9425   2020-06-01 03:00:00\n",
       "9426   2020-06-01 00:00:00\n",
       "9427   2020-06-01 02:00:00\n",
       "Name: Date et heure de comptage, Length: 9343, dtype: datetime64[ns]"
      ]
     },
     "execution_count": 55,
     "metadata": {},
     "output_type": "execute_result"
    }
   ],
   "source": [
    "df['Date et heure de comptage'] = df['Date et heure de comptage'] + pd.DateOffset(hours=1)\n",
    "df['Date et heure de comptage']"
   ]
  },
  {
   "cell_type": "code",
   "execution_count": 17,
   "metadata": {},
   "outputs": [
    {
     "data": {
      "text/plain": [
       "Libelle                              object\n",
       "Date et heure de comptage    datetime64[ns]\n",
       "Débit horaire                       float64\n",
       "Taux d'occupation                   float64\n",
       "Etat trafic                          object\n",
       "Etat arc                             object\n",
       "filename                             object\n",
       "dtype: object"
      ]
     },
     "execution_count": 17,
     "metadata": {},
     "output_type": "execute_result"
    }
   ],
   "source": [
    "df.dtypes"
   ]
  },
  {
   "cell_type": "code",
   "execution_count": 18,
   "metadata": {},
   "outputs": [
    {
     "name": "stdout",
     "output_type": "stream",
     "text": [
      "Première mesure de comptage prise : 01/11/2019\n",
      "Dernière mesure de comptage prise : 29/11/2020\n"
     ]
    }
   ],
   "source": [
    "date_begin = df['Date et heure de comptage'].min().strftime('%d/%m/%Y')\n",
    "date_end = df['Date et heure de comptage'].max().strftime('%d/%m/%Y')\n",
    "print(f'Première mesure de comptage prise : {date_begin}')\n",
    "print(f'Dernière mesure de comptage prise : {date_end}')"
   ]
  },
  {
   "cell_type": "markdown",
   "metadata": {},
   "source": [
    "# Analyse et visualisation (partie 1)"
   ]
  },
  {
   "cell_type": "code",
   "execution_count": 19,
   "metadata": {},
   "outputs": [
    {
     "data": {
      "text/html": [
       "<div>\n",
       "<style scoped>\n",
       "    .dataframe tbody tr th:only-of-type {\n",
       "        vertical-align: middle;\n",
       "    }\n",
       "\n",
       "    .dataframe tbody tr th {\n",
       "        vertical-align: top;\n",
       "    }\n",
       "\n",
       "    .dataframe thead th {\n",
       "        text-align: right;\n",
       "    }\n",
       "</style>\n",
       "<table border=\"1\" class=\"dataframe\">\n",
       "  <thead>\n",
       "    <tr style=\"text-align: right;\">\n",
       "      <th></th>\n",
       "      <th>Débit horaire</th>\n",
       "      <th>Taux d'occupation</th>\n",
       "    </tr>\n",
       "  </thead>\n",
       "  <tbody>\n",
       "    <tr>\n",
       "      <th>count</th>\n",
       "      <td>9343.000000</td>\n",
       "      <td>9343.000000</td>\n",
       "    </tr>\n",
       "    <tr>\n",
       "      <th>mean</th>\n",
       "      <td>708.792893</td>\n",
       "      <td>13.150319</td>\n",
       "    </tr>\n",
       "    <tr>\n",
       "      <th>std</th>\n",
       "      <td>413.836128</td>\n",
       "      <td>11.412242</td>\n",
       "    </tr>\n",
       "    <tr>\n",
       "      <th>min</th>\n",
       "      <td>0.000000</td>\n",
       "      <td>0.000000</td>\n",
       "    </tr>\n",
       "    <tr>\n",
       "      <th>25%</th>\n",
       "      <td>300.000000</td>\n",
       "      <td>3.589445</td>\n",
       "    </tr>\n",
       "    <tr>\n",
       "      <th>50%</th>\n",
       "      <td>774.000000</td>\n",
       "      <td>10.692220</td>\n",
       "    </tr>\n",
       "    <tr>\n",
       "      <th>75%</th>\n",
       "      <td>1072.000000</td>\n",
       "      <td>19.311390</td>\n",
       "    </tr>\n",
       "    <tr>\n",
       "      <th>max</th>\n",
       "      <td>1610.000000</td>\n",
       "      <td>84.668890</td>\n",
       "    </tr>\n",
       "  </tbody>\n",
       "</table>\n",
       "</div>"
      ],
      "text/plain": [
       "       Débit horaire  Taux d'occupation\n",
       "count    9343.000000        9343.000000\n",
       "mean      708.792893          13.150319\n",
       "std       413.836128          11.412242\n",
       "min         0.000000           0.000000\n",
       "25%       300.000000           3.589445\n",
       "50%       774.000000          10.692220\n",
       "75%      1072.000000          19.311390\n",
       "max      1610.000000          84.668890"
      ]
     },
     "execution_count": 19,
     "metadata": {},
     "output_type": "execute_result"
    }
   ],
   "source": [
    "df[['Débit horaire', \"Taux d'occupation\"]].describe()"
   ]
  },
  {
   "cell_type": "code",
   "execution_count": 20,
   "metadata": {},
   "outputs": [
    {
     "data": {
      "text/plain": [
       "<AxesSubplot:>"
      ]
     },
     "execution_count": 20,
     "metadata": {},
     "output_type": "execute_result"
    },
    {
     "data": {
      "image/png": "[encoded data removed]",
      "text/plain": [
       "<Figure size 432x288 with 1 Axes>"
      ]
     },
     "metadata": {
      "needs_background": "light"
     },
     "output_type": "display_data"
    }
   ],
   "source": [
    "df[['Débit horaire', \"Taux d'occupation\"]].plot()"
   ]
  },
  {
   "cell_type": "code",
   "execution_count": 21,
   "metadata": {},
   "outputs": [
    {
     "data": {
      "text/plain": [
       "<AxesSubplot:ylabel='Débit horaire'>"
      ]
     },
     "execution_count": 21,
     "metadata": {},
     "output_type": "execute_result"
    },
    {
     "data": {
      "image/png": "[encoded data removed]",
      "text/plain": [
       "<Figure size 432x288 with 1 Axes>"
      ]
     },
     "metadata": {
      "needs_background": "light"
     },
     "output_type": "display_data"
    }
   ],
   "source": [
    "sns.violinplot(y='Débit horaire', data=df)"
   ]
  },
  {
   "cell_type": "code",
   "execution_count": 22,
   "metadata": {},
   "outputs": [
    {
     "data": {
      "text/plain": [
       "<AxesSubplot:ylabel=\"Taux d'occupation\">"
      ]
     },
     "execution_count": 22,
     "metadata": {},
     "output_type": "execute_result"
    },
    {
     "data": {
      "image/png": "[encoded data removed]",
      "text/plain": [
       "<Figure size 432x288 with 1 Axes>"
      ]
     },
     "metadata": {
      "needs_background": "light"
     },
     "output_type": "display_data"
    }
   ],
   "source": [
    "sns.violinplot(y=\"Taux d'occupation\", data=df)"
   ]
  },
  {
   "cell_type": "code",
   "execution_count": 23,
   "metadata": {
    "scrolled": true
   },
   "outputs": [
    {
     "data": {
      "text/plain": [
       "<seaborn.axisgrid.FacetGrid at 0x7f92c862e350>"
      ]
     },
     "execution_count": 23,
     "metadata": {},
     "output_type": "execute_result"
    },
    {
     "data": {
      "image/png": "[encoded data removed]",
      "text/plain": [
       "<Figure size 360x360 with 1 Axes>"
      ]
     },
     "metadata": {
      "needs_background": "light"
     },
     "output_type": "display_data"
    }
   ],
   "source": [
    "sns.displot(df, x=\"Taux d'occupation\")"
   ]
  },
  {
   "cell_type": "markdown",
   "metadata": {},
   "source": [
    "# Feature engineering"
   ]
  },
  {
   "cell_type": "markdown",
   "metadata": {},
   "source": [
    "## Categorical variables"
   ]
  },
  {
   "cell_type": "markdown",
   "metadata": {},
   "source": [
    "Ajoutons un *one-hot encoding* pour les variables catégoriques. On n'oubliera cependant pas de passer à un *dummy encoding* avant d'entraîner le modèle pour éviter un problème de dimension. ‼️"
   ]
  },
  {
   "cell_type": "code",
   "execution_count": 24,
   "metadata": {
    "scrolled": true
   },
   "outputs": [
    {
     "data": {
      "text/plain": [
       "Libelle                              object\n",
       "Date et heure de comptage    datetime64[ns]\n",
       "Débit horaire                       float64\n",
       "Taux d'occupation                   float64\n",
       "Etat trafic                          object\n",
       "Etat arc                             object\n",
       "filename                             object\n",
       "dtype: object"
      ]
     },
     "execution_count": 24,
     "metadata": {},
     "output_type": "execute_result"
    }
   ],
   "source": [
    "df.dtypes"
   ]
  },
  {
   "cell_type": "markdown",
   "metadata": {},
   "source": [
    "**Ordinal encoding :**"
   ]
  },
  {
   "cell_type": "markdown",
   "metadata": {},
   "source": [
    "Il semble en réalité plus pertinent d'utiliser un *ordinal encoding* pour donner une relation d'ordre à la feature. On se servira pour cela des informations contenues dans la notice.\n",
    "<img src=\"ressources/ordinal_encoding.png\" />"
   ]
  },
  {
   "cell_type": "code",
   "execution_count": 25,
   "metadata": {},
   "outputs": [
    {
     "data": {
      "text/plain": [
       "0           Fluide\n",
       "1           Fluide\n",
       "2       Pré-saturé\n",
       "3       Pré-saturé\n",
       "4           Fluide\n",
       "           ...    \n",
       "9423    Pré-saturé\n",
       "9424        Fluide\n",
       "9425        Fluide\n",
       "9426        Fluide\n",
       "9427        Fluide\n",
       "Name: Etat trafic, Length: 9343, dtype: object"
      ]
     },
     "execution_count": 25,
     "metadata": {},
     "output_type": "execute_result"
    }
   ],
   "source": [
    " df['Etat trafic']"
   ]
  },
  {
   "cell_type": "code",
   "execution_count": 26,
   "metadata": {
    "scrolled": false
   },
   "outputs": [
    {
     "data": {
      "text/html": [
       "<div>\n",
       "<style scoped>\n",
       "    .dataframe tbody tr th:only-of-type {\n",
       "        vertical-align: middle;\n",
       "    }\n",
       "\n",
       "    .dataframe tbody tr th {\n",
       "        vertical-align: top;\n",
       "    }\n",
       "\n",
       "    .dataframe thead th {\n",
       "        text-align: right;\n",
       "    }\n",
       "</style>\n",
       "<table border=\"1\" class=\"dataframe\">\n",
       "  <thead>\n",
       "    <tr style=\"text-align: right;\">\n",
       "      <th></th>\n",
       "      <th>Libelle</th>\n",
       "      <th>Date et heure de comptage</th>\n",
       "      <th>Débit horaire</th>\n",
       "      <th>Taux d'occupation</th>\n",
       "      <th>Etat trafic</th>\n",
       "      <th>Etat arc</th>\n",
       "      <th>filename</th>\n",
       "    </tr>\n",
       "  </thead>\n",
       "  <tbody>\n",
       "    <tr>\n",
       "      <th>4588</th>\n",
       "      <td>AV_Champs_Elysees</td>\n",
       "      <td>2020-02-13 16:00:00</td>\n",
       "      <td>1181.0</td>\n",
       "      <td>28.56945</td>\n",
       "      <td>2</td>\n",
       "      <td>Invalide</td>\n",
       "      <td>champs-elysees.csv</td>\n",
       "    </tr>\n",
       "    <tr>\n",
       "      <th>4224</th>\n",
       "      <td>AV_Champs_Elysees</td>\n",
       "      <td>2020-10-17 02:00:00</td>\n",
       "      <td>100.0</td>\n",
       "      <td>1.14389</td>\n",
       "      <td>1</td>\n",
       "      <td>Invalide</td>\n",
       "      <td>champs-elysees.csv</td>\n",
       "    </tr>\n",
       "    <tr>\n",
       "      <th>8509</th>\n",
       "      <td>AV_Champs_Elysees</td>\n",
       "      <td>2020-05-27 20:00:00</td>\n",
       "      <td>908.0</td>\n",
       "      <td>14.04222</td>\n",
       "      <td>1</td>\n",
       "      <td>Invalide</td>\n",
       "      <td>champs-elysees.csv</td>\n",
       "    </tr>\n",
       "    <tr>\n",
       "      <th>3974</th>\n",
       "      <td>AV_Champs_Elysees</td>\n",
       "      <td>2020-06-19 04:00:00</td>\n",
       "      <td>280.0</td>\n",
       "      <td>6.78833</td>\n",
       "      <td>1</td>\n",
       "      <td>Invalide</td>\n",
       "      <td>champs-elysees.csv</td>\n",
       "    </tr>\n",
       "    <tr>\n",
       "      <th>768</th>\n",
       "      <td>AV_Champs_Elysees</td>\n",
       "      <td>2019-12-14 06:00:00</td>\n",
       "      <td>633.0</td>\n",
       "      <td>7.45889</td>\n",
       "      <td>1</td>\n",
       "      <td>Invalide</td>\n",
       "      <td>champs-elysees.csv</td>\n",
       "    </tr>\n",
       "  </tbody>\n",
       "</table>\n",
       "</div>"
      ],
      "text/plain": [
       "                Libelle Date et heure de comptage  Débit horaire  \\\n",
       "4588  AV_Champs_Elysees       2020-02-13 16:00:00         1181.0   \n",
       "4224  AV_Champs_Elysees       2020-10-17 02:00:00          100.0   \n",
       "8509  AV_Champs_Elysees       2020-05-27 20:00:00          908.0   \n",
       "3974  AV_Champs_Elysees       2020-06-19 04:00:00          280.0   \n",
       "768   AV_Champs_Elysees       2019-12-14 06:00:00          633.0   \n",
       "\n",
       "      Taux d'occupation  Etat trafic  Etat arc            filename  \n",
       "4588           28.56945            2  Invalide  champs-elysees.csv  \n",
       "4224            1.14389            1  Invalide  champs-elysees.csv  \n",
       "8509           14.04222            1  Invalide  champs-elysees.csv  \n",
       "3974            6.78833            1  Invalide  champs-elysees.csv  \n",
       "768             7.45889            1  Invalide  champs-elysees.csv  "
      ]
     },
     "execution_count": 26,
     "metadata": {},
     "output_type": "execute_result"
    }
   ],
   "source": [
    "# df_ordinal = df.copy(deep=True)\n",
    "mapper = {'Inconnu': 0, 'Fluide': 1, 'Pré-saturé': 2, 'Saturé': 3, 'Bloqué': 4}\n",
    "df['Etat trafic'] = df['Etat trafic'].map(mapper)\n",
    "df.sample(5)"
   ]
  },
  {
   "cell_type": "markdown",
   "metadata": {},
   "source": [
    "## Périodes de vacances"
   ]
  },
  {
   "cell_type": "code",
   "execution_count": 27,
   "metadata": {},
   "outputs": [
    {
     "data": {
      "text/plain": [
       "Timestamp('2020-12-19 00:00:00')"
      ]
     },
     "execution_count": 27,
     "metadata": {},
     "output_type": "execute_result"
    }
   ],
   "source": [
    "first_day_holiday = pd.Timestamp('2020-12-19')\n",
    "first_day_holiday"
   ]
  },
  {
   "cell_type": "code",
   "execution_count": 28,
   "metadata": {},
   "outputs": [
    {
     "data": {
      "text/plain": [
       "0       46 days 20:00:00\n",
       "1       47 days 02:00:00\n",
       "2      170 days 10:00:00\n",
       "3      170 days 04:00:00\n",
       "4      135 days 23:00:00\n",
       "              ...       \n",
       "9423   201 days 06:00:00\n",
       "9424   201 days 00:00:00\n",
       "9425   200 days 22:00:00\n",
       "9426   201 days 01:00:00\n",
       "9427   200 days 23:00:00\n",
       "Name: Date et heure de comptage, Length: 9343, dtype: timedelta64[ns]"
      ]
     },
     "execution_count": 28,
     "metadata": {},
     "output_type": "execute_result"
    }
   ],
   "source": [
    "first_day_holiday - df[\"Date et heure de comptage\"]"
   ]
  },
  {
   "cell_type": "markdown",
   "metadata": {},
   "source": [
    "## Features liées aux timestamp"
   ]
  },
  {
   "cell_type": "markdown",
   "metadata": {},
   "source": [
    "Ajout du jour (sans l'heure) :"
   ]
  },
  {
   "cell_type": "code",
   "execution_count": 29,
   "metadata": {},
   "outputs": [
    {
     "data": {
      "text/html": [
       "<div>\n",
       "<style scoped>\n",
       "    .dataframe tbody tr th:only-of-type {\n",
       "        vertical-align: middle;\n",
       "    }\n",
       "\n",
       "    .dataframe tbody tr th {\n",
       "        vertical-align: top;\n",
       "    }\n",
       "\n",
       "    .dataframe thead th {\n",
       "        text-align: right;\n",
       "    }\n",
       "</style>\n",
       "<table border=\"1\" class=\"dataframe\">\n",
       "  <thead>\n",
       "    <tr style=\"text-align: right;\">\n",
       "      <th></th>\n",
       "      <th>Libelle</th>\n",
       "      <th>Date et heure de comptage</th>\n",
       "      <th>Débit horaire</th>\n",
       "      <th>Taux d'occupation</th>\n",
       "      <th>Etat trafic</th>\n",
       "      <th>Etat arc</th>\n",
       "      <th>filename</th>\n",
       "      <th>Date</th>\n",
       "    </tr>\n",
       "  </thead>\n",
       "  <tbody>\n",
       "    <tr>\n",
       "      <th>9086</th>\n",
       "      <td>AV_Champs_Elysees</td>\n",
       "      <td>2020-01-30 19:00:00</td>\n",
       "      <td>1206.0</td>\n",
       "      <td>23.26389</td>\n",
       "      <td>2</td>\n",
       "      <td>Invalide</td>\n",
       "      <td>champs-elysees.csv</td>\n",
       "      <td>2020-01-30</td>\n",
       "    </tr>\n",
       "    <tr>\n",
       "      <th>2334</th>\n",
       "      <td>AV_Champs_Elysees</td>\n",
       "      <td>2020-01-18 06:00:00</td>\n",
       "      <td>528.0</td>\n",
       "      <td>6.77222</td>\n",
       "      <td>1</td>\n",
       "      <td>Invalide</td>\n",
       "      <td>champs-elysees.csv</td>\n",
       "      <td>2020-01-18</td>\n",
       "    </tr>\n",
       "    <tr>\n",
       "      <th>1415</th>\n",
       "      <td>AV_Champs_Elysees</td>\n",
       "      <td>2020-02-20 04:00:00</td>\n",
       "      <td>224.0</td>\n",
       "      <td>2.59056</td>\n",
       "      <td>1</td>\n",
       "      <td>Invalide</td>\n",
       "      <td>champs-elysees.csv</td>\n",
       "      <td>2020-02-20</td>\n",
       "    </tr>\n",
       "    <tr>\n",
       "      <th>2927</th>\n",
       "      <td>AV_Champs_Elysees</td>\n",
       "      <td>2020-03-06 16:00:00</td>\n",
       "      <td>1147.0</td>\n",
       "      <td>24.60667</td>\n",
       "      <td>2</td>\n",
       "      <td>Invalide</td>\n",
       "      <td>champs-elysees.csv</td>\n",
       "      <td>2020-03-06</td>\n",
       "    </tr>\n",
       "    <tr>\n",
       "      <th>5407</th>\n",
       "      <td>AV_Champs_Elysees</td>\n",
       "      <td>2020-05-08 11:00:00</td>\n",
       "      <td>253.0</td>\n",
       "      <td>3.62667</td>\n",
       "      <td>1</td>\n",
       "      <td>Invalide</td>\n",
       "      <td>champs-elysees.csv</td>\n",
       "      <td>2020-05-08</td>\n",
       "    </tr>\n",
       "  </tbody>\n",
       "</table>\n",
       "</div>"
      ],
      "text/plain": [
       "                Libelle Date et heure de comptage  Débit horaire  \\\n",
       "9086  AV_Champs_Elysees       2020-01-30 19:00:00         1206.0   \n",
       "2334  AV_Champs_Elysees       2020-01-18 06:00:00          528.0   \n",
       "1415  AV_Champs_Elysees       2020-02-20 04:00:00          224.0   \n",
       "2927  AV_Champs_Elysees       2020-03-06 16:00:00         1147.0   \n",
       "5407  AV_Champs_Elysees       2020-05-08 11:00:00          253.0   \n",
       "\n",
       "      Taux d'occupation  Etat trafic  Etat arc            filename        Date  \n",
       "9086           23.26389            2  Invalide  champs-elysees.csv  2020-01-30  \n",
       "2334            6.77222            1  Invalide  champs-elysees.csv  2020-01-18  \n",
       "1415            2.59056            1  Invalide  champs-elysees.csv  2020-02-20  \n",
       "2927           24.60667            2  Invalide  champs-elysees.csv  2020-03-06  \n",
       "5407            3.62667            1  Invalide  champs-elysees.csv  2020-05-08  "
      ]
     },
     "execution_count": 29,
     "metadata": {},
     "output_type": "execute_result"
    }
   ],
   "source": [
    "df['Date'] = pd.to_datetime(df[\"Date et heure de comptage\"]).dt.date\n",
    "df.sample(5)"
   ]
  },
  {
   "cell_type": "markdown",
   "metadata": {},
   "source": [
    "Ajout du jour de la semaine:"
   ]
  },
  {
   "cell_type": "code",
   "execution_count": 30,
   "metadata": {},
   "outputs": [
    {
     "data": {
      "text/html": [
       "<div>\n",
       "<style scoped>\n",
       "    .dataframe tbody tr th:only-of-type {\n",
       "        vertical-align: middle;\n",
       "    }\n",
       "\n",
       "    .dataframe tbody tr th {\n",
       "        vertical-align: top;\n",
       "    }\n",
       "\n",
       "    .dataframe thead th {\n",
       "        text-align: right;\n",
       "    }\n",
       "</style>\n",
       "<table border=\"1\" class=\"dataframe\">\n",
       "  <thead>\n",
       "    <tr style=\"text-align: right;\">\n",
       "      <th></th>\n",
       "      <th>Libelle</th>\n",
       "      <th>Date et heure de comptage</th>\n",
       "      <th>Débit horaire</th>\n",
       "      <th>Taux d'occupation</th>\n",
       "      <th>Etat trafic</th>\n",
       "      <th>Etat arc</th>\n",
       "      <th>filename</th>\n",
       "      <th>Date</th>\n",
       "      <th>Jour de la semaine</th>\n",
       "    </tr>\n",
       "  </thead>\n",
       "  <tbody>\n",
       "    <tr>\n",
       "      <th>9180</th>\n",
       "      <td>AV_Champs_Elysees</td>\n",
       "      <td>2020-05-03 23:00:00</td>\n",
       "      <td>58.0</td>\n",
       "      <td>0.75222</td>\n",
       "      <td>1</td>\n",
       "      <td>Invalide</td>\n",
       "      <td>champs-elysees.csv</td>\n",
       "      <td>2020-05-03</td>\n",
       "      <td>6</td>\n",
       "    </tr>\n",
       "    <tr>\n",
       "      <th>8843</th>\n",
       "      <td>AV_Champs_Elysees</td>\n",
       "      <td>2019-11-28 02:00:00</td>\n",
       "      <td>424.0</td>\n",
       "      <td>5.92278</td>\n",
       "      <td>1</td>\n",
       "      <td>Invalide</td>\n",
       "      <td>champs-elysees.csv</td>\n",
       "      <td>2019-11-28</td>\n",
       "      <td>3</td>\n",
       "    </tr>\n",
       "    <tr>\n",
       "      <th>6022</th>\n",
       "      <td>AV_Champs_Elysees</td>\n",
       "      <td>2020-04-16 16:00:00</td>\n",
       "      <td>214.0</td>\n",
       "      <td>1.86611</td>\n",
       "      <td>1</td>\n",
       "      <td>Invalide</td>\n",
       "      <td>champs-elysees.csv</td>\n",
       "      <td>2020-04-16</td>\n",
       "      <td>3</td>\n",
       "    </tr>\n",
       "    <tr>\n",
       "      <th>2124</th>\n",
       "      <td>AV_Champs_Elysees</td>\n",
       "      <td>2020-07-13 16:00:00</td>\n",
       "      <td>892.0</td>\n",
       "      <td>15.89278</td>\n",
       "      <td>2</td>\n",
       "      <td>Invalide</td>\n",
       "      <td>champs-elysees.csv</td>\n",
       "      <td>2020-07-13</td>\n",
       "      <td>0</td>\n",
       "    </tr>\n",
       "    <tr>\n",
       "      <th>7221</th>\n",
       "      <td>AV_Champs_Elysees</td>\n",
       "      <td>2020-04-19 20:00:00</td>\n",
       "      <td>94.0</td>\n",
       "      <td>0.93555</td>\n",
       "      <td>1</td>\n",
       "      <td>Invalide</td>\n",
       "      <td>champs-elysees.csv</td>\n",
       "      <td>2020-04-19</td>\n",
       "      <td>6</td>\n",
       "    </tr>\n",
       "  </tbody>\n",
       "</table>\n",
       "</div>"
      ],
      "text/plain": [
       "                Libelle Date et heure de comptage  Débit horaire  \\\n",
       "9180  AV_Champs_Elysees       2020-05-03 23:00:00           58.0   \n",
       "8843  AV_Champs_Elysees       2019-11-28 02:00:00          424.0   \n",
       "6022  AV_Champs_Elysees       2020-04-16 16:00:00          214.0   \n",
       "2124  AV_Champs_Elysees       2020-07-13 16:00:00          892.0   \n",
       "7221  AV_Champs_Elysees       2020-04-19 20:00:00           94.0   \n",
       "\n",
       "      Taux d'occupation  Etat trafic  Etat arc            filename  \\\n",
       "9180            0.75222            1  Invalide  champs-elysees.csv   \n",
       "8843            5.92278            1  Invalide  champs-elysees.csv   \n",
       "6022            1.86611            1  Invalide  champs-elysees.csv   \n",
       "2124           15.89278            2  Invalide  champs-elysees.csv   \n",
       "7221            0.93555            1  Invalide  champs-elysees.csv   \n",
       "\n",
       "            Date  Jour de la semaine  \n",
       "9180  2020-05-03                   6  \n",
       "8843  2019-11-28                   3  \n",
       "6022  2020-04-16                   3  \n",
       "2124  2020-07-13                   0  \n",
       "7221  2020-04-19                   6  "
      ]
     },
     "execution_count": 30,
     "metadata": {},
     "output_type": "execute_result"
    }
   ],
   "source": [
    "df['Jour de la semaine'] = pd.to_datetime(df[\"Date et heure de comptage\"]).dt.dayofweek\n",
    "df.sample(5)"
   ]
  },
  {
   "cell_type": "markdown",
   "metadata": {},
   "source": [
    "## Confinement"
   ]
  },
  {
   "cell_type": "markdown",
   "metadata": {},
   "source": [
    "D'après Wikipedia:\n",
    ">L'interdiction de déplacement en France, vulgarisée dans les médias par l'expression « confinement de la population » ou « confinement national », est une mesure sanitaire mise en place pour la première fois du 17 mars à 12 h au 11 mai 2020 (55 jours, soit 1 mois et 25 jours), et une deuxième fois à partir du 30 octobre 2020 au 15 décembre 2020 (soit 1 mois et 18 jours), s'insère dans un ensemble de politiques de restrictions de contacts humains et de déplacements en réponse à la pandémie de Covid-19 en France."
   ]
  },
  {
   "cell_type": "markdown",
   "metadata": {},
   "source": [
    "L'objectif est de donner une valeur qui traduit l'intensité du confinement.  \n",
    "  \n",
    "Nous allons donc créer une feature `Etat du confinement` qui traduira l'intensité de ce dernier. Elle prendra les valeurs suivantes :\n",
    "- 0 -> période avant le 1er confinement\n",
    "- 1 -> pas de confinement mais avec expérience du 1er confinement et mesures d'hygiènes renforcées\n",
    "- 2 -> confinement assoupli (rouverture des commerces non-essentiels notamment)\n",
    "- 3 -> confinement total."
   ]
  },
  {
   "cell_type": "code",
   "execution_count": 44,
   "metadata": {},
   "outputs": [],
   "source": [
    "confinement_1 = pd.date_range(start='3/17/2020', end='5/11/2020')\n",
    "confinement_2 = pd.date_range(start='10/30/2020', end='11/28/2020')\n",
    "confinement_2_assoupli = pd.date_range(start='11/28/2020', end='12/15/2020')"
   ]
  },
  {
   "cell_type": "code",
   "execution_count": 45,
   "metadata": {
    "scrolled": true
   },
   "outputs": [
    {
     "data": {
      "text/html": [
       "<div>\n",
       "<style scoped>\n",
       "    .dataframe tbody tr th:only-of-type {\n",
       "        vertical-align: middle;\n",
       "    }\n",
       "\n",
       "    .dataframe tbody tr th {\n",
       "        vertical-align: top;\n",
       "    }\n",
       "\n",
       "    .dataframe thead th {\n",
       "        text-align: right;\n",
       "    }\n",
       "</style>\n",
       "<table border=\"1\" class=\"dataframe\">\n",
       "  <thead>\n",
       "    <tr style=\"text-align: right;\">\n",
       "      <th></th>\n",
       "      <th>Libelle</th>\n",
       "      <th>Date et heure de comptage</th>\n",
       "      <th>Débit horaire</th>\n",
       "      <th>Taux d'occupation</th>\n",
       "      <th>Etat trafic</th>\n",
       "      <th>Etat arc</th>\n",
       "      <th>filename</th>\n",
       "      <th>Date</th>\n",
       "      <th>Jour de la semaine</th>\n",
       "      <th>Etat du confinement</th>\n",
       "      <th>Couvre-feu</th>\n",
       "      <th>Jour férié</th>\n",
       "    </tr>\n",
       "  </thead>\n",
       "  <tbody>\n",
       "    <tr>\n",
       "      <th>8178</th>\n",
       "      <td>AV_Champs_Elysees</td>\n",
       "      <td>2020-01-22 12:00:00</td>\n",
       "      <td>1398.0</td>\n",
       "      <td>34.62111</td>\n",
       "      <td>3</td>\n",
       "      <td>Invalide</td>\n",
       "      <td>champs-elysees.csv</td>\n",
       "      <td>2020-01-22</td>\n",
       "      <td>2</td>\n",
       "      <td>0</td>\n",
       "      <td>False</td>\n",
       "      <td>False</td>\n",
       "    </tr>\n",
       "    <tr>\n",
       "      <th>3833</th>\n",
       "      <td>AV_Champs_Elysees</td>\n",
       "      <td>2020-04-01 08:00:00</td>\n",
       "      <td>307.0</td>\n",
       "      <td>2.75722</td>\n",
       "      <td>1</td>\n",
       "      <td>Invalide</td>\n",
       "      <td>champs-elysees.csv</td>\n",
       "      <td>2020-04-01</td>\n",
       "      <td>2</td>\n",
       "      <td>3</td>\n",
       "      <td>False</td>\n",
       "      <td>False</td>\n",
       "    </tr>\n",
       "    <tr>\n",
       "      <th>6048</th>\n",
       "      <td>AV_Champs_Elysees</td>\n",
       "      <td>2020-04-18 23:00:00</td>\n",
       "      <td>34.0</td>\n",
       "      <td>0.38611</td>\n",
       "      <td>1</td>\n",
       "      <td>Invalide</td>\n",
       "      <td>champs-elysees.csv</td>\n",
       "      <td>2020-04-18</td>\n",
       "      <td>5</td>\n",
       "      <td>3</td>\n",
       "      <td>False</td>\n",
       "      <td>False</td>\n",
       "    </tr>\n",
       "    <tr>\n",
       "      <th>814</th>\n",
       "      <td>AV_Champs_Elysees</td>\n",
       "      <td>2020-01-10 18:00:00</td>\n",
       "      <td>1359.0</td>\n",
       "      <td>29.03000</td>\n",
       "      <td>2</td>\n",
       "      <td>Invalide</td>\n",
       "      <td>champs-elysees.csv</td>\n",
       "      <td>2020-01-10</td>\n",
       "      <td>4</td>\n",
       "      <td>0</td>\n",
       "      <td>False</td>\n",
       "      <td>False</td>\n",
       "    </tr>\n",
       "    <tr>\n",
       "      <th>7180</th>\n",
       "      <td>AV_Champs_Elysees</td>\n",
       "      <td>2020-04-16 05:00:00</td>\n",
       "      <td>141.0</td>\n",
       "      <td>1.43445</td>\n",
       "      <td>1</td>\n",
       "      <td>Invalide</td>\n",
       "      <td>champs-elysees.csv</td>\n",
       "      <td>2020-04-16</td>\n",
       "      <td>3</td>\n",
       "      <td>3</td>\n",
       "      <td>False</td>\n",
       "      <td>False</td>\n",
       "    </tr>\n",
       "  </tbody>\n",
       "</table>\n",
       "</div>"
      ],
      "text/plain": [
       "                Libelle Date et heure de comptage  Débit horaire  \\\n",
       "8178  AV_Champs_Elysees       2020-01-22 12:00:00         1398.0   \n",
       "3833  AV_Champs_Elysees       2020-04-01 08:00:00          307.0   \n",
       "6048  AV_Champs_Elysees       2020-04-18 23:00:00           34.0   \n",
       "814   AV_Champs_Elysees       2020-01-10 18:00:00         1359.0   \n",
       "7180  AV_Champs_Elysees       2020-04-16 05:00:00          141.0   \n",
       "\n",
       "      Taux d'occupation  Etat trafic  Etat arc            filename  \\\n",
       "8178           34.62111            3  Invalide  champs-elysees.csv   \n",
       "3833            2.75722            1  Invalide  champs-elysees.csv   \n",
       "6048            0.38611            1  Invalide  champs-elysees.csv   \n",
       "814            29.03000            2  Invalide  champs-elysees.csv   \n",
       "7180            1.43445            1  Invalide  champs-elysees.csv   \n",
       "\n",
       "            Date  Jour de la semaine  Etat du confinement  Couvre-feu  \\\n",
       "8178  2020-01-22                   2                    0       False   \n",
       "3833  2020-04-01                   2                    3       False   \n",
       "6048  2020-04-18                   5                    3       False   \n",
       "814   2020-01-10                   4                    0       False   \n",
       "7180  2020-04-16                   3                    3       False   \n",
       "\n",
       "      Jour férié  \n",
       "8178       False  \n",
       "3833       False  \n",
       "6048       False  \n",
       "814        False  \n",
       "7180       False  "
      ]
     },
     "execution_count": 45,
     "metadata": {},
     "output_type": "execute_result"
    }
   ],
   "source": [
    "# create a list of our conditions\n",
    "conditions = [\n",
    "    (df[\"Date et heure de comptage\"] < confinement_1[0]), # 0\n",
    "    (confinement_1[0] <= df[\"Date et heure de comptage\"]) & (df[\"Date et heure de comptage\"] < confinement_1[-1]), # 3\n",
    "    (confinement_1[-1] <= df[\"Date et heure de comptage\"]) & (df[\"Date et heure de comptage\"] < confinement_2[0]), # 1\n",
    "    (confinement_2[0] <= df[\"Date et heure de comptage\"]) & (df[\"Date et heure de comptage\"] < confinement_2[-1]), # 3\n",
    "    (confinement_2_assoupli[0] <= df[\"Date et heure de comptage\"]) & (df[\"Date et heure de comptage\"] < confinement_2_assoupli[-1]), # 2\n",
    "    (confinement_2_assoupli[-1] <= df[\"Date et heure de comptage\"]) # 1\n",
    "    ]\n",
    "\n",
    "# create a list of the values we want to assign for each condition\n",
    "values = [0, 3, 1, 3, 2, 1]\n",
    "\n",
    "# create a new column and use np.select to assign values to it using our lists as arguments\n",
    "df['Etat du confinement'] = np.select(conditions, values)\n",
    "df.sample(5)"
   ]
  },
  {
   "cell_type": "code",
   "execution_count": 46,
   "metadata": {
    "scrolled": true
   },
   "outputs": [
    {
     "data": {
      "text/plain": [
       "1    4070\n",
       "0    3217\n",
       "3    2008\n",
       "2      48\n",
       "Name: Etat du confinement, dtype: int64"
      ]
     },
     "execution_count": 46,
     "metadata": {},
     "output_type": "execute_result"
    }
   ],
   "source": [
    "df['Etat du confinement'].value_counts()"
   ]
  },
  {
   "cell_type": "markdown",
   "metadata": {},
   "source": [
    "## Couvre-feu"
   ]
  },
  {
   "cell_type": "code",
   "execution_count": 47,
   "metadata": {},
   "outputs": [
    {
     "data": {
      "text/plain": [
       "Timestamp('2020-10-17 00:00:00')"
      ]
     },
     "execution_count": 47,
     "metadata": {},
     "output_type": "execute_result"
    }
   ],
   "source": [
    "couvre_feu_start = pd.Timestamp('10/17/2020')\n",
    "couvre_feu_start"
   ]
  },
  {
   "cell_type": "code",
   "execution_count": 48,
   "metadata": {},
   "outputs": [
    {
     "data": {
      "text/html": [
       "<div>\n",
       "<style scoped>\n",
       "    .dataframe tbody tr th:only-of-type {\n",
       "        vertical-align: middle;\n",
       "    }\n",
       "\n",
       "    .dataframe tbody tr th {\n",
       "        vertical-align: top;\n",
       "    }\n",
       "\n",
       "    .dataframe thead th {\n",
       "        text-align: right;\n",
       "    }\n",
       "</style>\n",
       "<table border=\"1\" class=\"dataframe\">\n",
       "  <thead>\n",
       "    <tr style=\"text-align: right;\">\n",
       "      <th></th>\n",
       "      <th>Libelle</th>\n",
       "      <th>Date et heure de comptage</th>\n",
       "      <th>Débit horaire</th>\n",
       "      <th>Taux d'occupation</th>\n",
       "      <th>Etat trafic</th>\n",
       "      <th>Etat arc</th>\n",
       "      <th>filename</th>\n",
       "      <th>Date</th>\n",
       "      <th>Jour de la semaine</th>\n",
       "      <th>Etat du confinement</th>\n",
       "      <th>Couvre-feu</th>\n",
       "      <th>Jour férié</th>\n",
       "    </tr>\n",
       "  </thead>\n",
       "  <tbody>\n",
       "    <tr>\n",
       "      <th>2861</th>\n",
       "      <td>AV_Champs_Elysees</td>\n",
       "      <td>2020-03-01 10:00:00</td>\n",
       "      <td>348.0</td>\n",
       "      <td>5.38389</td>\n",
       "      <td>1</td>\n",
       "      <td>Invalide</td>\n",
       "      <td>champs-elysees.csv</td>\n",
       "      <td>2020-03-01</td>\n",
       "      <td>6</td>\n",
       "      <td>0</td>\n",
       "      <td>False</td>\n",
       "      <td>False</td>\n",
       "    </tr>\n",
       "    <tr>\n",
       "      <th>7357</th>\n",
       "      <td>AV_Champs_Elysees</td>\n",
       "      <td>2020-10-27 09:00:00</td>\n",
       "      <td>1401.0</td>\n",
       "      <td>17.18667</td>\n",
       "      <td>2</td>\n",
       "      <td>Invalide</td>\n",
       "      <td>champs-elysees.csv</td>\n",
       "      <td>2020-10-27</td>\n",
       "      <td>1</td>\n",
       "      <td>1</td>\n",
       "      <td>True</td>\n",
       "      <td>False</td>\n",
       "    </tr>\n",
       "    <tr>\n",
       "      <th>2410</th>\n",
       "      <td>AV_Champs_Elysees</td>\n",
       "      <td>2020-01-21 03:00:00</td>\n",
       "      <td>197.0</td>\n",
       "      <td>2.38945</td>\n",
       "      <td>1</td>\n",
       "      <td>Invalide</td>\n",
       "      <td>champs-elysees.csv</td>\n",
       "      <td>2020-01-21</td>\n",
       "      <td>1</td>\n",
       "      <td>0</td>\n",
       "      <td>False</td>\n",
       "      <td>False</td>\n",
       "    </tr>\n",
       "    <tr>\n",
       "      <th>7925</th>\n",
       "      <td>AV_Champs_Elysees</td>\n",
       "      <td>2020-04-26 16:00:00</td>\n",
       "      <td>149.0</td>\n",
       "      <td>1.95333</td>\n",
       "      <td>1</td>\n",
       "      <td>Invalide</td>\n",
       "      <td>champs-elysees.csv</td>\n",
       "      <td>2020-04-26</td>\n",
       "      <td>6</td>\n",
       "      <td>3</td>\n",
       "      <td>False</td>\n",
       "      <td>False</td>\n",
       "    </tr>\n",
       "    <tr>\n",
       "      <th>2988</th>\n",
       "      <td>AV_Champs_Elysees</td>\n",
       "      <td>2020-03-04 21:00:00</td>\n",
       "      <td>743.0</td>\n",
       "      <td>11.83556</td>\n",
       "      <td>1</td>\n",
       "      <td>Invalide</td>\n",
       "      <td>champs-elysees.csv</td>\n",
       "      <td>2020-03-04</td>\n",
       "      <td>2</td>\n",
       "      <td>0</td>\n",
       "      <td>False</td>\n",
       "      <td>False</td>\n",
       "    </tr>\n",
       "  </tbody>\n",
       "</table>\n",
       "</div>"
      ],
      "text/plain": [
       "                Libelle Date et heure de comptage  Débit horaire  \\\n",
       "2861  AV_Champs_Elysees       2020-03-01 10:00:00          348.0   \n",
       "7357  AV_Champs_Elysees       2020-10-27 09:00:00         1401.0   \n",
       "2410  AV_Champs_Elysees       2020-01-21 03:00:00          197.0   \n",
       "7925  AV_Champs_Elysees       2020-04-26 16:00:00          149.0   \n",
       "2988  AV_Champs_Elysees       2020-03-04 21:00:00          743.0   \n",
       "\n",
       "      Taux d'occupation  Etat trafic  Etat arc            filename  \\\n",
       "2861            5.38389            1  Invalide  champs-elysees.csv   \n",
       "7357           17.18667            2  Invalide  champs-elysees.csv   \n",
       "2410            2.38945            1  Invalide  champs-elysees.csv   \n",
       "7925            1.95333            1  Invalide  champs-elysees.csv   \n",
       "2988           11.83556            1  Invalide  champs-elysees.csv   \n",
       "\n",
       "            Date  Jour de la semaine  Etat du confinement  Couvre-feu  \\\n",
       "2861  2020-03-01                   6                    0       False   \n",
       "7357  2020-10-27                   1                    1        True   \n",
       "2410  2020-01-21                   1                    0       False   \n",
       "7925  2020-04-26                   6                    3       False   \n",
       "2988  2020-03-04                   2                    0       False   \n",
       "\n",
       "      Jour férié  \n",
       "2861       False  \n",
       "7357       False  \n",
       "2410       False  \n",
       "7925       False  \n",
       "2988       False  "
      ]
     },
     "execution_count": 48,
     "metadata": {},
     "output_type": "execute_result"
    }
   ],
   "source": [
    "df['Couvre-feu'] = (couvre_feu_start <= df['Date'])\n",
    "df.sample(5)"
   ]
  },
  {
   "cell_type": "markdown",
   "metadata": {},
   "source": [
    "## Jours fériés"
   ]
  },
  {
   "cell_type": "markdown",
   "metadata": {},
   "source": [
    "Le CSV a été obtenu via le lien suivant :  \n",
    "- https://www.data.gouv.fr/en/datasets/jours-feries-en-france/"
   ]
  },
  {
   "cell_type": "code",
   "execution_count": 49,
   "metadata": {},
   "outputs": [
    {
     "data": {
      "text/html": [
       "<div>\n",
       "<style scoped>\n",
       "    .dataframe tbody tr th:only-of-type {\n",
       "        vertical-align: middle;\n",
       "    }\n",
       "\n",
       "    .dataframe tbody tr th {\n",
       "        vertical-align: top;\n",
       "    }\n",
       "\n",
       "    .dataframe thead th {\n",
       "        text-align: right;\n",
       "    }\n",
       "</style>\n",
       "<table border=\"1\" class=\"dataframe\">\n",
       "  <thead>\n",
       "    <tr style=\"text-align: right;\">\n",
       "      <th></th>\n",
       "      <th>date</th>\n",
       "      <th>annee</th>\n",
       "      <th>zone</th>\n",
       "      <th>nom_jour_ferie</th>\n",
       "    </tr>\n",
       "  </thead>\n",
       "  <tbody>\n",
       "    <tr>\n",
       "      <th>0</th>\n",
       "      <td>2000-01-01</td>\n",
       "      <td>2000</td>\n",
       "      <td>Métropole</td>\n",
       "      <td>1er janvier</td>\n",
       "    </tr>\n",
       "    <tr>\n",
       "      <th>1</th>\n",
       "      <td>2000-04-24</td>\n",
       "      <td>2000</td>\n",
       "      <td>Métropole</td>\n",
       "      <td>Lundi de Pâques</td>\n",
       "    </tr>\n",
       "    <tr>\n",
       "      <th>2</th>\n",
       "      <td>2000-05-01</td>\n",
       "      <td>2000</td>\n",
       "      <td>Métropole</td>\n",
       "      <td>1er mai</td>\n",
       "    </tr>\n",
       "    <tr>\n",
       "      <th>3</th>\n",
       "      <td>2000-05-08</td>\n",
       "      <td>2000</td>\n",
       "      <td>Métropole</td>\n",
       "      <td>8 mai</td>\n",
       "    </tr>\n",
       "    <tr>\n",
       "      <th>4</th>\n",
       "      <td>2000-06-01</td>\n",
       "      <td>2000</td>\n",
       "      <td>Métropole</td>\n",
       "      <td>Ascension</td>\n",
       "    </tr>\n",
       "  </tbody>\n",
       "</table>\n",
       "</div>"
      ],
      "text/plain": [
       "         date  annee       zone   nom_jour_ferie\n",
       "0  2000-01-01   2000  Métropole      1er janvier\n",
       "1  2000-04-24   2000  Métropole  Lundi de Pâques\n",
       "2  2000-05-01   2000  Métropole          1er mai\n",
       "3  2000-05-08   2000  Métropole            8 mai\n",
       "4  2000-06-01   2000  Métropole        Ascension"
      ]
     },
     "execution_count": 49,
     "metadata": {},
     "output_type": "execute_result"
    }
   ],
   "source": [
    "df_feries = pd.read_csv('data/jours_feries_metropole.csv')\n",
    "df_feries.head()"
   ]
  },
  {
   "cell_type": "code",
   "execution_count": 50,
   "metadata": {},
   "outputs": [
    {
     "data": {
      "text/html": [
       "<div>\n",
       "<style scoped>\n",
       "    .dataframe tbody tr th:only-of-type {\n",
       "        vertical-align: middle;\n",
       "    }\n",
       "\n",
       "    .dataframe tbody tr th {\n",
       "        vertical-align: top;\n",
       "    }\n",
       "\n",
       "    .dataframe thead th {\n",
       "        text-align: right;\n",
       "    }\n",
       "</style>\n",
       "<table border=\"1\" class=\"dataframe\">\n",
       "  <thead>\n",
       "    <tr style=\"text-align: right;\">\n",
       "      <th></th>\n",
       "      <th>date</th>\n",
       "      <th>annee</th>\n",
       "      <th>zone</th>\n",
       "      <th>nom_jour_ferie</th>\n",
       "    </tr>\n",
       "  </thead>\n",
       "  <tbody>\n",
       "    <tr>\n",
       "      <th>215</th>\n",
       "      <td>2019-07-14</td>\n",
       "      <td>2019</td>\n",
       "      <td>Métropole</td>\n",
       "      <td>14 juillet</td>\n",
       "    </tr>\n",
       "    <tr>\n",
       "      <th>226</th>\n",
       "      <td>2020-07-14</td>\n",
       "      <td>2020</td>\n",
       "      <td>Métropole</td>\n",
       "      <td>14 juillet</td>\n",
       "    </tr>\n",
       "    <tr>\n",
       "      <th>216</th>\n",
       "      <td>2019-08-15</td>\n",
       "      <td>2019</td>\n",
       "      <td>Métropole</td>\n",
       "      <td>Assomption</td>\n",
       "    </tr>\n",
       "    <tr>\n",
       "      <th>221</th>\n",
       "      <td>2020-04-13</td>\n",
       "      <td>2020</td>\n",
       "      <td>Métropole</td>\n",
       "      <td>Lundi de Pâques</td>\n",
       "    </tr>\n",
       "    <tr>\n",
       "      <th>210</th>\n",
       "      <td>2019-04-22</td>\n",
       "      <td>2019</td>\n",
       "      <td>Métropole</td>\n",
       "      <td>Lundi de Pâques</td>\n",
       "    </tr>\n",
       "  </tbody>\n",
       "</table>\n",
       "</div>"
      ],
      "text/plain": [
       "           date  annee       zone   nom_jour_ferie\n",
       "215  2019-07-14   2019  Métropole       14 juillet\n",
       "226  2020-07-14   2020  Métropole       14 juillet\n",
       "216  2019-08-15   2019  Métropole       Assomption\n",
       "221  2020-04-13   2020  Métropole  Lundi de Pâques\n",
       "210  2019-04-22   2019  Métropole  Lundi de Pâques"
      ]
     },
     "execution_count": 50,
     "metadata": {},
     "output_type": "execute_result"
    }
   ],
   "source": [
    "# On ne garde que les lignes relatives à 2019 ou 2020\n",
    "df_feries = df_feries[df_feries['annee'].isin(['2019', '2020'])]\n",
    "df_feries.sample(5)"
   ]
  },
  {
   "cell_type": "code",
   "execution_count": 51,
   "metadata": {
    "scrolled": true
   },
   "outputs": [],
   "source": [
    "def get_date(row):\n",
    "    return row.date()\n",
    "\n",
    "df_feries['date'] = pd.to_datetime(df_feries['date']).apply(get_date)\n",
    "series_feries = df_feries['date']"
   ]
  },
  {
   "cell_type": "code",
   "execution_count": 52,
   "metadata": {},
   "outputs": [
    {
     "data": {
      "text/plain": [
       "False    9035\n",
       "True      308\n",
       "Name: Jour férié, dtype: int64"
      ]
     },
     "execution_count": 52,
     "metadata": {},
     "output_type": "execute_result"
    }
   ],
   "source": [
    "df['Jour férié'] = df['Date'].isin(series_feries)\n",
    "df['Jour férié'].value_counts()"
   ]
  },
  {
   "cell_type": "markdown",
   "metadata": {},
   "source": [
    "## Vacances scolaires"
   ]
  },
  {
   "cell_type": "code",
   "execution_count": 104,
   "metadata": {
    "scrolled": true
   },
   "outputs": [
    {
     "data": {
      "text/html": [
       "<div>\n",
       "<style scoped>\n",
       "    .dataframe tbody tr th:only-of-type {\n",
       "        vertical-align: middle;\n",
       "    }\n",
       "\n",
       "    .dataframe tbody tr th {\n",
       "        vertical-align: top;\n",
       "    }\n",
       "\n",
       "    .dataframe thead th {\n",
       "        text-align: right;\n",
       "    }\n",
       "</style>\n",
       "<table border=\"1\" class=\"dataframe\">\n",
       "  <thead>\n",
       "    <tr style=\"text-align: right;\">\n",
       "      <th></th>\n",
       "      <th>description</th>\n",
       "      <th>population</th>\n",
       "      <th>start_date</th>\n",
       "      <th>end_date</th>\n",
       "      <th>location</th>\n",
       "      <th>zones</th>\n",
       "      <th>annee_scolaire</th>\n",
       "    </tr>\n",
       "  </thead>\n",
       "  <tbody>\n",
       "    <tr>\n",
       "      <th>0</th>\n",
       "      <td>Vacances de Printemps</td>\n",
       "      <td>NaN</td>\n",
       "      <td>2019-04-13</td>\n",
       "      <td>2019-04-29</td>\n",
       "      <td>Besançon</td>\n",
       "      <td>Zone A</td>\n",
       "      <td>2018-2019</td>\n",
       "    </tr>\n",
       "    <tr>\n",
       "      <th>1</th>\n",
       "      <td>Vacances d'Été</td>\n",
       "      <td>Enseignants</td>\n",
       "      <td>2019-07-06</td>\n",
       "      <td>2019-08-30</td>\n",
       "      <td>Besançon</td>\n",
       "      <td>Zone A</td>\n",
       "      <td>2018-2019</td>\n",
       "    </tr>\n",
       "    <tr>\n",
       "      <th>2</th>\n",
       "      <td>Pont de l'Ascension</td>\n",
       "      <td>NaN</td>\n",
       "      <td>2020-05-20</td>\n",
       "      <td>2020-05-25</td>\n",
       "      <td>Besançon</td>\n",
       "      <td>Zone A</td>\n",
       "      <td>2019-2020</td>\n",
       "    </tr>\n",
       "    <tr>\n",
       "      <th>3</th>\n",
       "      <td>Vacances de Noël</td>\n",
       "      <td>NaN</td>\n",
       "      <td>2020-12-19</td>\n",
       "      <td>2021-01-04</td>\n",
       "      <td>Besançon</td>\n",
       "      <td>Zone A</td>\n",
       "      <td>2020-2021</td>\n",
       "    </tr>\n",
       "    <tr>\n",
       "      <th>4</th>\n",
       "      <td>Pont de l'Ascension</td>\n",
       "      <td>NaN</td>\n",
       "      <td>2021-05-13</td>\n",
       "      <td>2021-05-17</td>\n",
       "      <td>Besançon</td>\n",
       "      <td>Zone A</td>\n",
       "      <td>2020-2021</td>\n",
       "    </tr>\n",
       "  </tbody>\n",
       "</table>\n",
       "</div>"
      ],
      "text/plain": [
       "             description   population  start_date    end_date  location  \\\n",
       "0  Vacances de Printemps          NaN  2019-04-13  2019-04-29  Besançon   \n",
       "1         Vacances d'Été  Enseignants  2019-07-06  2019-08-30  Besançon   \n",
       "2    Pont de l'Ascension          NaN  2020-05-20  2020-05-25  Besançon   \n",
       "3       Vacances de Noël          NaN  2020-12-19  2021-01-04  Besançon   \n",
       "4    Pont de l'Ascension          NaN  2021-05-13  2021-05-17  Besançon   \n",
       "\n",
       "    zones annee_scolaire  \n",
       "0  Zone A      2018-2019  \n",
       "1  Zone A      2018-2019  \n",
       "2  Zone A      2019-2020  \n",
       "3  Zone A      2020-2021  \n",
       "4  Zone A      2020-2021  "
      ]
     },
     "execution_count": 104,
     "metadata": {},
     "output_type": "execute_result"
    }
   ],
   "source": [
    "df_vacances = pd.read_csv('data/fr-en-calendrier-scolaire.csv', sep=';')\n",
    "df_vacances.head()"
   ]
  },
  {
   "cell_type": "code",
   "execution_count": 105,
   "metadata": {},
   "outputs": [
    {
     "data": {
      "text/html": [
       "<div>\n",
       "<style scoped>\n",
       "    .dataframe tbody tr th:only-of-type {\n",
       "        vertical-align: middle;\n",
       "    }\n",
       "\n",
       "    .dataframe tbody tr th {\n",
       "        vertical-align: top;\n",
       "    }\n",
       "\n",
       "    .dataframe thead th {\n",
       "        text-align: right;\n",
       "    }\n",
       "</style>\n",
       "<table border=\"1\" class=\"dataframe\">\n",
       "  <thead>\n",
       "    <tr style=\"text-align: right;\">\n",
       "      <th></th>\n",
       "      <th>description</th>\n",
       "      <th>population</th>\n",
       "      <th>start_date</th>\n",
       "      <th>end_date</th>\n",
       "      <th>location</th>\n",
       "      <th>zones</th>\n",
       "      <th>annee_scolaire</th>\n",
       "    </tr>\n",
       "  </thead>\n",
       "  <tbody>\n",
       "    <tr>\n",
       "      <th>102</th>\n",
       "      <td>Vacances d'Été</td>\n",
       "      <td>Élèves</td>\n",
       "      <td>2018-07-07</td>\n",
       "      <td>2018-09-03</td>\n",
       "      <td>Paris</td>\n",
       "      <td>Zone C</td>\n",
       "      <td>2017-2018</td>\n",
       "    </tr>\n",
       "    <tr>\n",
       "      <th>103</th>\n",
       "      <td>Vacances de la Toussaint</td>\n",
       "      <td>NaN</td>\n",
       "      <td>2018-10-20</td>\n",
       "      <td>2018-11-05</td>\n",
       "      <td>Paris</td>\n",
       "      <td>Zone C</td>\n",
       "      <td>2018-2019</td>\n",
       "    </tr>\n",
       "    <tr>\n",
       "      <th>104</th>\n",
       "      <td>Vacances de Noël</td>\n",
       "      <td>NaN</td>\n",
       "      <td>2019-12-21</td>\n",
       "      <td>2020-01-06</td>\n",
       "      <td>Paris</td>\n",
       "      <td>Zone C</td>\n",
       "      <td>2019-2020</td>\n",
       "    </tr>\n",
       "    <tr>\n",
       "      <th>105</th>\n",
       "      <td>Vacances d'Hiver</td>\n",
       "      <td>NaN</td>\n",
       "      <td>2020-02-08</td>\n",
       "      <td>2020-02-24</td>\n",
       "      <td>Paris</td>\n",
       "      <td>Zone C</td>\n",
       "      <td>2019-2020</td>\n",
       "    </tr>\n",
       "    <tr>\n",
       "      <th>280</th>\n",
       "      <td>Vacances de Noël</td>\n",
       "      <td>NaN</td>\n",
       "      <td>2017-12-23</td>\n",
       "      <td>2018-01-08</td>\n",
       "      <td>Paris</td>\n",
       "      <td>Zone C</td>\n",
       "      <td>2017-2018</td>\n",
       "    </tr>\n",
       "  </tbody>\n",
       "</table>\n",
       "</div>"
      ],
      "text/plain": [
       "                  description population  start_date    end_date location  \\\n",
       "102            Vacances d'Été     Élèves  2018-07-07  2018-09-03    Paris   \n",
       "103  Vacances de la Toussaint        NaN  2018-10-20  2018-11-05    Paris   \n",
       "104          Vacances de Noël        NaN  2019-12-21  2020-01-06    Paris   \n",
       "105          Vacances d'Hiver        NaN  2020-02-08  2020-02-24    Paris   \n",
       "280          Vacances de Noël        NaN  2017-12-23  2018-01-08    Paris   \n",
       "\n",
       "      zones annee_scolaire  \n",
       "102  Zone C      2017-2018  \n",
       "103  Zone C      2018-2019  \n",
       "104  Zone C      2019-2020  \n",
       "105  Zone C      2019-2020  \n",
       "280  Zone C      2017-2018  "
      ]
     },
     "execution_count": 105,
     "metadata": {},
     "output_type": "execute_result"
    }
   ],
   "source": [
    "df_vacances = df_vacances[df_vacances['location'] == 'Paris']\n",
    "df_vacances.head()"
   ]
  },
  {
   "cell_type": "code",
   "execution_count": 106,
   "metadata": {},
   "outputs": [
    {
     "data": {
      "text/html": [
       "<div>\n",
       "<style scoped>\n",
       "    .dataframe tbody tr th:only-of-type {\n",
       "        vertical-align: middle;\n",
       "    }\n",
       "\n",
       "    .dataframe tbody tr th {\n",
       "        vertical-align: top;\n",
       "    }\n",
       "\n",
       "    .dataframe thead th {\n",
       "        text-align: right;\n",
       "    }\n",
       "</style>\n",
       "<table border=\"1\" class=\"dataframe\">\n",
       "  <thead>\n",
       "    <tr style=\"text-align: right;\">\n",
       "      <th></th>\n",
       "      <th>description</th>\n",
       "      <th>population</th>\n",
       "      <th>start_date</th>\n",
       "      <th>end_date</th>\n",
       "      <th>location</th>\n",
       "      <th>zones</th>\n",
       "      <th>annee_scolaire</th>\n",
       "    </tr>\n",
       "  </thead>\n",
       "  <tbody>\n",
       "    <tr>\n",
       "      <th>104</th>\n",
       "      <td>Vacances de Noël</td>\n",
       "      <td>NaN</td>\n",
       "      <td>2019-12-21</td>\n",
       "      <td>2020-01-06</td>\n",
       "      <td>Paris</td>\n",
       "      <td>Zone C</td>\n",
       "      <td>2019-2020</td>\n",
       "    </tr>\n",
       "    <tr>\n",
       "      <th>105</th>\n",
       "      <td>Vacances d'Hiver</td>\n",
       "      <td>NaN</td>\n",
       "      <td>2020-02-08</td>\n",
       "      <td>2020-02-24</td>\n",
       "      <td>Paris</td>\n",
       "      <td>Zone C</td>\n",
       "      <td>2019-2020</td>\n",
       "    </tr>\n",
       "    <tr>\n",
       "      <th>284</th>\n",
       "      <td>Vacances d'Été</td>\n",
       "      <td>NaN</td>\n",
       "      <td>2020-07-04</td>\n",
       "      <td>2020-09-01</td>\n",
       "      <td>Paris</td>\n",
       "      <td>Zone C</td>\n",
       "      <td>2019-2020</td>\n",
       "    </tr>\n",
       "    <tr>\n",
       "      <th>285</th>\n",
       "      <td>Vacances d'Été</td>\n",
       "      <td>NaN</td>\n",
       "      <td>2021-07-05</td>\n",
       "      <td>NaN</td>\n",
       "      <td>Paris</td>\n",
       "      <td>Zone C</td>\n",
       "      <td>2020-2021</td>\n",
       "    </tr>\n",
       "    <tr>\n",
       "      <th>474</th>\n",
       "      <td>Vacances de Printemps</td>\n",
       "      <td>NaN</td>\n",
       "      <td>2020-04-04</td>\n",
       "      <td>2020-04-20</td>\n",
       "      <td>Paris</td>\n",
       "      <td>Zone C</td>\n",
       "      <td>2019-2020</td>\n",
       "    </tr>\n",
       "  </tbody>\n",
       "</table>\n",
       "</div>"
      ],
      "text/plain": [
       "               description population  start_date    end_date location  \\\n",
       "104       Vacances de Noël        NaN  2019-12-21  2020-01-06    Paris   \n",
       "105       Vacances d'Hiver        NaN  2020-02-08  2020-02-24    Paris   \n",
       "284         Vacances d'Été        NaN  2020-07-04  2020-09-01    Paris   \n",
       "285         Vacances d'Été        NaN  2021-07-05         NaN    Paris   \n",
       "474  Vacances de Printemps        NaN  2020-04-04  2020-04-20    Paris   \n",
       "\n",
       "      zones annee_scolaire  \n",
       "104  Zone C      2019-2020  \n",
       "105  Zone C      2019-2020  \n",
       "284  Zone C      2019-2020  \n",
       "285  Zone C      2020-2021  \n",
       "474  Zone C      2019-2020  "
      ]
     },
     "execution_count": 106,
     "metadata": {},
     "output_type": "execute_result"
    }
   ],
   "source": [
    "df_vacances = df_vacances[df_vacances['annee_scolaire'].isin(['2019-2020', '2020-2021'])]\n",
    "df_vacances.head()"
   ]
  },
  {
   "cell_type": "markdown",
   "metadata": {},
   "source": [
    "On observe un NaN... Affichons toute le DataFrame comme il n'y a que peu de lignes."
   ]
  },
  {
   "cell_type": "code",
   "execution_count": 107,
   "metadata": {},
   "outputs": [
    {
     "data": {
      "text/html": [
       "<div>\n",
       "<style scoped>\n",
       "    .dataframe tbody tr th:only-of-type {\n",
       "        vertical-align: middle;\n",
       "    }\n",
       "\n",
       "    .dataframe tbody tr th {\n",
       "        vertical-align: top;\n",
       "    }\n",
       "\n",
       "    .dataframe thead th {\n",
       "        text-align: right;\n",
       "    }\n",
       "</style>\n",
       "<table border=\"1\" class=\"dataframe\">\n",
       "  <thead>\n",
       "    <tr style=\"text-align: right;\">\n",
       "      <th></th>\n",
       "      <th>description</th>\n",
       "      <th>population</th>\n",
       "      <th>start_date</th>\n",
       "      <th>end_date</th>\n",
       "      <th>location</th>\n",
       "      <th>zones</th>\n",
       "      <th>annee_scolaire</th>\n",
       "    </tr>\n",
       "  </thead>\n",
       "  <tbody>\n",
       "    <tr>\n",
       "      <th>104</th>\n",
       "      <td>Vacances de Noël</td>\n",
       "      <td>NaN</td>\n",
       "      <td>2019-12-21</td>\n",
       "      <td>2020-01-06</td>\n",
       "      <td>Paris</td>\n",
       "      <td>Zone C</td>\n",
       "      <td>2019-2020</td>\n",
       "    </tr>\n",
       "    <tr>\n",
       "      <th>105</th>\n",
       "      <td>Vacances d'Hiver</td>\n",
       "      <td>NaN</td>\n",
       "      <td>2020-02-08</td>\n",
       "      <td>2020-02-24</td>\n",
       "      <td>Paris</td>\n",
       "      <td>Zone C</td>\n",
       "      <td>2019-2020</td>\n",
       "    </tr>\n",
       "    <tr>\n",
       "      <th>284</th>\n",
       "      <td>Vacances d'Été</td>\n",
       "      <td>NaN</td>\n",
       "      <td>2020-07-04</td>\n",
       "      <td>2020-09-01</td>\n",
       "      <td>Paris</td>\n",
       "      <td>Zone C</td>\n",
       "      <td>2019-2020</td>\n",
       "    </tr>\n",
       "    <tr>\n",
       "      <th>285</th>\n",
       "      <td>Vacances d'Été</td>\n",
       "      <td>NaN</td>\n",
       "      <td>2021-07-05</td>\n",
       "      <td>NaN</td>\n",
       "      <td>Paris</td>\n",
       "      <td>Zone C</td>\n",
       "      <td>2020-2021</td>\n",
       "    </tr>\n",
       "    <tr>\n",
       "      <th>474</th>\n",
       "      <td>Vacances de Printemps</td>\n",
       "      <td>NaN</td>\n",
       "      <td>2020-04-04</td>\n",
       "      <td>2020-04-20</td>\n",
       "      <td>Paris</td>\n",
       "      <td>Zone C</td>\n",
       "      <td>2019-2020</td>\n",
       "    </tr>\n",
       "    <tr>\n",
       "      <th>475</th>\n",
       "      <td>Pont de l'Ascension</td>\n",
       "      <td>NaN</td>\n",
       "      <td>2020-05-20</td>\n",
       "      <td>2020-05-25</td>\n",
       "      <td>Paris</td>\n",
       "      <td>Zone C</td>\n",
       "      <td>2019-2020</td>\n",
       "    </tr>\n",
       "    <tr>\n",
       "      <th>476</th>\n",
       "      <td>Vacances de Noël</td>\n",
       "      <td>NaN</td>\n",
       "      <td>2020-12-19</td>\n",
       "      <td>2021-01-04</td>\n",
       "      <td>Paris</td>\n",
       "      <td>Zone C</td>\n",
       "      <td>2020-2021</td>\n",
       "    </tr>\n",
       "    <tr>\n",
       "      <th>660</th>\n",
       "      <td>Vacances d'Hiver</td>\n",
       "      <td>NaN</td>\n",
       "      <td>2021-02-13</td>\n",
       "      <td>2021-03-01</td>\n",
       "      <td>Paris</td>\n",
       "      <td>Zone C</td>\n",
       "      <td>2020-2021</td>\n",
       "    </tr>\n",
       "    <tr>\n",
       "      <th>845</th>\n",
       "      <td>Vacances de la Toussaint</td>\n",
       "      <td>NaN</td>\n",
       "      <td>2019-10-19</td>\n",
       "      <td>2019-11-04</td>\n",
       "      <td>Paris</td>\n",
       "      <td>Zone C</td>\n",
       "      <td>2019-2020</td>\n",
       "    </tr>\n",
       "    <tr>\n",
       "      <th>846</th>\n",
       "      <td>Vacances de la Toussaint</td>\n",
       "      <td>NaN</td>\n",
       "      <td>2020-10-17</td>\n",
       "      <td>2020-11-02</td>\n",
       "      <td>Paris</td>\n",
       "      <td>Zone C</td>\n",
       "      <td>2020-2021</td>\n",
       "    </tr>\n",
       "    <tr>\n",
       "      <th>847</th>\n",
       "      <td>Vacances de Printemps</td>\n",
       "      <td>NaN</td>\n",
       "      <td>2021-04-17</td>\n",
       "      <td>2021-05-03</td>\n",
       "      <td>Paris</td>\n",
       "      <td>Zone C</td>\n",
       "      <td>2020-2021</td>\n",
       "    </tr>\n",
       "    <tr>\n",
       "      <th>848</th>\n",
       "      <td>Pont de l'Ascension</td>\n",
       "      <td>NaN</td>\n",
       "      <td>2021-05-13</td>\n",
       "      <td>2021-05-17</td>\n",
       "      <td>Paris</td>\n",
       "      <td>Zone C</td>\n",
       "      <td>2020-2021</td>\n",
       "    </tr>\n",
       "  </tbody>\n",
       "</table>\n",
       "</div>"
      ],
      "text/plain": [
       "                  description population  start_date    end_date location  \\\n",
       "104          Vacances de Noël        NaN  2019-12-21  2020-01-06    Paris   \n",
       "105          Vacances d'Hiver        NaN  2020-02-08  2020-02-24    Paris   \n",
       "284            Vacances d'Été        NaN  2020-07-04  2020-09-01    Paris   \n",
       "285            Vacances d'Été        NaN  2021-07-05         NaN    Paris   \n",
       "474     Vacances de Printemps        NaN  2020-04-04  2020-04-20    Paris   \n",
       "475       Pont de l'Ascension        NaN  2020-05-20  2020-05-25    Paris   \n",
       "476          Vacances de Noël        NaN  2020-12-19  2021-01-04    Paris   \n",
       "660          Vacances d'Hiver        NaN  2021-02-13  2021-03-01    Paris   \n",
       "845  Vacances de la Toussaint        NaN  2019-10-19  2019-11-04    Paris   \n",
       "846  Vacances de la Toussaint        NaN  2020-10-17  2020-11-02    Paris   \n",
       "847     Vacances de Printemps        NaN  2021-04-17  2021-05-03    Paris   \n",
       "848       Pont de l'Ascension        NaN  2021-05-13  2021-05-17    Paris   \n",
       "\n",
       "      zones annee_scolaire  \n",
       "104  Zone C      2019-2020  \n",
       "105  Zone C      2019-2020  \n",
       "284  Zone C      2019-2020  \n",
       "285  Zone C      2020-2021  \n",
       "474  Zone C      2019-2020  \n",
       "475  Zone C      2019-2020  \n",
       "476  Zone C      2020-2021  \n",
       "660  Zone C      2020-2021  \n",
       "845  Zone C      2019-2020  \n",
       "846  Zone C      2020-2021  \n",
       "847  Zone C      2020-2021  \n",
       "848  Zone C      2020-2021  "
      ]
     },
     "execution_count": 107,
     "metadata": {},
     "output_type": "execute_result"
    }
   ],
   "source": [
    "df_vacances"
   ]
  },
  {
   "cell_type": "markdown",
   "metadata": {},
   "source": [
    "Le seul NaN ne correpond pas à une date comprise dans notre étude. On peut donc la drop sereinement."
   ]
  },
  {
   "cell_type": "code",
   "execution_count": 108,
   "metadata": {},
   "outputs": [
    {
     "data": {
      "text/html": [
       "<div>\n",
       "<style scoped>\n",
       "    .dataframe tbody tr th:only-of-type {\n",
       "        vertical-align: middle;\n",
       "    }\n",
       "\n",
       "    .dataframe tbody tr th {\n",
       "        vertical-align: top;\n",
       "    }\n",
       "\n",
       "    .dataframe thead th {\n",
       "        text-align: right;\n",
       "    }\n",
       "</style>\n",
       "<table border=\"1\" class=\"dataframe\">\n",
       "  <thead>\n",
       "    <tr style=\"text-align: right;\">\n",
       "      <th></th>\n",
       "      <th>description</th>\n",
       "      <th>population</th>\n",
       "      <th>start_date</th>\n",
       "      <th>end_date</th>\n",
       "      <th>location</th>\n",
       "      <th>zones</th>\n",
       "      <th>annee_scolaire</th>\n",
       "    </tr>\n",
       "  </thead>\n",
       "  <tbody>\n",
       "    <tr>\n",
       "      <th>104</th>\n",
       "      <td>Vacances de Noël</td>\n",
       "      <td>NaN</td>\n",
       "      <td>2019-12-21</td>\n",
       "      <td>2020-01-06</td>\n",
       "      <td>Paris</td>\n",
       "      <td>Zone C</td>\n",
       "      <td>2019-2020</td>\n",
       "    </tr>\n",
       "    <tr>\n",
       "      <th>105</th>\n",
       "      <td>Vacances d'Hiver</td>\n",
       "      <td>NaN</td>\n",
       "      <td>2020-02-08</td>\n",
       "      <td>2020-02-24</td>\n",
       "      <td>Paris</td>\n",
       "      <td>Zone C</td>\n",
       "      <td>2019-2020</td>\n",
       "    </tr>\n",
       "    <tr>\n",
       "      <th>284</th>\n",
       "      <td>Vacances d'Été</td>\n",
       "      <td>NaN</td>\n",
       "      <td>2020-07-04</td>\n",
       "      <td>2020-09-01</td>\n",
       "      <td>Paris</td>\n",
       "      <td>Zone C</td>\n",
       "      <td>2019-2020</td>\n",
       "    </tr>\n",
       "    <tr>\n",
       "      <th>474</th>\n",
       "      <td>Vacances de Printemps</td>\n",
       "      <td>NaN</td>\n",
       "      <td>2020-04-04</td>\n",
       "      <td>2020-04-20</td>\n",
       "      <td>Paris</td>\n",
       "      <td>Zone C</td>\n",
       "      <td>2019-2020</td>\n",
       "    </tr>\n",
       "    <tr>\n",
       "      <th>475</th>\n",
       "      <td>Pont de l'Ascension</td>\n",
       "      <td>NaN</td>\n",
       "      <td>2020-05-20</td>\n",
       "      <td>2020-05-25</td>\n",
       "      <td>Paris</td>\n",
       "      <td>Zone C</td>\n",
       "      <td>2019-2020</td>\n",
       "    </tr>\n",
       "    <tr>\n",
       "      <th>476</th>\n",
       "      <td>Vacances de Noël</td>\n",
       "      <td>NaN</td>\n",
       "      <td>2020-12-19</td>\n",
       "      <td>2021-01-04</td>\n",
       "      <td>Paris</td>\n",
       "      <td>Zone C</td>\n",
       "      <td>2020-2021</td>\n",
       "    </tr>\n",
       "    <tr>\n",
       "      <th>660</th>\n",
       "      <td>Vacances d'Hiver</td>\n",
       "      <td>NaN</td>\n",
       "      <td>2021-02-13</td>\n",
       "      <td>2021-03-01</td>\n",
       "      <td>Paris</td>\n",
       "      <td>Zone C</td>\n",
       "      <td>2020-2021</td>\n",
       "    </tr>\n",
       "    <tr>\n",
       "      <th>845</th>\n",
       "      <td>Vacances de la Toussaint</td>\n",
       "      <td>NaN</td>\n",
       "      <td>2019-10-19</td>\n",
       "      <td>2019-11-04</td>\n",
       "      <td>Paris</td>\n",
       "      <td>Zone C</td>\n",
       "      <td>2019-2020</td>\n",
       "    </tr>\n",
       "    <tr>\n",
       "      <th>846</th>\n",
       "      <td>Vacances de la Toussaint</td>\n",
       "      <td>NaN</td>\n",
       "      <td>2020-10-17</td>\n",
       "      <td>2020-11-02</td>\n",
       "      <td>Paris</td>\n",
       "      <td>Zone C</td>\n",
       "      <td>2020-2021</td>\n",
       "    </tr>\n",
       "    <tr>\n",
       "      <th>847</th>\n",
       "      <td>Vacances de Printemps</td>\n",
       "      <td>NaN</td>\n",
       "      <td>2021-04-17</td>\n",
       "      <td>2021-05-03</td>\n",
       "      <td>Paris</td>\n",
       "      <td>Zone C</td>\n",
       "      <td>2020-2021</td>\n",
       "    </tr>\n",
       "    <tr>\n",
       "      <th>848</th>\n",
       "      <td>Pont de l'Ascension</td>\n",
       "      <td>NaN</td>\n",
       "      <td>2021-05-13</td>\n",
       "      <td>2021-05-17</td>\n",
       "      <td>Paris</td>\n",
       "      <td>Zone C</td>\n",
       "      <td>2020-2021</td>\n",
       "    </tr>\n",
       "  </tbody>\n",
       "</table>\n",
       "</div>"
      ],
      "text/plain": [
       "                  description population  start_date    end_date location  \\\n",
       "104          Vacances de Noël        NaN  2019-12-21  2020-01-06    Paris   \n",
       "105          Vacances d'Hiver        NaN  2020-02-08  2020-02-24    Paris   \n",
       "284            Vacances d'Été        NaN  2020-07-04  2020-09-01    Paris   \n",
       "474     Vacances de Printemps        NaN  2020-04-04  2020-04-20    Paris   \n",
       "475       Pont de l'Ascension        NaN  2020-05-20  2020-05-25    Paris   \n",
       "476          Vacances de Noël        NaN  2020-12-19  2021-01-04    Paris   \n",
       "660          Vacances d'Hiver        NaN  2021-02-13  2021-03-01    Paris   \n",
       "845  Vacances de la Toussaint        NaN  2019-10-19  2019-11-04    Paris   \n",
       "846  Vacances de la Toussaint        NaN  2020-10-17  2020-11-02    Paris   \n",
       "847     Vacances de Printemps        NaN  2021-04-17  2021-05-03    Paris   \n",
       "848       Pont de l'Ascension        NaN  2021-05-13  2021-05-17    Paris   \n",
       "\n",
       "      zones annee_scolaire  \n",
       "104  Zone C      2019-2020  \n",
       "105  Zone C      2019-2020  \n",
       "284  Zone C      2019-2020  \n",
       "474  Zone C      2019-2020  \n",
       "475  Zone C      2019-2020  \n",
       "476  Zone C      2020-2021  \n",
       "660  Zone C      2020-2021  \n",
       "845  Zone C      2019-2020  \n",
       "846  Zone C      2020-2021  \n",
       "847  Zone C      2020-2021  \n",
       "848  Zone C      2020-2021  "
      ]
     },
     "execution_count": 108,
     "metadata": {},
     "output_type": "execute_result"
    }
   ],
   "source": [
    "df_vacances = df_vacances[~ df_vacances['end_date'].isna()]\n",
    "df_vacances"
   ]
  },
  {
   "cell_type": "code",
   "execution_count": 109,
   "metadata": {},
   "outputs": [
    {
     "data": {
      "text/plain": [
       "description       object\n",
       "population        object\n",
       "start_date        object\n",
       "end_date          object\n",
       "location          object\n",
       "zones             object\n",
       "annee_scolaire    object\n",
       "dtype: object"
      ]
     },
     "execution_count": 109,
     "metadata": {},
     "output_type": "execute_result"
    }
   ],
   "source": [
    "df_vacances.dtypes"
   ]
  },
  {
   "cell_type": "code",
   "execution_count": 111,
   "metadata": {
    "scrolled": false
   },
   "outputs": [
    {
     "name": "stderr",
     "output_type": "stream",
     "text": [
      "/Users/Tony/opt/anaconda3/envs/ML/lib/python3.7/site-packages/ipykernel_launcher.py:1: SettingWithCopyWarning: \n",
      "A value is trying to be set on a copy of a slice from a DataFrame.\n",
      "Try using .loc[row_indexer,col_indexer] = value instead\n",
      "\n",
      "See the caveats in the documentation: https://pandas.pydata.org/pandas-docs/stable/user_guide/indexing.html#returning-a-view-versus-a-copy\n",
      "  \"\"\"Entry point for launching an IPython kernel.\n",
      "/Users/Tony/opt/anaconda3/envs/ML/lib/python3.7/site-packages/ipykernel_launcher.py:2: SettingWithCopyWarning: \n",
      "A value is trying to be set on a copy of a slice from a DataFrame.\n",
      "Try using .loc[row_indexer,col_indexer] = value instead\n",
      "\n",
      "See the caveats in the documentation: https://pandas.pydata.org/pandas-docs/stable/user_guide/indexing.html#returning-a-view-versus-a-copy\n",
      "  \n"
     ]
    },
    {
     "data": {
      "text/plain": [
       "description               object\n",
       "population                object\n",
       "start_date        datetime64[ns]\n",
       "end_date          datetime64[ns]\n",
       "location                  object\n",
       "zones                     object\n",
       "annee_scolaire            object\n",
       "dtype: object"
      ]
     },
     "execution_count": 111,
     "metadata": {},
     "output_type": "execute_result"
    }
   ],
   "source": [
    "df_vacances['start_date'] = pd.to_datetime(df_vacances['start_date'])\n",
    "df_vacances['end_date'] = pd.to_datetime(df_vacances['end_date'])\n",
    "\n",
    "df_vacances.dtypes"
   ]
  },
  {
   "cell_type": "markdown",
   "metadata": {},
   "source": [
    "On peut maintenant ajouter notre colonne `Vacances scolaires` à notre DataFrame de départ."
   ]
  },
  {
   "cell_type": "code",
   "execution_count": 120,
   "metadata": {},
   "outputs": [
    {
     "data": {
      "text/html": [
       "<div>\n",
       "<style scoped>\n",
       "    .dataframe tbody tr th:only-of-type {\n",
       "        vertical-align: middle;\n",
       "    }\n",
       "\n",
       "    .dataframe tbody tr th {\n",
       "        vertical-align: top;\n",
       "    }\n",
       "\n",
       "    .dataframe thead th {\n",
       "        text-align: right;\n",
       "    }\n",
       "</style>\n",
       "<table border=\"1\" class=\"dataframe\">\n",
       "  <thead>\n",
       "    <tr style=\"text-align: right;\">\n",
       "      <th></th>\n",
       "      <th>Libelle</th>\n",
       "      <th>Date et heure de comptage</th>\n",
       "      <th>Débit horaire</th>\n",
       "      <th>Taux d'occupation</th>\n",
       "      <th>Etat trafic</th>\n",
       "      <th>Etat arc</th>\n",
       "      <th>filename</th>\n",
       "      <th>Date</th>\n",
       "      <th>Jour de la semaine</th>\n",
       "      <th>Etat du confinement</th>\n",
       "      <th>Couvre-feu</th>\n",
       "      <th>Jour férié</th>\n",
       "      <th>Vacances scolaires</th>\n",
       "    </tr>\n",
       "  </thead>\n",
       "  <tbody>\n",
       "    <tr>\n",
       "      <th>1144</th>\n",
       "      <td>AV_Champs_Elysees</td>\n",
       "      <td>2020-04-13 02:00:00</td>\n",
       "      <td>23.0</td>\n",
       "      <td>0.35722</td>\n",
       "      <td>1</td>\n",
       "      <td>Invalide</td>\n",
       "      <td>champs-elysees.csv</td>\n",
       "      <td>2020-04-13</td>\n",
       "      <td>0</td>\n",
       "      <td>3</td>\n",
       "      <td>False</td>\n",
       "      <td>True</td>\n",
       "      <td>True</td>\n",
       "    </tr>\n",
       "    <tr>\n",
       "      <th>8151</th>\n",
       "      <td>AV_Champs_Elysees</td>\n",
       "      <td>2020-06-30 10:00:00</td>\n",
       "      <td>1351.0</td>\n",
       "      <td>15.49556</td>\n",
       "      <td>2</td>\n",
       "      <td>Invalide</td>\n",
       "      <td>champs-elysees.csv</td>\n",
       "      <td>2020-06-30</td>\n",
       "      <td>1</td>\n",
       "      <td>1</td>\n",
       "      <td>False</td>\n",
       "      <td>False</td>\n",
       "      <td>False</td>\n",
       "    </tr>\n",
       "    <tr>\n",
       "      <th>7898</th>\n",
       "      <td>AV_Champs_Elysees</td>\n",
       "      <td>2020-04-24 03:00:00</td>\n",
       "      <td>32.0</td>\n",
       "      <td>0.43500</td>\n",
       "      <td>1</td>\n",
       "      <td>Invalide</td>\n",
       "      <td>champs-elysees.csv</td>\n",
       "      <td>2020-04-24</td>\n",
       "      <td>4</td>\n",
       "      <td>3</td>\n",
       "      <td>False</td>\n",
       "      <td>False</td>\n",
       "      <td>False</td>\n",
       "    </tr>\n",
       "    <tr>\n",
       "      <th>6352</th>\n",
       "      <td>AV_Champs_Elysees</td>\n",
       "      <td>2020-05-21 00:00:00</td>\n",
       "      <td>631.0</td>\n",
       "      <td>6.96444</td>\n",
       "      <td>1</td>\n",
       "      <td>Invalide</td>\n",
       "      <td>champs-elysees.csv</td>\n",
       "      <td>2020-05-20</td>\n",
       "      <td>2</td>\n",
       "      <td>1</td>\n",
       "      <td>False</td>\n",
       "      <td>False</td>\n",
       "      <td>False</td>\n",
       "    </tr>\n",
       "    <tr>\n",
       "      <th>7323</th>\n",
       "      <td>AV_Champs_Elysees</td>\n",
       "      <td>2020-06-17 21:00:00</td>\n",
       "      <td>854.0</td>\n",
       "      <td>14.45667</td>\n",
       "      <td>1</td>\n",
       "      <td>Invalide</td>\n",
       "      <td>champs-elysees.csv</td>\n",
       "      <td>2020-06-17</td>\n",
       "      <td>2</td>\n",
       "      <td>1</td>\n",
       "      <td>False</td>\n",
       "      <td>False</td>\n",
       "      <td>False</td>\n",
       "    </tr>\n",
       "  </tbody>\n",
       "</table>\n",
       "</div>"
      ],
      "text/plain": [
       "                Libelle Date et heure de comptage  Débit horaire  \\\n",
       "1144  AV_Champs_Elysees       2020-04-13 02:00:00           23.0   \n",
       "8151  AV_Champs_Elysees       2020-06-30 10:00:00         1351.0   \n",
       "7898  AV_Champs_Elysees       2020-04-24 03:00:00           32.0   \n",
       "6352  AV_Champs_Elysees       2020-05-21 00:00:00          631.0   \n",
       "7323  AV_Champs_Elysees       2020-06-17 21:00:00          854.0   \n",
       "\n",
       "      Taux d'occupation  Etat trafic  Etat arc            filename  \\\n",
       "1144            0.35722            1  Invalide  champs-elysees.csv   \n",
       "8151           15.49556            2  Invalide  champs-elysees.csv   \n",
       "7898            0.43500            1  Invalide  champs-elysees.csv   \n",
       "6352            6.96444            1  Invalide  champs-elysees.csv   \n",
       "7323           14.45667            1  Invalide  champs-elysees.csv   \n",
       "\n",
       "            Date  Jour de la semaine  Etat du confinement  Couvre-feu  \\\n",
       "1144  2020-04-13                   0                    3       False   \n",
       "8151  2020-06-30                   1                    1       False   \n",
       "7898  2020-04-24                   4                    3       False   \n",
       "6352  2020-05-20                   2                    1       False   \n",
       "7323  2020-06-17                   2                    1       False   \n",
       "\n",
       "      Jour férié  Vacances scolaires  \n",
       "1144        True                True  \n",
       "8151       False               False  \n",
       "7898       False               False  \n",
       "6352       False               False  \n",
       "7323       False               False  "
      ]
     },
     "execution_count": 120,
     "metadata": {},
     "output_type": "execute_result"
    }
   ],
   "source": [
    "def est_pendant_vacances(date):    \n",
    "    for index, row_vacances in df_vacances.iterrows():\n",
    "        start = row_vacances['start_date']\n",
    "        end = row_vacances['end_date']\n",
    "        \n",
    "        if start < date < end:\n",
    "            return True\n",
    "        else:\n",
    "            pass\n",
    "    \n",
    "    return False\n",
    "\n",
    "df['Vacances scolaires'] = df['Date'].apply(est_pendant_vacances)\n",
    "df.sample(5)"
   ]
  },
  {
   "cell_type": "markdown",
   "metadata": {},
   "source": [
    "## Lever / Coucher du soleil"
   ]
  },
  {
   "cell_type": "markdown",
   "metadata": {},
   "source": [
    "Le CSV a été obtenu via le lien suivant :  \n",
    "- https://in-the-sky.org/sunrise.php?startday=9&startmonth=11&startyear=2019&interval=1&tz=0"
   ]
  },
  {
   "cell_type": "code",
   "execution_count": 85,
   "metadata": {},
   "outputs": [
    {
     "data": {
      "text/html": [
       "<div>\n",
       "<style scoped>\n",
       "    .dataframe tbody tr th:only-of-type {\n",
       "        vertical-align: middle;\n",
       "    }\n",
       "\n",
       "    .dataframe tbody tr th {\n",
       "        vertical-align: top;\n",
       "    }\n",
       "\n",
       "    .dataframe thead th {\n",
       "        text-align: right;\n",
       "    }\n",
       "</style>\n",
       "<table border=\"1\" class=\"dataframe\">\n",
       "  <thead>\n",
       "    <tr style=\"text-align: right;\">\n",
       "      <th></th>\n",
       "      <th>Year</th>\n",
       "      <th>Month</th>\n",
       "      <th>Day</th>\n",
       "      <th>Age of Moon</th>\n",
       "      <th>Rise</th>\n",
       "      <th>Culm</th>\n",
       "      <th>Set</th>\n",
       "      <th>Constellation</th>\n",
       "      <th>Rise.1</th>\n",
       "      <th>Culm.1</th>\n",
       "      <th>Set.1</th>\n",
       "      <th>Constellation.1</th>\n",
       "    </tr>\n",
       "  </thead>\n",
       "  <tbody>\n",
       "    <tr>\n",
       "      <th>0</th>\n",
       "      <td>2019</td>\n",
       "      <td>11.0</td>\n",
       "      <td>9.0</td>\n",
       "      <td>12 days</td>\n",
       "      <td>07:49</td>\n",
       "      <td>12:34</td>\n",
       "      <td>17:19</td>\n",
       "      <td>Libra</td>\n",
       "      <td>16:32</td>\n",
       "      <td>22:45</td>\n",
       "      <td>03:55</td>\n",
       "      <td>Cetus</td>\n",
       "    </tr>\n",
       "    <tr>\n",
       "      <th>1</th>\n",
       "      <td>2019</td>\n",
       "      <td>11.0</td>\n",
       "      <td>10.0</td>\n",
       "      <td>13 days</td>\n",
       "      <td>07:50</td>\n",
       "      <td>12:34</td>\n",
       "      <td>17:18</td>\n",
       "      <td>Libra</td>\n",
       "      <td>16:53</td>\n",
       "      <td>23:28</td>\n",
       "      <td>04:58</td>\n",
       "      <td>Cetus</td>\n",
       "    </tr>\n",
       "    <tr>\n",
       "      <th>2</th>\n",
       "      <td>2019</td>\n",
       "      <td>11.0</td>\n",
       "      <td>11.0</td>\n",
       "      <td>14 days</td>\n",
       "      <td>07:52</td>\n",
       "      <td>12:34</td>\n",
       "      <td>17:16</td>\n",
       "      <td>Libra</td>\n",
       "      <td>17:15</td>\n",
       "      <td>--:--</td>\n",
       "      <td>06:03</td>\n",
       "      <td>Pisces</td>\n",
       "    </tr>\n",
       "    <tr>\n",
       "      <th>3</th>\n",
       "      <td>2019</td>\n",
       "      <td>11.0</td>\n",
       "      <td>12.0</td>\n",
       "      <td>15 days</td>\n",
       "      <td>07:54</td>\n",
       "      <td>12:34</td>\n",
       "      <td>17:15</td>\n",
       "      <td>Libra</td>\n",
       "      <td>17:41</td>\n",
       "      <td>00:12</td>\n",
       "      <td>07:08</td>\n",
       "      <td>Aries</td>\n",
       "    </tr>\n",
       "    <tr>\n",
       "      <th>4</th>\n",
       "      <td>2019</td>\n",
       "      <td>11.0</td>\n",
       "      <td>13.0</td>\n",
       "      <td>16 days</td>\n",
       "      <td>07:55</td>\n",
       "      <td>12:34</td>\n",
       "      <td>17:14</td>\n",
       "      <td>Libra</td>\n",
       "      <td>18:09</td>\n",
       "      <td>00:58</td>\n",
       "      <td>08:16</td>\n",
       "      <td>Taurus</td>\n",
       "    </tr>\n",
       "  </tbody>\n",
       "</table>\n",
       "</div>"
      ],
      "text/plain": [
       "   Year  Month   Day Age of Moon   Rise   Culm    Set     Constellation  \\\n",
       "0  2019   11.0   9.0     12 days  07:49  12:34  17:19             Libra   \n",
       "1  2019   11.0  10.0     13 days  07:50  12:34  17:18             Libra   \n",
       "2  2019   11.0  11.0     14 days  07:52  12:34  17:16             Libra   \n",
       "3  2019   11.0  12.0     15 days  07:54  12:34  17:15             Libra   \n",
       "4  2019   11.0  13.0     16 days  07:55  12:34  17:14             Libra   \n",
       "\n",
       "  Rise.1 Culm.1  Set.1   Constellation.1  \n",
       "0  16:32  22:45  03:55             Cetus  \n",
       "1  16:53  23:28  04:58             Cetus  \n",
       "2  17:15  --:--  06:03            Pisces  \n",
       "3  17:41  00:12  07:08             Aries  \n",
       "4  18:09  00:58  08:16            Taurus  "
      ]
     },
     "execution_count": 85,
     "metadata": {},
     "output_type": "execute_result"
    }
   ],
   "source": [
    "df_sunrise = pd.read_csv('data/sunrise.csv', skiprows=2)\n",
    "df_sunrise.head()"
   ]
  },
  {
   "cell_type": "markdown",
   "metadata": {},
   "source": [
    "# Analyse et visualisation (partie 2)"
   ]
  },
  {
   "cell_type": "code",
   "execution_count": 121,
   "metadata": {},
   "outputs": [
    {
     "data": {
      "image/png": "[encoded data removed]",
      "text/plain": [
       "<Figure size 432x288 with 2 Axes>"
      ]
     },
     "metadata": {},
     "output_type": "display_data"
    }
   ],
   "source": [
    "corr = df.corr()\n",
    "mask = np.zeros_like(corr)\n",
    "mask[np.triu_indices_from(mask)] = True\n",
    "with sns.axes_style(\"white\"):\n",
    "    ax = sns.heatmap(corr, mask=mask, vmax=.3, square=True)"
   ]
  },
  {
   "cell_type": "markdown",
   "metadata": {},
   "source": [
    "# Export train / dev / test"
   ]
  },
  {
   "cell_type": "code",
   "execution_count": 41,
   "metadata": {},
   "outputs": [],
   "source": [
    "def get_datasets(df, percentage_train, percentage_dev, percentage_test, seed=None):\n",
    "    assert(percentage_train + percentage_dev + percentage_test == 1.), 'Please correct the input values.'\n",
    "    df_train, df_dev, df_test = np.split(\n",
    "        df.sample(frac=1, random_state=seed),\n",
    "        [int(percentage_train*len(df)), int((percentage_train+percentage_dev)*len(df))]\n",
    "    )\n",
    "    return df_train, df_dev, df_test"
   ]
  },
  {
   "cell_type": "code",
   "execution_count": 42,
   "metadata": {},
   "outputs": [
    {
     "name": "stdout",
     "output_type": "stream",
     "text": [
      "% train: 0.7999571871989725\n",
      "% dev: 0.09996789039922938\n",
      "% test: 0.10007492240179813\n"
     ]
    }
   ],
   "source": [
    "percentage_train = 0.8\n",
    "percentage_dev = 0.1\n",
    "percentage_test = 0.1\n",
    "\n",
    "df_train, df_dev, df_test = get_datasets(df, percentage_train, percentage_dev, percentage_test, seed=0)\n",
    "\n",
    "print(f'% train: {len(df_train) / len(df)}')\n",
    "print(f'% dev: {len(df_dev) / len(df)}')\n",
    "print(f'% test: {len(df_test) / len(df)}')"
   ]
  },
  {
   "cell_type": "code",
   "execution_count": 43,
   "metadata": {},
   "outputs": [],
   "source": [
    "for df_export, df_filename in zip([df_train, df_dev, df_test], ['df_train.csv', 'df_dev.csv', 'df_test.csv']):\n",
    "    filepath = os.path.join('data', df_filename)\n",
    "    df_export.to_csv(filepath)"
   ]
  }
 ],
 "metadata": {
  "kernelspec": {
   "display_name": "Python 3",
   "language": "python",
   "name": "python3"
  },
  "language_info": {
   "codemirror_mode": {
    "name": "ipython",
    "version": 3
   },
   "file_extension": ".py",
   "mimetype": "text/x-python",
   "name": "python",
   "nbconvert_exporter": "python",
   "pygments_lexer": "ipython3",
   "version": "3.7.9"
  },
  "toc": {
   "base_numbering": 1,
   "nav_menu": {},
   "number_sections": true,
   "sideBar": true,
   "skip_h1_title": false,
   "title_cell": "Table of Contents",
   "title_sidebar": "Contents",
   "toc_cell": true,
   "toc_position": {
    "height": "calc(100% - 180px)",
    "left": "10px",
    "top": "150px",
    "width": "250px"
   },
   "toc_section_display": true,
   "toc_window_display": true
  },
  "varInspector": {
   "cols": {
    "lenName": 16,
    "lenType": 16,
    "lenVar": 40
   },
   "kernels_config": {
    "python": {
     "delete_cmd_postfix": "",
     "delete_cmd_prefix": "del ",
     "library": "var_list.py",
     "varRefreshCmd": "print(var_dic_list())"
    },
    "r": {
     "delete_cmd_postfix": ") ",
     "delete_cmd_prefix": "rm(",
     "library": "var_list.r",
     "varRefreshCmd": "cat(var_dic_list()) "
    }
   },
   "types_to_exclude": [
    "module",
    "function",
    "builtin_function_or_method",
    "instance",
    "_Feature"
   ],
   "window_display": false
  }
 },
 "nbformat": 4,
 "nbformat_minor": 4
}

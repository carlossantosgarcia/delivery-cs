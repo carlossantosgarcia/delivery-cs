{
 "cells": [
  {
   "cell_type": "markdown",
   "metadata": {},
   "source": [
    "<center> <font size='6' font-weight='bold'> Nettoyage des données </font> </center>"
   ]
  },
  {
   "cell_type": "markdown",
   "metadata": {},
   "source": [
    "**Description :** Notebook servant au nettoyage des données."
   ]
  },
  {
   "cell_type": "markdown",
   "metadata": {
    "toc": true
   },
   "source": [
    "<h1>Table of Contents<span class=\"tocSkip\"></span></h1>\n",
    "<div class=\"toc\"><ul class=\"toc-item\"><li><span><a href=\"#Import-des-données\" data-toc-modified-id=\"Import-des-données-1\"><span class=\"toc-item-num\">1&nbsp;&nbsp;</span>Import des données</a></span><ul class=\"toc-item\"><li><span><a href=\"#Informations-générales\" data-toc-modified-id=\"Informations-générales-1.1\"><span class=\"toc-item-num\">1.1&nbsp;&nbsp;</span>Informations générales</a></span></li><li><span><a href=\"#Lecture-des-CSV\" data-toc-modified-id=\"Lecture-des-CSV-1.2\"><span class=\"toc-item-num\">1.2&nbsp;&nbsp;</span>Lecture des CSV</a></span></li><li><span><a href=\"#Filtrage-par-noeud\" data-toc-modified-id=\"Filtrage-par-noeud-1.3\"><span class=\"toc-item-num\">1.3&nbsp;&nbsp;</span>Filtrage par noeud</a></span></li></ul></li><li><span><a href=\"#Nettoyage-des-données\" data-toc-modified-id=\"Nettoyage-des-données-2\"><span class=\"toc-item-num\">2&nbsp;&nbsp;</span>Nettoyage des données</a></span><ul class=\"toc-item\"><li><span><a href=\"#NaN\" data-toc-modified-id=\"NaN-2.1\"><span class=\"toc-item-num\">2.1&nbsp;&nbsp;</span>NaN</a></span></li><li><span><a href=\"#Conversion-en-datetime64\" data-toc-modified-id=\"Conversion-en-datetime64-2.2\"><span class=\"toc-item-num\">2.2&nbsp;&nbsp;</span>Conversion en datetime64</a></span></li></ul></li><li><span><a href=\"#Analyse-et-visualisation-(partie-1)\" data-toc-modified-id=\"Analyse-et-visualisation-(partie-1)-3\"><span class=\"toc-item-num\">3&nbsp;&nbsp;</span>Analyse et visualisation (partie 1)</a></span></li><li><span><a href=\"#Feature-engineering\" data-toc-modified-id=\"Feature-engineering-4\"><span class=\"toc-item-num\">4&nbsp;&nbsp;</span>Feature engineering</a></span><ul class=\"toc-item\"><li><span><a href=\"#Categorical-variables\" data-toc-modified-id=\"Categorical-variables-4.1\"><span class=\"toc-item-num\">4.1&nbsp;&nbsp;</span>Categorical variables</a></span><ul class=\"toc-item\"><li><span><a href=\"#Méthode-1-:-Avec-du-one-hot-encoding\" data-toc-modified-id=\"Méthode-1-:-Avec-du-one-hot-encoding-4.1.1\"><span class=\"toc-item-num\">4.1.1&nbsp;&nbsp;</span>Méthode 1 : Avec du one-hot encoding</a></span></li><li><span><a href=\"#Méthode-2-:-Avec-du-ordinal-encoding\" data-toc-modified-id=\"Méthode-2-:-Avec-du-ordinal-encoding-4.1.2\"><span class=\"toc-item-num\">4.1.2&nbsp;&nbsp;</span>Méthode 2 : Avec du ordinal encoding</a></span></li></ul></li><li><span><a href=\"#Prise-en-compte-des-périodes-de-vacances\" data-toc-modified-id=\"Prise-en-compte-des-périodes-de-vacances-4.2\"><span class=\"toc-item-num\">4.2&nbsp;&nbsp;</span>Prise en compte des périodes de vacances</a></span></li><li><span><a href=\"#Analyse-et-visualisation-(partie-2)\" data-toc-modified-id=\"Analyse-et-visualisation-(partie-2)-4.3\"><span class=\"toc-item-num\">4.3&nbsp;&nbsp;</span>Analyse et visualisation (partie 2)</a></span></li></ul></li><li><span><a href=\"#Export-train-/-dev-/-test\" data-toc-modified-id=\"Export-train-/-dev-/-test-5\"><span class=\"toc-item-num\">5&nbsp;&nbsp;</span>Export train / dev / test</a></span></li></ul></div>"
   ]
  },
  {
   "cell_type": "code",
   "execution_count": 31,
   "metadata": {},
   "outputs": [],
   "source": [
    "import os\n",
    "import datetime\n",
    "\n",
    "from functools import reduce\n",
    "\n",
    "import numpy as np\n",
    "import pandas as pd\n",
    "\n",
    "import seaborn as sns"
   ]
  },
  {
   "cell_type": "markdown",
   "metadata": {},
   "source": [
    "Les données sont enregistrées dans 3 fichiers CSV différents. Elles portent le nom suivant :"
   ]
  },
  {
   "cell_type": "code",
   "execution_count": 2,
   "metadata": {},
   "outputs": [],
   "source": [
    "data_path = './data'"
   ]
  },
  {
   "cell_type": "code",
   "execution_count": 3,
   "metadata": {
    "scrolled": true
   },
   "outputs": [
    {
     "data": {
      "text/plain": [
       "['convention.csv', '.DS_Store', 'champs-elysees.csv', 'Sts.csv']"
      ]
     },
     "execution_count": 3,
     "metadata": {},
     "output_type": "execute_result"
    }
   ],
   "source": [
    "os.listdir(path=data_path)"
   ]
  },
  {
   "cell_type": "markdown",
   "metadata": {},
   "source": [
    "# Import des données"
   ]
  },
  {
   "cell_type": "markdown",
   "metadata": {},
   "source": [
    "## Informations générales"
   ]
  },
  {
   "cell_type": "markdown",
   "metadata": {},
   "source": [
    "**Les données  ont été téléchargées depuis :**  \n",
    "- https://opendata.paris.fr/explore/dataset/comptages-routiers-permanents/information/?disjunctive.libelle&disjunctive.etat_trafic&disjunctive.libelle_nd_amont&disjunctive.libelle_nd_aval&sort=t_1h  \n",
    "  \n",
    "**Lien de la notice d'obtention des features :**  \n",
    "- https://opendata.paris.fr/api/datasets/1.0/comptages-routiers-permanents/attachments/notice_donnes_trafic_capteurs_permanents_version_20190607_pdf/  \n",
    "  \n",
    "**Quelques infos issues du site sur le dataset:**  \n",
    ">**Données de trafic routier issues des capteurs permanents sur 13 mois glissants en J-1**  \n",
    "Sur le réseau parisien, la mesure du trafic s’effectue majoritairement par le biais de boucles électromagnétiques implantés dans la chaussée.  \n",
    "La donnée est produite par la Direction de la Voirie et des déplacements - Service des Déplacements - Poste Central d'Exploitation Lutèce.  \n",
    "La donnée et les visualisations associées (Tableau, Carte et Dataviz) sont brutes sans aucune interprétation ou analyse. Elles donnent à voir la donnée telle qu'elle est publiée quotidiennement. \n",
    "Elles donnent un aperçu du taux d'occupation et du débit sur plus de 3000 tronçons de voies. A elles seules, elles ne permettent pas de caractériser la complexité de la circulation à Paris.  \n",
    ">  \n",
    "**Deux types de données sont ainsi élaborés :**\n",
    "le taux d’occupation, qui correspond au temps de présence de véhicules sur la boucle en pourcentage d’un intervalle de temps fixe (une heure pour les données fournies). Ainsi, 25% de taux d’occupation sur une heure signifie que des véhicules ont été présents sur la boucle pendant 15 minutes. Le taux fournit une information sur la congestion routière. L’implantation des boucles est pensée de manière à pouvoir déduire, d’une mesure ponctuelle, l’état du trafic sur un arc.\n",
    "le débit est le nombre de véhicules ayant passé le point de comptage pendant un intervalle de temps fixe (une heure pour les données fournies).  \n",
    "L'horodate horaire est effectué en fin de période d'élaboration. \n",
    "Par exemple, l’horodate « 2019-01-01 01:00:00 » désigne la période du 1er janvier 2019 à 00h00 au 1er janvier 2019 à 01h00.  \n",
    "Ainsi, l’observation couplée en un point du taux d’occupation et du débit permet de caractériser le trafic. Cela constitue l’un des fondements de l’ingénierie du trafic, et l’on nomme d’ailleurs cela le « diagramme fondamental ».\n",
    "Un débit peut correspondre à deux situations de trafic : fluide ou saturée, d’où la nécessité du taux d’occupation. A titre d’exemple : sur une heure, un débit de 100 véhicules par heure sur un axe habituellement très chargé peut se rencontrer de nuit (trafic fluide) ou bien en heure de pointe (trafic saturé).  \n",
    ">  \n",
    "**L’équipement du réseau parisien :**  \n",
    "Les principaux axes de la Ville de Paris sont équipés de stations de comptage des véhicules et de mesure du taux d’occupation, à des fins à la fois de régulation du trafic et des transports en commun, d’information aux usagers (diffusion sur le site Sytadin), et d’étude.\n",
    "Il existe deux types de stations sur le réseau : les stations de mesure du taux d’occupation seul, et des stations à la fois de mesure du taux et de comptage des véhicules.\n",
    "Les stations de mesure du taux sont implantées très régulièrement : elles permettent une connaissance fine des conditions de circulation.\n",
    "Les stations de débit sont moins nombreuses, et généralement implantées entre les principales intersections. En effet, le débit se conserve généralement sur une section entre deux grands carrefours."
   ]
  },
  {
   "cell_type": "markdown",
   "metadata": {},
   "source": [
    "## Lecture des CSV"
   ]
  },
  {
   "cell_type": "markdown",
   "metadata": {},
   "source": [
    "On regroupera directement toutes les lignes des 3 CSV dans un même DataFrame. Une colonne filename y a été ajoutée pour facilement avoir l'origine de la ligne à portée de main."
   ]
  },
  {
   "cell_type": "code",
   "execution_count": 4,
   "metadata": {},
   "outputs": [
    {
     "data": {
      "text/html": [
       "<div>\n",
       "<style scoped>\n",
       "    .dataframe tbody tr th:only-of-type {\n",
       "        vertical-align: middle;\n",
       "    }\n",
       "\n",
       "    .dataframe tbody tr th {\n",
       "        vertical-align: top;\n",
       "    }\n",
       "\n",
       "    .dataframe thead th {\n",
       "        text-align: right;\n",
       "    }\n",
       "</style>\n",
       "<table border=\"1\" class=\"dataframe\">\n",
       "  <thead>\n",
       "    <tr style=\"text-align: right;\">\n",
       "      <th></th>\n",
       "      <th>Libelle</th>\n",
       "      <th>Date et heure de comptage</th>\n",
       "      <th>Débit horaire</th>\n",
       "      <th>Taux d'occupation</th>\n",
       "      <th>Etat trafic</th>\n",
       "      <th>Identifiant noeud amont</th>\n",
       "      <th>Libelle noeud amont</th>\n",
       "      <th>Identifiant noeud aval</th>\n",
       "      <th>Libelle noeud aval</th>\n",
       "      <th>Etat arc</th>\n",
       "      <th>Date debut dispo data</th>\n",
       "      <th>Date fin dispo data</th>\n",
       "      <th>geo_point_2d</th>\n",
       "      <th>geo_shape</th>\n",
       "      <th>filename</th>\n",
       "    </tr>\n",
       "  </thead>\n",
       "  <tbody>\n",
       "    <tr>\n",
       "      <th>12248</th>\n",
       "      <td>Sts_Peres</td>\n",
       "      <td>2020-08-06T03:00:00+02:00</td>\n",
       "      <td>99.0</td>\n",
       "      <td>1.10222</td>\n",
       "      <td>Fluide</td>\n",
       "      <td>114.0</td>\n",
       "      <td>Sts_Peres-Voltaire</td>\n",
       "      <td>119.0</td>\n",
       "      <td>Sts_Peres-Universite</td>\n",
       "      <td>Invalide</td>\n",
       "      <td>2005-01-01</td>\n",
       "      <td>2019-06-01</td>\n",
       "      <td>48.8572803712,2.33245419072</td>\n",
       "      <td>{\"type\": \"LineString\", \"coordinates\": [[2.3332...</td>\n",
       "      <td>convention.csv</td>\n",
       "    </tr>\n",
       "    <tr>\n",
       "      <th>17437</th>\n",
       "      <td>Sts_Peres</td>\n",
       "      <td>2020-01-18T09:00:00+01:00</td>\n",
       "      <td>286.0</td>\n",
       "      <td>5.30278</td>\n",
       "      <td>Fluide</td>\n",
       "      <td>117.0</td>\n",
       "      <td>Sts_Peres-Grenelle</td>\n",
       "      <td>118.0</td>\n",
       "      <td>Sevres-Sts_Peres</td>\n",
       "      <td>Invalide</td>\n",
       "      <td>2005-01-01</td>\n",
       "      <td>2019-06-01</td>\n",
       "      <td>48.8523283513,2.32895140461</td>\n",
       "      <td>{\"type\": \"LineString\", \"coordinates\": [[2.3293...</td>\n",
       "      <td>convention.csv</td>\n",
       "    </tr>\n",
       "    <tr>\n",
       "      <th>160932</th>\n",
       "      <td>Convention</td>\n",
       "      <td>2019-12-18T03:00:00+01:00</td>\n",
       "      <td>37.0</td>\n",
       "      <td>0.43667</td>\n",
       "      <td>Fluide</td>\n",
       "      <td>2967.0</td>\n",
       "      <td>Convention-Lourmel</td>\n",
       "      <td>2968.0</td>\n",
       "      <td>Convention-Felix_Faure</td>\n",
       "      <td>Invalide</td>\n",
       "      <td>2005-01-01</td>\n",
       "      <td>2019-06-01</td>\n",
       "      <td>48.8410899245,2.28786733</td>\n",
       "      <td>{\"type\": \"LineString\", \"coordinates\": [[2.2878...</td>\n",
       "      <td>Sts.csv</td>\n",
       "    </tr>\n",
       "    <tr>\n",
       "      <th>57784</th>\n",
       "      <td>Convention</td>\n",
       "      <td>2020-06-10T13:00:00+02:00</td>\n",
       "      <td>302.0</td>\n",
       "      <td>NaN</td>\n",
       "      <td>Inconnu</td>\n",
       "      <td>2974.0</td>\n",
       "      <td>Convention-Olivier_de_Serres</td>\n",
       "      <td>2914.0</td>\n",
       "      <td>Convention-Vaugirard</td>\n",
       "      <td>Invalide</td>\n",
       "      <td>2005-01-01</td>\n",
       "      <td>2019-06-01</td>\n",
       "      <td>48.836994466,2.29718074341</td>\n",
       "      <td>{\"type\": \"LineString\", \"coordinates\": [[2.2979...</td>\n",
       "      <td>Sts.csv</td>\n",
       "    </tr>\n",
       "    <tr>\n",
       "      <th>159755</th>\n",
       "      <td>Convention</td>\n",
       "      <td>2020-11-17T20:00:00+01:00</td>\n",
       "      <td>212.0</td>\n",
       "      <td>5.92500</td>\n",
       "      <td>Fluide</td>\n",
       "      <td>2914.0</td>\n",
       "      <td>Convention-Vaugirard</td>\n",
       "      <td>2973.0</td>\n",
       "      <td>Convention-Blomet</td>\n",
       "      <td>Invalide</td>\n",
       "      <td>2005-01-01</td>\n",
       "      <td>2019-06-01</td>\n",
       "      <td>48.837636524,2.29550622839</td>\n",
       "      <td>{\"type\": \"LineString\", \"coordinates\": [[2.2964...</td>\n",
       "      <td>Sts.csv</td>\n",
       "    </tr>\n",
       "  </tbody>\n",
       "</table>\n",
       "</div>"
      ],
      "text/plain": [
       "           Libelle  Date et heure de comptage  Débit horaire  \\\n",
       "12248    Sts_Peres  2020-08-06T03:00:00+02:00           99.0   \n",
       "17437    Sts_Peres  2020-01-18T09:00:00+01:00          286.0   \n",
       "160932  Convention  2019-12-18T03:00:00+01:00           37.0   \n",
       "57784   Convention  2020-06-10T13:00:00+02:00          302.0   \n",
       "159755  Convention  2020-11-17T20:00:00+01:00          212.0   \n",
       "\n",
       "        Taux d'occupation Etat trafic  Identifiant noeud amont  \\\n",
       "12248             1.10222      Fluide                    114.0   \n",
       "17437             5.30278      Fluide                    117.0   \n",
       "160932            0.43667      Fluide                   2967.0   \n",
       "57784                 NaN     Inconnu                   2974.0   \n",
       "159755            5.92500      Fluide                   2914.0   \n",
       "\n",
       "                 Libelle noeud amont  Identifiant noeud aval  \\\n",
       "12248             Sts_Peres-Voltaire                   119.0   \n",
       "17437             Sts_Peres-Grenelle                   118.0   \n",
       "160932            Convention-Lourmel                  2968.0   \n",
       "57784   Convention-Olivier_de_Serres                  2914.0   \n",
       "159755          Convention-Vaugirard                  2973.0   \n",
       "\n",
       "            Libelle noeud aval  Etat arc Date debut dispo data  \\\n",
       "12248     Sts_Peres-Universite  Invalide            2005-01-01   \n",
       "17437         Sevres-Sts_Peres  Invalide            2005-01-01   \n",
       "160932  Convention-Felix_Faure  Invalide            2005-01-01   \n",
       "57784     Convention-Vaugirard  Invalide            2005-01-01   \n",
       "159755       Convention-Blomet  Invalide            2005-01-01   \n",
       "\n",
       "       Date fin dispo data                 geo_point_2d  \\\n",
       "12248           2019-06-01  48.8572803712,2.33245419072   \n",
       "17437           2019-06-01  48.8523283513,2.32895140461   \n",
       "160932          2019-06-01     48.8410899245,2.28786733   \n",
       "57784           2019-06-01   48.836994466,2.29718074341   \n",
       "159755          2019-06-01   48.837636524,2.29550622839   \n",
       "\n",
       "                                                geo_shape        filename  \n",
       "12248   {\"type\": \"LineString\", \"coordinates\": [[2.3332...  convention.csv  \n",
       "17437   {\"type\": \"LineString\", \"coordinates\": [[2.3293...  convention.csv  \n",
       "160932  {\"type\": \"LineString\", \"coordinates\": [[2.2878...         Sts.csv  \n",
       "57784   {\"type\": \"LineString\", \"coordinates\": [[2.2979...         Sts.csv  \n",
       "159755  {\"type\": \"LineString\", \"coordinates\": [[2.2964...         Sts.csv  "
      ]
     },
     "execution_count": 4,
     "metadata": {},
     "output_type": "execute_result"
    }
   ],
   "source": [
    "df = pd.concat(\n",
    "    [pd.read_csv(os.path.join(data_path, filename), sep=';', index_col=0).assign(filename=filename) for filename in os.listdir(path=data_path)],\n",
    "               ignore_index=True\n",
    "\n",
    ")\n",
    "\n",
    "df.sample(5)"
   ]
  },
  {
   "cell_type": "markdown",
   "metadata": {},
   "source": [
    "## Filtrage par noeud"
   ]
  },
  {
   "cell_type": "markdown",
   "metadata": {},
   "source": [
    "On peut déjà drop les identifiants des noeuds et les données liées à la géométrie car ils ne nous serviront pas pour la suite.  \n",
    "On supprimera aussi "
   ]
  },
  {
   "cell_type": "code",
   "execution_count": 5,
   "metadata": {},
   "outputs": [],
   "source": [
    "df = df.drop(columns=[\n",
    "    'Identifiant noeud amont', 'Identifiant noeud aval', 'geo_point_2d',\n",
    "    'geo_shape', 'Date debut dispo data', 'Date fin dispo data'\n",
    "])"
   ]
  },
  {
   "cell_type": "code",
   "execution_count": 6,
   "metadata": {},
   "outputs": [],
   "source": [
    "# Contient pour chaque fichier CSV un 2-tuple de la forme (noeud_amont, noeud_aval)\n",
    "dic_noeuds = {\n",
    "    'champs-elysees.csv': ('Av_Champs_Elysees-Washington', 'Av_Champs_Elysees-Berri'),\n",
    "    'convention.csv': ('Lecourbe-Convention', 'Convention-Blomet'),\n",
    "    'Sts.csv': ('Sts_Peres-Voltaire', 'Sts_Peres-Universite')\n",
    "}"
   ]
  },
  {
   "cell_type": "code",
   "execution_count": 7,
   "metadata": {
    "scrolled": true
   },
   "outputs": [
    {
     "name": "stdout",
     "output_type": "stream",
     "text": [
      "Taille du df avant filtrage: 235768\n",
      "Taille du df après filtrage: 9428\n"
     ]
    }
   ],
   "source": [
    "list_criteria = []\n",
    "for key, val in dic_noeuds.items():\n",
    "    criterion = (df['filename']==key) & (df['Libelle noeud amont']==val[0]) & (df['Libelle noeud aval']==val[1])\n",
    "    list_criteria.append(criterion)\n",
    "\n",
    "criterion_noeuds = reduce(lambda x, y: x | y, list_criteria)\n",
    "\n",
    "print(f'Taille du df avant filtrage: {len(df)}')\n",
    "df = df[criterion_noeuds]\n",
    "print(f'Taille du df après filtrage: {len(df)}')"
   ]
  },
  {
   "cell_type": "markdown",
   "metadata": {},
   "source": [
    "On peut désormais drop les libellés."
   ]
  },
  {
   "cell_type": "code",
   "execution_count": 8,
   "metadata": {},
   "outputs": [
    {
     "data": {
      "text/html": [
       "<div>\n",
       "<style scoped>\n",
       "    .dataframe tbody tr th:only-of-type {\n",
       "        vertical-align: middle;\n",
       "    }\n",
       "\n",
       "    .dataframe tbody tr th {\n",
       "        vertical-align: top;\n",
       "    }\n",
       "\n",
       "    .dataframe thead th {\n",
       "        text-align: right;\n",
       "    }\n",
       "</style>\n",
       "<table border=\"1\" class=\"dataframe\">\n",
       "  <thead>\n",
       "    <tr style=\"text-align: right;\">\n",
       "      <th></th>\n",
       "      <th>Libelle</th>\n",
       "      <th>Date et heure de comptage</th>\n",
       "      <th>Débit horaire</th>\n",
       "      <th>Taux d'occupation</th>\n",
       "      <th>Etat trafic</th>\n",
       "      <th>Etat arc</th>\n",
       "      <th>filename</th>\n",
       "    </tr>\n",
       "  </thead>\n",
       "  <tbody>\n",
       "    <tr>\n",
       "      <th>37720</th>\n",
       "      <td>AV_Champs_Elysees</td>\n",
       "      <td>2020-11-02T05:00:00+01:00</td>\n",
       "      <td>144.0</td>\n",
       "      <td>2.25611</td>\n",
       "      <td>Fluide</td>\n",
       "      <td>Invalide</td>\n",
       "      <td>champs-elysees.csv</td>\n",
       "    </tr>\n",
       "    <tr>\n",
       "      <th>37721</th>\n",
       "      <td>AV_Champs_Elysees</td>\n",
       "      <td>2020-11-01T23:00:00+01:00</td>\n",
       "      <td>245.0</td>\n",
       "      <td>8.11222</td>\n",
       "      <td>Fluide</td>\n",
       "      <td>Invalide</td>\n",
       "      <td>champs-elysees.csv</td>\n",
       "    </tr>\n",
       "    <tr>\n",
       "      <th>37722</th>\n",
       "      <td>AV_Champs_Elysees</td>\n",
       "      <td>2020-07-01T16:00:00+02:00</td>\n",
       "      <td>1138.0</td>\n",
       "      <td>17.86611</td>\n",
       "      <td>Pré-saturé</td>\n",
       "      <td>Invalide</td>\n",
       "      <td>champs-elysees.csv</td>\n",
       "    </tr>\n",
       "    <tr>\n",
       "      <th>37723</th>\n",
       "      <td>AV_Champs_Elysees</td>\n",
       "      <td>2020-07-01T22:00:00+02:00</td>\n",
       "      <td>880.0</td>\n",
       "      <td>16.03611</td>\n",
       "      <td>Pré-saturé</td>\n",
       "      <td>Invalide</td>\n",
       "      <td>champs-elysees.csv</td>\n",
       "    </tr>\n",
       "    <tr>\n",
       "      <th>37724</th>\n",
       "      <td>AV_Champs_Elysees</td>\n",
       "      <td>2020-08-05T03:00:00+02:00</td>\n",
       "      <td>487.0</td>\n",
       "      <td>6.35389</td>\n",
       "      <td>Fluide</td>\n",
       "      <td>Invalide</td>\n",
       "      <td>champs-elysees.csv</td>\n",
       "    </tr>\n",
       "  </tbody>\n",
       "</table>\n",
       "</div>"
      ],
      "text/plain": [
       "                 Libelle  Date et heure de comptage  Débit horaire  \\\n",
       "37720  AV_Champs_Elysees  2020-11-02T05:00:00+01:00          144.0   \n",
       "37721  AV_Champs_Elysees  2020-11-01T23:00:00+01:00          245.0   \n",
       "37722  AV_Champs_Elysees  2020-07-01T16:00:00+02:00         1138.0   \n",
       "37723  AV_Champs_Elysees  2020-07-01T22:00:00+02:00          880.0   \n",
       "37724  AV_Champs_Elysees  2020-08-05T03:00:00+02:00          487.0   \n",
       "\n",
       "       Taux d'occupation Etat trafic  Etat arc            filename  \n",
       "37720            2.25611      Fluide  Invalide  champs-elysees.csv  \n",
       "37721            8.11222      Fluide  Invalide  champs-elysees.csv  \n",
       "37722           17.86611  Pré-saturé  Invalide  champs-elysees.csv  \n",
       "37723           16.03611  Pré-saturé  Invalide  champs-elysees.csv  \n",
       "37724            6.35389      Fluide  Invalide  champs-elysees.csv  "
      ]
     },
     "execution_count": 8,
     "metadata": {},
     "output_type": "execute_result"
    }
   ],
   "source": [
    "df = df.drop(columns=['Libelle noeud amont', 'Libelle noeud aval'])\n",
    "df.head()"
   ]
  },
  {
   "cell_type": "markdown",
   "metadata": {},
   "source": [
    "# Nettoyage des données"
   ]
  },
  {
   "cell_type": "code",
   "execution_count": 9,
   "metadata": {},
   "outputs": [
    {
     "data": {
      "text/plain": [
       "Libelle                       object\n",
       "Date et heure de comptage     object\n",
       "Débit horaire                float64\n",
       "Taux d'occupation            float64\n",
       "Etat trafic                   object\n",
       "Etat arc                      object\n",
       "filename                      object\n",
       "dtype: object"
      ]
     },
     "execution_count": 9,
     "metadata": {},
     "output_type": "execute_result"
    }
   ],
   "source": [
    "df.dtypes"
   ]
  },
  {
   "cell_type": "markdown",
   "metadata": {},
   "source": [
    "## NaN"
   ]
  },
  {
   "cell_type": "code",
   "execution_count": 10,
   "metadata": {},
   "outputs": [
    {
     "data": {
      "text/plain": [
       "Libelle                       0\n",
       "Date et heure de comptage     0\n",
       "Débit horaire                77\n",
       "Taux d'occupation            85\n",
       "Etat trafic                   0\n",
       "Etat arc                      0\n",
       "filename                      0\n",
       "dtype: int64"
      ]
     },
     "execution_count": 10,
     "metadata": {},
     "output_type": "execute_result"
    }
   ],
   "source": [
    "df.isna().sum()"
   ]
  },
  {
   "cell_type": "code",
   "execution_count": 11,
   "metadata": {},
   "outputs": [
    {
     "data": {
      "text/plain": [
       "Libelle                      0.000000\n",
       "Date et heure de comptage    0.000000\n",
       "Débit horaire                0.008167\n",
       "Taux d'occupation            0.009016\n",
       "Etat trafic                  0.000000\n",
       "Etat arc                     0.000000\n",
       "filename                     0.000000\n",
       "dtype: float64"
      ]
     },
     "execution_count": 11,
     "metadata": {},
     "output_type": "execute_result"
    }
   ],
   "source": [
    "df.isna().mean()"
   ]
  },
  {
   "cell_type": "markdown",
   "metadata": {},
   "source": [
    "Moins de 1% des lignes ont des NaN. On peut donc drop ces lignes de manière sereine."
   ]
  },
  {
   "cell_type": "code",
   "execution_count": 12,
   "metadata": {},
   "outputs": [
    {
     "data": {
      "text/plain": [
       "Libelle                      0\n",
       "Date et heure de comptage    0\n",
       "Débit horaire                0\n",
       "Taux d'occupation            0\n",
       "Etat trafic                  0\n",
       "Etat arc                     0\n",
       "filename                     0\n",
       "dtype: int64"
      ]
     },
     "execution_count": 12,
     "metadata": {},
     "output_type": "execute_result"
    }
   ],
   "source": [
    "df = df.dropna()\n",
    "df.isna().sum()"
   ]
  },
  {
   "cell_type": "markdown",
   "metadata": {},
   "source": [
    "## Conversion en datetime64"
   ]
  },
  {
   "cell_type": "code",
   "execution_count": 13,
   "metadata": {},
   "outputs": [
    {
     "data": {
      "text/plain": [
       "37720    2020-11-02T05:00:00+01:00\n",
       "37721    2020-11-01T23:00:00+01:00\n",
       "37722    2020-07-01T16:00:00+02:00\n",
       "37723    2020-07-01T22:00:00+02:00\n",
       "37724    2020-08-05T03:00:00+02:00\n",
       "                   ...            \n",
       "47143    2020-05-31T20:00:00+02:00\n",
       "47144    2020-06-01T02:00:00+02:00\n",
       "47145    2020-06-01T04:00:00+02:00\n",
       "47146    2020-06-01T01:00:00+02:00\n",
       "47147    2020-06-01T03:00:00+02:00\n",
       "Name: Date et heure de comptage, Length: 9343, dtype: object"
      ]
     },
     "execution_count": 13,
     "metadata": {},
     "output_type": "execute_result"
    }
   ],
   "source": [
    "df['Date et heure de comptage']"
   ]
  },
  {
   "cell_type": "code",
   "execution_count": 14,
   "metadata": {},
   "outputs": [
    {
     "data": {
      "text/plain": [
       "37720    2020-11-02 05:00:00+01:00\n",
       "37721    2020-11-01 23:00:00+01:00\n",
       "37722    2020-07-01 16:00:00+02:00\n",
       "37723    2020-07-01 22:00:00+02:00\n",
       "37724    2020-08-05 03:00:00+02:00\n",
       "                   ...            \n",
       "47143    2020-05-31 20:00:00+02:00\n",
       "47144    2020-06-01 02:00:00+02:00\n",
       "47145    2020-06-01 04:00:00+02:00\n",
       "47146    2020-06-01 01:00:00+02:00\n",
       "47147    2020-06-01 03:00:00+02:00\n",
       "Name: Date et heure de comptage, Length: 9343, dtype: object"
      ]
     },
     "execution_count": 14,
     "metadata": {},
     "output_type": "execute_result"
    }
   ],
   "source": [
    "# utc=True pour gérer les problèmes de timezone\n",
    "df['Date et heure de comptage'] = pd.to_datetime(df['Date et heure de comptage'])\n",
    "df['Date et heure de comptage']"
   ]
  },
  {
   "cell_type": "code",
   "execution_count": 15,
   "metadata": {},
   "outputs": [
    {
     "data": {
      "text/plain": [
       "Libelle                       object\n",
       "Date et heure de comptage     object\n",
       "Débit horaire                float64\n",
       "Taux d'occupation            float64\n",
       "Etat trafic                   object\n",
       "Etat arc                      object\n",
       "filename                      object\n",
       "dtype: object"
      ]
     },
     "execution_count": 15,
     "metadata": {},
     "output_type": "execute_result"
    }
   ],
   "source": [
    "df.dtypes"
   ]
  },
  {
   "cell_type": "code",
   "execution_count": 16,
   "metadata": {},
   "outputs": [
    {
     "name": "stdout",
     "output_type": "stream",
     "text": [
      "Première mesure de comptage prise : 01/11/2019\n",
      "Dernière mesure de comptage prise : 30/11/2020\n"
     ]
    }
   ],
   "source": [
    "date_begin = df['Date et heure de comptage'].min().strftime('%d/%m/%Y')\n",
    "date_end = df['Date et heure de comptage'].max().strftime('%d/%m/%Y')\n",
    "print(f'Première mesure de comptage prise : {date_begin}')\n",
    "print(f'Dernière mesure de comptage prise : {date_end}')"
   ]
  },
  {
   "cell_type": "markdown",
   "metadata": {},
   "source": [
    "# Analyse et visualisation (partie 1)"
   ]
  },
  {
   "cell_type": "code",
   "execution_count": 17,
   "metadata": {},
   "outputs": [
    {
     "data": {
      "text/html": [
       "<div>\n",
       "<style scoped>\n",
       "    .dataframe tbody tr th:only-of-type {\n",
       "        vertical-align: middle;\n",
       "    }\n",
       "\n",
       "    .dataframe tbody tr th {\n",
       "        vertical-align: top;\n",
       "    }\n",
       "\n",
       "    .dataframe thead th {\n",
       "        text-align: right;\n",
       "    }\n",
       "</style>\n",
       "<table border=\"1\" class=\"dataframe\">\n",
       "  <thead>\n",
       "    <tr style=\"text-align: right;\">\n",
       "      <th></th>\n",
       "      <th>Débit horaire</th>\n",
       "      <th>Taux d'occupation</th>\n",
       "    </tr>\n",
       "  </thead>\n",
       "  <tbody>\n",
       "    <tr>\n",
       "      <th>count</th>\n",
       "      <td>9343.000000</td>\n",
       "      <td>9343.000000</td>\n",
       "    </tr>\n",
       "    <tr>\n",
       "      <th>mean</th>\n",
       "      <td>708.792893</td>\n",
       "      <td>13.150319</td>\n",
       "    </tr>\n",
       "    <tr>\n",
       "      <th>std</th>\n",
       "      <td>413.836128</td>\n",
       "      <td>11.412242</td>\n",
       "    </tr>\n",
       "    <tr>\n",
       "      <th>min</th>\n",
       "      <td>0.000000</td>\n",
       "      <td>0.000000</td>\n",
       "    </tr>\n",
       "    <tr>\n",
       "      <th>25%</th>\n",
       "      <td>300.000000</td>\n",
       "      <td>3.589445</td>\n",
       "    </tr>\n",
       "    <tr>\n",
       "      <th>50%</th>\n",
       "      <td>774.000000</td>\n",
       "      <td>10.692220</td>\n",
       "    </tr>\n",
       "    <tr>\n",
       "      <th>75%</th>\n",
       "      <td>1072.000000</td>\n",
       "      <td>19.311390</td>\n",
       "    </tr>\n",
       "    <tr>\n",
       "      <th>max</th>\n",
       "      <td>1610.000000</td>\n",
       "      <td>84.668890</td>\n",
       "    </tr>\n",
       "  </tbody>\n",
       "</table>\n",
       "</div>"
      ],
      "text/plain": [
       "       Débit horaire  Taux d'occupation\n",
       "count    9343.000000        9343.000000\n",
       "mean      708.792893          13.150319\n",
       "std       413.836128          11.412242\n",
       "min         0.000000           0.000000\n",
       "25%       300.000000           3.589445\n",
       "50%       774.000000          10.692220\n",
       "75%      1072.000000          19.311390\n",
       "max      1610.000000          84.668890"
      ]
     },
     "execution_count": 17,
     "metadata": {},
     "output_type": "execute_result"
    }
   ],
   "source": [
    "df[['Débit horaire', \"Taux d'occupation\"]].describe()"
   ]
  },
  {
   "cell_type": "code",
   "execution_count": 18,
   "metadata": {},
   "outputs": [
    {
     "data": {
      "text/plain": [
       "<AxesSubplot:>"
      ]
     },
     "execution_count": 18,
     "metadata": {},
     "output_type": "execute_result"
    },
    {
     "data": {
      "image/png": "[encoded data removed]",
      "text/plain": [
       "<Figure size 432x288 with 1 Axes>"
      ]
     },
     "metadata": {
      "needs_background": "light"
     },
     "output_type": "display_data"
    }
   ],
   "source": [
    "df[['Débit horaire', \"Taux d'occupation\"]].plot()"
   ]
  },
  {
   "cell_type": "code",
   "execution_count": 20,
   "metadata": {},
   "outputs": [
    {
     "data": {
      "text/plain": [
       "<AxesSubplot:ylabel='Débit horaire'>"
      ]
     },
     "execution_count": 20,
     "metadata": {},
     "output_type": "execute_result"
    },
    {
     "data": {
      "image/png": "[encoded data removed]",
      "text/plain": [
       "<Figure size 432x288 with 1 Axes>"
      ]
     },
     "metadata": {
      "needs_background": "light"
     },
     "output_type": "display_data"
    }
   ],
   "source": [
    "sns.violinplot(y='Débit horaire', data=df)"
   ]
  },
  {
   "cell_type": "code",
   "execution_count": 21,
   "metadata": {},
   "outputs": [
    {
     "data": {
      "text/plain": [
       "<AxesSubplot:ylabel=\"Taux d'occupation\">"
      ]
     },
     "execution_count": 21,
     "metadata": {},
     "output_type": "execute_result"
    },
    {
     "data": {
      "image/png": "[encoded data removed]",
      "text/plain": [
       "<Figure size 432x288 with 1 Axes>"
      ]
     },
     "metadata": {
      "needs_background": "light"
     },
     "output_type": "display_data"
    }
   ],
   "source": [
    "sns.violinplot(y=\"Taux d'occupation\", data=df)"
   ]
  },
  {
   "cell_type": "code",
   "execution_count": 22,
   "metadata": {
    "scrolled": true
   },
   "outputs": [
    {
     "data": {
      "text/plain": [
       "<seaborn.axisgrid.FacetGrid at 0x7fb340846990>"
      ]
     },
     "execution_count": 22,
     "metadata": {},
     "output_type": "execute_result"
    },
    {
     "data": {
      "image/png": "[encoded data removed]",
      "text/plain": [
       "<Figure size 360x360 with 1 Axes>"
      ]
     },
     "metadata": {
      "needs_background": "light"
     },
     "output_type": "display_data"
    }
   ],
   "source": [
    "sns.displot(df, x=\"Taux d'occupation\")"
   ]
  },
  {
   "cell_type": "markdown",
   "metadata": {},
   "source": [
    "# Feature engineering"
   ]
  },
  {
   "cell_type": "markdown",
   "metadata": {},
   "source": [
    "## Categorical variables"
   ]
  },
  {
   "cell_type": "markdown",
   "metadata": {},
   "source": [
    "Ajoutons un *one-hot encoding* pour les variables catégoriques. On n'oubliera cependant pas de passer à un *dummy encoding* avant d'entraîner le modèle pour éviter un problème de dimension. ‼️"
   ]
  },
  {
   "cell_type": "code",
   "execution_count": 23,
   "metadata": {},
   "outputs": [
    {
     "data": {
      "text/plain": [
       "Libelle                       object\n",
       "Date et heure de comptage     object\n",
       "Débit horaire                float64\n",
       "Taux d'occupation            float64\n",
       "Etat trafic                   object\n",
       "Etat arc                      object\n",
       "filename                      object\n",
       "dtype: object"
      ]
     },
     "execution_count": 23,
     "metadata": {},
     "output_type": "execute_result"
    }
   ],
   "source": [
    "df.dtypes"
   ]
  },
  {
   "cell_type": "code",
   "execution_count": 24,
   "metadata": {},
   "outputs": [
    {
     "data": {
      "text/html": [
       "<div>\n",
       "<style scoped>\n",
       "    .dataframe tbody tr th:only-of-type {\n",
       "        vertical-align: middle;\n",
       "    }\n",
       "\n",
       "    .dataframe tbody tr th {\n",
       "        vertical-align: top;\n",
       "    }\n",
       "\n",
       "    .dataframe thead th {\n",
       "        text-align: right;\n",
       "    }\n",
       "</style>\n",
       "<table border=\"1\" class=\"dataframe\">\n",
       "  <thead>\n",
       "    <tr style=\"text-align: right;\">\n",
       "      <th></th>\n",
       "      <th>Etat trafic</th>\n",
       "      <th>Etat arc</th>\n",
       "    </tr>\n",
       "  </thead>\n",
       "  <tbody>\n",
       "    <tr>\n",
       "      <th>37720</th>\n",
       "      <td>Fluide</td>\n",
       "      <td>Invalide</td>\n",
       "    </tr>\n",
       "    <tr>\n",
       "      <th>37721</th>\n",
       "      <td>Fluide</td>\n",
       "      <td>Invalide</td>\n",
       "    </tr>\n",
       "    <tr>\n",
       "      <th>37722</th>\n",
       "      <td>Pré-saturé</td>\n",
       "      <td>Invalide</td>\n",
       "    </tr>\n",
       "    <tr>\n",
       "      <th>37723</th>\n",
       "      <td>Pré-saturé</td>\n",
       "      <td>Invalide</td>\n",
       "    </tr>\n",
       "    <tr>\n",
       "      <th>37724</th>\n",
       "      <td>Fluide</td>\n",
       "      <td>Invalide</td>\n",
       "    </tr>\n",
       "  </tbody>\n",
       "</table>\n",
       "</div>"
      ],
      "text/plain": [
       "      Etat trafic  Etat arc\n",
       "37720      Fluide  Invalide\n",
       "37721      Fluide  Invalide\n",
       "37722  Pré-saturé  Invalide\n",
       "37723  Pré-saturé  Invalide\n",
       "37724      Fluide  Invalide"
      ]
     },
     "execution_count": 24,
     "metadata": {},
     "output_type": "execute_result"
    }
   ],
   "source": [
    "df_categorical = df.select_dtypes(include=['object']).drop(\n",
    "    ['Date et heure de comptage', 'Libelle', 'filename'], axis=1)\n",
    "df_categorical.head()"
   ]
  },
  {
   "cell_type": "markdown",
   "metadata": {},
   "source": [
    "### Méthode 1 : Avec du one-hot encoding"
   ]
  },
  {
   "cell_type": "code",
   "execution_count": 25,
   "metadata": {
    "scrolled": true
   },
   "outputs": [
    {
     "data": {
      "text/html": [
       "<div>\n",
       "<style scoped>\n",
       "    .dataframe tbody tr th:only-of-type {\n",
       "        vertical-align: middle;\n",
       "    }\n",
       "\n",
       "    .dataframe tbody tr th {\n",
       "        vertical-align: top;\n",
       "    }\n",
       "\n",
       "    .dataframe thead th {\n",
       "        text-align: right;\n",
       "    }\n",
       "</style>\n",
       "<table border=\"1\" class=\"dataframe\">\n",
       "  <thead>\n",
       "    <tr style=\"text-align: right;\">\n",
       "      <th></th>\n",
       "      <th>Etat trafic_Bloqué</th>\n",
       "      <th>Etat trafic_Fluide</th>\n",
       "      <th>Etat trafic_Pré-saturé</th>\n",
       "      <th>Etat trafic_Saturé</th>\n",
       "      <th>Etat arc_Barré</th>\n",
       "      <th>Etat arc_Invalide</th>\n",
       "    </tr>\n",
       "  </thead>\n",
       "  <tbody>\n",
       "    <tr>\n",
       "      <th>37720</th>\n",
       "      <td>0</td>\n",
       "      <td>1</td>\n",
       "      <td>0</td>\n",
       "      <td>0</td>\n",
       "      <td>0</td>\n",
       "      <td>1</td>\n",
       "    </tr>\n",
       "    <tr>\n",
       "      <th>37721</th>\n",
       "      <td>0</td>\n",
       "      <td>1</td>\n",
       "      <td>0</td>\n",
       "      <td>0</td>\n",
       "      <td>0</td>\n",
       "      <td>1</td>\n",
       "    </tr>\n",
       "    <tr>\n",
       "      <th>37722</th>\n",
       "      <td>0</td>\n",
       "      <td>0</td>\n",
       "      <td>1</td>\n",
       "      <td>0</td>\n",
       "      <td>0</td>\n",
       "      <td>1</td>\n",
       "    </tr>\n",
       "    <tr>\n",
       "      <th>37723</th>\n",
       "      <td>0</td>\n",
       "      <td>0</td>\n",
       "      <td>1</td>\n",
       "      <td>0</td>\n",
       "      <td>0</td>\n",
       "      <td>1</td>\n",
       "    </tr>\n",
       "    <tr>\n",
       "      <th>37724</th>\n",
       "      <td>0</td>\n",
       "      <td>1</td>\n",
       "      <td>0</td>\n",
       "      <td>0</td>\n",
       "      <td>0</td>\n",
       "      <td>1</td>\n",
       "    </tr>\n",
       "    <tr>\n",
       "      <th>...</th>\n",
       "      <td>...</td>\n",
       "      <td>...</td>\n",
       "      <td>...</td>\n",
       "      <td>...</td>\n",
       "      <td>...</td>\n",
       "      <td>...</td>\n",
       "    </tr>\n",
       "    <tr>\n",
       "      <th>47143</th>\n",
       "      <td>0</td>\n",
       "      <td>0</td>\n",
       "      <td>1</td>\n",
       "      <td>0</td>\n",
       "      <td>0</td>\n",
       "      <td>1</td>\n",
       "    </tr>\n",
       "    <tr>\n",
       "      <th>47144</th>\n",
       "      <td>0</td>\n",
       "      <td>1</td>\n",
       "      <td>0</td>\n",
       "      <td>0</td>\n",
       "      <td>0</td>\n",
       "      <td>1</td>\n",
       "    </tr>\n",
       "    <tr>\n",
       "      <th>47145</th>\n",
       "      <td>0</td>\n",
       "      <td>1</td>\n",
       "      <td>0</td>\n",
       "      <td>0</td>\n",
       "      <td>0</td>\n",
       "      <td>1</td>\n",
       "    </tr>\n",
       "    <tr>\n",
       "      <th>47146</th>\n",
       "      <td>0</td>\n",
       "      <td>1</td>\n",
       "      <td>0</td>\n",
       "      <td>0</td>\n",
       "      <td>0</td>\n",
       "      <td>1</td>\n",
       "    </tr>\n",
       "    <tr>\n",
       "      <th>47147</th>\n",
       "      <td>0</td>\n",
       "      <td>1</td>\n",
       "      <td>0</td>\n",
       "      <td>0</td>\n",
       "      <td>0</td>\n",
       "      <td>1</td>\n",
       "    </tr>\n",
       "  </tbody>\n",
       "</table>\n",
       "<p>9343 rows × 6 columns</p>\n",
       "</div>"
      ],
      "text/plain": [
       "       Etat trafic_Bloqué  Etat trafic_Fluide  Etat trafic_Pré-saturé  \\\n",
       "37720                   0                   1                       0   \n",
       "37721                   0                   1                       0   \n",
       "37722                   0                   0                       1   \n",
       "37723                   0                   0                       1   \n",
       "37724                   0                   1                       0   \n",
       "...                   ...                 ...                     ...   \n",
       "47143                   0                   0                       1   \n",
       "47144                   0                   1                       0   \n",
       "47145                   0                   1                       0   \n",
       "47146                   0                   1                       0   \n",
       "47147                   0                   1                       0   \n",
       "\n",
       "       Etat trafic_Saturé  Etat arc_Barré  Etat arc_Invalide  \n",
       "37720                   0               0                  1  \n",
       "37721                   0               0                  1  \n",
       "37722                   0               0                  1  \n",
       "37723                   0               0                  1  \n",
       "37724                   0               0                  1  \n",
       "...                   ...             ...                ...  \n",
       "47143                   0               0                  1  \n",
       "47144                   0               0                  1  \n",
       "47145                   0               0                  1  \n",
       "47146                   0               0                  1  \n",
       "47147                   0               0                  1  \n",
       "\n",
       "[9343 rows x 6 columns]"
      ]
     },
     "execution_count": 25,
     "metadata": {},
     "output_type": "execute_result"
    }
   ],
   "source": [
    "one_hot_encoding = pd.get_dummies(df_categorical, drop_first=False)\n",
    "one_hot_encoding"
   ]
  },
  {
   "cell_type": "code",
   "execution_count": 36,
   "metadata": {
    "scrolled": true
   },
   "outputs": [
    {
     "data": {
      "text/html": [
       "<div>\n",
       "<style scoped>\n",
       "    .dataframe tbody tr th:only-of-type {\n",
       "        vertical-align: middle;\n",
       "    }\n",
       "\n",
       "    .dataframe tbody tr th {\n",
       "        vertical-align: top;\n",
       "    }\n",
       "\n",
       "    .dataframe thead th {\n",
       "        text-align: right;\n",
       "    }\n",
       "</style>\n",
       "<table border=\"1\" class=\"dataframe\">\n",
       "  <thead>\n",
       "    <tr style=\"text-align: right;\">\n",
       "      <th></th>\n",
       "      <th>Libelle</th>\n",
       "      <th>Date et heure de comptage</th>\n",
       "      <th>Débit horaire</th>\n",
       "      <th>Taux d'occupation</th>\n",
       "      <th>filename</th>\n",
       "      <th>Etat trafic_Bloqué</th>\n",
       "      <th>Etat trafic_Fluide</th>\n",
       "      <th>Etat trafic_Pré-saturé</th>\n",
       "      <th>Etat trafic_Saturé</th>\n",
       "      <th>Etat arc_Barré</th>\n",
       "      <th>Etat arc_Invalide</th>\n",
       "    </tr>\n",
       "  </thead>\n",
       "  <tbody>\n",
       "    <tr>\n",
       "      <th>46858</th>\n",
       "      <td>AV_Champs_Elysees</td>\n",
       "      <td>2019-12-30 22:00:00+01:00</td>\n",
       "      <td>1055.0</td>\n",
       "      <td>36.24722</td>\n",
       "      <td>champs-elysees.csv</td>\n",
       "      <td>0</td>\n",
       "      <td>0</td>\n",
       "      <td>0</td>\n",
       "      <td>1</td>\n",
       "      <td>0</td>\n",
       "      <td>1</td>\n",
       "    </tr>\n",
       "    <tr>\n",
       "      <th>45010</th>\n",
       "      <td>AV_Champs_Elysees</td>\n",
       "      <td>2020-07-28 14:00:00+02:00</td>\n",
       "      <td>1017.0</td>\n",
       "      <td>15.33833</td>\n",
       "      <td>champs-elysees.csv</td>\n",
       "      <td>0</td>\n",
       "      <td>0</td>\n",
       "      <td>1</td>\n",
       "      <td>0</td>\n",
       "      <td>0</td>\n",
       "      <td>1</td>\n",
       "    </tr>\n",
       "    <tr>\n",
       "      <th>45422</th>\n",
       "      <td>AV_Champs_Elysees</td>\n",
       "      <td>2020-02-23 14:00:00+01:00</td>\n",
       "      <td>953.0</td>\n",
       "      <td>26.73389</td>\n",
       "      <td>champs-elysees.csv</td>\n",
       "      <td>0</td>\n",
       "      <td>0</td>\n",
       "      <td>1</td>\n",
       "      <td>0</td>\n",
       "      <td>0</td>\n",
       "      <td>1</td>\n",
       "    </tr>\n",
       "    <tr>\n",
       "      <th>42704</th>\n",
       "      <td>AV_Champs_Elysees</td>\n",
       "      <td>2020-08-22 15:00:00+02:00</td>\n",
       "      <td>872.0</td>\n",
       "      <td>12.86334</td>\n",
       "      <td>champs-elysees.csv</td>\n",
       "      <td>0</td>\n",
       "      <td>1</td>\n",
       "      <td>0</td>\n",
       "      <td>0</td>\n",
       "      <td>0</td>\n",
       "      <td>1</td>\n",
       "    </tr>\n",
       "    <tr>\n",
       "      <th>45690</th>\n",
       "      <td>AV_Champs_Elysees</td>\n",
       "      <td>2020-09-30 10:00:00+02:00</td>\n",
       "      <td>1403.0</td>\n",
       "      <td>19.31778</td>\n",
       "      <td>champs-elysees.csv</td>\n",
       "      <td>0</td>\n",
       "      <td>0</td>\n",
       "      <td>1</td>\n",
       "      <td>0</td>\n",
       "      <td>0</td>\n",
       "      <td>1</td>\n",
       "    </tr>\n",
       "  </tbody>\n",
       "</table>\n",
       "</div>"
      ],
      "text/plain": [
       "                 Libelle  Date et heure de comptage  Débit horaire  \\\n",
       "46858  AV_Champs_Elysees  2019-12-30 22:00:00+01:00         1055.0   \n",
       "45010  AV_Champs_Elysees  2020-07-28 14:00:00+02:00         1017.0   \n",
       "45422  AV_Champs_Elysees  2020-02-23 14:00:00+01:00          953.0   \n",
       "42704  AV_Champs_Elysees  2020-08-22 15:00:00+02:00          872.0   \n",
       "45690  AV_Champs_Elysees  2020-09-30 10:00:00+02:00         1403.0   \n",
       "\n",
       "       Taux d'occupation            filename  Etat trafic_Bloqué  \\\n",
       "46858           36.24722  champs-elysees.csv                   0   \n",
       "45010           15.33833  champs-elysees.csv                   0   \n",
       "45422           26.73389  champs-elysees.csv                   0   \n",
       "42704           12.86334  champs-elysees.csv                   0   \n",
       "45690           19.31778  champs-elysees.csv                   0   \n",
       "\n",
       "       Etat trafic_Fluide  Etat trafic_Pré-saturé  Etat trafic_Saturé  \\\n",
       "46858                   0                       0                   1   \n",
       "45010                   0                       1                   0   \n",
       "45422                   0                       1                   0   \n",
       "42704                   1                       0                   0   \n",
       "45690                   0                       1                   0   \n",
       "\n",
       "       Etat arc_Barré  Etat arc_Invalide  \n",
       "46858               0                  1  \n",
       "45010               0                  1  \n",
       "45422               0                  1  \n",
       "42704               0                  1  \n",
       "45690               0                  1  "
      ]
     },
     "execution_count": 36,
     "metadata": {},
     "output_type": "execute_result"
    }
   ],
   "source": [
    "df_onehot = pd.concat([df.drop(df_categorical.columns, axis=1), one_hot_encoding], axis=1)\n",
    "df_onehot.sample(5)"
   ]
  },
  {
   "cell_type": "code",
   "execution_count": 37,
   "metadata": {},
   "outputs": [
    {
     "data": {
      "image/png": "[encoded data removed]",
      "text/plain": [
       "<Figure size 432x288 with 2 Axes>"
      ]
     },
     "metadata": {},
     "output_type": "display_data"
    }
   ],
   "source": [
    "corr = df_onehot.corr()\n",
    "mask = np.zeros_like(corr)\n",
    "mask[np.triu_indices_from(mask)] = True\n",
    "with sns.axes_style(\"white\"):\n",
    "    ax = sns.heatmap(corr, mask=mask, vmax=.3, square=True)"
   ]
  },
  {
   "cell_type": "markdown",
   "metadata": {},
   "source": [
    "### Méthode 2 : Avec du ordinal encoding"
   ]
  },
  {
   "cell_type": "markdown",
   "metadata": {},
   "source": [
    "Il semble en réalité plus pertinent d'utiliser un *ordinal encoding* pour donner une relation d'ordre à la feature. On se servira pour cela des informations contenues dans la notice.\n",
    "<img src=\"ressources/ordinal_encoding.png\" />"
   ]
  },
  {
   "cell_type": "code",
   "execution_count": 29,
   "metadata": {},
   "outputs": [
    {
     "data": {
      "text/plain": [
       "37720        Fluide\n",
       "37721        Fluide\n",
       "37722    Pré-saturé\n",
       "37723    Pré-saturé\n",
       "37724        Fluide\n",
       "            ...    \n",
       "47143    Pré-saturé\n",
       "47144        Fluide\n",
       "47145        Fluide\n",
       "47146        Fluide\n",
       "47147        Fluide\n",
       "Name: Etat trafic, Length: 9343, dtype: object"
      ]
     },
     "execution_count": 29,
     "metadata": {},
     "output_type": "execute_result"
    }
   ],
   "source": [
    " df['Etat trafic']"
   ]
  },
  {
   "cell_type": "code",
   "execution_count": 32,
   "metadata": {
    "scrolled": false
   },
   "outputs": [
    {
     "data": {
      "text/html": [
       "<div>\n",
       "<style scoped>\n",
       "    .dataframe tbody tr th:only-of-type {\n",
       "        vertical-align: middle;\n",
       "    }\n",
       "\n",
       "    .dataframe tbody tr th {\n",
       "        vertical-align: top;\n",
       "    }\n",
       "\n",
       "    .dataframe thead th {\n",
       "        text-align: right;\n",
       "    }\n",
       "</style>\n",
       "<table border=\"1\" class=\"dataframe\">\n",
       "  <thead>\n",
       "    <tr style=\"text-align: right;\">\n",
       "      <th></th>\n",
       "      <th>Libelle</th>\n",
       "      <th>Date et heure de comptage</th>\n",
       "      <th>Débit horaire</th>\n",
       "      <th>Taux d'occupation</th>\n",
       "      <th>Etat trafic</th>\n",
       "      <th>Etat arc</th>\n",
       "      <th>filename</th>\n",
       "    </tr>\n",
       "  </thead>\n",
       "  <tbody>\n",
       "    <tr>\n",
       "      <th>46876</th>\n",
       "      <td>AV_Champs_Elysees</td>\n",
       "      <td>2020-04-01 04:00:00+02:00</td>\n",
       "      <td>32.0</td>\n",
       "      <td>0.39445</td>\n",
       "      <td>1</td>\n",
       "      <td>Invalide</td>\n",
       "      <td>champs-elysees.csv</td>\n",
       "    </tr>\n",
       "    <tr>\n",
       "      <th>43660</th>\n",
       "      <td>AV_Champs_Elysees</td>\n",
       "      <td>2019-11-25 02:00:00+01:00</td>\n",
       "      <td>479.0</td>\n",
       "      <td>6.55889</td>\n",
       "      <td>1</td>\n",
       "      <td>Invalide</td>\n",
       "      <td>champs-elysees.csv</td>\n",
       "    </tr>\n",
       "    <tr>\n",
       "      <th>39705</th>\n",
       "      <td>AV_Champs_Elysees</td>\n",
       "      <td>2020-07-14 22:00:00+02:00</td>\n",
       "      <td>1295.0</td>\n",
       "      <td>32.86500</td>\n",
       "      <td>3</td>\n",
       "      <td>Invalide</td>\n",
       "      <td>champs-elysees.csv</td>\n",
       "    </tr>\n",
       "    <tr>\n",
       "      <th>39384</th>\n",
       "      <td>AV_Champs_Elysees</td>\n",
       "      <td>2020-08-15 06:00:00+02:00</td>\n",
       "      <td>210.0</td>\n",
       "      <td>2.42222</td>\n",
       "      <td>1</td>\n",
       "      <td>Invalide</td>\n",
       "      <td>champs-elysees.csv</td>\n",
       "    </tr>\n",
       "    <tr>\n",
       "      <th>38613</th>\n",
       "      <td>AV_Champs_Elysees</td>\n",
       "      <td>2019-12-10 17:00:00+01:00</td>\n",
       "      <td>986.0</td>\n",
       "      <td>29.03778</td>\n",
       "      <td>2</td>\n",
       "      <td>Invalide</td>\n",
       "      <td>champs-elysees.csv</td>\n",
       "    </tr>\n",
       "  </tbody>\n",
       "</table>\n",
       "</div>"
      ],
      "text/plain": [
       "                 Libelle  Date et heure de comptage  Débit horaire  \\\n",
       "46876  AV_Champs_Elysees  2020-04-01 04:00:00+02:00           32.0   \n",
       "43660  AV_Champs_Elysees  2019-11-25 02:00:00+01:00          479.0   \n",
       "39705  AV_Champs_Elysees  2020-07-14 22:00:00+02:00         1295.0   \n",
       "39384  AV_Champs_Elysees  2020-08-15 06:00:00+02:00          210.0   \n",
       "38613  AV_Champs_Elysees  2019-12-10 17:00:00+01:00          986.0   \n",
       "\n",
       "       Taux d'occupation  Etat trafic  Etat arc            filename  \n",
       "46876            0.39445            1  Invalide  champs-elysees.csv  \n",
       "43660            6.55889            1  Invalide  champs-elysees.csv  \n",
       "39705           32.86500            3  Invalide  champs-elysees.csv  \n",
       "39384            2.42222            1  Invalide  champs-elysees.csv  \n",
       "38613           29.03778            2  Invalide  champs-elysees.csv  "
      ]
     },
     "execution_count": 32,
     "metadata": {},
     "output_type": "execute_result"
    }
   ],
   "source": [
    "df_ordinal = df.copy(deep=True)\n",
    "mapper = {'Inconnu': 0, 'Fluide': 1, 'Pré-saturé': 2, 'Saturé': 3, 'Bloqué': 4}\n",
    "df_ordinal['Etat trafic'] = df['Etat trafic'].map(mapper)\n",
    "df_ordinal.sample(5)"
   ]
  },
  {
   "cell_type": "code",
   "execution_count": 34,
   "metadata": {},
   "outputs": [
    {
     "data": {
      "image/png": "[encoded data removed]",
      "text/plain": [
       "<Figure size 432x288 with 2 Axes>"
      ]
     },
     "metadata": {},
     "output_type": "display_data"
    }
   ],
   "source": [
    "corr = df_ordinal.corr()\n",
    "mask = np.zeros_like(corr)\n",
    "mask[np.triu_indices_from(mask)] = True\n",
    "with sns.axes_style(\"white\"):\n",
    "    ax = sns.heatmap(corr, mask=mask, vmax=.3, square=True)"
   ]
  },
  {
   "cell_type": "markdown",
   "metadata": {},
   "source": [
    "## Prise en compte des périodes de vacances"
   ]
  },
  {
   "cell_type": "code",
   "execution_count": null,
   "metadata": {},
   "outputs": [],
   "source": [
    "first_day_holiday = pd.Timestamp('2020-12-19')\n",
    "first_day_holiday"
   ]
  },
  {
   "cell_type": "code",
   "execution_count": null,
   "metadata": {},
   "outputs": [],
   "source": [
    "df[\"Date et heure de comptage\"] - first_day_holiday"
   ]
  },
  {
   "cell_type": "markdown",
   "metadata": {},
   "source": [
    "## Analyse et visualisation (partie 2)"
   ]
  },
  {
   "cell_type": "code",
   "execution_count": null,
   "metadata": {},
   "outputs": [],
   "source": []
  },
  {
   "cell_type": "markdown",
   "metadata": {},
   "source": [
    "# Export train / dev / test"
   ]
  },
  {
   "cell_type": "code",
   "execution_count": 43,
   "metadata": {},
   "outputs": [],
   "source": [
    "def get_datasets(df, percentage_train, percentage_dev, percentage_test, seed=None):\n",
    "    assert(percentage_train + percentage_dev + percentage_test == 1.), 'Please correct the input values.'\n",
    "    df_train, df_dev, df_test = np.split(\n",
    "        df.sample(frac=1, random_state=seed),\n",
    "        [int(percentage_train*len(df)), int((percentage_train+percentage_dev)*len(df))]\n",
    "    )\n",
    "    return df_train, df_dev, df_test"
   ]
  },
  {
   "cell_type": "code",
   "execution_count": 49,
   "metadata": {},
   "outputs": [
    {
     "name": "stdout",
     "output_type": "stream",
     "text": [
      "% train: 0.7999571871989725\n",
      "% dev: 0.09996789039922938\n",
      "% test: 0.10007492240179813\n"
     ]
    }
   ],
   "source": [
    "percentage_train = 0.8\n",
    "percentage_dev = 0.1\n",
    "percentage_test = 0.1\n",
    "\n",
    "df_train, df_dev, df_test = get_datasets(df, percentage_train, percentage_dev, percentage_test, seed=0)\n",
    "\n",
    "print(f'% train: {len(df_train) / len(df)}')\n",
    "print(f'% dev: {len(df_dev) / len(df)}')\n",
    "print(f'% test: {len(df_test) / len(df)}')"
   ]
  },
  {
   "cell_type": "code",
   "execution_count": null,
   "metadata": {},
   "outputs": [],
   "source": []
  }
 ],
 "metadata": {
  "kernelspec": {
   "display_name": "Python 3",
   "language": "python",
   "name": "python3"
  },
  "language_info": {
   "codemirror_mode": {
    "name": "ipython",
    "version": 3
   },
   "file_extension": ".py",
   "mimetype": "text/x-python",
   "name": "python",
   "nbconvert_exporter": "python",
   "pygments_lexer": "ipython3",
   "version": "3.7.9"
  },
  "toc": {
   "base_numbering": 1,
   "nav_menu": {},
   "number_sections": true,
   "sideBar": true,
   "skip_h1_title": false,
   "title_cell": "Table of Contents",
   "title_sidebar": "Contents",
   "toc_cell": true,
   "toc_position": {
    "height": "calc(100% - 180px)",
    "left": "10px",
    "top": "150px",
    "width": "223px"
   },
   "toc_section_display": true,
   "toc_window_display": true
  },
  "varInspector": {
   "cols": {
    "lenName": 16,
    "lenType": 16,
    "lenVar": 40
   },
   "kernels_config": {
    "python": {
     "delete_cmd_postfix": "",
     "delete_cmd_prefix": "del ",
     "library": "var_list.py",
     "varRefreshCmd": "print(var_dic_list())"
    },
    "r": {
     "delete_cmd_postfix": ") ",
     "delete_cmd_prefix": "rm(",
     "library": "var_list.r",
     "varRefreshCmd": "cat(var_dic_list()) "
    }
   },
   "types_to_exclude": [
    "module",
    "function",
    "builtin_function_or_method",
    "instance",
    "_Feature"
   ],
   "window_display": false
  }
 },
 "nbformat": 4,
 "nbformat_minor": 4
}
